{
  "nbformat": 4,
  "nbformat_minor": 0,
  "metadata": {
    "colab": {
      "name": " Predict the Capacity of the Battery.ipynb",
      "provenance": [],
      "collapsed_sections": []
    },
    "kernelspec": {
      "name": "python3",
      "display_name": "Python 3"
    },
    "language_info": {
      "name": "python"
    }
  },
  "cells": [
    {
      "cell_type": "markdown",
      "source": [
        " ## **PREDICT THE CAPACITY OF THE BATTERY**\n",
        " ## **NAME : PRACHI NIKHARE**"
      ],
      "metadata": {
        "id": "KZz2XSKC0_zK"
      }
    },
    {
      "cell_type": "markdown",
      "source": [
        "**IMPORT LIBRARIES**"
      ],
      "metadata": {
        "id": "YxrvyeJhJEJW"
      }
    },
    {
      "cell_type": "code",
      "execution_count": null,
      "metadata": {
        "id": "RbOGzo70J9XS"
      },
      "outputs": [],
      "source": [
        "import numpy as np\n",
        "import pandas as pd\n",
        "import matplotlib.pyplot as plt"
      ]
    },
    {
      "cell_type": "markdown",
      "source": [
        "Upload widget is only available when the cell has been executed in the current browser session. Please rerun this cell to enable.\n",
        "Saving battery data.csv to battery data.csv"
      ],
      "metadata": {
        "id": "qRj7ayTiI00O"
      }
    },
    {
      "cell_type": "code",
      "source": [
        "from google.colab import drive\n",
        "drive.mount(\"/content/drive\", force_remount=True)"
      ],
      "metadata": {
        "colab": {
          "base_uri": "https://localhost:8080/"
        },
        "id": "7hKtxCVLKSnP",
        "outputId": "4176a432-6034-4e18-b93b-a27f89b61c81"
      },
      "execution_count": null,
      "outputs": [
        {
          "output_type": "stream",
          "name": "stdout",
          "text": [
            "Mounted at /content/drive\n"
          ]
        }
      ]
    },
    {
      "cell_type": "code",
      "source": [
        "df = pd.read_csv(\"/content/drive/MyDrive/Battery_Data.csv\",header=0, index_col=0, parse_dates=[\"datetime\"], squeeze=True)\n",
        "df"
      ],
      "metadata": {
        "colab": {
          "base_uri": "https://localhost:8080/",
          "height": 423
        },
        "id": "-btPr8ErKptt",
        "outputId": "11644bca-b384-499e-eb54-e9beeb1156be"
      },
      "execution_count": null,
      "outputs": [
        {
          "output_type": "execute_result",
          "data": {
            "text/html": [
              "\n",
              "  <div id=\"df-db57e8a3-cd7e-4c8e-ae90-376e35034a93\">\n",
              "    <div class=\"colab-df-container\">\n",
              "      <div>\n",
              "<style scoped>\n",
              "    .dataframe tbody tr th:only-of-type {\n",
              "        vertical-align: middle;\n",
              "    }\n",
              "\n",
              "    .dataframe tbody tr th {\n",
              "        vertical-align: top;\n",
              "    }\n",
              "\n",
              "    .dataframe thead th {\n",
              "        text-align: right;\n",
              "    }\n",
              "</style>\n",
              "<table border=\"1\" class=\"dataframe\">\n",
              "  <thead>\n",
              "    <tr style=\"text-align: right;\">\n",
              "      <th></th>\n",
              "      <th>cycle</th>\n",
              "      <th>ambient_temperature</th>\n",
              "      <th>datetime</th>\n",
              "      <th>capacity</th>\n",
              "      <th>voltage_measured</th>\n",
              "      <th>current_measured</th>\n",
              "      <th>temperature_measured</th>\n",
              "      <th>current_load</th>\n",
              "      <th>voltage_load</th>\n",
              "      <th>time</th>\n",
              "    </tr>\n",
              "  </thead>\n",
              "  <tbody>\n",
              "    <tr>\n",
              "      <th>0</th>\n",
              "      <td>1</td>\n",
              "      <td>24</td>\n",
              "      <td>2008-04-02 15:25:41</td>\n",
              "      <td>1.856487</td>\n",
              "      <td>4.191492</td>\n",
              "      <td>-0.004902</td>\n",
              "      <td>24.330034</td>\n",
              "      <td>-0.0006</td>\n",
              "      <td>0.000</td>\n",
              "      <td>0.000</td>\n",
              "    </tr>\n",
              "    <tr>\n",
              "      <th>1</th>\n",
              "      <td>1</td>\n",
              "      <td>24</td>\n",
              "      <td>2008-04-02 15:25:41</td>\n",
              "      <td>1.856487</td>\n",
              "      <td>4.190749</td>\n",
              "      <td>-0.001478</td>\n",
              "      <td>24.325993</td>\n",
              "      <td>-0.0006</td>\n",
              "      <td>4.206</td>\n",
              "      <td>16.781</td>\n",
              "    </tr>\n",
              "    <tr>\n",
              "      <th>2</th>\n",
              "      <td>1</td>\n",
              "      <td>24</td>\n",
              "      <td>2008-04-02 15:25:41</td>\n",
              "      <td>1.856487</td>\n",
              "      <td>3.974871</td>\n",
              "      <td>-2.012528</td>\n",
              "      <td>24.389085</td>\n",
              "      <td>-1.9982</td>\n",
              "      <td>3.062</td>\n",
              "      <td>35.703</td>\n",
              "    </tr>\n",
              "    <tr>\n",
              "      <th>3</th>\n",
              "      <td>1</td>\n",
              "      <td>24</td>\n",
              "      <td>2008-04-02 15:25:41</td>\n",
              "      <td>1.856487</td>\n",
              "      <td>3.951717</td>\n",
              "      <td>-2.013979</td>\n",
              "      <td>24.544752</td>\n",
              "      <td>-1.9982</td>\n",
              "      <td>3.030</td>\n",
              "      <td>53.781</td>\n",
              "    </tr>\n",
              "    <tr>\n",
              "      <th>4</th>\n",
              "      <td>1</td>\n",
              "      <td>24</td>\n",
              "      <td>2008-04-02 15:25:41</td>\n",
              "      <td>1.856487</td>\n",
              "      <td>3.934352</td>\n",
              "      <td>-2.011144</td>\n",
              "      <td>24.731385</td>\n",
              "      <td>-1.9982</td>\n",
              "      <td>3.011</td>\n",
              "      <td>71.922</td>\n",
              "    </tr>\n",
              "    <tr>\n",
              "      <th>...</th>\n",
              "      <td>...</td>\n",
              "      <td>...</td>\n",
              "      <td>...</td>\n",
              "      <td>...</td>\n",
              "      <td>...</td>\n",
              "      <td>...</td>\n",
              "      <td>...</td>\n",
              "      <td>...</td>\n",
              "      <td>...</td>\n",
              "      <td>...</td>\n",
              "    </tr>\n",
              "    <tr>\n",
              "      <th>50280</th>\n",
              "      <td>168</td>\n",
              "      <td>24</td>\n",
              "      <td>2008-05-27 20:45:42</td>\n",
              "      <td>1.325079</td>\n",
              "      <td>3.579262</td>\n",
              "      <td>-0.001569</td>\n",
              "      <td>34.864823</td>\n",
              "      <td>0.0006</td>\n",
              "      <td>0.000</td>\n",
              "      <td>2781.312</td>\n",
              "    </tr>\n",
              "    <tr>\n",
              "      <th>50281</th>\n",
              "      <td>168</td>\n",
              "      <td>24</td>\n",
              "      <td>2008-05-27 20:45:42</td>\n",
              "      <td>1.325079</td>\n",
              "      <td>3.581964</td>\n",
              "      <td>-0.003067</td>\n",
              "      <td>34.814770</td>\n",
              "      <td>0.0006</td>\n",
              "      <td>0.000</td>\n",
              "      <td>2791.062</td>\n",
              "    </tr>\n",
              "    <tr>\n",
              "      <th>50282</th>\n",
              "      <td>168</td>\n",
              "      <td>24</td>\n",
              "      <td>2008-05-27 20:45:42</td>\n",
              "      <td>1.325079</td>\n",
              "      <td>3.584484</td>\n",
              "      <td>-0.003079</td>\n",
              "      <td>34.676258</td>\n",
              "      <td>0.0006</td>\n",
              "      <td>0.000</td>\n",
              "      <td>2800.828</td>\n",
              "    </tr>\n",
              "    <tr>\n",
              "      <th>50283</th>\n",
              "      <td>168</td>\n",
              "      <td>24</td>\n",
              "      <td>2008-05-27 20:45:42</td>\n",
              "      <td>1.325079</td>\n",
              "      <td>3.587336</td>\n",
              "      <td>0.001219</td>\n",
              "      <td>34.565580</td>\n",
              "      <td>0.0006</td>\n",
              "      <td>0.000</td>\n",
              "      <td>2810.640</td>\n",
              "    </tr>\n",
              "    <tr>\n",
              "      <th>50284</th>\n",
              "      <td>168</td>\n",
              "      <td>24</td>\n",
              "      <td>2008-05-27 20:45:42</td>\n",
              "      <td>1.325079</td>\n",
              "      <td>3.589937</td>\n",
              "      <td>-0.000583</td>\n",
              "      <td>34.405920</td>\n",
              "      <td>0.0006</td>\n",
              "      <td>0.000</td>\n",
              "      <td>2820.390</td>\n",
              "    </tr>\n",
              "  </tbody>\n",
              "</table>\n",
              "<p>50285 rows × 10 columns</p>\n",
              "</div>\n",
              "      <button class=\"colab-df-convert\" onclick=\"convertToInteractive('df-db57e8a3-cd7e-4c8e-ae90-376e35034a93')\"\n",
              "              title=\"Convert this dataframe to an interactive table.\"\n",
              "              style=\"display:none;\">\n",
              "        \n",
              "  <svg xmlns=\"http://www.w3.org/2000/svg\" height=\"24px\"viewBox=\"0 0 24 24\"\n",
              "       width=\"24px\">\n",
              "    <path d=\"M0 0h24v24H0V0z\" fill=\"none\"/>\n",
              "    <path d=\"M18.56 5.44l.94 2.06.94-2.06 2.06-.94-2.06-.94-.94-2.06-.94 2.06-2.06.94zm-11 1L8.5 8.5l.94-2.06 2.06-.94-2.06-.94L8.5 2.5l-.94 2.06-2.06.94zm10 10l.94 2.06.94-2.06 2.06-.94-2.06-.94-.94-2.06-.94 2.06-2.06.94z\"/><path d=\"M17.41 7.96l-1.37-1.37c-.4-.4-.92-.59-1.43-.59-.52 0-1.04.2-1.43.59L10.3 9.45l-7.72 7.72c-.78.78-.78 2.05 0 2.83L4 21.41c.39.39.9.59 1.41.59.51 0 1.02-.2 1.41-.59l7.78-7.78 2.81-2.81c.8-.78.8-2.07 0-2.86zM5.41 20L4 18.59l7.72-7.72 1.47 1.35L5.41 20z\"/>\n",
              "  </svg>\n",
              "      </button>\n",
              "      \n",
              "  <style>\n",
              "    .colab-df-container {\n",
              "      display:flex;\n",
              "      flex-wrap:wrap;\n",
              "      gap: 12px;\n",
              "    }\n",
              "\n",
              "    .colab-df-convert {\n",
              "      background-color: #E8F0FE;\n",
              "      border: none;\n",
              "      border-radius: 50%;\n",
              "      cursor: pointer;\n",
              "      display: none;\n",
              "      fill: #1967D2;\n",
              "      height: 32px;\n",
              "      padding: 0 0 0 0;\n",
              "      width: 32px;\n",
              "    }\n",
              "\n",
              "    .colab-df-convert:hover {\n",
              "      background-color: #E2EBFA;\n",
              "      box-shadow: 0px 1px 2px rgba(60, 64, 67, 0.3), 0px 1px 3px 1px rgba(60, 64, 67, 0.15);\n",
              "      fill: #174EA6;\n",
              "    }\n",
              "\n",
              "    [theme=dark] .colab-df-convert {\n",
              "      background-color: #3B4455;\n",
              "      fill: #D2E3FC;\n",
              "    }\n",
              "\n",
              "    [theme=dark] .colab-df-convert:hover {\n",
              "      background-color: #434B5C;\n",
              "      box-shadow: 0px 1px 3px 1px rgba(0, 0, 0, 0.15);\n",
              "      filter: drop-shadow(0px 1px 2px rgba(0, 0, 0, 0.3));\n",
              "      fill: #FFFFFF;\n",
              "    }\n",
              "  </style>\n",
              "\n",
              "      <script>\n",
              "        const buttonEl =\n",
              "          document.querySelector('#df-db57e8a3-cd7e-4c8e-ae90-376e35034a93 button.colab-df-convert');\n",
              "        buttonEl.style.display =\n",
              "          google.colab.kernel.accessAllowed ? 'block' : 'none';\n",
              "\n",
              "        async function convertToInteractive(key) {\n",
              "          const element = document.querySelector('#df-db57e8a3-cd7e-4c8e-ae90-376e35034a93');\n",
              "          const dataTable =\n",
              "            await google.colab.kernel.invokeFunction('convertToInteractive',\n",
              "                                                     [key], {});\n",
              "          if (!dataTable) return;\n",
              "\n",
              "          const docLinkHtml = 'Like what you see? Visit the ' +\n",
              "            '<a target=\"_blank\" href=https://colab.research.google.com/notebooks/data_table.ipynb>data table notebook</a>'\n",
              "            + ' to learn more about interactive tables.';\n",
              "          element.innerHTML = '';\n",
              "          dataTable['output_type'] = 'display_data';\n",
              "          await google.colab.output.renderOutput(dataTable, element);\n",
              "          const docLink = document.createElement('div');\n",
              "          docLink.innerHTML = docLinkHtml;\n",
              "          element.appendChild(docLink);\n",
              "        }\n",
              "      </script>\n",
              "    </div>\n",
              "  </div>\n",
              "  "
            ],
            "text/plain": [
              "       cycle  ambient_temperature  ... voltage_load      time\n",
              "0          1                   24  ...        0.000     0.000\n",
              "1          1                   24  ...        4.206    16.781\n",
              "2          1                   24  ...        3.062    35.703\n",
              "3          1                   24  ...        3.030    53.781\n",
              "4          1                   24  ...        3.011    71.922\n",
              "...      ...                  ...  ...          ...       ...\n",
              "50280    168                   24  ...        0.000  2781.312\n",
              "50281    168                   24  ...        0.000  2791.062\n",
              "50282    168                   24  ...        0.000  2800.828\n",
              "50283    168                   24  ...        0.000  2810.640\n",
              "50284    168                   24  ...        0.000  2820.390\n",
              "\n",
              "[50285 rows x 10 columns]"
            ]
          },
          "metadata": {},
          "execution_count": 3
        }
      ]
    },
    {
      "cell_type": "code",
      "source": [
        "df.head()"
      ],
      "metadata": {
        "colab": {
          "base_uri": "https://localhost:8080/",
          "height": 206
        },
        "id": "fATZ1VkULBHg",
        "outputId": "9d079473-682a-4b68-cfdb-e680c670518d"
      },
      "execution_count": null,
      "outputs": [
        {
          "output_type": "execute_result",
          "data": {
            "text/html": [
              "\n",
              "  <div id=\"df-e3b038fa-3629-4592-bfba-d471cbf71ff1\">\n",
              "    <div class=\"colab-df-container\">\n",
              "      <div>\n",
              "<style scoped>\n",
              "    .dataframe tbody tr th:only-of-type {\n",
              "        vertical-align: middle;\n",
              "    }\n",
              "\n",
              "    .dataframe tbody tr th {\n",
              "        vertical-align: top;\n",
              "    }\n",
              "\n",
              "    .dataframe thead th {\n",
              "        text-align: right;\n",
              "    }\n",
              "</style>\n",
              "<table border=\"1\" class=\"dataframe\">\n",
              "  <thead>\n",
              "    <tr style=\"text-align: right;\">\n",
              "      <th></th>\n",
              "      <th>cycle</th>\n",
              "      <th>ambient_temperature</th>\n",
              "      <th>datetime</th>\n",
              "      <th>capacity</th>\n",
              "      <th>voltage_measured</th>\n",
              "      <th>current_measured</th>\n",
              "      <th>temperature_measured</th>\n",
              "      <th>current_load</th>\n",
              "      <th>voltage_load</th>\n",
              "      <th>time</th>\n",
              "    </tr>\n",
              "  </thead>\n",
              "  <tbody>\n",
              "    <tr>\n",
              "      <th>0</th>\n",
              "      <td>1</td>\n",
              "      <td>24</td>\n",
              "      <td>2008-04-02 15:25:41</td>\n",
              "      <td>1.856487</td>\n",
              "      <td>4.191492</td>\n",
              "      <td>-0.004902</td>\n",
              "      <td>24.330034</td>\n",
              "      <td>-0.0006</td>\n",
              "      <td>0.000</td>\n",
              "      <td>0.000</td>\n",
              "    </tr>\n",
              "    <tr>\n",
              "      <th>1</th>\n",
              "      <td>1</td>\n",
              "      <td>24</td>\n",
              "      <td>2008-04-02 15:25:41</td>\n",
              "      <td>1.856487</td>\n",
              "      <td>4.190749</td>\n",
              "      <td>-0.001478</td>\n",
              "      <td>24.325993</td>\n",
              "      <td>-0.0006</td>\n",
              "      <td>4.206</td>\n",
              "      <td>16.781</td>\n",
              "    </tr>\n",
              "    <tr>\n",
              "      <th>2</th>\n",
              "      <td>1</td>\n",
              "      <td>24</td>\n",
              "      <td>2008-04-02 15:25:41</td>\n",
              "      <td>1.856487</td>\n",
              "      <td>3.974871</td>\n",
              "      <td>-2.012528</td>\n",
              "      <td>24.389085</td>\n",
              "      <td>-1.9982</td>\n",
              "      <td>3.062</td>\n",
              "      <td>35.703</td>\n",
              "    </tr>\n",
              "    <tr>\n",
              "      <th>3</th>\n",
              "      <td>1</td>\n",
              "      <td>24</td>\n",
              "      <td>2008-04-02 15:25:41</td>\n",
              "      <td>1.856487</td>\n",
              "      <td>3.951717</td>\n",
              "      <td>-2.013979</td>\n",
              "      <td>24.544752</td>\n",
              "      <td>-1.9982</td>\n",
              "      <td>3.030</td>\n",
              "      <td>53.781</td>\n",
              "    </tr>\n",
              "    <tr>\n",
              "      <th>4</th>\n",
              "      <td>1</td>\n",
              "      <td>24</td>\n",
              "      <td>2008-04-02 15:25:41</td>\n",
              "      <td>1.856487</td>\n",
              "      <td>3.934352</td>\n",
              "      <td>-2.011144</td>\n",
              "      <td>24.731385</td>\n",
              "      <td>-1.9982</td>\n",
              "      <td>3.011</td>\n",
              "      <td>71.922</td>\n",
              "    </tr>\n",
              "  </tbody>\n",
              "</table>\n",
              "</div>\n",
              "      <button class=\"colab-df-convert\" onclick=\"convertToInteractive('df-e3b038fa-3629-4592-bfba-d471cbf71ff1')\"\n",
              "              title=\"Convert this dataframe to an interactive table.\"\n",
              "              style=\"display:none;\">\n",
              "        \n",
              "  <svg xmlns=\"http://www.w3.org/2000/svg\" height=\"24px\"viewBox=\"0 0 24 24\"\n",
              "       width=\"24px\">\n",
              "    <path d=\"M0 0h24v24H0V0z\" fill=\"none\"/>\n",
              "    <path d=\"M18.56 5.44l.94 2.06.94-2.06 2.06-.94-2.06-.94-.94-2.06-.94 2.06-2.06.94zm-11 1L8.5 8.5l.94-2.06 2.06-.94-2.06-.94L8.5 2.5l-.94 2.06-2.06.94zm10 10l.94 2.06.94-2.06 2.06-.94-2.06-.94-.94-2.06-.94 2.06-2.06.94z\"/><path d=\"M17.41 7.96l-1.37-1.37c-.4-.4-.92-.59-1.43-.59-.52 0-1.04.2-1.43.59L10.3 9.45l-7.72 7.72c-.78.78-.78 2.05 0 2.83L4 21.41c.39.39.9.59 1.41.59.51 0 1.02-.2 1.41-.59l7.78-7.78 2.81-2.81c.8-.78.8-2.07 0-2.86zM5.41 20L4 18.59l7.72-7.72 1.47 1.35L5.41 20z\"/>\n",
              "  </svg>\n",
              "      </button>\n",
              "      \n",
              "  <style>\n",
              "    .colab-df-container {\n",
              "      display:flex;\n",
              "      flex-wrap:wrap;\n",
              "      gap: 12px;\n",
              "    }\n",
              "\n",
              "    .colab-df-convert {\n",
              "      background-color: #E8F0FE;\n",
              "      border: none;\n",
              "      border-radius: 50%;\n",
              "      cursor: pointer;\n",
              "      display: none;\n",
              "      fill: #1967D2;\n",
              "      height: 32px;\n",
              "      padding: 0 0 0 0;\n",
              "      width: 32px;\n",
              "    }\n",
              "\n",
              "    .colab-df-convert:hover {\n",
              "      background-color: #E2EBFA;\n",
              "      box-shadow: 0px 1px 2px rgba(60, 64, 67, 0.3), 0px 1px 3px 1px rgba(60, 64, 67, 0.15);\n",
              "      fill: #174EA6;\n",
              "    }\n",
              "\n",
              "    [theme=dark] .colab-df-convert {\n",
              "      background-color: #3B4455;\n",
              "      fill: #D2E3FC;\n",
              "    }\n",
              "\n",
              "    [theme=dark] .colab-df-convert:hover {\n",
              "      background-color: #434B5C;\n",
              "      box-shadow: 0px 1px 3px 1px rgba(0, 0, 0, 0.15);\n",
              "      filter: drop-shadow(0px 1px 2px rgba(0, 0, 0, 0.3));\n",
              "      fill: #FFFFFF;\n",
              "    }\n",
              "  </style>\n",
              "\n",
              "      <script>\n",
              "        const buttonEl =\n",
              "          document.querySelector('#df-e3b038fa-3629-4592-bfba-d471cbf71ff1 button.colab-df-convert');\n",
              "        buttonEl.style.display =\n",
              "          google.colab.kernel.accessAllowed ? 'block' : 'none';\n",
              "\n",
              "        async function convertToInteractive(key) {\n",
              "          const element = document.querySelector('#df-e3b038fa-3629-4592-bfba-d471cbf71ff1');\n",
              "          const dataTable =\n",
              "            await google.colab.kernel.invokeFunction('convertToInteractive',\n",
              "                                                     [key], {});\n",
              "          if (!dataTable) return;\n",
              "\n",
              "          const docLinkHtml = 'Like what you see? Visit the ' +\n",
              "            '<a target=\"_blank\" href=https://colab.research.google.com/notebooks/data_table.ipynb>data table notebook</a>'\n",
              "            + ' to learn more about interactive tables.';\n",
              "          element.innerHTML = '';\n",
              "          dataTable['output_type'] = 'display_data';\n",
              "          await google.colab.output.renderOutput(dataTable, element);\n",
              "          const docLink = document.createElement('div');\n",
              "          docLink.innerHTML = docLinkHtml;\n",
              "          element.appendChild(docLink);\n",
              "        }\n",
              "      </script>\n",
              "    </div>\n",
              "  </div>\n",
              "  "
            ],
            "text/plain": [
              "   cycle  ambient_temperature  ... voltage_load    time\n",
              "0      1                   24  ...        0.000   0.000\n",
              "1      1                   24  ...        4.206  16.781\n",
              "2      1                   24  ...        3.062  35.703\n",
              "3      1                   24  ...        3.030  53.781\n",
              "4      1                   24  ...        3.011  71.922\n",
              "\n",
              "[5 rows x 10 columns]"
            ]
          },
          "metadata": {},
          "execution_count": 4
        }
      ]
    },
    {
      "cell_type": "code",
      "source": [
        "df.info()"
      ],
      "metadata": {
        "colab": {
          "base_uri": "https://localhost:8080/"
        },
        "id": "Yk40YeERLI4W",
        "outputId": "520edd41-ca0d-4ad0-e79e-057c05aa7fcf"
      },
      "execution_count": null,
      "outputs": [
        {
          "output_type": "stream",
          "name": "stdout",
          "text": [
            "<class 'pandas.core.frame.DataFrame'>\n",
            "Int64Index: 50285 entries, 0 to 50284\n",
            "Data columns (total 10 columns):\n",
            " #   Column                Non-Null Count  Dtype         \n",
            "---  ------                --------------  -----         \n",
            " 0   cycle                 50285 non-null  int64         \n",
            " 1   ambient_temperature   50285 non-null  int64         \n",
            " 2   datetime              50285 non-null  datetime64[ns]\n",
            " 3   capacity              50285 non-null  float64       \n",
            " 4   voltage_measured      50285 non-null  float64       \n",
            " 5   current_measured      50285 non-null  float64       \n",
            " 6   temperature_measured  50285 non-null  float64       \n",
            " 7   current_load          50285 non-null  float64       \n",
            " 8   voltage_load          50285 non-null  float64       \n",
            " 9   time                  50285 non-null  float64       \n",
            "dtypes: datetime64[ns](1), float64(7), int64(2)\n",
            "memory usage: 4.2 MB\n"
          ]
        }
      ]
    },
    {
      "cell_type": "code",
      "source": [
        "df.isnull().sum()"
      ],
      "metadata": {
        "colab": {
          "base_uri": "https://localhost:8080/"
        },
        "id": "1HHcdFQoCgzb",
        "outputId": "dcd3515b-a6d9-45b5-e90b-0bafa856a084"
      },
      "execution_count": null,
      "outputs": [
        {
          "output_type": "execute_result",
          "data": {
            "text/plain": [
              "cycle                   0\n",
              "ambient_temperature     0\n",
              "datetime                0\n",
              "capacity                0\n",
              "voltage_measured        0\n",
              "current_measured        0\n",
              "temperature_measured    0\n",
              "current_load            0\n",
              "voltage_load            0\n",
              "time                    0\n",
              "dtype: int64"
            ]
          },
          "metadata": {},
          "execution_count": 6
        }
      ]
    },
    {
      "cell_type": "code",
      "source": [
        "df[\"cycle\"].value_counts()"
      ],
      "metadata": {
        "colab": {
          "base_uri": "https://localhost:8080/"
        },
        "id": "A5VlIJbRLOeR",
        "outputId": "a88b9ee2-20da-42f7-dfdb-a3a4929d4d0f"
      },
      "execution_count": null,
      "outputs": [
        {
          "output_type": "execute_result",
          "data": {
            "text/plain": [
              "31    371\n",
              "32    365\n",
              "33    363\n",
              "34    362\n",
              "35    360\n",
              "     ... \n",
              "29    183\n",
              "18    182\n",
              "19    182\n",
              "30    182\n",
              "43    179\n",
              "Name: cycle, Length: 168, dtype: int64"
            ]
          },
          "metadata": {},
          "execution_count": 7
        }
      ]
    },
    {
      "cell_type": "code",
      "source": [
        "df[\"ambient_temperature\"].value_counts()"
      ],
      "metadata": {
        "colab": {
          "base_uri": "https://localhost:8080/"
        },
        "id": "4iOoRoRyLrvZ",
        "outputId": "fdcdc07f-240e-4c49-8fe4-aa9ebc8283c0"
      },
      "execution_count": null,
      "outputs": [
        {
          "output_type": "execute_result",
          "data": {
            "text/plain": [
              "24    50285\n",
              "Name: ambient_temperature, dtype: int64"
            ]
          },
          "metadata": {},
          "execution_count": 8
        }
      ]
    },
    {
      "cell_type": "code",
      "source": [
        "df[\"capacity\"].value_counts()"
      ],
      "metadata": {
        "colab": {
          "base_uri": "https://localhost:8080/"
        },
        "id": "GuPtXVmhMPxm",
        "outputId": "e1a754d6-daf1-4ac5-d2cb-0cca60d9373f"
      },
      "execution_count": null,
      "outputs": [
        {
          "output_type": "execute_result",
          "data": {
            "text/plain": [
              "1.851803    371\n",
              "1.830704    365\n",
              "1.819904    363\n",
              "1.809308    362\n",
              "1.804610    360\n",
              "           ... \n",
              "1.802766    183\n",
              "1.803068    182\n",
              "1.802778    182\n",
              "1.804077    182\n",
              "1.767617    179\n",
              "Name: capacity, Length: 168, dtype: int64"
            ]
          },
          "metadata": {},
          "execution_count": 9
        }
      ]
    },
    {
      "cell_type": "code",
      "source": [
        "df.describe()"
      ],
      "metadata": {
        "colab": {
          "base_uri": "https://localhost:8080/",
          "height": 300
        },
        "id": "oJKJkn5mMDHL",
        "outputId": "cb4bee11-022c-4260-f481-9d7803615356"
      },
      "execution_count": null,
      "outputs": [
        {
          "output_type": "execute_result",
          "data": {
            "text/html": [
              "\n",
              "  <div id=\"df-5f50c21e-6b83-4822-8bed-8155be4f6ed8\">\n",
              "    <div class=\"colab-df-container\">\n",
              "      <div>\n",
              "<style scoped>\n",
              "    .dataframe tbody tr th:only-of-type {\n",
              "        vertical-align: middle;\n",
              "    }\n",
              "\n",
              "    .dataframe tbody tr th {\n",
              "        vertical-align: top;\n",
              "    }\n",
              "\n",
              "    .dataframe thead th {\n",
              "        text-align: right;\n",
              "    }\n",
              "</style>\n",
              "<table border=\"1\" class=\"dataframe\">\n",
              "  <thead>\n",
              "    <tr style=\"text-align: right;\">\n",
              "      <th></th>\n",
              "      <th>cycle</th>\n",
              "      <th>ambient_temperature</th>\n",
              "      <th>capacity</th>\n",
              "      <th>voltage_measured</th>\n",
              "      <th>current_measured</th>\n",
              "      <th>temperature_measured</th>\n",
              "      <th>current_load</th>\n",
              "      <th>voltage_load</th>\n",
              "      <th>time</th>\n",
              "    </tr>\n",
              "  </thead>\n",
              "  <tbody>\n",
              "    <tr>\n",
              "      <th>count</th>\n",
              "      <td>50285.000000</td>\n",
              "      <td>50285.0</td>\n",
              "      <td>50285.000000</td>\n",
              "      <td>50285.000000</td>\n",
              "      <td>50285.000000</td>\n",
              "      <td>50285.000000</td>\n",
              "      <td>50285.000000</td>\n",
              "      <td>50285.000000</td>\n",
              "      <td>50285.000000</td>\n",
              "    </tr>\n",
              "    <tr>\n",
              "      <th>mean</th>\n",
              "      <td>88.125942</td>\n",
              "      <td>24.0</td>\n",
              "      <td>1.560345</td>\n",
              "      <td>3.515268</td>\n",
              "      <td>-1.806032</td>\n",
              "      <td>32.816991</td>\n",
              "      <td>1.362700</td>\n",
              "      <td>2.308406</td>\n",
              "      <td>1546.208924</td>\n",
              "    </tr>\n",
              "    <tr>\n",
              "      <th>std</th>\n",
              "      <td>45.699687</td>\n",
              "      <td>0.0</td>\n",
              "      <td>0.182380</td>\n",
              "      <td>0.231778</td>\n",
              "      <td>0.610502</td>\n",
              "      <td>3.987515</td>\n",
              "      <td>1.313698</td>\n",
              "      <td>0.800300</td>\n",
              "      <td>906.640295</td>\n",
              "    </tr>\n",
              "    <tr>\n",
              "      <th>min</th>\n",
              "      <td>1.000000</td>\n",
              "      <td>24.0</td>\n",
              "      <td>1.287453</td>\n",
              "      <td>2.455679</td>\n",
              "      <td>-2.029098</td>\n",
              "      <td>23.214802</td>\n",
              "      <td>-1.998400</td>\n",
              "      <td>0.000000</td>\n",
              "      <td>0.000000</td>\n",
              "    </tr>\n",
              "    <tr>\n",
              "      <th>25%</th>\n",
              "      <td>50.000000</td>\n",
              "      <td>24.0</td>\n",
              "      <td>1.386229</td>\n",
              "      <td>3.399384</td>\n",
              "      <td>-2.013415</td>\n",
              "      <td>30.019392</td>\n",
              "      <td>1.998000</td>\n",
              "      <td>2.388000</td>\n",
              "      <td>768.563000</td>\n",
              "    </tr>\n",
              "    <tr>\n",
              "      <th>50%</th>\n",
              "      <td>88.000000</td>\n",
              "      <td>24.0</td>\n",
              "      <td>1.538237</td>\n",
              "      <td>3.511664</td>\n",
              "      <td>-2.012312</td>\n",
              "      <td>32.828944</td>\n",
              "      <td>1.998200</td>\n",
              "      <td>2.533000</td>\n",
              "      <td>1537.031000</td>\n",
              "    </tr>\n",
              "    <tr>\n",
              "      <th>75%</th>\n",
              "      <td>127.000000</td>\n",
              "      <td>24.0</td>\n",
              "      <td>1.746871</td>\n",
              "      <td>3.660903</td>\n",
              "      <td>-2.011052</td>\n",
              "      <td>35.920887</td>\n",
              "      <td>1.998200</td>\n",
              "      <td>2.690000</td>\n",
              "      <td>2305.984000</td>\n",
              "    </tr>\n",
              "    <tr>\n",
              "      <th>max</th>\n",
              "      <td>168.000000</td>\n",
              "      <td>24.0</td>\n",
              "      <td>1.856487</td>\n",
              "      <td>4.222920</td>\n",
              "      <td>0.007496</td>\n",
              "      <td>41.450232</td>\n",
              "      <td>1.998400</td>\n",
              "      <td>4.238000</td>\n",
              "      <td>3690.234000</td>\n",
              "    </tr>\n",
              "  </tbody>\n",
              "</table>\n",
              "</div>\n",
              "      <button class=\"colab-df-convert\" onclick=\"convertToInteractive('df-5f50c21e-6b83-4822-8bed-8155be4f6ed8')\"\n",
              "              title=\"Convert this dataframe to an interactive table.\"\n",
              "              style=\"display:none;\">\n",
              "        \n",
              "  <svg xmlns=\"http://www.w3.org/2000/svg\" height=\"24px\"viewBox=\"0 0 24 24\"\n",
              "       width=\"24px\">\n",
              "    <path d=\"M0 0h24v24H0V0z\" fill=\"none\"/>\n",
              "    <path d=\"M18.56 5.44l.94 2.06.94-2.06 2.06-.94-2.06-.94-.94-2.06-.94 2.06-2.06.94zm-11 1L8.5 8.5l.94-2.06 2.06-.94-2.06-.94L8.5 2.5l-.94 2.06-2.06.94zm10 10l.94 2.06.94-2.06 2.06-.94-2.06-.94-.94-2.06-.94 2.06-2.06.94z\"/><path d=\"M17.41 7.96l-1.37-1.37c-.4-.4-.92-.59-1.43-.59-.52 0-1.04.2-1.43.59L10.3 9.45l-7.72 7.72c-.78.78-.78 2.05 0 2.83L4 21.41c.39.39.9.59 1.41.59.51 0 1.02-.2 1.41-.59l7.78-7.78 2.81-2.81c.8-.78.8-2.07 0-2.86zM5.41 20L4 18.59l7.72-7.72 1.47 1.35L5.41 20z\"/>\n",
              "  </svg>\n",
              "      </button>\n",
              "      \n",
              "  <style>\n",
              "    .colab-df-container {\n",
              "      display:flex;\n",
              "      flex-wrap:wrap;\n",
              "      gap: 12px;\n",
              "    }\n",
              "\n",
              "    .colab-df-convert {\n",
              "      background-color: #E8F0FE;\n",
              "      border: none;\n",
              "      border-radius: 50%;\n",
              "      cursor: pointer;\n",
              "      display: none;\n",
              "      fill: #1967D2;\n",
              "      height: 32px;\n",
              "      padding: 0 0 0 0;\n",
              "      width: 32px;\n",
              "    }\n",
              "\n",
              "    .colab-df-convert:hover {\n",
              "      background-color: #E2EBFA;\n",
              "      box-shadow: 0px 1px 2px rgba(60, 64, 67, 0.3), 0px 1px 3px 1px rgba(60, 64, 67, 0.15);\n",
              "      fill: #174EA6;\n",
              "    }\n",
              "\n",
              "    [theme=dark] .colab-df-convert {\n",
              "      background-color: #3B4455;\n",
              "      fill: #D2E3FC;\n",
              "    }\n",
              "\n",
              "    [theme=dark] .colab-df-convert:hover {\n",
              "      background-color: #434B5C;\n",
              "      box-shadow: 0px 1px 3px 1px rgba(0, 0, 0, 0.15);\n",
              "      filter: drop-shadow(0px 1px 2px rgba(0, 0, 0, 0.3));\n",
              "      fill: #FFFFFF;\n",
              "    }\n",
              "  </style>\n",
              "\n",
              "      <script>\n",
              "        const buttonEl =\n",
              "          document.querySelector('#df-5f50c21e-6b83-4822-8bed-8155be4f6ed8 button.colab-df-convert');\n",
              "        buttonEl.style.display =\n",
              "          google.colab.kernel.accessAllowed ? 'block' : 'none';\n",
              "\n",
              "        async function convertToInteractive(key) {\n",
              "          const element = document.querySelector('#df-5f50c21e-6b83-4822-8bed-8155be4f6ed8');\n",
              "          const dataTable =\n",
              "            await google.colab.kernel.invokeFunction('convertToInteractive',\n",
              "                                                     [key], {});\n",
              "          if (!dataTable) return;\n",
              "\n",
              "          const docLinkHtml = 'Like what you see? Visit the ' +\n",
              "            '<a target=\"_blank\" href=https://colab.research.google.com/notebooks/data_table.ipynb>data table notebook</a>'\n",
              "            + ' to learn more about interactive tables.';\n",
              "          element.innerHTML = '';\n",
              "          dataTable['output_type'] = 'display_data';\n",
              "          await google.colab.output.renderOutput(dataTable, element);\n",
              "          const docLink = document.createElement('div');\n",
              "          docLink.innerHTML = docLinkHtml;\n",
              "          element.appendChild(docLink);\n",
              "        }\n",
              "      </script>\n",
              "    </div>\n",
              "  </div>\n",
              "  "
            ],
            "text/plain": [
              "              cycle  ambient_temperature  ...  voltage_load          time\n",
              "count  50285.000000              50285.0  ...  50285.000000  50285.000000\n",
              "mean      88.125942                 24.0  ...      2.308406   1546.208924\n",
              "std       45.699687                  0.0  ...      0.800300    906.640295\n",
              "min        1.000000                 24.0  ...      0.000000      0.000000\n",
              "25%       50.000000                 24.0  ...      2.388000    768.563000\n",
              "50%       88.000000                 24.0  ...      2.533000   1537.031000\n",
              "75%      127.000000                 24.0  ...      2.690000   2305.984000\n",
              "max      168.000000                 24.0  ...      4.238000   3690.234000\n",
              "\n",
              "[8 rows x 9 columns]"
            ]
          },
          "metadata": {},
          "execution_count": 10
        }
      ]
    },
    {
      "cell_type": "code",
      "source": [
        "# for plotting histogram\n",
        "%matplotlib inline\n",
        "import matplotlib.pyplot as plt\n",
        "df.hist(bins=50,figsize=(20,15))\n",
        "plt.show()"
      ],
      "metadata": {
        "colab": {
          "base_uri": "https://localhost:8080/",
          "height": 879
        },
        "id": "1TerdjN8MaVu",
        "outputId": "dcdccb3e-7538-4a90-bc2e-1f79ae039b30"
      },
      "execution_count": null,
      "outputs": [
        {
          "output_type": "display_data",
          "data": {
            "image/png": "[encoded data removed]",
            "text/plain": [
              "<Figure size 1440x1080 with 12 Axes>"
            ]
          },
          "metadata": {
            "needs_background": "light"
          }
        }
      ]
    },
    {
      "cell_type": "code",
      "source": [
        "plt.figure(figsize=(50, 50))\n",
        "df.plot(kind = \"scatter\",x = \"time\",y = \"capacity\",alpha = 0.8)"
      ],
      "metadata": {
        "colab": {
          "base_uri": "https://localhost:8080/",
          "height": 314
        },
        "id": "Y4xbS77f2O39",
        "outputId": "d325943b-9868-4d0a-a0ab-9824c42e186b"
      },
      "execution_count": null,
      "outputs": [
        {
          "output_type": "execute_result",
          "data": {
            "text/plain": [
              "<matplotlib.axes._subplots.AxesSubplot at 0x7ff7068d0f90>"
            ]
          },
          "metadata": {},
          "execution_count": 12
        },
        {
          "output_type": "display_data",
          "data": {
            "text/plain": [
              "<Figure size 3600x3600 with 0 Axes>"
            ]
          },
          "metadata": {}
        },
        {
          "output_type": "display_data",
          "data": {
            "image/png": "[encoded data removed]",
            "text/plain": [
              "<Figure size 432x288 with 1 Axes>"
            ]
          },
          "metadata": {
            "needs_background": "light"
          }
        }
      ]
    },
    {
      "cell_type": "code",
      "source": [
        "df[\"datetime\"]"
      ],
      "metadata": {
        "colab": {
          "base_uri": "https://localhost:8080/"
        },
        "id": "hogWKUtt5f5F",
        "outputId": "727666b8-e223-4658-8b27-0b01fa644b36"
      },
      "execution_count": null,
      "outputs": [
        {
          "output_type": "execute_result",
          "data": {
            "text/plain": [
              "0       2008-04-02 15:25:41\n",
              "1       2008-04-02 15:25:41\n",
              "2       2008-04-02 15:25:41\n",
              "3       2008-04-02 15:25:41\n",
              "4       2008-04-02 15:25:41\n",
              "                ...        \n",
              "50280   2008-05-27 20:45:42\n",
              "50281   2008-05-27 20:45:42\n",
              "50282   2008-05-27 20:45:42\n",
              "50283   2008-05-27 20:45:42\n",
              "50284   2008-05-27 20:45:42\n",
              "Name: datetime, Length: 50285, dtype: datetime64[ns]"
            ]
          },
          "metadata": {},
          "execution_count": 13
        }
      ]
    },
    {
      "cell_type": "code",
      "source": [
        "df[\"capacity\"]"
      ],
      "metadata": {
        "colab": {
          "base_uri": "https://localhost:8080/"
        },
        "id": "5E-SkFrxOKgg",
        "outputId": "1b9f2387-47f8-4c50-efc9-debb8be51e55"
      },
      "execution_count": null,
      "outputs": [
        {
          "output_type": "execute_result",
          "data": {
            "text/plain": [
              "0        1.856487\n",
              "1        1.856487\n",
              "2        1.856487\n",
              "3        1.856487\n",
              "4        1.856487\n",
              "           ...   \n",
              "50280    1.325079\n",
              "50281    1.325079\n",
              "50282    1.325079\n",
              "50283    1.325079\n",
              "50284    1.325079\n",
              "Name: capacity, Length: 50285, dtype: float64"
            ]
          },
          "metadata": {},
          "execution_count": 14
        }
      ]
    },
    {
      "cell_type": "code",
      "source": [
        "from pandas.plotting import scatter_matrix\n",
        "attributes = [\"cycle\",\"ambient_temperature\",\"capacity\",\t\n",
        "              \"voltage_measured\",\t\"current_measured\",\t\"temperature_measured\",\t\n",
        "              \"current_load\",\t\"voltage_load\",\t\"time\"]\n",
        "scatter_matrix(df[attributes],figsize = (20,20))"
      ],
      "metadata": {
        "colab": {
          "base_uri": "https://localhost:8080/",
          "height": 1000
        },
        "id": "b9xf2e_6RWVN",
        "outputId": "1d141334-31e7-4f66-e2e3-410ead793c81"
      },
      "execution_count": null,
      "outputs": [
        {
          "output_type": "stream",
          "name": "stderr",
          "text": [
            "/usr/local/lib/python3.7/dist-packages/pandas/plotting/_matplotlib/misc.py:100: UserWarning: Attempting to set identical left == right == 24.0 results in singular transformations; automatically expanding.\n",
            "  ax.set_xlim(boundaries_list[j])\n",
            "/usr/local/lib/python3.7/dist-packages/pandas/plotting/_matplotlib/misc.py:101: UserWarning: Attempting to set identical bottom == top == 24.0 results in singular transformations; automatically expanding.\n",
            "  ax.set_ylim(boundaries_list[i])\n",
            "/usr/local/lib/python3.7/dist-packages/pandas/plotting/_matplotlib/misc.py:91: UserWarning: Attempting to set identical left == right == 24.0 results in singular transformations; automatically expanding.\n",
            "  ax.set_xlim(boundaries_list[i])\n"
          ]
        },
        {
          "output_type": "execute_result",
          "data": {
            "text/plain": [
              "array([[<matplotlib.axes._subplots.AxesSubplot object at 0x7ff713666cd0>,\n",
              "        <matplotlib.axes._subplots.AxesSubplot object at 0x7ff7067e4b10>,\n",
              "        <matplotlib.axes._subplots.AxesSubplot object at 0x7ff7067a4510>,\n",
              "        <matplotlib.axes._subplots.AxesSubplot object at 0x7ff70675aa10>,\n",
              "        <matplotlib.axes._subplots.AxesSubplot object at 0x7ff706711f10>,\n",
              "        <matplotlib.axes._subplots.AxesSubplot object at 0x7ff7066d4450>,\n",
              "        <matplotlib.axes._subplots.AxesSubplot object at 0x7ff7066899d0>,\n",
              "        <matplotlib.axes._subplots.AxesSubplot object at 0x7ff706641e10>,\n",
              "        <matplotlib.axes._subplots.AxesSubplot object at 0x7ff706641e50>],\n",
              "       [<matplotlib.axes._subplots.AxesSubplot object at 0x7ff706604490>,\n",
              "        <matplotlib.axes._subplots.AxesSubplot object at 0x7ff7065efd90>,\n",
              "        <matplotlib.axes._subplots.AxesSubplot object at 0x7ff7065b42d0>,\n",
              "        <matplotlib.axes._subplots.AxesSubplot object at 0x7ff7065697d0>,\n",
              "        <matplotlib.axes._subplots.AxesSubplot object at 0x7ff706521cd0>,\n",
              "        <matplotlib.axes._subplots.AxesSubplot object at 0x7ff7064e6210>,\n",
              "        <matplotlib.axes._subplots.AxesSubplot object at 0x7ff70649f7d0>,\n",
              "        <matplotlib.axes._subplots.AxesSubplot object at 0x7ff706454cd0>,\n",
              "        <matplotlib.axes._subplots.AxesSubplot object at 0x7ff706417210>],\n",
              "       [<matplotlib.axes._subplots.AxesSubplot object at 0x7ff7063cd710>,\n",
              "        <matplotlib.axes._subplots.AxesSubplot object at 0x7ff706382c10>,\n",
              "        <matplotlib.axes._subplots.AxesSubplot object at 0x7ff706346150>,\n",
              "        <matplotlib.axes._subplots.AxesSubplot object at 0x7ff7062fd650>,\n",
              "        <matplotlib.axes._subplots.AxesSubplot object at 0x7ff706334b50>,\n",
              "        <matplotlib.axes._subplots.AxesSubplot object at 0x7ff7062e1b90>,\n",
              "        <matplotlib.axes._subplots.AxesSubplot object at 0x7ff7062ae590>,\n",
              "        <matplotlib.axes._subplots.AxesSubplot object at 0x7ff706264a90>,\n",
              "        <matplotlib.axes._subplots.AxesSubplot object at 0x7ff70621af90>],\n",
              "       [<matplotlib.axes._subplots.AxesSubplot object at 0x7ff7061df4d0>,\n",
              "        <matplotlib.axes._subplots.AxesSubplot object at 0x7ff7061959d0>,\n",
              "        <matplotlib.axes._subplots.AxesSubplot object at 0x7ff70614ced0>,\n",
              "        <matplotlib.axes._subplots.AxesSubplot object at 0x7ff706110410>,\n",
              "        <matplotlib.axes._subplots.AxesSubplot object at 0x7ff7060c6910>,\n",
              "        <matplotlib.axes._subplots.AxesSubplot object at 0x7ff706e664d0>,\n",
              "        <matplotlib.axes._subplots.AxesSubplot object at 0x7ff70681c810>,\n",
              "        <matplotlib.axes._subplots.AxesSubplot object at 0x7ff706875050>,\n",
              "        <matplotlib.axes._subplots.AxesSubplot object at 0x7ff7068e6090>],\n",
              "       [<matplotlib.axes._subplots.AxesSubplot object at 0x7ff70687ca10>,\n",
              "        <matplotlib.axes._subplots.AxesSubplot object at 0x7ff7069ab350>,\n",
              "        <matplotlib.axes._subplots.AxesSubplot object at 0x7ff70696a350>,\n",
              "        <matplotlib.axes._subplots.AxesSubplot object at 0x7ff706991f50>,\n",
              "        <matplotlib.axes._subplots.AxesSubplot object at 0x7ff707445390>,\n",
              "        <matplotlib.axes._subplots.AxesSubplot object at 0x7ff70711a050>,\n",
              "        <matplotlib.axes._subplots.AxesSubplot object at 0x7ff707453790>,\n",
              "        <matplotlib.axes._subplots.AxesSubplot object at 0x7ff7077369d0>,\n",
              "        <matplotlib.axes._subplots.AxesSubplot object at 0x7ff706893690>],\n",
              "       [<matplotlib.axes._subplots.AxesSubplot object at 0x7ff70688ac90>,\n",
              "        <matplotlib.axes._subplots.AxesSubplot object at 0x7ff7069842d0>,\n",
              "        <matplotlib.axes._subplots.AxesSubplot object at 0x7ff7068ee8d0>,\n",
              "        <matplotlib.axes._subplots.AxesSubplot object at 0x7ff707450ed0>,\n",
              "        <matplotlib.axes._subplots.AxesSubplot object at 0x7ff70706c510>,\n",
              "        <matplotlib.axes._subplots.AxesSubplot object at 0x7ff707054b10>,\n",
              "        <matplotlib.axes._subplots.AxesSubplot object at 0x7ff70702c150>,\n",
              "        <matplotlib.axes._subplots.AxesSubplot object at 0x7ff706903750>,\n",
              "        <matplotlib.axes._subplots.AxesSubplot object at 0x7ff7070efb50>],\n",
              "       [<matplotlib.axes._subplots.AxesSubplot object at 0x7ff7073d23d0>,\n",
              "        <matplotlib.axes._subplots.AxesSubplot object at 0x7ff70723d850>,\n",
              "        <matplotlib.axes._subplots.AxesSubplot object at 0x7ff706e70f90>,\n",
              "        <matplotlib.axes._subplots.AxesSubplot object at 0x7ff707492610>,\n",
              "        <matplotlib.axes._subplots.AxesSubplot object at 0x7ff7071a3c10>,\n",
              "        <matplotlib.axes._subplots.AxesSubplot object at 0x7ff7072ce250>,\n",
              "        <matplotlib.axes._subplots.AxesSubplot object at 0x7ff707117850>,\n",
              "        <matplotlib.axes._subplots.AxesSubplot object at 0x7ff7073b2e50>,\n",
              "        <matplotlib.axes._subplots.AxesSubplot object at 0x7ff70736ae50>],\n",
              "       [<matplotlib.axes._subplots.AxesSubplot object at 0x7ff70743d390>,\n",
              "        <matplotlib.axes._subplots.AxesSubplot object at 0x7ff707250890>,\n",
              "        <matplotlib.axes._subplots.AxesSubplot object at 0x7ff707175d90>,\n",
              "        <matplotlib.axes._subplots.AxesSubplot object at 0x7ff7077962d0>,\n",
              "        <matplotlib.axes._subplots.AxesSubplot object at 0x7ff706e94a10>,\n",
              "        <matplotlib.axes._subplots.AxesSubplot object at 0x7ff707616cd0>,\n",
              "        <matplotlib.axes._subplots.AxesSubplot object at 0x7ff707774210>,\n",
              "        <matplotlib.axes._subplots.AxesSubplot object at 0x7ff70752e710>,\n",
              "        <matplotlib.axes._subplots.AxesSubplot object at 0x7ff7075fdc10>],\n",
              "       [<matplotlib.axes._subplots.AxesSubplot object at 0x7ff70759d110>,\n",
              "        <matplotlib.axes._subplots.AxesSubplot object at 0x7ff707715fd0>,\n",
              "        <matplotlib.axes._subplots.AxesSubplot object at 0x7ff70609cb50>,\n",
              "        <matplotlib.axes._subplots.AxesSubplot object at 0x7ff70766aa10>,\n",
              "        <matplotlib.axes._subplots.AxesSubplot object at 0x7ff7076e4590>,\n",
              "        <matplotlib.axes._subplots.AxesSubplot object at 0x7ff707543a90>,\n",
              "        <matplotlib.axes._subplots.AxesSubplot object at 0x7ff7076ae690>,\n",
              "        <matplotlib.axes._subplots.AxesSubplot object at 0x7ff7060534d0>,\n",
              "        <matplotlib.axes._subplots.AxesSubplot object at 0x7ff7060089d0>]],\n",
              "      dtype=object)"
            ]
          },
          "metadata": {},
          "execution_count": 15
        },
        {
          "output_type": "display_data",
          "data": {
            "image/png": "[encoded data removed]",
            "text/plain": [
              "<Figure size 1440x1440 with 81 Axes>"
            ]
          },
          "metadata": {
            "needs_background": "light"
          }
        }
      ]
    },
    {
      "cell_type": "markdown",
      "source": [
        "**Train Test Split the data**"
      ],
      "metadata": {
        "id": "8ueAzXZJJm-6"
      }
    },
    {
      "cell_type": "code",
      "source": [
        "from sklearn.model_selection import train_test_split\n",
        "train_set,test_set = train_test_split(df,test_size =0.2,random_state = 42)\n",
        "print(f\"Rows in train set : {len(train_set)}\\nRows in test set : {len(test_set)}\\n\")"
      ],
      "metadata": {
        "colab": {
          "base_uri": "https://localhost:8080/"
        },
        "id": "LEHLY2zvMh73",
        "outputId": "15112187-5edb-4597-c62a-248139adeeee"
      },
      "execution_count": null,
      "outputs": [
        {
          "output_type": "stream",
          "name": "stdout",
          "text": [
            "Rows in train set : 40228\n",
            "Rows in test set : 10057\n",
            "\n"
          ]
        }
      ]
    },
    {
      "cell_type": "code",
      "source": [
        "from sklearn.model_selection import StratifiedShuffleSplit\n",
        "split = StratifiedShuffleSplit(n_splits = 1, test_size = 0.2, random_state = 42)\n",
        "for train_index,test_index in split.split(df,df[\"capacity\"]):\n",
        "    strat_train_set = df.loc[train_index]\n",
        "    strat_test_set = df.loc[test_index]"
      ],
      "metadata": {
        "id": "0sz4aIIcM0QF"
      },
      "execution_count": null,
      "outputs": []
    },
    {
      "cell_type": "code",
      "source": [
        "strat_test_set"
      ],
      "metadata": {
        "colab": {
          "base_uri": "https://localhost:8080/",
          "height": 423
        },
        "id": "4T3Z77t-NVKe",
        "outputId": "45128ca6-9275-4108-8c8c-93b8d8233e02"
      },
      "execution_count": null,
      "outputs": [
        {
          "output_type": "execute_result",
          "data": {
            "text/html": [
              "\n",
              "  <div id=\"df-44061c3f-42b8-4968-bee2-14d3177803ff\">\n",
              "    <div class=\"colab-df-container\">\n",
              "      <div>\n",
              "<style scoped>\n",
              "    .dataframe tbody tr th:only-of-type {\n",
              "        vertical-align: middle;\n",
              "    }\n",
              "\n",
              "    .dataframe tbody tr th {\n",
              "        vertical-align: top;\n",
              "    }\n",
              "\n",
              "    .dataframe thead th {\n",
              "        text-align: right;\n",
              "    }\n",
              "</style>\n",
              "<table border=\"1\" class=\"dataframe\">\n",
              "  <thead>\n",
              "    <tr style=\"text-align: right;\">\n",
              "      <th></th>\n",
              "      <th>cycle</th>\n",
              "      <th>ambient_temperature</th>\n",
              "      <th>datetime</th>\n",
              "      <th>capacity</th>\n",
              "      <th>voltage_measured</th>\n",
              "      <th>current_measured</th>\n",
              "      <th>temperature_measured</th>\n",
              "      <th>current_load</th>\n",
              "      <th>voltage_load</th>\n",
              "      <th>time</th>\n",
              "    </tr>\n",
              "  </thead>\n",
              "  <tbody>\n",
              "    <tr>\n",
              "      <th>31348</th>\n",
              "      <td>107</td>\n",
              "      <td>24</td>\n",
              "      <td>2008-05-13 09:24:04</td>\n",
              "      <td>1.453901</td>\n",
              "      <td>3.680569</td>\n",
              "      <td>-2.013919</td>\n",
              "      <td>30.016542</td>\n",
              "      <td>1.9980</td>\n",
              "      <td>2.700</td>\n",
              "      <td>599.953</td>\n",
              "    </tr>\n",
              "    <tr>\n",
              "      <th>16757</th>\n",
              "      <td>62</td>\n",
              "      <td>24</td>\n",
              "      <td>2008-05-02 08:44:40</td>\n",
              "      <td>1.674474</td>\n",
              "      <td>3.253010</td>\n",
              "      <td>-0.002580</td>\n",
              "      <td>38.618146</td>\n",
              "      <td>0.0006</td>\n",
              "      <td>0.000</td>\n",
              "      <td>3058.032</td>\n",
              "    </tr>\n",
              "    <tr>\n",
              "      <th>41328</th>\n",
              "      <td>139</td>\n",
              "      <td>24</td>\n",
              "      <td>2008-05-20 20:50:39</td>\n",
              "      <td>1.354704</td>\n",
              "      <td>3.611008</td>\n",
              "      <td>-2.015881</td>\n",
              "      <td>30.605669</td>\n",
              "      <td>1.9980</td>\n",
              "      <td>2.646</td>\n",
              "      <td>712.703</td>\n",
              "    </tr>\n",
              "    <tr>\n",
              "      <th>23993</th>\n",
              "      <td>84</td>\n",
              "      <td>24</td>\n",
              "      <td>2008-05-07 02:17:25</td>\n",
              "      <td>1.548874</td>\n",
              "      <td>3.471826</td>\n",
              "      <td>-2.013056</td>\n",
              "      <td>33.473126</td>\n",
              "      <td>1.9982</td>\n",
              "      <td>2.501</td>\n",
              "      <td>1686.969</td>\n",
              "    </tr>\n",
              "    <tr>\n",
              "      <th>40496</th>\n",
              "      <td>136</td>\n",
              "      <td>24</td>\n",
              "      <td>2008-05-20 06:12:06</td>\n",
              "      <td>1.364783</td>\n",
              "      <td>3.421741</td>\n",
              "      <td>-2.010710</td>\n",
              "      <td>34.333451</td>\n",
              "      <td>1.9982</td>\n",
              "      <td>2.458</td>\n",
              "      <td>1527.359</td>\n",
              "    </tr>\n",
              "    <tr>\n",
              "      <th>...</th>\n",
              "      <td>...</td>\n",
              "      <td>...</td>\n",
              "      <td>...</td>\n",
              "      <td>...</td>\n",
              "      <td>...</td>\n",
              "      <td>...</td>\n",
              "      <td>...</td>\n",
              "      <td>...</td>\n",
              "      <td>...</td>\n",
              "      <td>...</td>\n",
              "    </tr>\n",
              "    <tr>\n",
              "      <th>24396</th>\n",
              "      <td>85</td>\n",
              "      <td>24</td>\n",
              "      <td>2008-05-07 07:04:02</td>\n",
              "      <td>1.538237</td>\n",
              "      <td>3.322737</td>\n",
              "      <td>-2.013075</td>\n",
              "      <td>36.384460</td>\n",
              "      <td>1.9982</td>\n",
              "      <td>2.356</td>\n",
              "      <td>2379.703</td>\n",
              "    </tr>\n",
              "    <tr>\n",
              "      <th>50083</th>\n",
              "      <td>168</td>\n",
              "      <td>24</td>\n",
              "      <td>2008-05-27 20:45:42</td>\n",
              "      <td>1.325079</td>\n",
              "      <td>3.540345</td>\n",
              "      <td>-2.014688</td>\n",
              "      <td>31.814940</td>\n",
              "      <td>1.9982</td>\n",
              "      <td>2.564</td>\n",
              "      <td>918.921</td>\n",
              "    </tr>\n",
              "    <tr>\n",
              "      <th>40882</th>\n",
              "      <td>137</td>\n",
              "      <td>24</td>\n",
              "      <td>2008-05-20 11:07:23</td>\n",
              "      <td>1.354322</td>\n",
              "      <td>3.106767</td>\n",
              "      <td>-2.008191</td>\n",
              "      <td>38.746371</td>\n",
              "      <td>1.9982</td>\n",
              "      <td>2.150</td>\n",
              "      <td>2267.453</td>\n",
              "    </tr>\n",
              "    <tr>\n",
              "      <th>4448</th>\n",
              "      <td>24</td>\n",
              "      <td>24</td>\n",
              "      <td>2008-04-19 18:27:29</td>\n",
              "      <td>1.825114</td>\n",
              "      <td>3.562347</td>\n",
              "      <td>-2.012957</td>\n",
              "      <td>31.827983</td>\n",
              "      <td>-1.9982</td>\n",
              "      <td>2.628</td>\n",
              "      <td>1629.391</td>\n",
              "    </tr>\n",
              "    <tr>\n",
              "      <th>30688</th>\n",
              "      <td>105</td>\n",
              "      <td>24</td>\n",
              "      <td>2008-05-12 23:53:17</td>\n",
              "      <td>1.480801</td>\n",
              "      <td>3.763485</td>\n",
              "      <td>-2.012717</td>\n",
              "      <td>29.143570</td>\n",
              "      <td>1.9980</td>\n",
              "      <td>2.780</td>\n",
              "      <td>403.860</td>\n",
              "    </tr>\n",
              "  </tbody>\n",
              "</table>\n",
              "<p>10057 rows × 10 columns</p>\n",
              "</div>\n",
              "      <button class=\"colab-df-convert\" onclick=\"convertToInteractive('df-44061c3f-42b8-4968-bee2-14d3177803ff')\"\n",
              "              title=\"Convert this dataframe to an interactive table.\"\n",
              "              style=\"display:none;\">\n",
              "        \n",
              "  <svg xmlns=\"http://www.w3.org/2000/svg\" height=\"24px\"viewBox=\"0 0 24 24\"\n",
              "       width=\"24px\">\n",
              "    <path d=\"M0 0h24v24H0V0z\" fill=\"none\"/>\n",
              "    <path d=\"M18.56 5.44l.94 2.06.94-2.06 2.06-.94-2.06-.94-.94-2.06-.94 2.06-2.06.94zm-11 1L8.5 8.5l.94-2.06 2.06-.94-2.06-.94L8.5 2.5l-.94 2.06-2.06.94zm10 10l.94 2.06.94-2.06 2.06-.94-2.06-.94-.94-2.06-.94 2.06-2.06.94z\"/><path d=\"M17.41 7.96l-1.37-1.37c-.4-.4-.92-.59-1.43-.59-.52 0-1.04.2-1.43.59L10.3 9.45l-7.72 7.72c-.78.78-.78 2.05 0 2.83L4 21.41c.39.39.9.59 1.41.59.51 0 1.02-.2 1.41-.59l7.78-7.78 2.81-2.81c.8-.78.8-2.07 0-2.86zM5.41 20L4 18.59l7.72-7.72 1.47 1.35L5.41 20z\"/>\n",
              "  </svg>\n",
              "      </button>\n",
              "      \n",
              "  <style>\n",
              "    .colab-df-container {\n",
              "      display:flex;\n",
              "      flex-wrap:wrap;\n",
              "      gap: 12px;\n",
              "    }\n",
              "\n",
              "    .colab-df-convert {\n",
              "      background-color: #E8F0FE;\n",
              "      border: none;\n",
              "      border-radius: 50%;\n",
              "      cursor: pointer;\n",
              "      display: none;\n",
              "      fill: #1967D2;\n",
              "      height: 32px;\n",
              "      padding: 0 0 0 0;\n",
              "      width: 32px;\n",
              "    }\n",
              "\n",
              "    .colab-df-convert:hover {\n",
              "      background-color: #E2EBFA;\n",
              "      box-shadow: 0px 1px 2px rgba(60, 64, 67, 0.3), 0px 1px 3px 1px rgba(60, 64, 67, 0.15);\n",
              "      fill: #174EA6;\n",
              "    }\n",
              "\n",
              "    [theme=dark] .colab-df-convert {\n",
              "      background-color: #3B4455;\n",
              "      fill: #D2E3FC;\n",
              "    }\n",
              "\n",
              "    [theme=dark] .colab-df-convert:hover {\n",
              "      background-color: #434B5C;\n",
              "      box-shadow: 0px 1px 3px 1px rgba(0, 0, 0, 0.15);\n",
              "      filter: drop-shadow(0px 1px 2px rgba(0, 0, 0, 0.3));\n",
              "      fill: #FFFFFF;\n",
              "    }\n",
              "  </style>\n",
              "\n",
              "      <script>\n",
              "        const buttonEl =\n",
              "          document.querySelector('#df-44061c3f-42b8-4968-bee2-14d3177803ff button.colab-df-convert');\n",
              "        buttonEl.style.display =\n",
              "          google.colab.kernel.accessAllowed ? 'block' : 'none';\n",
              "\n",
              "        async function convertToInteractive(key) {\n",
              "          const element = document.querySelector('#df-44061c3f-42b8-4968-bee2-14d3177803ff');\n",
              "          const dataTable =\n",
              "            await google.colab.kernel.invokeFunction('convertToInteractive',\n",
              "                                                     [key], {});\n",
              "          if (!dataTable) return;\n",
              "\n",
              "          const docLinkHtml = 'Like what you see? Visit the ' +\n",
              "            '<a target=\"_blank\" href=https://colab.research.google.com/notebooks/data_table.ipynb>data table notebook</a>'\n",
              "            + ' to learn more about interactive tables.';\n",
              "          element.innerHTML = '';\n",
              "          dataTable['output_type'] = 'display_data';\n",
              "          await google.colab.output.renderOutput(dataTable, element);\n",
              "          const docLink = document.createElement('div');\n",
              "          docLink.innerHTML = docLinkHtml;\n",
              "          element.appendChild(docLink);\n",
              "        }\n",
              "      </script>\n",
              "    </div>\n",
              "  </div>\n",
              "  "
            ],
            "text/plain": [
              "       cycle  ambient_temperature  ... voltage_load      time\n",
              "31348    107                   24  ...        2.700   599.953\n",
              "16757     62                   24  ...        0.000  3058.032\n",
              "41328    139                   24  ...        2.646   712.703\n",
              "23993     84                   24  ...        2.501  1686.969\n",
              "40496    136                   24  ...        2.458  1527.359\n",
              "...      ...                  ...  ...          ...       ...\n",
              "24396     85                   24  ...        2.356  2379.703\n",
              "50083    168                   24  ...        2.564   918.921\n",
              "40882    137                   24  ...        2.150  2267.453\n",
              "4448      24                   24  ...        2.628  1629.391\n",
              "30688    105                   24  ...        2.780   403.860\n",
              "\n",
              "[10057 rows x 10 columns]"
            ]
          },
          "metadata": {},
          "execution_count": 18
        }
      ]
    },
    {
      "cell_type": "code",
      "source": [
        "strat_test_set.describe()"
      ],
      "metadata": {
        "colab": {
          "base_uri": "https://localhost:8080/",
          "height": 300
        },
        "id": "9zLvADvwNZzc",
        "outputId": "e5d50e46-7501-46ca-c690-94e4c7b4ca40"
      },
      "execution_count": null,
      "outputs": [
        {
          "output_type": "execute_result",
          "data": {
            "text/html": [
              "\n",
              "  <div id=\"df-05130145-1e71-4028-a5f8-cf6a013b00c7\">\n",
              "    <div class=\"colab-df-container\">\n",
              "      <div>\n",
              "<style scoped>\n",
              "    .dataframe tbody tr th:only-of-type {\n",
              "        vertical-align: middle;\n",
              "    }\n",
              "\n",
              "    .dataframe tbody tr th {\n",
              "        vertical-align: top;\n",
              "    }\n",
              "\n",
              "    .dataframe thead th {\n",
              "        text-align: right;\n",
              "    }\n",
              "</style>\n",
              "<table border=\"1\" class=\"dataframe\">\n",
              "  <thead>\n",
              "    <tr style=\"text-align: right;\">\n",
              "      <th></th>\n",
              "      <th>cycle</th>\n",
              "      <th>ambient_temperature</th>\n",
              "      <th>capacity</th>\n",
              "      <th>voltage_measured</th>\n",
              "      <th>current_measured</th>\n",
              "      <th>temperature_measured</th>\n",
              "      <th>current_load</th>\n",
              "      <th>voltage_load</th>\n",
              "      <th>time</th>\n",
              "    </tr>\n",
              "  </thead>\n",
              "  <tbody>\n",
              "    <tr>\n",
              "      <th>count</th>\n",
              "      <td>10057.000000</td>\n",
              "      <td>10057.0</td>\n",
              "      <td>10057.000000</td>\n",
              "      <td>10057.000000</td>\n",
              "      <td>10057.000000</td>\n",
              "      <td>10057.000000</td>\n",
              "      <td>10057.000000</td>\n",
              "      <td>10057.000000</td>\n",
              "      <td>10057.0000</td>\n",
              "    </tr>\n",
              "    <tr>\n",
              "      <th>mean</th>\n",
              "      <td>88.116536</td>\n",
              "      <td>24.0</td>\n",
              "      <td>1.560398</td>\n",
              "      <td>3.518922</td>\n",
              "      <td>-1.809759</td>\n",
              "      <td>32.752416</td>\n",
              "      <td>1.361628</td>\n",
              "      <td>2.316859</td>\n",
              "      <td>1530.6566</td>\n",
              "    </tr>\n",
              "    <tr>\n",
              "      <th>std</th>\n",
              "      <td>45.693156</td>\n",
              "      <td>0.0</td>\n",
              "      <td>0.182354</td>\n",
              "      <td>0.229533</td>\n",
              "      <td>0.605599</td>\n",
              "      <td>3.972442</td>\n",
              "      <td>1.317668</td>\n",
              "      <td>0.794773</td>\n",
              "      <td>906.2943</td>\n",
              "    </tr>\n",
              "    <tr>\n",
              "      <th>min</th>\n",
              "      <td>1.000000</td>\n",
              "      <td>24.0</td>\n",
              "      <td>1.287453</td>\n",
              "      <td>2.455679</td>\n",
              "      <td>-2.029098</td>\n",
              "      <td>23.297087</td>\n",
              "      <td>-1.998400</td>\n",
              "      <td>0.000000</td>\n",
              "      <td>0.0000</td>\n",
              "    </tr>\n",
              "    <tr>\n",
              "      <th>25%</th>\n",
              "      <td>50.000000</td>\n",
              "      <td>24.0</td>\n",
              "      <td>1.386229</td>\n",
              "      <td>3.404004</td>\n",
              "      <td>-2.013403</td>\n",
              "      <td>29.972064</td>\n",
              "      <td>1.998000</td>\n",
              "      <td>2.396000</td>\n",
              "      <td>749.8440</td>\n",
              "    </tr>\n",
              "    <tr>\n",
              "      <th>50%</th>\n",
              "      <td>88.000000</td>\n",
              "      <td>24.0</td>\n",
              "      <td>1.548092</td>\n",
              "      <td>3.514600</td>\n",
              "      <td>-2.012320</td>\n",
              "      <td>32.728172</td>\n",
              "      <td>1.998200</td>\n",
              "      <td>2.538000</td>\n",
              "      <td>1499.7340</td>\n",
              "    </tr>\n",
              "    <tr>\n",
              "      <th>75%</th>\n",
              "      <td>127.000000</td>\n",
              "      <td>24.0</td>\n",
              "      <td>1.746871</td>\n",
              "      <td>3.667938</td>\n",
              "      <td>-2.011077</td>\n",
              "      <td>35.843029</td>\n",
              "      <td>1.998200</td>\n",
              "      <td>2.697000</td>\n",
              "      <td>2287.1870</td>\n",
              "    </tr>\n",
              "    <tr>\n",
              "      <th>max</th>\n",
              "      <td>168.000000</td>\n",
              "      <td>24.0</td>\n",
              "      <td>1.856487</td>\n",
              "      <td>4.201240</td>\n",
              "      <td>0.005159</td>\n",
              "      <td>41.273615</td>\n",
              "      <td>1.998400</td>\n",
              "      <td>4.216000</td>\n",
              "      <td>3690.2340</td>\n",
              "    </tr>\n",
              "  </tbody>\n",
              "</table>\n",
              "</div>\n",
              "      <button class=\"colab-df-convert\" onclick=\"convertToInteractive('df-05130145-1e71-4028-a5f8-cf6a013b00c7')\"\n",
              "              title=\"Convert this dataframe to an interactive table.\"\n",
              "              style=\"display:none;\">\n",
              "        \n",
              "  <svg xmlns=\"http://www.w3.org/2000/svg\" height=\"24px\"viewBox=\"0 0 24 24\"\n",
              "       width=\"24px\">\n",
              "    <path d=\"M0 0h24v24H0V0z\" fill=\"none\"/>\n",
              "    <path d=\"M18.56 5.44l.94 2.06.94-2.06 2.06-.94-2.06-.94-.94-2.06-.94 2.06-2.06.94zm-11 1L8.5 8.5l.94-2.06 2.06-.94-2.06-.94L8.5 2.5l-.94 2.06-2.06.94zm10 10l.94 2.06.94-2.06 2.06-.94-2.06-.94-.94-2.06-.94 2.06-2.06.94z\"/><path d=\"M17.41 7.96l-1.37-1.37c-.4-.4-.92-.59-1.43-.59-.52 0-1.04.2-1.43.59L10.3 9.45l-7.72 7.72c-.78.78-.78 2.05 0 2.83L4 21.41c.39.39.9.59 1.41.59.51 0 1.02-.2 1.41-.59l7.78-7.78 2.81-2.81c.8-.78.8-2.07 0-2.86zM5.41 20L4 18.59l7.72-7.72 1.47 1.35L5.41 20z\"/>\n",
              "  </svg>\n",
              "      </button>\n",
              "      \n",
              "  <style>\n",
              "    .colab-df-container {\n",
              "      display:flex;\n",
              "      flex-wrap:wrap;\n",
              "      gap: 12px;\n",
              "    }\n",
              "\n",
              "    .colab-df-convert {\n",
              "      background-color: #E8F0FE;\n",
              "      border: none;\n",
              "      border-radius: 50%;\n",
              "      cursor: pointer;\n",
              "      display: none;\n",
              "      fill: #1967D2;\n",
              "      height: 32px;\n",
              "      padding: 0 0 0 0;\n",
              "      width: 32px;\n",
              "    }\n",
              "\n",
              "    .colab-df-convert:hover {\n",
              "      background-color: #E2EBFA;\n",
              "      box-shadow: 0px 1px 2px rgba(60, 64, 67, 0.3), 0px 1px 3px 1px rgba(60, 64, 67, 0.15);\n",
              "      fill: #174EA6;\n",
              "    }\n",
              "\n",
              "    [theme=dark] .colab-df-convert {\n",
              "      background-color: #3B4455;\n",
              "      fill: #D2E3FC;\n",
              "    }\n",
              "\n",
              "    [theme=dark] .colab-df-convert:hover {\n",
              "      background-color: #434B5C;\n",
              "      box-shadow: 0px 1px 3px 1px rgba(0, 0, 0, 0.15);\n",
              "      filter: drop-shadow(0px 1px 2px rgba(0, 0, 0, 0.3));\n",
              "      fill: #FFFFFF;\n",
              "    }\n",
              "  </style>\n",
              "\n",
              "      <script>\n",
              "        const buttonEl =\n",
              "          document.querySelector('#df-05130145-1e71-4028-a5f8-cf6a013b00c7 button.colab-df-convert');\n",
              "        buttonEl.style.display =\n",
              "          google.colab.kernel.accessAllowed ? 'block' : 'none';\n",
              "\n",
              "        async function convertToInteractive(key) {\n",
              "          const element = document.querySelector('#df-05130145-1e71-4028-a5f8-cf6a013b00c7');\n",
              "          const dataTable =\n",
              "            await google.colab.kernel.invokeFunction('convertToInteractive',\n",
              "                                                     [key], {});\n",
              "          if (!dataTable) return;\n",
              "\n",
              "          const docLinkHtml = 'Like what you see? Visit the ' +\n",
              "            '<a target=\"_blank\" href=https://colab.research.google.com/notebooks/data_table.ipynb>data table notebook</a>'\n",
              "            + ' to learn more about interactive tables.';\n",
              "          element.innerHTML = '';\n",
              "          dataTable['output_type'] = 'display_data';\n",
              "          await google.colab.output.renderOutput(dataTable, element);\n",
              "          const docLink = document.createElement('div');\n",
              "          docLink.innerHTML = docLinkHtml;\n",
              "          element.appendChild(docLink);\n",
              "        }\n",
              "      </script>\n",
              "    </div>\n",
              "  </div>\n",
              "  "
            ],
            "text/plain": [
              "              cycle  ambient_temperature  ...  voltage_load        time\n",
              "count  10057.000000              10057.0  ...  10057.000000  10057.0000\n",
              "mean      88.116536                 24.0  ...      2.316859   1530.6566\n",
              "std       45.693156                  0.0  ...      0.794773    906.2943\n",
              "min        1.000000                 24.0  ...      0.000000      0.0000\n",
              "25%       50.000000                 24.0  ...      2.396000    749.8440\n",
              "50%       88.000000                 24.0  ...      2.538000   1499.7340\n",
              "75%      127.000000                 24.0  ...      2.697000   2287.1870\n",
              "max      168.000000                 24.0  ...      4.216000   3690.2340\n",
              "\n",
              "[8 rows x 9 columns]"
            ]
          },
          "metadata": {},
          "execution_count": 19
        }
      ]
    },
    {
      "cell_type": "code",
      "source": [
        "strat_test_set.info()"
      ],
      "metadata": {
        "colab": {
          "base_uri": "https://localhost:8080/"
        },
        "id": "9C4u_OvjNfc3",
        "outputId": "2f74995d-4b77-4fd9-89bc-372ee7b84d02"
      },
      "execution_count": null,
      "outputs": [
        {
          "output_type": "stream",
          "name": "stdout",
          "text": [
            "<class 'pandas.core.frame.DataFrame'>\n",
            "Int64Index: 10057 entries, 31348 to 30688\n",
            "Data columns (total 10 columns):\n",
            " #   Column                Non-Null Count  Dtype         \n",
            "---  ------                --------------  -----         \n",
            " 0   cycle                 10057 non-null  int64         \n",
            " 1   ambient_temperature   10057 non-null  int64         \n",
            " 2   datetime              10057 non-null  datetime64[ns]\n",
            " 3   capacity              10057 non-null  float64       \n",
            " 4   voltage_measured      10057 non-null  float64       \n",
            " 5   current_measured      10057 non-null  float64       \n",
            " 6   temperature_measured  10057 non-null  float64       \n",
            " 7   current_load          10057 non-null  float64       \n",
            " 8   voltage_load          10057 non-null  float64       \n",
            " 9   time                  10057 non-null  float64       \n",
            "dtypes: datetime64[ns](1), float64(7), int64(2)\n",
            "memory usage: 864.3 KB\n"
          ]
        }
      ]
    },
    {
      "cell_type": "code",
      "source": [
        "strat_test_set[\"capacity\"].value_counts()"
      ],
      "metadata": {
        "colab": {
          "base_uri": "https://localhost:8080/"
        },
        "id": "JavxiI4FNiNv",
        "outputId": "45ff3acd-f825-4726-8bc5-3d3ba7a5ac42"
      },
      "execution_count": null,
      "outputs": [
        {
          "output_type": "execute_result",
          "data": {
            "text/plain": [
              "1.851803    74\n",
              "1.830704    73\n",
              "1.819904    73\n",
              "1.788443    72\n",
              "1.804610    72\n",
              "            ..\n",
              "1.813440    37\n",
              "1.767617    36\n",
              "1.803068    36\n",
              "1.804077    36\n",
              "1.802778    36\n",
              "Name: capacity, Length: 168, dtype: int64"
            ]
          },
          "metadata": {},
          "execution_count": 21
        }
      ]
    },
    {
      "cell_type": "code",
      "source": [
        "strat_train_set[\"capacity\"].value_counts()"
      ],
      "metadata": {
        "colab": {
          "base_uri": "https://localhost:8080/"
        },
        "id": "TYaItHKPNrnS",
        "outputId": "cc0be614-9f46-4e4b-9b42-5eb673555a6a"
      },
      "execution_count": null,
      "outputs": [
        {
          "output_type": "execute_result",
          "data": {
            "text/plain": [
              "1.851803    297\n",
              "1.830704    292\n",
              "1.819904    290\n",
              "1.809308    290\n",
              "1.804610    288\n",
              "           ... \n",
              "1.813969    146\n",
              "1.802778    146\n",
              "1.802766    146\n",
              "1.804077    146\n",
              "1.767617    143\n",
              "Name: capacity, Length: 168, dtype: int64"
            ]
          },
          "metadata": {},
          "execution_count": 22
        }
      ]
    },
    {
      "cell_type": "code",
      "source": [
        "df = strat_train_set.copy()\n",
        "df"
      ],
      "metadata": {
        "colab": {
          "base_uri": "https://localhost:8080/",
          "height": 423
        },
        "id": "42rxPORmNybn",
        "outputId": "647e2bc2-f9a7-4555-ac9f-97c444e2182c"
      },
      "execution_count": null,
      "outputs": [
        {
          "output_type": "execute_result",
          "data": {
            "text/html": [
              "\n",
              "  <div id=\"df-e0185d52-b0ff-4d2d-8bd1-db8ca0f848e9\">\n",
              "    <div class=\"colab-df-container\">\n",
              "      <div>\n",
              "<style scoped>\n",
              "    .dataframe tbody tr th:only-of-type {\n",
              "        vertical-align: middle;\n",
              "    }\n",
              "\n",
              "    .dataframe tbody tr th {\n",
              "        vertical-align: top;\n",
              "    }\n",
              "\n",
              "    .dataframe thead th {\n",
              "        text-align: right;\n",
              "    }\n",
              "</style>\n",
              "<table border=\"1\" class=\"dataframe\">\n",
              "  <thead>\n",
              "    <tr style=\"text-align: right;\">\n",
              "      <th></th>\n",
              "      <th>cycle</th>\n",
              "      <th>ambient_temperature</th>\n",
              "      <th>datetime</th>\n",
              "      <th>capacity</th>\n",
              "      <th>voltage_measured</th>\n",
              "      <th>current_measured</th>\n",
              "      <th>temperature_measured</th>\n",
              "      <th>current_load</th>\n",
              "      <th>voltage_load</th>\n",
              "      <th>time</th>\n",
              "    </tr>\n",
              "  </thead>\n",
              "  <tbody>\n",
              "    <tr>\n",
              "      <th>22029</th>\n",
              "      <td>78</td>\n",
              "      <td>24</td>\n",
              "      <td>2008-05-05 20:40:08</td>\n",
              "      <td>1.595526</td>\n",
              "      <td>3.465026</td>\n",
              "      <td>-2.012672</td>\n",
              "      <td>33.989732</td>\n",
              "      <td>1.9982</td>\n",
              "      <td>2.505</td>\n",
              "      <td>1865.266</td>\n",
              "    </tr>\n",
              "    <tr>\n",
              "      <th>38170</th>\n",
              "      <td>128</td>\n",
              "      <td>24</td>\n",
              "      <td>2008-05-18 08:00:50</td>\n",
              "      <td>1.380437</td>\n",
              "      <td>3.566160</td>\n",
              "      <td>-0.002307</td>\n",
              "      <td>35.751656</td>\n",
              "      <td>0.0008</td>\n",
              "      <td>0.000</td>\n",
              "      <td>2822.687</td>\n",
              "    </tr>\n",
              "    <tr>\n",
              "      <th>44315</th>\n",
              "      <td>149</td>\n",
              "      <td>24</td>\n",
              "      <td>2008-05-22 20:59:50</td>\n",
              "      <td>1.318293</td>\n",
              "      <td>3.769415</td>\n",
              "      <td>-2.011217</td>\n",
              "      <td>27.047866</td>\n",
              "      <td>1.9980</td>\n",
              "      <td>2.793</td>\n",
              "      <td>263.172</td>\n",
              "    </tr>\n",
              "    <tr>\n",
              "      <th>31371</th>\n",
              "      <td>107</td>\n",
              "      <td>24</td>\n",
              "      <td>2008-05-13 09:24:04</td>\n",
              "      <td>1.453901</td>\n",
              "      <td>3.615435</td>\n",
              "      <td>-2.012191</td>\n",
              "      <td>30.492078</td>\n",
              "      <td>1.9980</td>\n",
              "      <td>2.639</td>\n",
              "      <td>815.468</td>\n",
              "    </tr>\n",
              "    <tr>\n",
              "      <th>34481</th>\n",
              "      <td>117</td>\n",
              "      <td>24</td>\n",
              "      <td>2008-05-15 10:20:03</td>\n",
              "      <td>1.412409</td>\n",
              "      <td>3.748770</td>\n",
              "      <td>-2.010842</td>\n",
              "      <td>28.611806</td>\n",
              "      <td>1.9982</td>\n",
              "      <td>2.761</td>\n",
              "      <td>384.938</td>\n",
              "    </tr>\n",
              "    <tr>\n",
              "      <th>...</th>\n",
              "      <td>...</td>\n",
              "      <td>...</td>\n",
              "      <td>...</td>\n",
              "      <td>...</td>\n",
              "      <td>...</td>\n",
              "      <td>...</td>\n",
              "      <td>...</td>\n",
              "      <td>...</td>\n",
              "      <td>...</td>\n",
              "      <td>...</td>\n",
              "    </tr>\n",
              "    <tr>\n",
              "      <th>3196</th>\n",
              "      <td>17</td>\n",
              "      <td>24</td>\n",
              "      <td>2008-04-05 14:34:41</td>\n",
              "      <td>1.802580</td>\n",
              "      <td>3.439111</td>\n",
              "      <td>-2.013386</td>\n",
              "      <td>34.799128</td>\n",
              "      <td>-1.9982</td>\n",
              "      <td>2.504</td>\n",
              "      <td>2629.703</td>\n",
              "    </tr>\n",
              "    <tr>\n",
              "      <th>44003</th>\n",
              "      <td>148</td>\n",
              "      <td>24</td>\n",
              "      <td>2008-05-22 16:17:58</td>\n",
              "      <td>1.318466</td>\n",
              "      <td>3.810997</td>\n",
              "      <td>-2.012448</td>\n",
              "      <td>25.824179</td>\n",
              "      <td>1.9980</td>\n",
              "      <td>2.827</td>\n",
              "      <td>169.172</td>\n",
              "    </tr>\n",
              "    <tr>\n",
              "      <th>5316</th>\n",
              "      <td>29</td>\n",
              "      <td>24</td>\n",
              "      <td>2008-04-20 20:50:38</td>\n",
              "      <td>1.802766</td>\n",
              "      <td>3.752947</td>\n",
              "      <td>-2.011570</td>\n",
              "      <td>28.923674</td>\n",
              "      <td>-1.9982</td>\n",
              "      <td>2.807</td>\n",
              "      <td>636.125</td>\n",
              "    </tr>\n",
              "    <tr>\n",
              "      <th>34771</th>\n",
              "      <td>118</td>\n",
              "      <td>24</td>\n",
              "      <td>2008-05-15 15:10:59</td>\n",
              "      <td>1.412579</td>\n",
              "      <td>3.831051</td>\n",
              "      <td>-2.012799</td>\n",
              "      <td>26.510166</td>\n",
              "      <td>1.9982</td>\n",
              "      <td>2.827</td>\n",
              "      <td>178.766</td>\n",
              "    </tr>\n",
              "    <tr>\n",
              "      <th>29970</th>\n",
              "      <td>102</td>\n",
              "      <td>24</td>\n",
              "      <td>2008-05-12 02:36:58</td>\n",
              "      <td>1.475210</td>\n",
              "      <td>3.262482</td>\n",
              "      <td>-0.000892</td>\n",
              "      <td>40.167794</td>\n",
              "      <td>0.0008</td>\n",
              "      <td>0.000</td>\n",
              "      <td>2701.469</td>\n",
              "    </tr>\n",
              "  </tbody>\n",
              "</table>\n",
              "<p>40228 rows × 10 columns</p>\n",
              "</div>\n",
              "      <button class=\"colab-df-convert\" onclick=\"convertToInteractive('df-e0185d52-b0ff-4d2d-8bd1-db8ca0f848e9')\"\n",
              "              title=\"Convert this dataframe to an interactive table.\"\n",
              "              style=\"display:none;\">\n",
              "        \n",
              "  <svg xmlns=\"http://www.w3.org/2000/svg\" height=\"24px\"viewBox=\"0 0 24 24\"\n",
              "       width=\"24px\">\n",
              "    <path d=\"M0 0h24v24H0V0z\" fill=\"none\"/>\n",
              "    <path d=\"M18.56 5.44l.94 2.06.94-2.06 2.06-.94-2.06-.94-.94-2.06-.94 2.06-2.06.94zm-11 1L8.5 8.5l.94-2.06 2.06-.94-2.06-.94L8.5 2.5l-.94 2.06-2.06.94zm10 10l.94 2.06.94-2.06 2.06-.94-2.06-.94-.94-2.06-.94 2.06-2.06.94z\"/><path d=\"M17.41 7.96l-1.37-1.37c-.4-.4-.92-.59-1.43-.59-.52 0-1.04.2-1.43.59L10.3 9.45l-7.72 7.72c-.78.78-.78 2.05 0 2.83L4 21.41c.39.39.9.59 1.41.59.51 0 1.02-.2 1.41-.59l7.78-7.78 2.81-2.81c.8-.78.8-2.07 0-2.86zM5.41 20L4 18.59l7.72-7.72 1.47 1.35L5.41 20z\"/>\n",
              "  </svg>\n",
              "      </button>\n",
              "      \n",
              "  <style>\n",
              "    .colab-df-container {\n",
              "      display:flex;\n",
              "      flex-wrap:wrap;\n",
              "      gap: 12px;\n",
              "    }\n",
              "\n",
              "    .colab-df-convert {\n",
              "      background-color: #E8F0FE;\n",
              "      border: none;\n",
              "      border-radius: 50%;\n",
              "      cursor: pointer;\n",
              "      display: none;\n",
              "      fill: #1967D2;\n",
              "      height: 32px;\n",
              "      padding: 0 0 0 0;\n",
              "      width: 32px;\n",
              "    }\n",
              "\n",
              "    .colab-df-convert:hover {\n",
              "      background-color: #E2EBFA;\n",
              "      box-shadow: 0px 1px 2px rgba(60, 64, 67, 0.3), 0px 1px 3px 1px rgba(60, 64, 67, 0.15);\n",
              "      fill: #174EA6;\n",
              "    }\n",
              "\n",
              "    [theme=dark] .colab-df-convert {\n",
              "      background-color: #3B4455;\n",
              "      fill: #D2E3FC;\n",
              "    }\n",
              "\n",
              "    [theme=dark] .colab-df-convert:hover {\n",
              "      background-color: #434B5C;\n",
              "      box-shadow: 0px 1px 3px 1px rgba(0, 0, 0, 0.15);\n",
              "      filter: drop-shadow(0px 1px 2px rgba(0, 0, 0, 0.3));\n",
              "      fill: #FFFFFF;\n",
              "    }\n",
              "  </style>\n",
              "\n",
              "      <script>\n",
              "        const buttonEl =\n",
              "          document.querySelector('#df-e0185d52-b0ff-4d2d-8bd1-db8ca0f848e9 button.colab-df-convert');\n",
              "        buttonEl.style.display =\n",
              "          google.colab.kernel.accessAllowed ? 'block' : 'none';\n",
              "\n",
              "        async function convertToInteractive(key) {\n",
              "          const element = document.querySelector('#df-e0185d52-b0ff-4d2d-8bd1-db8ca0f848e9');\n",
              "          const dataTable =\n",
              "            await google.colab.kernel.invokeFunction('convertToInteractive',\n",
              "                                                     [key], {});\n",
              "          if (!dataTable) return;\n",
              "\n",
              "          const docLinkHtml = 'Like what you see? Visit the ' +\n",
              "            '<a target=\"_blank\" href=https://colab.research.google.com/notebooks/data_table.ipynb>data table notebook</a>'\n",
              "            + ' to learn more about interactive tables.';\n",
              "          element.innerHTML = '';\n",
              "          dataTable['output_type'] = 'display_data';\n",
              "          await google.colab.output.renderOutput(dataTable, element);\n",
              "          const docLink = document.createElement('div');\n",
              "          docLink.innerHTML = docLinkHtml;\n",
              "          element.appendChild(docLink);\n",
              "        }\n",
              "      </script>\n",
              "    </div>\n",
              "  </div>\n",
              "  "
            ],
            "text/plain": [
              "       cycle  ambient_temperature  ... voltage_load      time\n",
              "22029     78                   24  ...        2.505  1865.266\n",
              "38170    128                   24  ...        0.000  2822.687\n",
              "44315    149                   24  ...        2.793   263.172\n",
              "31371    107                   24  ...        2.639   815.468\n",
              "34481    117                   24  ...        2.761   384.938\n",
              "...      ...                  ...  ...          ...       ...\n",
              "3196      17                   24  ...        2.504  2629.703\n",
              "44003    148                   24  ...        2.827   169.172\n",
              "5316      29                   24  ...        2.807   636.125\n",
              "34771    118                   24  ...        2.827   178.766\n",
              "29970    102                   24  ...        0.000  2701.469\n",
              "\n",
              "[40228 rows x 10 columns]"
            ]
          },
          "metadata": {},
          "execution_count": 23
        }
      ]
    },
    {
      "cell_type": "code",
      "source": [
        "# Changing the datatype\n",
        "\n",
        "#df[\"datetime\"] = df[\"datetime\"].astype(\"datetime64\")\n",
        " \n",
        "# Setting the Date as index\n",
        "\n",
        "df = df.set_index(\"datetime\")\n",
        "df"
      ],
      "metadata": {
        "colab": {
          "base_uri": "https://localhost:8080/",
          "height": 455
        },
        "id": "w9g-L_TaOuCU",
        "outputId": "c5876b49-b216-4a78-8de8-3dce7ab2a510"
      },
      "execution_count": null,
      "outputs": [
        {
          "output_type": "execute_result",
          "data": {
            "text/html": [
              "\n",
              "  <div id=\"df-f00b10b9-b1a7-4927-94b8-3a75e5ae534d\">\n",
              "    <div class=\"colab-df-container\">\n",
              "      <div>\n",
              "<style scoped>\n",
              "    .dataframe tbody tr th:only-of-type {\n",
              "        vertical-align: middle;\n",
              "    }\n",
              "\n",
              "    .dataframe tbody tr th {\n",
              "        vertical-align: top;\n",
              "    }\n",
              "\n",
              "    .dataframe thead th {\n",
              "        text-align: right;\n",
              "    }\n",
              "</style>\n",
              "<table border=\"1\" class=\"dataframe\">\n",
              "  <thead>\n",
              "    <tr style=\"text-align: right;\">\n",
              "      <th></th>\n",
              "      <th>cycle</th>\n",
              "      <th>ambient_temperature</th>\n",
              "      <th>capacity</th>\n",
              "      <th>voltage_measured</th>\n",
              "      <th>current_measured</th>\n",
              "      <th>temperature_measured</th>\n",
              "      <th>current_load</th>\n",
              "      <th>voltage_load</th>\n",
              "      <th>time</th>\n",
              "    </tr>\n",
              "    <tr>\n",
              "      <th>datetime</th>\n",
              "      <th></th>\n",
              "      <th></th>\n",
              "      <th></th>\n",
              "      <th></th>\n",
              "      <th></th>\n",
              "      <th></th>\n",
              "      <th></th>\n",
              "      <th></th>\n",
              "      <th></th>\n",
              "    </tr>\n",
              "  </thead>\n",
              "  <tbody>\n",
              "    <tr>\n",
              "      <th>2008-05-05 20:40:08</th>\n",
              "      <td>78</td>\n",
              "      <td>24</td>\n",
              "      <td>1.595526</td>\n",
              "      <td>3.465026</td>\n",
              "      <td>-2.012672</td>\n",
              "      <td>33.989732</td>\n",
              "      <td>1.9982</td>\n",
              "      <td>2.505</td>\n",
              "      <td>1865.266</td>\n",
              "    </tr>\n",
              "    <tr>\n",
              "      <th>2008-05-18 08:00:50</th>\n",
              "      <td>128</td>\n",
              "      <td>24</td>\n",
              "      <td>1.380437</td>\n",
              "      <td>3.566160</td>\n",
              "      <td>-0.002307</td>\n",
              "      <td>35.751656</td>\n",
              "      <td>0.0008</td>\n",
              "      <td>0.000</td>\n",
              "      <td>2822.687</td>\n",
              "    </tr>\n",
              "    <tr>\n",
              "      <th>2008-05-22 20:59:50</th>\n",
              "      <td>149</td>\n",
              "      <td>24</td>\n",
              "      <td>1.318293</td>\n",
              "      <td>3.769415</td>\n",
              "      <td>-2.011217</td>\n",
              "      <td>27.047866</td>\n",
              "      <td>1.9980</td>\n",
              "      <td>2.793</td>\n",
              "      <td>263.172</td>\n",
              "    </tr>\n",
              "    <tr>\n",
              "      <th>2008-05-13 09:24:04</th>\n",
              "      <td>107</td>\n",
              "      <td>24</td>\n",
              "      <td>1.453901</td>\n",
              "      <td>3.615435</td>\n",
              "      <td>-2.012191</td>\n",
              "      <td>30.492078</td>\n",
              "      <td>1.9980</td>\n",
              "      <td>2.639</td>\n",
              "      <td>815.468</td>\n",
              "    </tr>\n",
              "    <tr>\n",
              "      <th>2008-05-15 10:20:03</th>\n",
              "      <td>117</td>\n",
              "      <td>24</td>\n",
              "      <td>1.412409</td>\n",
              "      <td>3.748770</td>\n",
              "      <td>-2.010842</td>\n",
              "      <td>28.611806</td>\n",
              "      <td>1.9982</td>\n",
              "      <td>2.761</td>\n",
              "      <td>384.938</td>\n",
              "    </tr>\n",
              "    <tr>\n",
              "      <th>...</th>\n",
              "      <td>...</td>\n",
              "      <td>...</td>\n",
              "      <td>...</td>\n",
              "      <td>...</td>\n",
              "      <td>...</td>\n",
              "      <td>...</td>\n",
              "      <td>...</td>\n",
              "      <td>...</td>\n",
              "      <td>...</td>\n",
              "    </tr>\n",
              "    <tr>\n",
              "      <th>2008-04-05 14:34:41</th>\n",
              "      <td>17</td>\n",
              "      <td>24</td>\n",
              "      <td>1.802580</td>\n",
              "      <td>3.439111</td>\n",
              "      <td>-2.013386</td>\n",
              "      <td>34.799128</td>\n",
              "      <td>-1.9982</td>\n",
              "      <td>2.504</td>\n",
              "      <td>2629.703</td>\n",
              "    </tr>\n",
              "    <tr>\n",
              "      <th>2008-05-22 16:17:58</th>\n",
              "      <td>148</td>\n",
              "      <td>24</td>\n",
              "      <td>1.318466</td>\n",
              "      <td>3.810997</td>\n",
              "      <td>-2.012448</td>\n",
              "      <td>25.824179</td>\n",
              "      <td>1.9980</td>\n",
              "      <td>2.827</td>\n",
              "      <td>169.172</td>\n",
              "    </tr>\n",
              "    <tr>\n",
              "      <th>2008-04-20 20:50:38</th>\n",
              "      <td>29</td>\n",
              "      <td>24</td>\n",
              "      <td>1.802766</td>\n",
              "      <td>3.752947</td>\n",
              "      <td>-2.011570</td>\n",
              "      <td>28.923674</td>\n",
              "      <td>-1.9982</td>\n",
              "      <td>2.807</td>\n",
              "      <td>636.125</td>\n",
              "    </tr>\n",
              "    <tr>\n",
              "      <th>2008-05-15 15:10:59</th>\n",
              "      <td>118</td>\n",
              "      <td>24</td>\n",
              "      <td>1.412579</td>\n",
              "      <td>3.831051</td>\n",
              "      <td>-2.012799</td>\n",
              "      <td>26.510166</td>\n",
              "      <td>1.9982</td>\n",
              "      <td>2.827</td>\n",
              "      <td>178.766</td>\n",
              "    </tr>\n",
              "    <tr>\n",
              "      <th>2008-05-12 02:36:58</th>\n",
              "      <td>102</td>\n",
              "      <td>24</td>\n",
              "      <td>1.475210</td>\n",
              "      <td>3.262482</td>\n",
              "      <td>-0.000892</td>\n",
              "      <td>40.167794</td>\n",
              "      <td>0.0008</td>\n",
              "      <td>0.000</td>\n",
              "      <td>2701.469</td>\n",
              "    </tr>\n",
              "  </tbody>\n",
              "</table>\n",
              "<p>40228 rows × 9 columns</p>\n",
              "</div>\n",
              "      <button class=\"colab-df-convert\" onclick=\"convertToInteractive('df-f00b10b9-b1a7-4927-94b8-3a75e5ae534d')\"\n",
              "              title=\"Convert this dataframe to an interactive table.\"\n",
              "              style=\"display:none;\">\n",
              "        \n",
              "  <svg xmlns=\"http://www.w3.org/2000/svg\" height=\"24px\"viewBox=\"0 0 24 24\"\n",
              "       width=\"24px\">\n",
              "    <path d=\"M0 0h24v24H0V0z\" fill=\"none\"/>\n",
              "    <path d=\"M18.56 5.44l.94 2.06.94-2.06 2.06-.94-2.06-.94-.94-2.06-.94 2.06-2.06.94zm-11 1L8.5 8.5l.94-2.06 2.06-.94-2.06-.94L8.5 2.5l-.94 2.06-2.06.94zm10 10l.94 2.06.94-2.06 2.06-.94-2.06-.94-.94-2.06-.94 2.06-2.06.94z\"/><path d=\"M17.41 7.96l-1.37-1.37c-.4-.4-.92-.59-1.43-.59-.52 0-1.04.2-1.43.59L10.3 9.45l-7.72 7.72c-.78.78-.78 2.05 0 2.83L4 21.41c.39.39.9.59 1.41.59.51 0 1.02-.2 1.41-.59l7.78-7.78 2.81-2.81c.8-.78.8-2.07 0-2.86zM5.41 20L4 18.59l7.72-7.72 1.47 1.35L5.41 20z\"/>\n",
              "  </svg>\n",
              "      </button>\n",
              "      \n",
              "  <style>\n",
              "    .colab-df-container {\n",
              "      display:flex;\n",
              "      flex-wrap:wrap;\n",
              "      gap: 12px;\n",
              "    }\n",
              "\n",
              "    .colab-df-convert {\n",
              "      background-color: #E8F0FE;\n",
              "      border: none;\n",
              "      border-radius: 50%;\n",
              "      cursor: pointer;\n",
              "      display: none;\n",
              "      fill: #1967D2;\n",
              "      height: 32px;\n",
              "      padding: 0 0 0 0;\n",
              "      width: 32px;\n",
              "    }\n",
              "\n",
              "    .colab-df-convert:hover {\n",
              "      background-color: #E2EBFA;\n",
              "      box-shadow: 0px 1px 2px rgba(60, 64, 67, 0.3), 0px 1px 3px 1px rgba(60, 64, 67, 0.15);\n",
              "      fill: #174EA6;\n",
              "    }\n",
              "\n",
              "    [theme=dark] .colab-df-convert {\n",
              "      background-color: #3B4455;\n",
              "      fill: #D2E3FC;\n",
              "    }\n",
              "\n",
              "    [theme=dark] .colab-df-convert:hover {\n",
              "      background-color: #434B5C;\n",
              "      box-shadow: 0px 1px 3px 1px rgba(0, 0, 0, 0.15);\n",
              "      filter: drop-shadow(0px 1px 2px rgba(0, 0, 0, 0.3));\n",
              "      fill: #FFFFFF;\n",
              "    }\n",
              "  </style>\n",
              "\n",
              "      <script>\n",
              "        const buttonEl =\n",
              "          document.querySelector('#df-f00b10b9-b1a7-4927-94b8-3a75e5ae534d button.colab-df-convert');\n",
              "        buttonEl.style.display =\n",
              "          google.colab.kernel.accessAllowed ? 'block' : 'none';\n",
              "\n",
              "        async function convertToInteractive(key) {\n",
              "          const element = document.querySelector('#df-f00b10b9-b1a7-4927-94b8-3a75e5ae534d');\n",
              "          const dataTable =\n",
              "            await google.colab.kernel.invokeFunction('convertToInteractive',\n",
              "                                                     [key], {});\n",
              "          if (!dataTable) return;\n",
              "\n",
              "          const docLinkHtml = 'Like what you see? Visit the ' +\n",
              "            '<a target=\"_blank\" href=https://colab.research.google.com/notebooks/data_table.ipynb>data table notebook</a>'\n",
              "            + ' to learn more about interactive tables.';\n",
              "          element.innerHTML = '';\n",
              "          dataTable['output_type'] = 'display_data';\n",
              "          await google.colab.output.renderOutput(dataTable, element);\n",
              "          const docLink = document.createElement('div');\n",
              "          docLink.innerHTML = docLinkHtml;\n",
              "          element.appendChild(docLink);\n",
              "        }\n",
              "      </script>\n",
              "    </div>\n",
              "  </div>\n",
              "  "
            ],
            "text/plain": [
              "                     cycle  ambient_temperature  ...  voltage_load      time\n",
              "datetime                                         ...                        \n",
              "2008-05-05 20:40:08     78                   24  ...         2.505  1865.266\n",
              "2008-05-18 08:00:50    128                   24  ...         0.000  2822.687\n",
              "2008-05-22 20:59:50    149                   24  ...         2.793   263.172\n",
              "2008-05-13 09:24:04    107                   24  ...         2.639   815.468\n",
              "2008-05-15 10:20:03    117                   24  ...         2.761   384.938\n",
              "...                    ...                  ...  ...           ...       ...\n",
              "2008-04-05 14:34:41     17                   24  ...         2.504  2629.703\n",
              "2008-05-22 16:17:58    148                   24  ...         2.827   169.172\n",
              "2008-04-20 20:50:38     29                   24  ...         2.807   636.125\n",
              "2008-05-15 15:10:59    118                   24  ...         2.827   178.766\n",
              "2008-05-12 02:36:58    102                   24  ...         0.000  2701.469\n",
              "\n",
              "[40228 rows x 9 columns]"
            ]
          },
          "metadata": {},
          "execution_count": 24
        }
      ]
    },
    {
      "cell_type": "code",
      "source": [
        "import seaborn as sns\n",
        "plt.figure(figsize=(10,5))\n",
        "plt.scatter(df.index, df[\"capacity\"])\n",
        "plt.xlabel(\"datetime\")\n",
        "plt.ylabel(\"capacity\")\n",
        "plt.title(\"capacity Time Series Plot\")\n",
        "# Display\n",
        "plt.show()"
      ],
      "metadata": {
        "colab": {
          "base_uri": "https://localhost:8080/",
          "height": 350
        },
        "id": "Qunz4HUU-XZB",
        "outputId": "eb97f5ac-ede1-48dc-bb17-70f6d52ccd34"
      },
      "execution_count": null,
      "outputs": [
        {
          "output_type": "display_data",
          "data": {
            "image/png": "[encoded data removed]",
            "text/plain": [
              "<Figure size 720x360 with 1 Axes>"
            ]
          },
          "metadata": {
            "needs_background": "light"
          }
        }
      ]
    },
    {
      "cell_type": "markdown",
      "source": [
        "**Looking for correlations**"
      ],
      "metadata": {
        "id": "UZX-xthbJ9JZ"
      }
    },
    {
      "cell_type": "code",
      "source": [
        "# Looking for correlations\n",
        "corr_matrix = df.corr()\n",
        "corr_matrix[\"capacity\"].sort_values(ascending = False)"
      ],
      "metadata": {
        "colab": {
          "base_uri": "https://localhost:8080/"
        },
        "id": "5u-t6wJhN9KR",
        "outputId": "41c0768c-eaf1-4c3a-b071-63a5e7467005"
      },
      "execution_count": null,
      "outputs": [
        {
          "output_type": "execute_result",
          "data": {
            "text/plain": [
              "capacity                1.000000\n",
              "voltage_load            0.181952\n",
              "voltage_measured        0.139039\n",
              "time                    0.116821\n",
              "current_measured       -0.130754\n",
              "temperature_measured   -0.146731\n",
              "current_load           -0.407380\n",
              "cycle                  -0.986857\n",
              "ambient_temperature          NaN\n",
              "Name: capacity, dtype: float64"
            ]
          },
          "metadata": {},
          "execution_count": 26
        }
      ]
    },
    {
      "cell_type": "code",
      "source": [
        "print(df.dtypes)"
      ],
      "metadata": {
        "colab": {
          "base_uri": "https://localhost:8080/"
        },
        "id": "zQ7GOf77MC8X",
        "outputId": "95397b48-ce2e-4e7d-d9b6-a0eb74681c97"
      },
      "execution_count": null,
      "outputs": [
        {
          "output_type": "stream",
          "name": "stdout",
          "text": [
            "cycle                     int64\n",
            "ambient_temperature       int64\n",
            "capacity                float64\n",
            "voltage_measured        float64\n",
            "current_measured        float64\n",
            "temperature_measured    float64\n",
            "current_load            float64\n",
            "voltage_load            float64\n",
            "time                    float64\n",
            "dtype: object\n"
          ]
        }
      ]
    },
    {
      "cell_type": "code",
      "source": [
        "df = strat_train_set.drop([\"capacity\",\"datetime\"], axis=1)\n",
        "df_labels = strat_train_set[\"capacity\"].copy()"
      ],
      "metadata": {
        "id": "SLYOfU7bOU-3"
      },
      "execution_count": null,
      "outputs": []
    },
    {
      "cell_type": "code",
      "source": [
        "df"
      ],
      "metadata": {
        "colab": {
          "base_uri": "https://localhost:8080/",
          "height": 423
        },
        "id": "H_dxyGfVgmQH",
        "outputId": "090d1240-a79d-49dc-b6dc-bea1e6c52153"
      },
      "execution_count": null,
      "outputs": [
        {
          "output_type": "execute_result",
          "data": {
            "text/html": [
              "\n",
              "  <div id=\"df-9ecd4419-97a4-4ca9-a670-c0025049337c\">\n",
              "    <div class=\"colab-df-container\">\n",
              "      <div>\n",
              "<style scoped>\n",
              "    .dataframe tbody tr th:only-of-type {\n",
              "        vertical-align: middle;\n",
              "    }\n",
              "\n",
              "    .dataframe tbody tr th {\n",
              "        vertical-align: top;\n",
              "    }\n",
              "\n",
              "    .dataframe thead th {\n",
              "        text-align: right;\n",
              "    }\n",
              "</style>\n",
              "<table border=\"1\" class=\"dataframe\">\n",
              "  <thead>\n",
              "    <tr style=\"text-align: right;\">\n",
              "      <th></th>\n",
              "      <th>cycle</th>\n",
              "      <th>ambient_temperature</th>\n",
              "      <th>voltage_measured</th>\n",
              "      <th>current_measured</th>\n",
              "      <th>temperature_measured</th>\n",
              "      <th>current_load</th>\n",
              "      <th>voltage_load</th>\n",
              "      <th>time</th>\n",
              "    </tr>\n",
              "  </thead>\n",
              "  <tbody>\n",
              "    <tr>\n",
              "      <th>22029</th>\n",
              "      <td>78</td>\n",
              "      <td>24</td>\n",
              "      <td>3.465026</td>\n",
              "      <td>-2.012672</td>\n",
              "      <td>33.989732</td>\n",
              "      <td>1.9982</td>\n",
              "      <td>2.505</td>\n",
              "      <td>1865.266</td>\n",
              "    </tr>\n",
              "    <tr>\n",
              "      <th>38170</th>\n",
              "      <td>128</td>\n",
              "      <td>24</td>\n",
              "      <td>3.566160</td>\n",
              "      <td>-0.002307</td>\n",
              "      <td>35.751656</td>\n",
              "      <td>0.0008</td>\n",
              "      <td>0.000</td>\n",
              "      <td>2822.687</td>\n",
              "    </tr>\n",
              "    <tr>\n",
              "      <th>44315</th>\n",
              "      <td>149</td>\n",
              "      <td>24</td>\n",
              "      <td>3.769415</td>\n",
              "      <td>-2.011217</td>\n",
              "      <td>27.047866</td>\n",
              "      <td>1.9980</td>\n",
              "      <td>2.793</td>\n",
              "      <td>263.172</td>\n",
              "    </tr>\n",
              "    <tr>\n",
              "      <th>31371</th>\n",
              "      <td>107</td>\n",
              "      <td>24</td>\n",
              "      <td>3.615435</td>\n",
              "      <td>-2.012191</td>\n",
              "      <td>30.492078</td>\n",
              "      <td>1.9980</td>\n",
              "      <td>2.639</td>\n",
              "      <td>815.468</td>\n",
              "    </tr>\n",
              "    <tr>\n",
              "      <th>34481</th>\n",
              "      <td>117</td>\n",
              "      <td>24</td>\n",
              "      <td>3.748770</td>\n",
              "      <td>-2.010842</td>\n",
              "      <td>28.611806</td>\n",
              "      <td>1.9982</td>\n",
              "      <td>2.761</td>\n",
              "      <td>384.938</td>\n",
              "    </tr>\n",
              "    <tr>\n",
              "      <th>...</th>\n",
              "      <td>...</td>\n",
              "      <td>...</td>\n",
              "      <td>...</td>\n",
              "      <td>...</td>\n",
              "      <td>...</td>\n",
              "      <td>...</td>\n",
              "      <td>...</td>\n",
              "      <td>...</td>\n",
              "    </tr>\n",
              "    <tr>\n",
              "      <th>3196</th>\n",
              "      <td>17</td>\n",
              "      <td>24</td>\n",
              "      <td>3.439111</td>\n",
              "      <td>-2.013386</td>\n",
              "      <td>34.799128</td>\n",
              "      <td>-1.9982</td>\n",
              "      <td>2.504</td>\n",
              "      <td>2629.703</td>\n",
              "    </tr>\n",
              "    <tr>\n",
              "      <th>44003</th>\n",
              "      <td>148</td>\n",
              "      <td>24</td>\n",
              "      <td>3.810997</td>\n",
              "      <td>-2.012448</td>\n",
              "      <td>25.824179</td>\n",
              "      <td>1.9980</td>\n",
              "      <td>2.827</td>\n",
              "      <td>169.172</td>\n",
              "    </tr>\n",
              "    <tr>\n",
              "      <th>5316</th>\n",
              "      <td>29</td>\n",
              "      <td>24</td>\n",
              "      <td>3.752947</td>\n",
              "      <td>-2.011570</td>\n",
              "      <td>28.923674</td>\n",
              "      <td>-1.9982</td>\n",
              "      <td>2.807</td>\n",
              "      <td>636.125</td>\n",
              "    </tr>\n",
              "    <tr>\n",
              "      <th>34771</th>\n",
              "      <td>118</td>\n",
              "      <td>24</td>\n",
              "      <td>3.831051</td>\n",
              "      <td>-2.012799</td>\n",
              "      <td>26.510166</td>\n",
              "      <td>1.9982</td>\n",
              "      <td>2.827</td>\n",
              "      <td>178.766</td>\n",
              "    </tr>\n",
              "    <tr>\n",
              "      <th>29970</th>\n",
              "      <td>102</td>\n",
              "      <td>24</td>\n",
              "      <td>3.262482</td>\n",
              "      <td>-0.000892</td>\n",
              "      <td>40.167794</td>\n",
              "      <td>0.0008</td>\n",
              "      <td>0.000</td>\n",
              "      <td>2701.469</td>\n",
              "    </tr>\n",
              "  </tbody>\n",
              "</table>\n",
              "<p>40228 rows × 8 columns</p>\n",
              "</div>\n",
              "      <button class=\"colab-df-convert\" onclick=\"convertToInteractive('df-9ecd4419-97a4-4ca9-a670-c0025049337c')\"\n",
              "              title=\"Convert this dataframe to an interactive table.\"\n",
              "              style=\"display:none;\">\n",
              "        \n",
              "  <svg xmlns=\"http://www.w3.org/2000/svg\" height=\"24px\"viewBox=\"0 0 24 24\"\n",
              "       width=\"24px\">\n",
              "    <path d=\"M0 0h24v24H0V0z\" fill=\"none\"/>\n",
              "    <path d=\"M18.56 5.44l.94 2.06.94-2.06 2.06-.94-2.06-.94-.94-2.06-.94 2.06-2.06.94zm-11 1L8.5 8.5l.94-2.06 2.06-.94-2.06-.94L8.5 2.5l-.94 2.06-2.06.94zm10 10l.94 2.06.94-2.06 2.06-.94-2.06-.94-.94-2.06-.94 2.06-2.06.94z\"/><path d=\"M17.41 7.96l-1.37-1.37c-.4-.4-.92-.59-1.43-.59-.52 0-1.04.2-1.43.59L10.3 9.45l-7.72 7.72c-.78.78-.78 2.05 0 2.83L4 21.41c.39.39.9.59 1.41.59.51 0 1.02-.2 1.41-.59l7.78-7.78 2.81-2.81c.8-.78.8-2.07 0-2.86zM5.41 20L4 18.59l7.72-7.72 1.47 1.35L5.41 20z\"/>\n",
              "  </svg>\n",
              "      </button>\n",
              "      \n",
              "  <style>\n",
              "    .colab-df-container {\n",
              "      display:flex;\n",
              "      flex-wrap:wrap;\n",
              "      gap: 12px;\n",
              "    }\n",
              "\n",
              "    .colab-df-convert {\n",
              "      background-color: #E8F0FE;\n",
              "      border: none;\n",
              "      border-radius: 50%;\n",
              "      cursor: pointer;\n",
              "      display: none;\n",
              "      fill: #1967D2;\n",
              "      height: 32px;\n",
              "      padding: 0 0 0 0;\n",
              "      width: 32px;\n",
              "    }\n",
              "\n",
              "    .colab-df-convert:hover {\n",
              "      background-color: #E2EBFA;\n",
              "      box-shadow: 0px 1px 2px rgba(60, 64, 67, 0.3), 0px 1px 3px 1px rgba(60, 64, 67, 0.15);\n",
              "      fill: #174EA6;\n",
              "    }\n",
              "\n",
              "    [theme=dark] .colab-df-convert {\n",
              "      background-color: #3B4455;\n",
              "      fill: #D2E3FC;\n",
              "    }\n",
              "\n",
              "    [theme=dark] .colab-df-convert:hover {\n",
              "      background-color: #434B5C;\n",
              "      box-shadow: 0px 1px 3px 1px rgba(0, 0, 0, 0.15);\n",
              "      filter: drop-shadow(0px 1px 2px rgba(0, 0, 0, 0.3));\n",
              "      fill: #FFFFFF;\n",
              "    }\n",
              "  </style>\n",
              "\n",
              "      <script>\n",
              "        const buttonEl =\n",
              "          document.querySelector('#df-9ecd4419-97a4-4ca9-a670-c0025049337c button.colab-df-convert');\n",
              "        buttonEl.style.display =\n",
              "          google.colab.kernel.accessAllowed ? 'block' : 'none';\n",
              "\n",
              "        async function convertToInteractive(key) {\n",
              "          const element = document.querySelector('#df-9ecd4419-97a4-4ca9-a670-c0025049337c');\n",
              "          const dataTable =\n",
              "            await google.colab.kernel.invokeFunction('convertToInteractive',\n",
              "                                                     [key], {});\n",
              "          if (!dataTable) return;\n",
              "\n",
              "          const docLinkHtml = 'Like what you see? Visit the ' +\n",
              "            '<a target=\"_blank\" href=https://colab.research.google.com/notebooks/data_table.ipynb>data table notebook</a>'\n",
              "            + ' to learn more about interactive tables.';\n",
              "          element.innerHTML = '';\n",
              "          dataTable['output_type'] = 'display_data';\n",
              "          await google.colab.output.renderOutput(dataTable, element);\n",
              "          const docLink = document.createElement('div');\n",
              "          docLink.innerHTML = docLinkHtml;\n",
              "          element.appendChild(docLink);\n",
              "        }\n",
              "      </script>\n",
              "    </div>\n",
              "  </div>\n",
              "  "
            ],
            "text/plain": [
              "       cycle  ambient_temperature  ...  voltage_load      time\n",
              "22029     78                   24  ...         2.505  1865.266\n",
              "38170    128                   24  ...         0.000  2822.687\n",
              "44315    149                   24  ...         2.793   263.172\n",
              "31371    107                   24  ...         2.639   815.468\n",
              "34481    117                   24  ...         2.761   384.938\n",
              "...      ...                  ...  ...           ...       ...\n",
              "3196      17                   24  ...         2.504  2629.703\n",
              "44003    148                   24  ...         2.827   169.172\n",
              "5316      29                   24  ...         2.807   636.125\n",
              "34771    118                   24  ...         2.827   178.766\n",
              "29970    102                   24  ...         0.000  2701.469\n",
              "\n",
              "[40228 rows x 8 columns]"
            ]
          },
          "metadata": {},
          "execution_count": 29
        }
      ]
    },
    {
      "cell_type": "code",
      "source": [
        "df.shape"
      ],
      "metadata": {
        "colab": {
          "base_uri": "https://localhost:8080/"
        },
        "id": "EXlCMh_0cP8s",
        "outputId": "83b9450d-f0fe-4108-f9ba-39917f555218"
      },
      "execution_count": null,
      "outputs": [
        {
          "output_type": "execute_result",
          "data": {
            "text/plain": [
              "(40228, 8)"
            ]
          },
          "metadata": {},
          "execution_count": 30
        }
      ]
    },
    {
      "cell_type": "code",
      "source": [
        "from sklearn.impute import SimpleImputer\n",
        "imputer = SimpleImputer(strategy = \"median\")\n",
        "imputer.fit(df)"
      ],
      "metadata": {
        "colab": {
          "base_uri": "https://localhost:8080/"
        },
        "id": "XWE0kfksUDh9",
        "outputId": "b64fbc41-d258-4ea6-99b1-4b56ff8f3fee"
      },
      "execution_count": null,
      "outputs": [
        {
          "output_type": "execute_result",
          "data": {
            "text/plain": [
              "SimpleImputer(strategy='median')"
            ]
          },
          "metadata": {},
          "execution_count": 31
        }
      ]
    },
    {
      "cell_type": "code",
      "source": [
        "imputer.statistics_"
      ],
      "metadata": {
        "colab": {
          "base_uri": "https://localhost:8080/"
        },
        "id": "bqsjGK1xUwSy",
        "outputId": "d35c7080-968f-4340-92f5-6e23b2d170c7"
      },
      "execution_count": null,
      "outputs": [
        {
          "output_type": "execute_result",
          "data": {
            "text/plain": [
              "array([  88.        ,   24.        ,    3.51094215,   -2.01231069,\n",
              "         32.85472028,    1.9982    ,    2.532     , 1546.4375    ])"
            ]
          },
          "metadata": {},
          "execution_count": 32
        }
      ]
    },
    {
      "cell_type": "code",
      "source": [
        "imputer.statistics_.shape"
      ],
      "metadata": {
        "colab": {
          "base_uri": "https://localhost:8080/"
        },
        "id": "kBX95qK8U0_y",
        "outputId": "e86737a5-6b4d-4244-aef8-37a679e64b47"
      },
      "execution_count": null,
      "outputs": [
        {
          "output_type": "execute_result",
          "data": {
            "text/plain": [
              "(8,)"
            ]
          },
          "metadata": {},
          "execution_count": 33
        }
      ]
    },
    {
      "cell_type": "code",
      "source": [
        "X = imputer.transform(df)"
      ],
      "metadata": {
        "id": "yJ6UdrSLU1xe"
      },
      "execution_count": null,
      "outputs": []
    },
    {
      "cell_type": "code",
      "source": [
        "df_tr = pd.DataFrame(X,columns=df.columns)"
      ],
      "metadata": {
        "id": "4tOQGYDtU-S2"
      },
      "execution_count": null,
      "outputs": []
    },
    {
      "cell_type": "code",
      "source": [
        "df_tr.describe()"
      ],
      "metadata": {
        "colab": {
          "base_uri": "https://localhost:8080/",
          "height": 300
        },
        "id": "bewzwK4rVD4b",
        "outputId": "127a0568-88b8-47f9-c685-62e706a0fc1b"
      },
      "execution_count": null,
      "outputs": [
        {
          "output_type": "execute_result",
          "data": {
            "text/html": [
              "\n",
              "  <div id=\"df-83e79706-b4e7-4b18-b67d-50acab71eba8\">\n",
              "    <div class=\"colab-df-container\">\n",
              "      <div>\n",
              "<style scoped>\n",
              "    .dataframe tbody tr th:only-of-type {\n",
              "        vertical-align: middle;\n",
              "    }\n",
              "\n",
              "    .dataframe tbody tr th {\n",
              "        vertical-align: top;\n",
              "    }\n",
              "\n",
              "    .dataframe thead th {\n",
              "        text-align: right;\n",
              "    }\n",
              "</style>\n",
              "<table border=\"1\" class=\"dataframe\">\n",
              "  <thead>\n",
              "    <tr style=\"text-align: right;\">\n",
              "      <th></th>\n",
              "      <th>cycle</th>\n",
              "      <th>ambient_temperature</th>\n",
              "      <th>voltage_measured</th>\n",
              "      <th>current_measured</th>\n",
              "      <th>temperature_measured</th>\n",
              "      <th>current_load</th>\n",
              "      <th>voltage_load</th>\n",
              "      <th>time</th>\n",
              "    </tr>\n",
              "  </thead>\n",
              "  <tbody>\n",
              "    <tr>\n",
              "      <th>count</th>\n",
              "      <td>40228.000000</td>\n",
              "      <td>40228.0</td>\n",
              "      <td>40228.000000</td>\n",
              "      <td>40228.000000</td>\n",
              "      <td>40228.000000</td>\n",
              "      <td>40228.000000</td>\n",
              "      <td>40228.000000</td>\n",
              "      <td>40228.000000</td>\n",
              "    </tr>\n",
              "    <tr>\n",
              "      <th>mean</th>\n",
              "      <td>88.128294</td>\n",
              "      <td>24.0</td>\n",
              "      <td>3.514354</td>\n",
              "      <td>-1.805100</td>\n",
              "      <td>32.833135</td>\n",
              "      <td>1.362968</td>\n",
              "      <td>2.306293</td>\n",
              "      <td>1550.097005</td>\n",
              "    </tr>\n",
              "    <tr>\n",
              "      <th>std</th>\n",
              "      <td>45.701887</td>\n",
              "      <td>0.0</td>\n",
              "      <td>0.232329</td>\n",
              "      <td>0.611725</td>\n",
              "      <td>3.991161</td>\n",
              "      <td>1.312720</td>\n",
              "      <td>0.801672</td>\n",
              "      <td>906.696352</td>\n",
              "    </tr>\n",
              "    <tr>\n",
              "      <th>min</th>\n",
              "      <td>1.000000</td>\n",
              "      <td>24.0</td>\n",
              "      <td>2.471315</td>\n",
              "      <td>-2.027592</td>\n",
              "      <td>23.214802</td>\n",
              "      <td>-1.998400</td>\n",
              "      <td>0.000000</td>\n",
              "      <td>0.000000</td>\n",
              "    </tr>\n",
              "    <tr>\n",
              "      <th>25%</th>\n",
              "      <td>50.000000</td>\n",
              "      <td>24.0</td>\n",
              "      <td>3.398257</td>\n",
              "      <td>-2.013419</td>\n",
              "      <td>30.031793</td>\n",
              "      <td>1.998000</td>\n",
              "      <td>2.386000</td>\n",
              "      <td>769.062000</td>\n",
              "    </tr>\n",
              "    <tr>\n",
              "      <th>50%</th>\n",
              "      <td>88.000000</td>\n",
              "      <td>24.0</td>\n",
              "      <td>3.510942</td>\n",
              "      <td>-2.012311</td>\n",
              "      <td>32.854720</td>\n",
              "      <td>1.998200</td>\n",
              "      <td>2.532000</td>\n",
              "      <td>1546.437500</td>\n",
              "    </tr>\n",
              "    <tr>\n",
              "      <th>75%</th>\n",
              "      <td>127.000000</td>\n",
              "      <td>24.0</td>\n",
              "      <td>3.659536</td>\n",
              "      <td>-2.011046</td>\n",
              "      <td>35.939224</td>\n",
              "      <td>1.998200</td>\n",
              "      <td>2.689000</td>\n",
              "      <td>2314.504000</td>\n",
              "    </tr>\n",
              "    <tr>\n",
              "      <th>max</th>\n",
              "      <td>168.000000</td>\n",
              "      <td>24.0</td>\n",
              "      <td>4.222920</td>\n",
              "      <td>0.007496</td>\n",
              "      <td>41.450232</td>\n",
              "      <td>1.998400</td>\n",
              "      <td>4.238000</td>\n",
              "      <td>3672.344000</td>\n",
              "    </tr>\n",
              "  </tbody>\n",
              "</table>\n",
              "</div>\n",
              "      <button class=\"colab-df-convert\" onclick=\"convertToInteractive('df-83e79706-b4e7-4b18-b67d-50acab71eba8')\"\n",
              "              title=\"Convert this dataframe to an interactive table.\"\n",
              "              style=\"display:none;\">\n",
              "        \n",
              "  <svg xmlns=\"http://www.w3.org/2000/svg\" height=\"24px\"viewBox=\"0 0 24 24\"\n",
              "       width=\"24px\">\n",
              "    <path d=\"M0 0h24v24H0V0z\" fill=\"none\"/>\n",
              "    <path d=\"M18.56 5.44l.94 2.06.94-2.06 2.06-.94-2.06-.94-.94-2.06-.94 2.06-2.06.94zm-11 1L8.5 8.5l.94-2.06 2.06-.94-2.06-.94L8.5 2.5l-.94 2.06-2.06.94zm10 10l.94 2.06.94-2.06 2.06-.94-2.06-.94-.94-2.06-.94 2.06-2.06.94z\"/><path d=\"M17.41 7.96l-1.37-1.37c-.4-.4-.92-.59-1.43-.59-.52 0-1.04.2-1.43.59L10.3 9.45l-7.72 7.72c-.78.78-.78 2.05 0 2.83L4 21.41c.39.39.9.59 1.41.59.51 0 1.02-.2 1.41-.59l7.78-7.78 2.81-2.81c.8-.78.8-2.07 0-2.86zM5.41 20L4 18.59l7.72-7.72 1.47 1.35L5.41 20z\"/>\n",
              "  </svg>\n",
              "      </button>\n",
              "      \n",
              "  <style>\n",
              "    .colab-df-container {\n",
              "      display:flex;\n",
              "      flex-wrap:wrap;\n",
              "      gap: 12px;\n",
              "    }\n",
              "\n",
              "    .colab-df-convert {\n",
              "      background-color: #E8F0FE;\n",
              "      border: none;\n",
              "      border-radius: 50%;\n",
              "      cursor: pointer;\n",
              "      display: none;\n",
              "      fill: #1967D2;\n",
              "      height: 32px;\n",
              "      padding: 0 0 0 0;\n",
              "      width: 32px;\n",
              "    }\n",
              "\n",
              "    .colab-df-convert:hover {\n",
              "      background-color: #E2EBFA;\n",
              "      box-shadow: 0px 1px 2px rgba(60, 64, 67, 0.3), 0px 1px 3px 1px rgba(60, 64, 67, 0.15);\n",
              "      fill: #174EA6;\n",
              "    }\n",
              "\n",
              "    [theme=dark] .colab-df-convert {\n",
              "      background-color: #3B4455;\n",
              "      fill: #D2E3FC;\n",
              "    }\n",
              "\n",
              "    [theme=dark] .colab-df-convert:hover {\n",
              "      background-color: #434B5C;\n",
              "      box-shadow: 0px 1px 3px 1px rgba(0, 0, 0, 0.15);\n",
              "      filter: drop-shadow(0px 1px 2px rgba(0, 0, 0, 0.3));\n",
              "      fill: #FFFFFF;\n",
              "    }\n",
              "  </style>\n",
              "\n",
              "      <script>\n",
              "        const buttonEl =\n",
              "          document.querySelector('#df-83e79706-b4e7-4b18-b67d-50acab71eba8 button.colab-df-convert');\n",
              "        buttonEl.style.display =\n",
              "          google.colab.kernel.accessAllowed ? 'block' : 'none';\n",
              "\n",
              "        async function convertToInteractive(key) {\n",
              "          const element = document.querySelector('#df-83e79706-b4e7-4b18-b67d-50acab71eba8');\n",
              "          const dataTable =\n",
              "            await google.colab.kernel.invokeFunction('convertToInteractive',\n",
              "                                                     [key], {});\n",
              "          if (!dataTable) return;\n",
              "\n",
              "          const docLinkHtml = 'Like what you see? Visit the ' +\n",
              "            '<a target=\"_blank\" href=https://colab.research.google.com/notebooks/data_table.ipynb>data table notebook</a>'\n",
              "            + ' to learn more about interactive tables.';\n",
              "          element.innerHTML = '';\n",
              "          dataTable['output_type'] = 'display_data';\n",
              "          await google.colab.output.renderOutput(dataTable, element);\n",
              "          const docLink = document.createElement('div');\n",
              "          docLink.innerHTML = docLinkHtml;\n",
              "          element.appendChild(docLink);\n",
              "        }\n",
              "      </script>\n",
              "    </div>\n",
              "  </div>\n",
              "  "
            ],
            "text/plain": [
              "              cycle  ambient_temperature  ...  voltage_load          time\n",
              "count  40228.000000              40228.0  ...  40228.000000  40228.000000\n",
              "mean      88.128294                 24.0  ...      2.306293   1550.097005\n",
              "std       45.701887                  0.0  ...      0.801672    906.696352\n",
              "min        1.000000                 24.0  ...      0.000000      0.000000\n",
              "25%       50.000000                 24.0  ...      2.386000    769.062000\n",
              "50%       88.000000                 24.0  ...      2.532000   1546.437500\n",
              "75%      127.000000                 24.0  ...      2.689000   2314.504000\n",
              "max      168.000000                 24.0  ...      4.238000   3672.344000\n",
              "\n",
              "[8 rows x 8 columns]"
            ]
          },
          "metadata": {},
          "execution_count": 36
        }
      ]
    },
    {
      "cell_type": "markdown",
      "source": [
        "**Scikit-learn Design**\n",
        "\n",
        "Primarily, three types of objects\n",
        "\n",
        "1) Estimators - It estimates some parameter based on a dataset. Eg. imputer. It has a fit method and transform method. Fit method - Fits the dataset and calculates internal parameters.\n",
        "\n",
        "2) Transformers - transform method takes input and returns output based on the learnings from fit(). It also has a convenience function called fit_transform() which fits and then transforms.\n",
        "\n",
        "3) Predictors - LinearRegression model is an example of predictor. fit() and predict() are two common functions. It also gives score() function which will evaluate the predictions.\n",
        "\n",
        "**Feature Scaling**\n",
        "\n",
        "Primarily, two types of feature scaling methods:\n",
        "\n",
        "1) Min-max scaling (Normalization)\n",
        "\n",
        "(value min)/(max - min)\n",
        "\n",
        "Sklearn provides a class called MinMaxScaler for this\n",
        "\n",
        "2) Standardization\n",
        "\n",
        "(value mean)/std\n",
        "\n",
        "Sklearn provides a class called StandardScaler for this"
      ],
      "metadata": {
        "id": "lWncLK-lSkAg"
      }
    },
    {
      "cell_type": "markdown",
      "source": [
        "**Creating a Pipeline**"
      ],
      "metadata": {
        "id": "eL2RhgZaTcqM"
      }
    },
    {
      "cell_type": "code",
      "source": [
        "from sklearn.pipeline import Pipeline\n",
        "from sklearn.preprocessing import StandardScaler\n",
        "my_pipeline = Pipeline([\n",
        "                        (\"imputer\",SimpleImputer(strategy = \"median\")),\n",
        "                        #.................add as many as you want in your pipeline\n",
        "                        (\"std_scaler\",StandardScaler()),\n",
        "])"
      ],
      "metadata": {
        "id": "8Zf5ZvspVO3D"
      },
      "execution_count": null,
      "outputs": []
    },
    {
      "cell_type": "code",
      "source": [
        "df_num_tr = my_pipeline.fit_transform(df)\n",
        "df_num_tr"
      ],
      "metadata": {
        "colab": {
          "base_uri": "https://localhost:8080/"
        },
        "id": "WRJNUoA_VQ6u",
        "outputId": "90c826a2-53ad-4844-ae63-28be069056d1"
      },
      "execution_count": null,
      "outputs": [
        {
          "output_type": "execute_result",
          "data": {
            "text/plain": [
              "array([[-0.22161929,  0.        , -0.21232191, ...,  0.48391066,\n",
              "         0.24786915,  0.3476058 ],\n",
              "       [ 0.87244103,  0.        ,  0.22298877, ..., -1.03768124,\n",
              "        -2.87688933,  1.4035634 ],\n",
              "       [ 1.33194637,  0.        ,  1.09785599, ...,  0.4837583 ,\n",
              "         0.60712282, -1.41937375],\n",
              "       ...,\n",
              "       [-1.2937984 ,  0.        ,  1.02697204, ..., -2.560492  ,\n",
              "         0.62458654, -1.00803688],\n",
              "       [ 0.65362897,  0.        ,  1.36315621, ...,  0.48391066,\n",
              "         0.64953471, -1.51246671],\n",
              "       [ 0.30352967,  0.        , -1.08413054, ..., -1.03768124,\n",
              "        -2.87688933,  1.26986979]])"
            ]
          },
          "metadata": {},
          "execution_count": 38
        }
      ]
    },
    {
      "cell_type": "code",
      "source": [
        "df_num_tr.shape"
      ],
      "metadata": {
        "colab": {
          "base_uri": "https://localhost:8080/"
        },
        "id": "K8EI7lutVbnZ",
        "outputId": "81cd805c-f867-4c5b-a36a-77cf2caf0b94"
      },
      "execution_count": null,
      "outputs": [
        {
          "output_type": "execute_result",
          "data": {
            "text/plain": [
              "(40228, 8)"
            ]
          },
          "metadata": {},
          "execution_count": 39
        }
      ]
    },
    {
      "cell_type": "markdown",
      "source": [
        "**Selecting a desired model predict the capacity of the battery**"
      ],
      "metadata": {
        "id": "Lem9D2dfUtde"
      }
    },
    {
      "cell_type": "markdown",
      "source": [
        "**Linear Regression**"
      ],
      "metadata": {
        "id": "M0SheBO6U4IH"
      }
    },
    {
      "cell_type": "code",
      "source": [
        "from sklearn.linear_model import LinearRegression\n",
        "model = LinearRegression()\n",
        "model.fit(df_num_tr,df_labels)"
      ],
      "metadata": {
        "colab": {
          "base_uri": "https://localhost:8080/"
        },
        "id": "tiof0oGUcfno",
        "outputId": "2be5254d-02b6-429e-9ca7-6580beadd1b8"
      },
      "execution_count": null,
      "outputs": [
        {
          "output_type": "execute_result",
          "data": {
            "text/plain": [
              "LinearRegression()"
            ]
          },
          "metadata": {},
          "execution_count": 40
        }
      ]
    },
    {
      "cell_type": "code",
      "source": [
        "some_data = df.iloc[:5]"
      ],
      "metadata": {
        "id": "MrNS2CNCcfqO"
      },
      "execution_count": null,
      "outputs": []
    },
    {
      "cell_type": "code",
      "source": [
        "some_labels = df_labels.iloc[:5]"
      ],
      "metadata": {
        "id": "eZmkf-EJcfs7"
      },
      "execution_count": null,
      "outputs": []
    },
    {
      "cell_type": "code",
      "source": [
        "prepared_data = my_pipeline.transform(some_data)"
      ],
      "metadata": {
        "id": "mrzdUu28cfv1"
      },
      "execution_count": null,
      "outputs": []
    },
    {
      "cell_type": "code",
      "source": [
        "model.predict(prepared_data)"
      ],
      "metadata": {
        "colab": {
          "base_uri": "https://localhost:8080/"
        },
        "id": "H0zii6EScfzN",
        "outputId": "5aad19af-29cd-443a-9185-724112f4b536"
      },
      "execution_count": null,
      "outputs": [
        {
          "output_type": "execute_result",
          "data": {
            "text/plain": [
              "array([1.60720822, 1.40618608, 1.32118432, 1.48620166, 1.44656689])"
            ]
          },
          "metadata": {},
          "execution_count": 44
        }
      ]
    },
    {
      "cell_type": "code",
      "source": [
        "some_labels"
      ],
      "metadata": {
        "colab": {
          "base_uri": "https://localhost:8080/"
        },
        "id": "WA18YDpIdIKb",
        "outputId": "daa4fb97-e619-466f-a9f0-bb67a000ceec"
      },
      "execution_count": null,
      "outputs": [
        {
          "output_type": "execute_result",
          "data": {
            "text/plain": [
              "22029    1.595526\n",
              "38170    1.380437\n",
              "44315    1.318293\n",
              "31371    1.453901\n",
              "34481    1.412409\n",
              "Name: capacity, dtype: float64"
            ]
          },
          "metadata": {},
          "execution_count": 45
        }
      ]
    },
    {
      "cell_type": "code",
      "source": [
        "list(some_labels)"
      ],
      "metadata": {
        "colab": {
          "base_uri": "https://localhost:8080/"
        },
        "id": "PCSRBde3dINR",
        "outputId": "95412965-461b-40ff-e705-56fa0f34b8cb"
      },
      "execution_count": null,
      "outputs": [
        {
          "output_type": "execute_result",
          "data": {
            "text/plain": [
              "[1.5955263892495937,\n",
              " 1.3804366761974138,\n",
              " 1.318293040102702,\n",
              " 1.4539012274845928,\n",
              " 1.412409228794446]"
            ]
          },
          "metadata": {},
          "execution_count": 46
        }
      ]
    },
    {
      "cell_type": "code",
      "source": [
        "model.score(df_num_tr,df_labels)"
      ],
      "metadata": {
        "colab": {
          "base_uri": "https://localhost:8080/"
        },
        "id": "agqKVTUN7i0r",
        "outputId": "19f70a92-f9b5-48e6-f9a7-b96e4804d4da"
      },
      "execution_count": null,
      "outputs": [
        {
          "output_type": "execute_result",
          "data": {
            "text/plain": [
              "0.9769232924896262"
            ]
          },
          "metadata": {},
          "execution_count": 47
        }
      ]
    },
    {
      "cell_type": "code",
      "source": [
        "from sklearn.metrics import mean_squared_error\n",
        "df_predictions = model.predict(df_num_tr)\n",
        "lin_mse = mean_squared_error(df_labels,df_predictions)\n",
        "lin_rmse = np.sqrt(lin_mse)\n",
        "lin_rmse"
      ],
      "metadata": {
        "colab": {
          "base_uri": "https://localhost:8080/"
        },
        "id": "mqSukAhVdIP7",
        "outputId": "ce7e2f33-40e2-45d0-d1b1-ae906304b5d7"
      },
      "execution_count": null,
      "outputs": [
        {
          "output_type": "execute_result",
          "data": {
            "text/plain": [
              "0.0277062688620111"
            ]
          },
          "metadata": {},
          "execution_count": 48
        }
      ]
    },
    {
      "cell_type": "code",
      "source": [
        "from sklearn.model_selection import cross_val_score\n",
        "scores = cross_val_score(model,df_num_tr,df_labels,scoring =\"neg_mean_squared_error\",cv=10)\n",
        "rmse_scores = np.sqrt(-scores)\n",
        "rmse_scores"
      ],
      "metadata": {
        "colab": {
          "base_uri": "https://localhost:8080/"
        },
        "id": "_ldqykbxdIS0",
        "outputId": "9181d215-1ca0-4e0a-9e0b-c75db9a99b15"
      },
      "execution_count": null,
      "outputs": [
        {
          "output_type": "execute_result",
          "data": {
            "text/plain": [
              "array([0.0275689 , 0.02757808, 0.02762316, 0.0273904 , 0.02814692,\n",
              "       0.0277251 , 0.02837775, 0.02732137, 0.02812369, 0.02727128])"
            ]
          },
          "metadata": {},
          "execution_count": 49
        }
      ]
    },
    {
      "cell_type": "code",
      "source": [
        "def print_scores(scores):\n",
        "    print(\"Scores : \",scores)\n",
        "    print(\"Mean : \",scores.mean())\n",
        "    print(\"Standard deviation : \",scores.std())\n",
        "print_scores(rmse_scores) "
      ],
      "metadata": {
        "colab": {
          "base_uri": "https://localhost:8080/"
        },
        "id": "o_J_8pPFdIVh",
        "outputId": "74d9dd4a-37b6-4126-f74d-f2e65abd3290"
      },
      "execution_count": null,
      "outputs": [
        {
          "output_type": "stream",
          "name": "stdout",
          "text": [
            "Scores :  [0.0275689  0.02757808 0.02762316 0.0273904  0.02814692 0.0277251\n",
            " 0.02837775 0.02732137 0.02812369 0.02727128]\n",
            "Mean :  0.027712665728230012\n",
            "Standard deviation :  0.00036035938474679566\n"
          ]
        }
      ]
    },
    {
      "cell_type": "markdown",
      "source": [
        "**Decision Tree Regressor**"
      ],
      "metadata": {
        "id": "CK4IhWzSVDXa"
      }
    },
    {
      "cell_type": "code",
      "source": [
        "from sklearn.tree import DecisionTreeRegressor\n",
        "model = DecisionTreeRegressor()\n",
        "model.fit(df_num_tr,df_labels)"
      ],
      "metadata": {
        "colab": {
          "base_uri": "https://localhost:8080/"
        },
        "id": "TwY3D3a-dIYP",
        "outputId": "d0227fb0-743b-4774-8bb6-7b4b9fb820b9"
      },
      "execution_count": null,
      "outputs": [
        {
          "output_type": "execute_result",
          "data": {
            "text/plain": [
              "DecisionTreeRegressor()"
            ]
          },
          "metadata": {},
          "execution_count": 51
        }
      ]
    },
    {
      "cell_type": "code",
      "source": [
        "some_data = df.iloc[:5]"
      ],
      "metadata": {
        "id": "eKN2rpkAdIa4"
      },
      "execution_count": null,
      "outputs": []
    },
    {
      "cell_type": "code",
      "source": [
        "some_labels = df_labels.iloc[:5]"
      ],
      "metadata": {
        "id": "sKmDS0IWdIdr"
      },
      "execution_count": null,
      "outputs": []
    },
    {
      "cell_type": "code",
      "source": [
        "prepared_data = my_pipeline.transform(some_data)"
      ],
      "metadata": {
        "id": "NI1AqdOWdIhI"
      },
      "execution_count": null,
      "outputs": []
    },
    {
      "cell_type": "code",
      "source": [
        "model.predict(prepared_data)"
      ],
      "metadata": {
        "colab": {
          "base_uri": "https://localhost:8080/"
        },
        "id": "M1Kt90c0djOI",
        "outputId": "a6b3f8a9-49b2-4127-ddd7-31ed76b9fd90"
      },
      "execution_count": null,
      "outputs": [
        {
          "output_type": "execute_result",
          "data": {
            "text/plain": [
              "array([1.59552639, 1.38043668, 1.31829304, 1.45390123, 1.41240923])"
            ]
          },
          "metadata": {},
          "execution_count": 55
        }
      ]
    },
    {
      "cell_type": "code",
      "source": [
        "some_labels"
      ],
      "metadata": {
        "colab": {
          "base_uri": "https://localhost:8080/"
        },
        "id": "EJqytOdldjRE",
        "outputId": "c7a004fe-d5cf-40d2-ed87-966cb57afed6"
      },
      "execution_count": null,
      "outputs": [
        {
          "output_type": "execute_result",
          "data": {
            "text/plain": [
              "22029    1.595526\n",
              "38170    1.380437\n",
              "44315    1.318293\n",
              "31371    1.453901\n",
              "34481    1.412409\n",
              "Name: capacity, dtype: float64"
            ]
          },
          "metadata": {},
          "execution_count": 56
        }
      ]
    },
    {
      "cell_type": "code",
      "source": [
        "list(some_labels)"
      ],
      "metadata": {
        "colab": {
          "base_uri": "https://localhost:8080/"
        },
        "id": "rOVPRTiadjT2",
        "outputId": "2ad4dd90-6852-444a-8d81-37d862f95d97"
      },
      "execution_count": null,
      "outputs": [
        {
          "output_type": "execute_result",
          "data": {
            "text/plain": [
              "[1.5955263892495937,\n",
              " 1.3804366761974138,\n",
              " 1.318293040102702,\n",
              " 1.4539012274845928,\n",
              " 1.412409228794446]"
            ]
          },
          "metadata": {},
          "execution_count": 57
        }
      ]
    },
    {
      "cell_type": "code",
      "source": [
        "model.score(df_num_tr,df_labels)"
      ],
      "metadata": {
        "colab": {
          "base_uri": "https://localhost:8080/"
        },
        "id": "Gh03A1f_6jM-",
        "outputId": "58634035-8f8f-466f-c9c9-64ab2d8bcef4"
      },
      "execution_count": null,
      "outputs": [
        {
          "output_type": "execute_result",
          "data": {
            "text/plain": [
              "1.0"
            ]
          },
          "metadata": {},
          "execution_count": 58
        }
      ]
    },
    {
      "cell_type": "code",
      "source": [
        "from sklearn.metrics import mean_squared_error\n",
        "df_predictions = model.predict(df_num_tr)\n",
        "mse = mean_squared_error(df_labels,df_predictions)\n",
        "rmse = np.sqrt(mse)\n",
        "rmse"
      ],
      "metadata": {
        "colab": {
          "base_uri": "https://localhost:8080/"
        },
        "id": "5WLqA5IjdjWn",
        "outputId": "d4c08f8a-f510-4486-de20-587729b69238"
      },
      "execution_count": null,
      "outputs": [
        {
          "output_type": "execute_result",
          "data": {
            "text/plain": [
              "4.4533359707762966e-15"
            ]
          },
          "metadata": {},
          "execution_count": 59
        }
      ]
    },
    {
      "cell_type": "code",
      "source": [
        "from sklearn.model_selection import cross_val_score\n",
        "scores = cross_val_score(model,df_num_tr,df_labels,scoring =\"neg_mean_squared_error\",cv=10)\n",
        "rmse_scores = np.sqrt(-scores)\n",
        "rmse_scores"
      ],
      "metadata": {
        "colab": {
          "base_uri": "https://localhost:8080/"
        },
        "id": "Zmx9q2kMdjZa",
        "outputId": "52db554d-8670-445f-84f8-c212ef2623a2"
      },
      "execution_count": null,
      "outputs": [
        {
          "output_type": "execute_result",
          "data": {
            "text/plain": [
              "array([3.93082922e-15, 3.89459096e-15, 3.88406329e-15, 3.94288436e-15,\n",
              "       3.92469487e-15, 3.76867069e-15, 3.75892993e-15, 3.98193577e-15,\n",
              "       3.89098947e-15, 3.76600912e-15])"
            ]
          },
          "metadata": {},
          "execution_count": 60
        }
      ]
    },
    {
      "cell_type": "code",
      "source": [
        "def print_scores(scores):\n",
        "    print(\"Scores : \",scores)\n",
        "    print(\"Mean : \",scores.mean())\n",
        "    print(\"Standard deviation : \",scores.std())\n",
        "print_scores(rmse_scores)"
      ],
      "metadata": {
        "colab": {
          "base_uri": "https://localhost:8080/"
        },
        "id": "XOR0bvrLdjcJ",
        "outputId": "31856398-6202-4832-9a3d-41efa537b77a"
      },
      "execution_count": null,
      "outputs": [
        {
          "output_type": "stream",
          "name": "stdout",
          "text": [
            "Scores :  [3.93082922e-15 3.89459096e-15 3.88406329e-15 3.94288436e-15\n",
            " 3.92469487e-15 3.76867069e-15 3.75892993e-15 3.98193577e-15\n",
            " 3.89098947e-15 3.76600912e-15]\n",
            "Mean :  3.874359768783171e-15\n",
            "Standard deviation :  7.681453885307717e-17\n"
          ]
        }
      ]
    },
    {
      "cell_type": "markdown",
      "source": [
        "**Random Forest Regressor**"
      ],
      "metadata": {
        "id": "oyEMyFqLVQRE"
      }
    },
    {
      "cell_type": "code",
      "source": [
        "from sklearn.ensemble import RandomForestRegressor\n",
        "model = RandomForestRegressor()\n",
        "model.fit(df_num_tr,df_labels)"
      ],
      "metadata": {
        "colab": {
          "base_uri": "https://localhost:8080/"
        },
        "id": "gDcjjF4qdje8",
        "outputId": "4f5ae24d-2768-4d59-ae5e-91843cf718a9"
      },
      "execution_count": null,
      "outputs": [
        {
          "output_type": "execute_result",
          "data": {
            "text/plain": [
              "RandomForestRegressor()"
            ]
          },
          "metadata": {},
          "execution_count": 62
        }
      ]
    },
    {
      "cell_type": "code",
      "source": [
        "some_data = df.iloc[:5]"
      ],
      "metadata": {
        "id": "FCqWDytgdjiU"
      },
      "execution_count": null,
      "outputs": []
    },
    {
      "cell_type": "code",
      "source": [
        "some_labels = df_labels.iloc[:5]"
      ],
      "metadata": {
        "id": "H46Na9v0djnw"
      },
      "execution_count": null,
      "outputs": []
    },
    {
      "cell_type": "code",
      "source": [
        "prepared_data = my_pipeline.transform(some_data)"
      ],
      "metadata": {
        "id": "Sa4K6cARdjzp"
      },
      "execution_count": null,
      "outputs": []
    },
    {
      "cell_type": "code",
      "source": [
        "model.predict(prepared_data)"
      ],
      "metadata": {
        "colab": {
          "base_uri": "https://localhost:8080/"
        },
        "id": "doppVEc0dj9u",
        "outputId": "48571ca8-9a16-4899-9bb4-81dd43670910"
      },
      "execution_count": null,
      "outputs": [
        {
          "output_type": "execute_result",
          "data": {
            "text/plain": [
              "array([1.59552639, 1.38043668, 1.31829304, 1.45390123, 1.41240923])"
            ]
          },
          "metadata": {},
          "execution_count": 66
        }
      ]
    },
    {
      "cell_type": "code",
      "source": [
        "some_labels"
      ],
      "metadata": {
        "colab": {
          "base_uri": "https://localhost:8080/"
        },
        "id": "hR8SumPbd_jS",
        "outputId": "8182b588-450d-402f-ee42-598ba19fcff7"
      },
      "execution_count": null,
      "outputs": [
        {
          "output_type": "execute_result",
          "data": {
            "text/plain": [
              "22029    1.595526\n",
              "38170    1.380437\n",
              "44315    1.318293\n",
              "31371    1.453901\n",
              "34481    1.412409\n",
              "Name: capacity, dtype: float64"
            ]
          },
          "metadata": {},
          "execution_count": 67
        }
      ]
    },
    {
      "cell_type": "code",
      "source": [
        "list(some_labels)"
      ],
      "metadata": {
        "colab": {
          "base_uri": "https://localhost:8080/"
        },
        "id": "ICzEmzhOd_mI",
        "outputId": "0434a475-8e2a-4913-8a83-81ad07fdc068"
      },
      "execution_count": null,
      "outputs": [
        {
          "output_type": "execute_result",
          "data": {
            "text/plain": [
              "[1.5955263892495937,\n",
              " 1.3804366761974138,\n",
              " 1.318293040102702,\n",
              " 1.4539012274845928,\n",
              " 1.412409228794446]"
            ]
          },
          "metadata": {},
          "execution_count": 68
        }
      ]
    },
    {
      "cell_type": "code",
      "source": [
        "model.score(df_num_tr,df_labels)"
      ],
      "metadata": {
        "colab": {
          "base_uri": "https://localhost:8080/"
        },
        "id": "NsaowcZx78MB",
        "outputId": "30091c75-cbb1-448f-8045-2903d6bacfc0"
      },
      "execution_count": null,
      "outputs": [
        {
          "output_type": "execute_result",
          "data": {
            "text/plain": [
              "1.0"
            ]
          },
          "metadata": {},
          "execution_count": 69
        }
      ]
    },
    {
      "cell_type": "markdown",
      "source": [
        "**Evaluating the model**"
      ],
      "metadata": {
        "id": "ESWBq2C0Uexr"
      }
    },
    {
      "cell_type": "code",
      "source": [
        "from sklearn.metrics import mean_squared_error\n",
        "df_predictions = model.predict(df_num_tr)\n",
        "mse = mean_squared_error(df_labels,df_predictions)\n",
        "rmse = np.sqrt(mse)\n",
        "rmse"
      ],
      "metadata": {
        "colab": {
          "base_uri": "https://localhost:8080/"
        },
        "id": "Pf_z8bGqd_ow",
        "outputId": "1d1045f8-0925-4e60-81ec-47e05c16400c"
      },
      "execution_count": null,
      "outputs": [
        {
          "output_type": "execute_result",
          "data": {
            "text/plain": [
              "2.769562484188572e-15"
            ]
          },
          "metadata": {},
          "execution_count": 70
        }
      ]
    },
    {
      "cell_type": "markdown",
      "source": [
        "**Using Better evaluation technique - cross validation**"
      ],
      "metadata": {
        "id": "o_GcZrydUW2y"
      }
    },
    {
      "cell_type": "code",
      "source": [
        "from sklearn.model_selection import cross_val_score\n",
        "scores = cross_val_score(model,df_num_tr,df_labels,scoring =\"neg_mean_squared_error\",cv=10)\n",
        "rmse_scores = np.sqrt(-scores)\n",
        "rmse_scores"
      ],
      "metadata": {
        "colab": {
          "base_uri": "https://localhost:8080/"
        },
        "id": "mLHq-o-dd_ri",
        "outputId": "44c694ab-b4df-4dc4-c4d7-9000329a37d1"
      },
      "execution_count": null,
      "outputs": [
        {
          "output_type": "execute_result",
          "data": {
            "text/plain": [
              "array([2.64431047e-15, 1.44791653e-06, 2.70206858e-06, 1.67190999e-06,\n",
              "       2.62486843e-15, 3.67801229e-06, 2.72463728e-15, 2.70029998e-15,\n",
              "       2.67631443e-15, 2.59210778e-15])"
            ]
          },
          "metadata": {},
          "execution_count": 71
        }
      ]
    },
    {
      "cell_type": "code",
      "source": [
        "def print_scores(scores):\n",
        "    print(\"Scores : \",scores)\n",
        "    print(\"Mean : \",scores.mean())\n",
        "    print(\"Standard deviation : \",scores.std())\n",
        "print_scores(rmse_scores) "
      ],
      "metadata": {
        "colab": {
          "base_uri": "https://localhost:8080/"
        },
        "id": "7DCdilGed_uL",
        "outputId": "b38734fe-25da-428b-a61c-4eac67d7c1b3"
      },
      "execution_count": null,
      "outputs": [
        {
          "output_type": "stream",
          "name": "stdout",
          "text": [
            "Scores :  [2.64431047e-15 1.44791653e-06 2.70206858e-06 1.67190999e-06\n",
            " 2.62486843e-15 3.67801229e-06 2.72463728e-15 2.70029998e-15\n",
            " 2.67631443e-15 2.59210778e-15]\n",
            "Mean :  9.499907405662314e-07\n",
            "Standard deviation :  1.292125002756509e-06\n"
          ]
        }
      ]
    },
    {
      "cell_type": "markdown",
      "source": [
        "**Saving the model**"
      ],
      "metadata": {
        "id": "tcEQgEl9UMJR"
      }
    },
    {
      "cell_type": "code",
      "source": [
        "from joblib import dump,load\n",
        "dump(model,\"battery_capacity.joblib\")"
      ],
      "metadata": {
        "colab": {
          "base_uri": "https://localhost:8080/"
        },
        "id": "cNemrUMAd_xO",
        "outputId": "5da45008-6253-4ac4-f1af-a82deb4d180d"
      },
      "execution_count": null,
      "outputs": [
        {
          "output_type": "execute_result",
          "data": {
            "text/plain": [
              "['battery_capacity.joblib']"
            ]
          },
          "metadata": {},
          "execution_count": 73
        }
      ]
    },
    {
      "cell_type": "markdown",
      "source": [
        "**Testing the model on test data**"
      ],
      "metadata": {
        "id": "Sgb2tZMzUCMw"
      }
    },
    {
      "cell_type": "code",
      "source": [
        "X_test = strat_test_set.drop([\"capacity\",\"datetime\"],axis=1)\n",
        "Y_test = strat_test_set[\"capacity\"].copy()\n",
        "X_test_prepared = my_pipeline.transform(X_test)\n",
        "final_predictions = model.predict(X_test_prepared)\n",
        "final_mse = mean_squared_error(Y_test,final_predictions)\n",
        "final_rmse = np.sqrt(final_mse)\n",
        "print(final_predictions,list(Y_test))\n",
        "final_rmse"
      ],
      "metadata": {
        "colab": {
          "base_uri": "https://localhost:8080/"
        },
        "id": "VCubyZHCd_0O",
        "outputId": "92876492-1f31-4750-f089-dfdde7c2e092"
      },
      "execution_count": null,
      "outputs": [
        {
          "output_type": "stream",
          "name": "stdout",
          "text": [
            "[1.45390123 1.67447416 1.35470392 ... 1.35432205 1.82511364 1.48080059] [1.4539012274845928, 1.6744741591159715, 1.354703921319241, 1.5488741079890418, 1.3647827949260758, 1.3389913790695755, 1.762668359743147, 1.3752364150256224, 1.293463613844243, 1.7730337158018288, 1.7364225056478186, 1.5488741079890418, 1.8147691941158937, 1.3647355108681518, 1.5480915247767786, 1.5015453526671363, 1.485868384561201, 1.3395306867947354, 1.8030683142834096, 1.417429032731308, 1.7003110272642588, 1.6113256603765849, 1.3340066759761655, 1.6065631397488385, 1.7364225056478186, 1.802579500826209, 1.809307963702852, 1.659013868748246, 1.3804366761974138, 1.5849430707374117, 1.8247738529891333, 1.8307038456739428, 1.4697543268466824, 1.846327249719927, 1.3134751321324272, 1.6538540573335014, 1.5594815668184234, 1.4386709371480566, 1.293463613844243, 1.5849430707374117, 1.3030329186405918, 1.773037755078937, 1.417429032731308, 1.4808005946928984, 1.5015453526671363, 1.773037755078937, 1.7517304870664143, 1.8361774213478947, 1.8470259949329195, 1.323872422244268, 1.5285252629756445, 1.8352625275821128, 1.8518025516704488, 1.5323755631868592, 1.538236598942558, 1.773037755078937, 1.5955263892495937, 1.7417172507457144, 1.7993770651972192, 1.7418496047960008, 1.3705128024895008, 1.4173547174485526, 1.3236741274998955, 1.3601216766554785, 1.6113256603765849, 1.663716375981405, 1.804077040117352, 1.7831890223273277, 1.762668359743147, 1.847417311283644, 1.663716375981405, 1.3286444309174914, 1.8137521577549052, 1.814031127508391, 1.2980735056918902, 1.391284788852726, 1.2980735056918902, 1.375392016895762, 1.4697543268466824, 1.4173547174485526, 1.7730337158018288, 1.3543220466259964, 1.3752364150256224, 1.7993770651972192, 1.6538540573335014, 1.7993770651972192, 1.3967008232726328, 1.8137521577549052, 1.4386709371480566, 1.5488741079890418, 1.433445432156979, 1.323872422244268, 1.5849430707374117, 1.480413677976106, 1.5174859938489869, 1.659013868748246, 1.318633896753293, 1.288003392619118, 1.5015453526671363, 1.3647827949260758, 1.318633896753293, 1.809307963702852, 1.522647325284378, 1.5594815668184234, 1.454146206723569, 1.3181691588445197, 1.4229203181741186, 1.7831890223273277, 1.3752364150256224, 1.527914258251028, 1.7364225056478186, 1.412578792940193, 1.8025980036306504, 1.5174859938489869, 1.485868384561201, 1.809307963702852, 1.3077959946944353, 1.814031127508391, 1.802765665167823, 1.809307963702852, 1.7730337158018288, 1.3752364150256224, 1.80210690024615, 1.3861115151535393, 1.3077959946944353, 1.5638491446744425, 1.3030329186405918, 1.454146206723569, 1.3184664436640334, 1.5169573017136326, 1.7517304870664143, 1.7360913511847138, 1.5747301747801037, 1.7678721106662054, 1.323170899227622, 1.4808005946928984, 1.802765665167823, 1.802765665167823, 1.7003110272642588, 1.8257567905665535, 1.8361774213478947, 1.809307963702852, 1.3181691588445197, 1.6378578430223698, 1.354703921319241, 1.7360913511847138, 1.825780747577624, 1.5323755631868592, 1.3546417018378962, 1.3861115151535393, 1.3033573559038203, 1.814201935767392, 1.5488741079890418, 1.3804366761974138, 1.412409228794446, 1.7263217239235826, 1.5015453526671363, 1.4012037783587623, 1.80460990458052, 1.8247738529891333, 1.605818899130659, 1.55468935359061, 1.522647325284378, 1.412409228794446, 1.3184664436640334, 1.6113256603765849, 1.318633896753293, 1.8030683142834096, 1.5955263892495937, 1.590369231400328, 1.762668359743147, 1.323872422244268, 1.8147691941158937, 1.8361774213478947, 1.4075983731469897, 1.4382550176792908, 1.7730337158018288, 1.7517304870664143, 1.3861115151535393, 1.8030683142834096, 1.3705128024895008, 1.318293040102702, 1.847417311283644, 1.3441891937970554, 1.5269528268489705, 1.6277528915533617, 1.7676172924938447, 1.7831890223273277, 1.412578792940193, 1.4752095869031632, 1.454146206723569, 1.5323755631868592, 1.3132020634442203, 1.5955263892495937, 1.5747301747801037, 1.3543220466259964, 1.354703921319241, 1.6945798601797897, 1.349314997503458, 1.293463613844243, 1.7570177850353066, 1.417429032731308, 1.7831890223273277, 1.8025980036306504, 1.3236741274998955, 1.4333958900838095, 1.8470259949329195, 1.293463613844243, 1.5323755631868592, 1.369850003583894, 1.809307963702852, 1.3034100438655642, 1.642653782130131, 1.375392016895762, 1.55468935359061, 1.8351461429226603, 1.8307038456739428, 1.6945798601797897, 1.349314997503458, 1.4752095869031632, 1.3290286565120697, 1.8518025516704488, 1.6327350407099108, 1.6849029086609286, 1.3861115151535393, 1.8257567905665535, 1.6538540573335014, 1.8199041089501269, 1.6945798601797897, 1.6538540573335014, 1.8352625275821128, 1.5174859938489869, 1.323872422244268, 1.8134404914735824, 1.809307963702852, 1.8257567905665535, 1.3601216766554785, 1.7517304870664143, 1.5169573017136326, 1.511897596014269, 1.417429032731308, 1.3395306867947354, 1.7730337158018288, 1.8199041089501269, 1.7829230484252725, 1.417429032731308, 1.846327249719927, 1.3752364150256224, 1.7673642076278957, 1.349314997503458, 1.4173547174485526, 1.773037755078937, 1.7831890223273277, 1.2980735056918902, 1.4386709371480566, 1.642653782130131, 1.318293040102702, 1.7517304870664143, 1.3862287677978349, 1.3184664436640334, 1.802765665167823, 1.433445432156979, 1.538236598942558, 1.511897596014269, 1.2980735056918902, 1.37050855662704, 1.6113256603765849, 1.804077040117352, 1.605818899130659, 1.6945798601797897, 1.406981663677643, 1.3033573559038203, 1.7003110272642588, 1.605818899130659, 1.5955263892495937, 1.802579500826209, 1.3090153642307354, 1.4333958900838095, 1.2980735056918902, 1.7570177850353066, 1.3647355108681518, 1.762315070409309, 1.814201935767392, 1.323872422244268, 1.4229203181741186, 1.6327350407099108, 1.6744741591159715, 1.4752095869031632, 1.5169573017136326, 1.3804366761974138, 1.8564874208181572, 1.3250793286429356, 1.773037755078937, 1.3647355108681518, 1.527914258251028, 1.4908444050400238, 1.8247738529891333, 1.449042163761236, 1.663716375981405, 1.7360913511847138, 1.412578792940193, 1.7468706179837907, 1.8351461429226603, 1.8199041089501269, 1.8356616600675493, 1.3395306867947354, 1.538236598942558, 1.455023751906683, 1.3034100438655642, 1.2980735056918902, 1.3647827949260758, 1.391284788852726, 1.809307963702852, 1.375392016895762, 1.42806487344776, 1.5594815668184234, 1.323170899227622, 1.8247738529891333, 1.7468706179837907, 1.5857889968242211, 1.7364225056478186, 1.288003392619118, 1.412409228794446, 1.511897596014269, 1.5638491446744425, 1.590369231400328, 1.5065638960681105, 1.5955263892495937, 1.5955263892495937, 1.6113256603765849, 1.8307038456739428, 1.3034100438655642, 1.8251136435078368, 1.706014499648521, 1.538236598942558, 1.663716375981405, 1.825581504220376, 1.2874525221379407, 1.5488741079890418, 1.6378578430223698, 1.391284788852726, 1.7730337158018288, 1.3395306867947354, 1.5857889968242211, 1.288003392619118, 1.417429032731308, 1.804077040117352, 1.55468935359061, 1.7364225056478186, 1.7360913511847138, 1.454146206723569, 1.7360913511847138, 1.3132020634442203, 1.4173547174485526, 1.323170899227622, 1.4333958900838095, 1.375392016895762, 1.6744741591159715, 1.5323755631868592, 1.3184664436640334, 1.5174859938489869, 1.80460990458052, 1.3030329186405918, 1.3034100438655642, 1.3395306867947354, 1.7517304870664143, 1.3034100438655642, 1.7158065389330133, 1.7003110272642588, 1.455023751906683, 1.4859035988304024, 1.7003110272642588, 1.3601216766554785, 1.3861115151535393, 1.847417311283644, 1.605818899130659, 1.5480915247767786, 1.3181691588445197, 1.835349194223408, 1.42806487344776, 1.511897596014269, 1.5169573017136326, 1.5747301747801037, 1.6538540573335014, 1.318633896753293, 1.3752364150256224, 1.3077959946944353, 1.6015142233917594, 1.825581504220376, 1.663716375981405, 1.3250793286429356, 1.4859035988304024, 1.3546417018378962, 1.6378578430223698, 1.7993770651972192, 1.293463613844243, 1.6945798601797897, 1.3030329186405918, 1.605818899130659, 1.7993770651972192, 1.7517304870664143, 1.4333958900838095, 1.3543220466259964, 1.480413677976106, 1.762315070409309, 1.3090153642307354, 1.8470259949329195, 1.6538540573335014, 1.3340066759761655, 1.318633896753293, 1.3286444309174914, 1.4539012274845928, 1.433445432156979, 1.8247738529891333, 1.3389145230206971, 1.3647355108681518, 1.5015453526671363, 1.3236741274998955, 1.4382550176792908, 1.3077959946944353, 1.3030329186405918, 1.7678721106662054, 1.8351461429226603, 1.80460990458052, 1.454146206723569, 1.354703921319241, 1.802579500826209, 1.825581504220376, 1.369850003583894, 1.5065638960681105, 1.3236741274998955, 1.5015453526671363, 1.3389145230206971, 1.55468935359061, 1.5323755631868592, 1.55468935359061, 1.5638491446744425, 1.7360913511847138, 1.5174859938489869, 1.7517304870664143, 1.3090153642307354, 1.480413677976106, 1.6849029086609286, 1.3184664436640334, 1.3441891937970554, 1.293463613844243, 1.55468935359061, 1.2978870806495706, 1.773037755078937, 1.7678721106662054, 1.3134751321324272, 1.3546417018378962, 1.7676172924938447, 1.5649019950937946, 1.622125485521159, 1.642653782130131, 1.6327350407099108, 1.5649019950937946, 1.8199041089501269, 1.3546417018378962, 1.3134751321324272, 1.3340066759761655, 1.8307038456739428, 1.5849430707374117, 1.7829230484252725, 1.8147691941158937, 1.7730337158018288, 1.710533351135192, 1.349314997503458, 1.3862287677978349, 1.5323755631868592, 1.762668359743147, 1.3181691588445197, 1.3286444309174914, 1.6327350407099108, 1.5849430707374117, 1.3543220466259964, 1.5015453526671363, 1.4539012274845928, 1.3752364150256224, 1.5015453526671363, 1.4386709371480566, 1.3034100438655642, 1.2874525221379407, 1.5065638960681105, 1.318633896753293, 1.3601216766554785, 1.8470259949329195, 1.7517304870664143, 1.5649019950937946, 1.7829230484252725, 1.6849029086609286, 1.7831890223273277, 1.7003110272642588, 1.8251136435078368, 1.6015142233917594, 1.5488741079890418, 1.8518025516704488, 1.4808005946928984, 1.3601216766554785, 1.4386709371480566, 1.3862287677978349, 1.2874525221379407, 1.5747301747801037, 1.5323755631868592, 1.8257567905665535, 1.417429032731308, 1.802765665167823, 1.762668359743147, 1.4075983731469897, 1.5857889968242211, 1.7158065389330133, 1.8199041089501269, 1.5955263892495937, 1.802765665167823, 1.7263217239235826, 1.417429032731308, 1.5849430707374117, 1.814201935767392, 1.3389913790695755, 1.5323755631868592, 1.5649019950937946, 1.485868384561201, 1.80210690024615, 1.3290286565120697, 1.6015142233917594, 1.7884432335370462, 1.3290286565120697, 1.3090153642307354, 1.2978870806495706, 1.3290286565120697, 1.449042163761236, 1.449042163761236, 1.2978870806495706, 1.538236598942558, 1.3034100438655642, 1.522647325284378, 1.6945798601797897, 1.7517304870664143, 1.6378578430223698, 1.7676172924938447, 1.5849430707374117, 1.293463613844243, 1.288003392619118, 1.3184664436640334, 1.6945798601797897, 1.7418496047960008, 1.8251136435078368, 1.3967008232726328, 1.3250793286429356, 1.4229203181741186, 1.3804366761974138, 1.3705128024895008, 1.3250793286429356, 1.3441891937970554, 1.3077959946944353, 1.3340066759761655, 1.412409228794446, 1.318633896753293, 1.3601216766554785, 1.6945798601797897, 1.5597659473370362, 1.7517304870664143, 1.7570177850353066, 1.4859035988304024, 1.3601216766554785, 1.804077040117352, 1.5169573017136326, 1.2874525221379407, 1.354703921319241, 1.5065638960681105, 1.293463613844243, 1.8352625275821128, 1.3705128024895008, 1.6378578430223698, 1.6744741591159715, 1.3389913790695755, 1.293463613844243, 1.3647355108681518, 1.3033573559038203, 1.3647827949260758, 1.7418496047960008, 1.3389913790695755, 1.5323755631868592, 1.8518025516704488, 1.8356616600675493, 1.5015453526671363, 1.659013868748246, 1.6015142233917594, 1.3033573559038203, 1.8564874208181572, 1.6849029086609286, 1.454146206723569, 1.412409228794446, 1.5594815668184234, 1.7417172507457144, 1.7831890223273277, 1.4333920485221476, 1.8247738529891333, 1.323872422244268, 1.3601216766554785, 1.323170899227622, 1.455023751906683, 1.773037755078937, 1.5849430707374117, 1.449042163761236, 1.7676172924938447, 1.846327249719927, 1.3181691588445197, 1.642653782130131, 1.538236598942558, 1.6744741591159715, 1.4752095869031632, 1.3250793286429356, 1.3441891937970554, 1.5169573017136326, 1.538236598942558, 1.3290286565120697, 1.3395306867947354, 1.369850003583894, 1.3395306867947354, 1.5649019950937946, 1.590369231400328, 1.6065631397488385, 1.847417311283644, 1.3286444309174914, 1.3389145230206971, 1.412578792940193, 1.4012037783587623, 1.6538540573335014, 1.4908444050400238, 1.3286444309174914, 1.6849029086609286, 1.4012037783587623, 1.8518025516704488, 1.3134751321324272, 1.412578792940193, 1.3861115151535393, 1.6378578430223698, 1.659013868748246, 1.3286444309174914, 1.55468935359061, 1.527914258251028, 1.7884432335370462, 1.323170899227622, 1.3250793286429356, 1.3546417018378962, 1.7673642076278957, 1.8199041089501269, 1.8351461429226603, 1.412409228794446, 1.824613268496936, 1.5488741079890418, 1.6744741591159715, 1.605818899130659, 1.6744741591159715, 1.3250793286429356, 1.8361774213478947, 1.825780747577624, 1.5065638960681105, 1.5857889968242211, 1.8356616600675493, 1.4960918298136696, 1.4333958900838095, 1.663716375981405, 1.3077959946944353, 1.7418496047960008, 1.642653782130131, 1.5169573017136326, 1.710533351135192, 1.5857889968242211, 1.3389145230206971, 1.8137521577549052, 1.8199041089501269, 1.2978870806495706, 1.3090153642307354, 1.4697543268466824, 1.8257567905665535, 1.455023751906683, 1.6745692479879102, 1.762668359743147, 1.80210690024615, 1.4229203181741186, 1.406981663677643, 1.706014499648521, 1.3647827949260758, 1.3134751321324272, 1.80460990458052, 1.522647325284378, 1.6015142233917594, 1.3546417018378962, 1.5323755631868592, 1.3389913790695755, 1.590369231400328, 1.663716375981405, 1.3647827949260758, 1.323872422244268, 1.7570177850353066, 1.8137521577549052, 1.825780747577624, 1.3967008232726328, 1.55468935359061, 1.7263217239235826, 1.8361774213478947, 1.5955263892495937, 1.7831890223273277, 1.6015142233917594, 1.412578792940193, 1.480413677976106, 1.433445432156979, 1.3804366761974138, 1.642653782130131, 1.6945798601797897, 1.37050855662704, 1.6538540573335014, 1.5065638960681105, 1.4960918298136696, 1.480413677976106, 1.480413677976106, 1.5480915247767786, 1.5597659473370362, 1.3967008232726328, 1.3967008232726328, 1.449042163761236, 1.5480915247767786, 1.3601216766554785, 1.3132020634442203, 1.5269528268489705, 1.8356616600675493, 1.659013868748246, 1.2978870806495706, 1.4752095869031632, 1.5480915247767786, 1.3705128024895008, 1.318633896753293, 1.3862287677978349, 1.4697543268466824, 1.804077040117352, 1.391284788852726, 1.5174859938489869, 1.8137521577549052, 1.7936240148573608, 1.3030329186405918, 1.8351461429226603, 1.3601216766554785, 1.4752095869031632, 1.4752095869031632, 1.802579500826209, 1.710533351135192, 1.6277528915533617, 1.7364225056478186, 1.4229203181741186, 1.3090153642307354, 1.6744741591159715, 1.3236741274998955, 1.3546417018378962, 1.5649019950937946, 1.6277528915533617, 1.454146206723569, 1.3752364150256224, 1.8361774213478947, 1.7468706179837907, 1.6065631397488385, 1.6065631397488385, 1.485868384561201, 1.7831890223273277, 1.80460990458052, 1.659013868748246, 1.7884432335370462, 1.835349194223408, 1.5857889968242211, 1.454146206723569, 1.3862287677978349, 1.5488741079890418, 1.3184664436640334, 1.4382550176792908, 1.480413677976106, 1.5174859938489869, 1.7936240148573608, 1.4075983731469897, 1.813969388710352, 1.8470259949329195, 1.706014499648521, 1.511897596014269, 1.3181691588445197, 1.6113256603765849, 1.5285252629756445, 1.7360913511847138, 1.3236741274998955, 1.3236741274998955, 1.3033573559038203, 1.3389913790695755, 1.3077959946944353, 1.5857889968242211, 1.2980735056918902, 1.3290286565120697, 1.6113256603765849, 1.4908444050400238, 1.6015142233917594, 1.3752364150256224, 1.3389913790695755, 1.2978870806495706, 1.8564874208181572, 1.2874525221379407, 1.4075983731469897, 1.846327249719927, 1.3441891937970554, 1.3132020634442203, 1.4859035988304024, 1.2874525221379407, 1.3862287677978349, 1.412409228794446, 1.6277528915533617, 1.814201935767392, 1.3647355108681518, 1.6744741591159715, 1.7936240148573608, 1.4697543268466824, 1.5323755631868592, 1.293463613844243, 1.4859035988304024, 1.3546417018378962, 1.7570177850353066, 1.7263217239235826, 1.8564874208181572, 1.8030683142834096, 1.5488741079890418, 1.5747301747801037, 1.7417172507457144, 1.802777624719604, 1.847417311283644, 1.8470259949329195, 1.7993770651972192, 1.37050855662704, 1.288003392619118, 1.5594815668184234, 1.5269528268489705, 1.802579500826209, 1.318633896753293, 1.37050855662704, 1.804077040117352, 1.7829230484252725, 1.7936240148573608, 1.538236598942558, 1.5649019950937946, 1.773037755078937, 1.318293040102702, 1.4333958900838095, 1.3389145230206971, 1.659013868748246, 1.480413677976106, 1.433445432156979, 1.7829230484252725, 1.7158065389330133, 1.3804366761974138, 1.3705128024895008, 1.538236598942558, 1.7417172507457144, 1.7993770651972192, 1.7417172507457144, 1.417429032731308, 1.7993770651972192, 1.663716375981405, 1.3752364150256224, 1.485868384561201, 1.4173547174485526, 1.6745692479879102, 1.706014499648521, 1.485868384561201, 1.406981663677643, 1.8134404914735824, 1.7364225056478186, 1.5480915247767786, 1.4859035988304024, 1.2980735056918902, 1.5065638960681105, 1.824613268496936, 1.3250793286429356, 1.7884432335370462, 1.3033573559038203, 1.762668359743147, 1.7158065389330133, 1.3441891937970554, 1.3804366761974138, 1.454146206723569, 1.3132020634442203, 1.6745692479879102, 1.835349194223408, 1.5323755631868592, 1.3184664436640334, 1.4386709371480566, 1.3290286565120697, 1.3804366761974138, 1.449042163761236, 1.4908444050400238, 1.5594815668184234, 1.3030329186405918, 1.3804366761974138, 1.8346455082120416, 1.6849029086609286, 1.2978870806495706, 1.323170899227622, 1.5174859938489869, 1.3132020634442203, 1.7673642076278957, 1.4382550176792908, 1.7678721106662054, 1.3340066759761655, 1.480413677976106, 1.605818899130659, 1.318293040102702, 1.3752364150256224, 1.8307038456739428, 1.3236741274998955, 1.4808005946928984, 1.6538540573335014, 1.511897596014269, 1.8518025516704488, 1.3752364150256224, 1.522647325284378, 1.809307963702852, 1.3647355108681518, 1.7993770651972192, 1.6538540573335014, 1.7263217239235826, 1.6327350407099108, 1.8307038456739428, 1.762315070409309, 1.449042163761236, 1.37050855662704, 1.455023751906683, 1.3441891937970554, 1.55468935359061, 1.7263217239235826, 1.7517304870664143, 1.762668359743147, 1.323170899227622, 1.8137521577549052, 1.417429032731308, 1.7673642076278957, 1.8346455082120416, 1.3967008232726328, 1.3340066759761655, 1.2874525221379407, 1.8030683142834096, 1.3546417018378962, 1.5480915247767786, 1.3441891937970554, 1.8307038456739428, 1.7829230484252725, 1.7993770651972192, 1.3286444309174914, 1.7570177850353066, 1.6744741591159715, 1.622125485521159, 1.605818899130659, 1.802777624719604, 1.293463613844243, 1.8470259949329195, 1.3033573559038203, 1.706014499648521, 1.6538540573335014, 1.7829230484252725, 1.3543220466259964, 1.3389145230206971, 1.846327249719927, 1.642653782130131, 1.318633896753293, 1.538236598942558, 1.3647355108681518, 1.824613268496936, 1.2978870806495706, 1.642653782130131, 1.3543220466259964, 1.3395306867947354, 1.3286444309174914, 1.80460990458052, 1.527914258251028, 1.809307963702852, 1.3090153642307354, 1.809307963702852, 1.3389145230206971, 1.824613268496936, 1.6945798601797897, 1.7678721106662054, 1.7570177850353066, 1.762668359743147, 1.3090153642307354, 1.4697543268466824, 1.7678721106662054, 1.7936240148573608, 1.6015142233917594, 1.8134404914735824, 1.412409228794446, 1.318293040102702, 1.4752095869031632, 1.318293040102702, 1.8251136435078368, 1.3236741274998955, 1.4960918298136696, 1.3132020634442203, 1.3647827949260758, 1.3647355108681518, 1.659013868748246, 1.293463613844243, 1.4333920485221476, 1.454146206723569, 1.3441891937970554, 1.3647827949260758, 1.5857889968242211, 1.7158065389330133, 1.3647355108681518, 1.42806487344776, 1.706014499648521, 1.454146206723569, 1.7263217239235826, 1.5065638960681105, 1.8307038456739428, 1.7831890223273277, 1.6538540573335014, 1.4075983731469897, 1.369850003583894, 1.2978870806495706, 1.8518025516704488, 1.522647325284378, 1.4386709371480566, 1.7417172507457144, 1.3967008232726328, 1.455023751906683, 1.5065638960681105, 1.3752364150256224, 1.3862287677978349, 1.3705128024895008, 1.354703921319241, 1.485868384561201, 1.480413677976106, 1.814201935767392, 1.318633896753293, 1.5065638960681105, 1.4960918298136696, 1.6065631397488385, 1.3077959946944353, 1.3034100438655642, 1.3647355108681518, 1.5480915247767786, 1.369850003583894, 1.5269528268489705, 1.318633896753293, 1.3441891937970554, 1.3804366761974138, 1.762668359743147, 1.7417172507457144, 1.3286444309174914, 1.6327350407099108, 1.5597659473370362, 1.825780747577624, 1.288003392619118, 1.3705128024895008, 1.4386709371480566, 1.449042163761236, 1.846327249719927, 1.3030329186405918, 1.3441891937970554, 1.8564874208181572, 1.6538540573335014, 1.3546417018378962, 1.5857889968242211, 1.3033573559038203, 1.4382550176792908, 1.8257567905665535, 1.3862287677978349, 1.762668359743147, 1.8199041089501269, 1.5747301747801037, 1.412409228794446, 1.369850003583894, 1.642653782130131, 1.7678721106662054, 1.5015453526671363, 1.8470259949329195, 1.590369231400328, 1.412409228794446, 1.8307038456739428, 1.80210690024615, 1.2980735056918902, 1.293463613844243, 1.762315070409309, 1.5015453526671363, 1.3543220466259964, 1.3861115151535393, 1.538236598942558, 1.6538540573335014, 1.3804366761974138, 1.7364225056478186, 1.2980735056918902, 1.4697543268466824, 1.3804366761974138, 1.6327350407099108, 1.7936240148573608, 1.773037755078937, 1.7360913511847138, 1.7676172924938447, 1.3134751321324272, 1.6538540573335014, 1.825581504220376, 1.4752095869031632, 1.7417172507457144, 1.804077040117352, 1.809307963702852, 1.3250793286429356, 1.5285252629756445, 1.5169573017136326, 1.6277528915533617, 1.8356616600675493, 1.8361774213478947, 1.5849430707374117, 1.7263217239235826, 1.412578792940193, 1.354703921319241, 1.6015142233917594, 1.354703921319241, 1.4173547174485526, 1.42806487344776, 1.659013868748246, 1.485868384561201, 1.590369231400328, 1.480413677976106, 1.4697543268466824, 1.2978870806495706, 1.825581504220376, 1.7517304870664143, 1.3077959946944353, 1.7364225056478186, 1.7360913511847138, 1.7158065389330133, 1.391284788852726, 1.391284788852726, 1.5638491446744425, 1.3752364150256224, 1.5065638960681105, 1.7263217239235826, 1.3181691588445197, 1.3389145230206971, 1.5594815668184234, 1.5285252629756445, 1.7993770651972192, 1.663716375981405, 1.5488741079890418, 1.825780747577624, 1.354703921319241, 1.5488741079890418, 1.6538540573335014, 1.825581504220376, 1.369850003583894, 1.809307963702852, 1.8199041089501269, 1.4908444050400238, 1.4229203181741186, 1.7678721106662054, 1.814201935767392, 1.5857889968242211, 1.3290286565120697, 1.8351461429226603, 1.5747301747801037, 1.5174859938489869, 1.6065631397488385, 1.417429032731308, 1.6945798601797897, 1.6745692479879102, 1.3862287677978349, 1.288003392619118, 1.7360913511847138, 1.4229203181741186, 1.659013868748246, 1.7884432335370462, 1.3647827949260758, 1.480413677976106, 1.354703921319241, 1.8147691941158937, 1.7570177850353066, 1.8247738529891333, 1.4859035988304024, 1.6378578430223698, 1.5594815668184234, 1.7829230484252725, 1.391284788852726, 1.80460990458052, 1.773037755078937, 1.6113256603765849, 1.3090153642307354, 1.7831890223273277, 1.8030683142834096, 1.4539012274845928, 1.391284788852726, 1.7829230484252725, 1.3546417018378962, 1.3441891937970554, 1.4908444050400238, 1.55468935359061, 1.8356616600675493, 1.3441891937970554, 1.80460990458052, 1.7993770651972192, 1.7418496047960008, 1.4908444050400238, 1.80460990458052, 1.3290286565120697, 1.3862287677978349, 1.318633896753293, 1.7829230484252725, 1.80460990458052, 1.349314997503458, 1.4908444050400238, 1.4075983731469897, 1.5174859938489869, 1.3389913790695755, 1.2980735056918902, 1.7364225056478186, 1.323872422244268, 1.5849430707374117, 1.7829230484252725, 1.802579500826209, 1.80210690024615, 1.8251136435078368, 1.642653782130131, 1.323170899227622, 1.7517304870664143, 1.3389913790695755, 1.2978870806495706, 1.318293040102702, 1.3395306867947354, 1.5747301747801037, 1.663716375981405, 1.7673642076278957, 1.527914258251028, 1.4075983731469897, 1.8518025516704488, 1.3340066759761655, 1.642653782130131, 1.323872422244268, 1.3090153642307354, 1.5285252629756445, 1.7517304870664143, 1.318633896753293, 1.3546417018378962, 1.762315070409309, 1.80460990458052, 1.7364225056478186, 1.835349194223408, 1.7360913511847138, 1.4960918298136696, 1.412409228794446, 1.37050855662704, 1.5285252629756445, 1.391284788852726, 1.3181691588445197, 1.3389913790695755, 1.293463613844243, 1.288003392619118, 1.5269528268489705, 1.6113256603765849, 1.6113256603765849, 1.622125485521159, 1.3034100438655642, 1.7936240148573608, 1.2874525221379407, 1.6113256603765849, 1.7468706179837907, 1.3034100438655642, 1.8134404914735824, 1.7468706179837907, 1.3181691588445197, 1.4859035988304024, 1.659013868748246, 1.663716375981405, 1.4697543268466824, 1.527914258251028, 1.7003110272642588, 1.3861115151535393, 1.706014499648521, 1.522647325284378, 1.4808005946928984, 1.412409228794446, 1.7829230484252725, 1.4697543268466824, 1.5285252629756445, 1.318293040102702, 1.5649019950937946, 1.3090153642307354, 1.323170899227622, 1.7570177850353066, 1.7468706179837907, 1.4808005946928984, 1.5638491446744425, 1.809307963702852, 1.642653782130131, 1.7831890223273277, 1.7517304870664143, 1.7364225056478186, 1.7678721106662054, 1.8257567905665535, 1.5269528268489705, 1.4697543268466824, 1.412578792940193, 1.8251136435078368, 1.6745692479879102, 1.835349194223408, 1.5649019950937946, 1.3033573559038203, 1.846327249719927, 1.6744741591159715, 1.3030329186405918, 1.802579500826209, 1.3236741274998955, 1.3340066759761655, 1.5174859938489869, 1.37050855662704, 1.7673642076278957, 1.3546417018378962, 1.3804366761974138, 1.5480915247767786, 1.8137521577549052, 1.391284788852726, 1.538236598942558, 1.5269528268489705, 1.5594815668184234, 1.762315070409309, 1.590369231400328, 1.3601216766554785, 1.522647325284378, 1.375392016895762, 1.375392016895762, 1.4173547174485526, 1.5065638960681105, 1.4808005946928984, 1.3862287677978349, 1.5269528268489705, 1.5638491446744425, 1.4752095869031632, 1.3181691588445197, 1.825581504220376, 1.3601216766554785, 1.6113256603765849, 1.4960918298136696, 1.5323755631868592, 1.3034100438655642, 1.4908444050400238, 1.4382550176792908, 1.802579500826209, 1.4075983731469897, 1.8564874208181572, 1.5597659473370362, 1.835349194223408, 1.6277528915533617, 1.7158065389330133, 1.7993770651972192, 1.4752095869031632, 1.323170899227622, 1.3705128024895008, 1.4752095869031632, 1.455023751906683, 1.406981663677643, 1.3034100438655642, 1.3077959946944353, 1.605818899130659, 1.8025980036306504, 1.5065638960681105, 1.762668359743147, 1.4808005946928984, 1.42806487344776, 1.3033573559038203, 1.3181691588445197, 1.8352625275821128, 1.7678721106662054, 1.809307963702852, 1.835349194223408, 1.802777624719604, 1.7678721106662054, 1.455023751906683, 1.7829230484252725, 1.3647355108681518, 1.663716375981405, 1.7831890223273277, 1.5065638960681105, 1.825581504220376, 1.6327350407099108, 1.3077959946944353, 1.3861115151535393, 1.2980735056918902, 1.7831890223273277, 1.3236741274998955, 1.5480915247767786, 1.7884432335370462, 1.511897596014269, 1.4960918298136696, 1.412578792940193, 1.7730337158018288, 1.3236741274998955, 1.3861115151535393, 1.3647355108681518, 1.5638491446744425, 1.4697543268466824, 1.4859035988304024, 1.3340066759761655, 1.7418496047960008, 1.762668359743147, 1.8518025516704488, 1.5594815668184234, 1.417429032731308, 1.7417172507457144, 1.7673642076278957, 1.527914258251028, 1.622125485521159, 1.8564874208181572, 1.3861115151535393, 1.7676172924938447, 1.4752095869031632, 1.3033573559038203, 1.8470259949329195, 1.3546417018378962, 1.802765665167823, 1.4075983731469897, 1.659013868748246, 1.6015142233917594, 1.804077040117352, 1.7730337158018288, 1.80210690024615, 1.6849029086609286, 1.7730337158018288, 1.5323755631868592, 1.3340066759761655, 1.511897596014269, 1.3601216766554785, 1.3389913790695755, 1.3286444309174914, 1.412409228794446, 1.5649019950937946, 1.6015142233917594, 1.5323755631868592, 1.6745692479879102, 1.4908444050400238, 1.3389145230206971, 1.3134751321324272, 1.7417172507457144, 1.605818899130659, 1.7831890223273277, 1.449042163761236, 1.3030329186405918, 1.4012037783587623, 1.7418496047960008, 1.3601216766554785, 1.8134404914735824, 1.7517304870664143, 1.4173547174485526, 1.8257567905665535, 1.5285252629756445, 1.3647827949260758, 1.7360913511847138, 1.3090153642307354, 1.3862287677978349, 1.762315070409309, 1.7468706179837907, 1.773037755078937, 1.369850003583894, 1.8356616600675493, 1.375392016895762, 1.3184664436640334, 1.349314997503458, 1.6378578430223698, 1.455023751906683, 1.3090153642307354, 1.3967008232726328, 1.7831890223273277, 1.3861115151535393, 1.433445432156979, 1.6015142233917594, 1.6113256603765849, 1.7831890223273277, 1.7417172507457144, 1.7678721106662054, 1.5015453526671363, 1.6065631397488385, 1.7673642076278957, 1.3804366761974138, 1.3389145230206971, 1.6015142233917594, 1.3290286565120697, 1.5638491446744425, 1.375392016895762, 1.8518025516704488, 1.5955263892495937, 1.8199041089501269, 1.813969388710352, 1.8564874208181572, 1.293463613844243, 1.3034100438655642, 1.6113256603765849, 1.6945798601797897, 1.802777624719604, 1.3752364150256224, 1.6113256603765849, 1.3034100438655642, 1.7936240148573608, 1.7831890223273277, 1.391284788852726, 1.3395306867947354, 1.369850003583894, 1.8199041089501269, 1.7364225056478186, 1.8134404914735824, 1.480413677976106, 1.80460990458052, 1.417429032731308, 1.3389145230206971, 1.5638491446744425, 1.5649019950937946, 1.3181691588445197, 1.3286444309174914, 1.7678721106662054, 1.590369231400328, 1.706014499648521, 1.4908444050400238, 1.7936240148573608, 1.7360913511847138, 1.5285252629756445, 1.706014499648521, 1.8137521577549052, 1.5594815668184234, 1.5955263892495937, 1.538236598942558, 1.3546417018378962, 1.417429032731308, 1.4859035988304024, 1.4539012274845928, 1.8251136435078368, 1.527914258251028, 1.8257567905665535, 1.590369231400328, 1.8257567905665535, 1.4752095869031632, 1.406981663677643, 1.773037755078937, 1.6945798601797897, 1.3132020634442203, 1.835349194223408, 1.7676172924938447, 1.3286444309174914, 1.622125485521159, 1.6065631397488385, 1.3441891937970554, 1.8307038456739428, 1.433445432156979, 1.4012037783587623, 1.5747301747801037, 1.354703921319241, 1.4333958900838095, 1.3601216766554785, 1.3647827949260758, 1.3290286565120697, 1.773037755078937, 1.3389913790695755, 1.6849029086609286, 1.3250793286429356, 1.6945798601797897, 1.80460990458052, 1.622125485521159, 1.804077040117352, 1.6327350407099108, 1.433445432156979, 1.8518025516704488, 1.5174859938489869, 1.511897596014269, 1.7936240148573608, 1.3967008232726328, 1.7570177850353066, 1.5649019950937946, 1.2978870806495706, 1.7676172924938447, 1.3546417018378962, 1.773037755078937, 1.3862287677978349, 1.4697543268466824, 1.7993770651972192, 1.5638491446744425, 1.412578792940193, 1.454146206723569, 1.4333920485221476, 1.8025980036306504, 1.8346455082120416, 1.4960918298136696, 1.42806487344776, 1.8247738529891333, 1.814031127508391, 1.5747301747801037, 1.814031127508391, 1.5480915247767786, 1.3647355108681518, 1.7678721106662054, 1.485868384561201, 1.7993770651972192, 1.5323755631868592, 1.522647325284378, 1.804077040117352, 1.349314997503458, 1.8025980036306504, 1.7884432335370462, 1.4539012274845928, 1.4808005946928984, 1.5857889968242211, 1.7360913511847138, 1.4908444050400238, 1.3861115151535393, 1.5597659473370362, 1.511897596014269, 1.7570177850353066, 1.5594815668184234, 1.7676172924938447, 1.659013868748246, 1.802579500826209, 1.433445432156979, 1.6113256603765849, 1.8352625275821128, 1.511897596014269, 1.7360913511847138, 1.773037755078937, 1.6065631397488385, 1.4960918298136696, 1.433445432156979, 1.847417311283644, 1.659013868748246, 1.480413677976106, 1.6327350407099108, 1.835349194223408, 1.7360913511847138, 1.511897596014269, 1.8346455082120416, 1.3250793286429356, 1.5747301747801037, 1.511897596014269, 1.809307963702852, 1.7418496047960008, 1.3184664436640334, 1.846327249719927, 1.6378578430223698, 1.5065638960681105, 1.3441891937970554, 1.5488741079890418, 1.3340066759761655, 1.7993770651972192, 1.8134404914735824, 1.3861115151535393, 1.3705128024895008, 1.293463613844243, 1.3441891937970554, 1.5480915247767786, 1.3077959946944353, 1.323170899227622, 1.8134404914735824, 1.8352625275821128, 1.318293040102702, 1.3395306867947354, 1.8346455082120416, 1.7936240148573608, 1.590369231400328, 1.5169573017136326, 1.6277528915533617, 1.323872422244268, 1.293463613844243, 1.3077959946944353, 1.391284788852726, 1.4382550176792908, 1.3340066759761655, 1.590369231400328, 1.8137521577549052, 1.375392016895762, 1.6015142233917594, 1.8147691941158937, 1.4908444050400238, 1.7517304870664143, 1.814031127508391, 1.3034100438655642, 1.6744741591159715, 1.809307963702852, 1.349314997503458, 1.8518025516704488, 1.4382550176792908, 1.804077040117352, 1.7884432335370462, 1.7517304870664143, 1.7364225056478186, 1.6113256603765849, 1.4012037783587623, 1.3340066759761655, 1.288003392619118, 1.5285252629756445, 1.3034100438655642, 1.8246195526864504, 1.6327350407099108, 1.5849430707374117, 1.590369231400328, 1.8137521577549052, 1.5285252629756445, 1.7468706179837907, 1.5269528268489705, 1.3705128024895008, 1.8346455082120416, 1.538236598942558, 1.8030683142834096, 1.3752364150256224, 1.7884432335370462, 1.663716375981405, 1.8356616600675493, 1.454146206723569, 1.4382550176792908, 1.3967008232726328, 1.6378578430223698, 1.449042163761236, 1.3862287677978349, 1.4386709371480566, 1.318293040102702, 1.7263217239235826, 1.5285252629756445, 1.5597659473370362, 1.7003110272642588, 1.323872422244268, 1.3862287677978349, 1.449042163761236, 1.5015453526671363, 1.3134751321324272, 1.8251136435078368, 1.449042163761236, 1.5857889968242211, 1.293463613844243, 1.5323755631868592, 1.2874525221379407, 1.4908444050400238, 1.8247738529891333, 1.814201935767392, 1.6113256603765849, 1.3804366761974138, 1.802765665167823, 1.417429032731308, 1.6744741591159715, 1.4808005946928984, 1.8246195526864504, 1.3543220466259964, 1.3862287677978349, 1.3236741274998955, 1.354703921319241, 1.3543220466259964, 1.6277528915533617, 1.4539012274845928, 1.3077959946944353, 1.7570177850353066, 1.5169573017136326, 1.3033573559038203, 1.7936240148573608, 1.8307038456739428, 1.846327249719927, 1.391284788852726, 1.809307963702852, 1.5174859938489869, 1.5849430707374117, 1.4333920485221476, 1.7158065389330133, 1.323170899227622, 1.7676172924938447, 1.454146206723569, 1.7831890223273277, 1.412578792940193, 1.80210690024615, 1.4908444050400238, 1.804077040117352, 1.8307038456739428, 1.7936240148573608, 1.406981663677643, 1.6277528915533617, 1.3132020634442203, 1.5174859938489869, 1.3184664436640334, 1.3389145230206971, 1.4012037783587623, 1.5174859938489869, 1.375392016895762, 1.5285252629756445, 1.4382550176792908, 1.659013868748246, 1.814201935767392, 1.6945798601797897, 1.3861115151535393, 1.4333958900838095, 1.6277528915533617, 1.8361774213478947, 1.622125485521159, 1.7993770651972192, 1.375392016895762, 1.7417172507457144, 1.4229203181741186, 1.6065631397488385, 1.809307963702852, 1.7360913511847138, 1.391284788852726, 1.37050855662704, 1.485868384561201, 1.4333958900838095, 1.3389913790695755, 1.7730337158018288, 1.3389145230206971, 1.8030683142834096, 1.5285252629756445, 1.3543220466259964, 1.3181691588445197, 1.6277528915533617, 1.7263217239235826, 1.3034100438655642, 1.8199041089501269, 1.5488741079890418, 1.369850003583894, 1.5269528268489705, 1.323170899227622, 1.5323755631868592, 1.5649019950937946, 1.642653782130131, 1.5849430707374117, 1.318293040102702, 1.4386709371480566, 1.480413677976106, 1.8361774213478947, 1.5649019950937946, 1.642653782130131, 1.663716375981405, 1.4075983731469897, 1.6744741591159715, 1.3340066759761655, 1.5747301747801037, 1.2978870806495706, 1.3340066759761655, 1.5857889968242211, 1.412578792940193, 1.5065638960681105, 1.3804366761974138, 1.4908444050400238, 1.3132020634442203, 1.3647355108681518, 1.293463613844243, 1.3804366761974138, 1.8352625275821128, 1.773037755078937, 1.773037755078937, 1.7673642076278957, 1.8199041089501269, 1.590369231400328, 1.4808005946928984, 1.6745692479879102, 1.5955263892495937, 1.814031127508391, 1.659013868748246, 1.511897596014269, 1.4859035988304024, 1.4333958900838095, 1.5480915247767786, 1.814201935767392, 1.3967008232726328, 1.5065638960681105, 1.846327249719927, 1.6065631397488385, 1.7829230484252725, 1.2874525221379407, 1.7730337158018288, 1.3030329186405918, 1.825780747577624, 1.7673642076278957, 1.323872422244268, 1.8199041089501269, 1.3647355108681518, 1.4012037783587623, 1.323872422244268, 1.42806487344776, 1.809307963702852, 1.3705128024895008, 1.7831890223273277, 1.3601216766554785, 1.3134751321324272, 1.4808005946928984, 1.802579500826209, 1.3705128024895008, 1.4229203181741186, 1.5597659473370362, 1.3647827949260758, 1.7829230484252725, 1.835349194223408, 1.8199041089501269, 1.622125485521159, 1.846327249719927, 1.55468935359061, 1.3134751321324272, 1.814201935767392, 1.8470259949329195, 1.7003110272642588, 1.7364225056478186, 1.5597659473370362, 1.3861115151535393, 1.762315070409309, 1.710533351135192, 1.3601216766554785, 1.449042163761236, 1.3441891937970554, 1.8307038456739428, 1.7673642076278957, 1.846327249719927, 1.3184664436640334, 1.3077959946944353, 1.3395306867947354, 1.5480915247767786, 1.349314997503458, 1.8307038456739428, 1.412578792940193, 1.6277528915533617, 1.804077040117352, 1.4386709371480566, 1.642653782130131, 1.55468935359061, 1.349314997503458, 1.5169573017136326, 1.4333958900838095, 1.3804366761974138, 1.802579500826209, 1.8147691941158937, 1.4382550176792908, 1.511897596014269, 1.80460990458052, 1.7360913511847138, 1.4333958900838095, 1.55468935359061, 1.7003110272642588, 1.4382550176792908, 1.3389145230206971, 1.5269528268489705, 1.622125485521159, 1.814201935767392, 1.527914258251028, 1.3647355108681518, 1.7517304870664143, 1.5747301747801037, 1.8147691941158937, 1.8030683142834096, 1.7678721106662054, 1.3250793286429356, 1.590369231400328, 1.37050855662704, 1.4752095869031632, 1.3862287677978349, 1.538236598942558, 1.2874525221379407, 1.824613268496936, 1.4752095869031632, 1.3134751321324272, 1.406981663677643, 1.7730337158018288, 1.3090153642307354, 1.835349194223408, 1.3236741274998955, 1.7831890223273277, 1.3543220466259964, 1.2980735056918902, 1.8251136435078368, 1.824613268496936, 1.4012037783587623, 1.6113256603765849, 1.8251136435078368, 1.3546417018378962, 1.3236741274998955, 1.7003110272642588, 1.825581504220376, 1.3236741274998955, 1.8470259949329195, 1.3752364150256224, 1.773037755078937, 1.480413677976106, 1.3236741274998955, 1.412578792940193, 1.3862287677978349, 1.8351461429226603, 1.288003392619118, 1.3441891937970554, 1.622125485521159, 1.6849029086609286, 1.814031127508391, 1.369850003583894, 1.605818899130659, 1.6945798601797897, 1.8518025516704488, 1.288003392619118, 1.3033573559038203, 1.605818899130659, 1.3543220466259964, 1.5065638960681105, 1.7730337158018288, 1.527914258251028, 1.323872422244268, 1.6065631397488385, 1.7418496047960008, 1.7360913511847138, 1.522647325284378, 1.318293040102702, 1.391284788852726, 1.4808005946928984, 1.6277528915533617, 1.5488741079890418, 1.318293040102702, 1.8361774213478947, 1.288003392619118, 1.8199041089501269, 1.814031127508391, 1.762315070409309, 1.2978870806495706, 1.323872422244268, 1.4229203181741186, 1.4539012274845928, 1.7831890223273277, 1.710533351135192, 1.5065638960681105, 1.369850003583894, 1.3340066759761655, 1.3967008232726328, 1.5649019950937946, 1.5174859938489869, 1.642653782130131, 1.7993770651972192, 1.4012037783587623, 1.42806487344776, 1.5594815668184234, 1.2980735056918902, 1.3546417018378962, 1.8257567905665535, 1.3077959946944353, 1.3862287677978349, 1.7673642076278957, 1.406981663677643, 1.55468935359061, 1.4382550176792908, 1.7364225056478186, 1.4808005946928984, 1.511897596014269, 1.4859035988304024, 1.318633896753293, 1.659013868748246, 1.3134751321324272, 1.5594815668184234, 1.369850003583894, 1.323872422244268, 1.7570177850353066, 1.6277528915533617, 1.3181691588445197, 1.485868384561201, 1.825780747577624, 1.7673642076278957, 1.412409228794446, 1.3030329186405918, 1.7831890223273277, 1.369850003583894, 1.5955263892495937, 1.846327249719927, 1.3077959946944353, 1.4333920485221476, 1.354703921319241, 1.706014499648521, 1.7517304870664143, 1.8352625275821128, 1.3862287677978349, 1.8518025516704488, 1.8147691941158937, 1.6538540573335014, 1.5169573017136326, 1.5857889968242211, 1.3752364150256224, 1.773037755078937, 1.706014499648521, 1.762315070409309, 1.5747301747801037, 1.8025980036306504, 1.417429032731308, 1.538236598942558, 1.375392016895762, 1.4752095869031632, 1.5955263892495937, 1.4382550176792908, 1.323170899227622, 1.293463613844243, 1.417429032731308, 1.809307963702852, 1.3389145230206971, 1.3752364150256224, 1.8307038456739428, 1.80460990458052, 1.6113256603765849, 1.7418496047960008, 1.5488741079890418, 1.3441891937970554, 1.813969388710352, 1.3033573559038203, 1.802765665167823, 1.825581504220376, 1.7517304870664143, 1.3132020634442203, 1.288003392619118, 1.3546417018378962, 1.3181691588445197, 1.5849430707374117, 1.5594815668184234, 1.406981663677643, 1.4697543268466824, 1.7829230484252725, 1.3033573559038203, 1.349314997503458, 1.4908444050400238, 1.3647827949260758, 1.8356616600675493, 1.6113256603765849, 1.455023751906683, 1.4012037783587623, 1.412578792940193, 1.3181691588445197, 1.7158065389330133, 1.4908444050400238, 1.323872422244268, 1.3389913790695755, 1.412409228794446, 1.7158065389330133, 1.8199041089501269, 1.773037755078937, 1.8147691941158937, 1.605818899130659, 1.8307038456739428, 1.8025980036306504, 1.455023751906683, 1.7418496047960008, 1.5015453526671363, 1.5857889968242211, 1.4229203181741186, 1.538236598942558, 1.7936240148573608, 1.7673642076278957, 1.480413677976106, 1.5849430707374117, 1.3181691588445197, 1.6277528915533617, 1.5955263892495937, 1.809307963702852, 1.4752095869031632, 1.3132020634442203, 1.80210690024615, 1.8147691941158937, 1.4173547174485526, 1.3647355108681518, 1.4386709371480566, 1.3340066759761655, 1.3236741274998955, 1.8199041089501269, 1.485868384561201, 1.3184664436640334, 1.3033573559038203, 1.4539012274845928, 1.4960918298136696, 1.527914258251028, 1.5480915247767786, 1.6113256603765849, 1.773037755078937, 1.663716375981405, 1.3181691588445197, 1.3647355108681518, 1.8518025516704488, 1.809307963702852, 1.8199041089501269, 1.2978870806495706, 1.417429032731308, 1.7673642076278957, 1.7158065389330133, 1.7936240148573608, 1.3705128024895008, 1.3543220466259964, 1.7517304870664143, 1.511897596014269, 1.412578792940193, 1.642653782130131, 1.4808005946928984, 1.7829230484252725, 1.4173547174485526, 1.4075983731469897, 1.3184664436640334, 1.412409228794446, 1.8307038456739428, 1.80460990458052, 1.5015453526671363, 1.7936240148573608, 1.375392016895762, 1.3236741274998955, 1.3286444309174914, 1.3967008232726328, 1.3090153642307354, 1.6277528915533617, 1.4382550176792908, 1.706014499648521, 1.5849430707374117, 1.4808005946928984, 1.323872422244268, 1.8307038456739428, 1.4333958900838095, 1.6015142233917594, 1.5597659473370362, 1.7360913511847138, 1.406981663677643, 1.7936240148573608, 1.7517304870664143, 1.622125485521159, 1.814031127508391, 1.605818899130659, 1.814031127508391, 1.5849430707374117, 1.8307038456739428, 1.8025980036306504, 1.3134751321324272, 1.8351461429226603, 1.2978870806495706, 1.8307038456739428, 1.7730337158018288, 1.3647827949260758, 1.813969388710352, 1.3290286565120697, 1.3861115151535393, 1.6945798601797897, 1.449042163761236, 1.813969388710352, 1.762315070409309, 1.2874525221379407, 1.3034100438655642, 1.7364225056478186, 1.8518025516704488, 1.5015453526671363, 1.406981663677643, 1.412578792940193, 1.3236741274998955, 1.7884432335370462, 1.8257567905665535, 1.3389145230206971, 1.5597659473370362, 1.3861115151535393, 1.659013868748246, 1.642653782130131, 1.7570177850353066, 1.825581504220376, 1.80460990458052, 1.825780747577624, 1.55468935359061, 1.5323755631868592, 1.7417172507457144, 1.4859035988304024, 1.391284788852726, 1.42806487344776, 1.7993770651972192, 1.6327350407099108, 1.622125485521159, 1.710533351135192, 1.2874525221379407, 1.3181691588445197, 1.773037755078937, 1.762315070409309, 1.55468935359061, 1.5649019950937946, 1.80460990458052, 1.2978870806495706, 1.2978870806495706, 1.406981663677643, 1.4333920485221476, 1.7673642076278957, 1.4859035988304024, 1.710533351135192, 1.7003110272642588, 1.3389913790695755, 1.323872422244268, 1.3030329186405918, 1.8361774213478947, 1.4173547174485526, 1.4382550176792908, 1.4382550176792908, 1.622125485521159, 1.522647325284378, 1.3647827949260758, 1.7829230484252725, 1.6015142233917594, 1.6744741591159715, 1.3090153642307354, 1.824613268496936, 1.412578792940193, 1.7364225056478186, 1.406981663677643, 1.80460990458052, 1.5747301747801037, 1.3090153642307354, 1.706014499648521, 1.825780747577624, 1.433445432156979, 1.4382550176792908, 1.824613268496936, 1.6849029086609286, 1.5594815668184234, 1.369850003583894, 1.6277528915533617, 1.511897596014269, 1.7678721106662054, 1.7678721106662054, 1.802765665167823, 1.7158065389330133, 1.6744741591159715, 1.6945798601797897, 1.7570177850353066, 1.5955263892495937, 1.5747301747801037, 1.4333920485221476, 1.706014499648521, 1.412578792940193, 1.3034100438655642, 1.7730337158018288, 1.8518025516704488, 1.5323755631868592, 1.5849430707374117, 1.6744741591159715, 1.5480915247767786, 1.7468706179837907, 1.412578792940193, 1.3034100438655642, 1.7936240148573608, 1.288003392619118, 1.4229203181741186, 1.8257567905665535, 1.773037755078937, 1.6277528915533617, 1.7360913511847138, 1.814201935767392, 1.4859035988304024, 1.522647325284378, 1.318633896753293, 1.7418496047960008, 1.7884432335370462, 1.5594815668184234, 1.8030683142834096, 1.511897596014269, 1.433445432156979, 1.3389913790695755, 1.3132020634442203, 1.804077040117352, 1.7673642076278957, 1.3077959946944353, 1.5323755631868592, 1.3250793286429356, 1.8307038456739428, 1.6277528915533617, 1.3033573559038203, 1.391284788852726, 1.802579500826209, 1.3236741274998955, 1.7263217239235826, 1.5488741079890418, 1.8025980036306504, 1.8346455082120416, 1.80210690024615, 1.3181691588445197, 1.5285252629756445, 1.4539012274845928, 1.5065638960681105, 1.4382550176792908, 1.3250793286429356, 1.7884432335370462, 1.5649019950937946, 1.3804366761974138, 1.80460990458052, 1.8307038456739428, 1.4386709371480566, 1.605818899130659, 1.5649019950937946, 1.5169573017136326, 1.3395306867947354, 1.4752095869031632, 1.3077959946944353, 1.3543220466259964, 1.485868384561201, 1.527914258251028, 1.7418496047960008, 1.3862287677978349, 1.3967008232726328, 1.3601216766554785, 1.8356616600675493, 1.7468706179837907, 1.6065631397488385, 1.590369231400328, 1.5269528268489705, 1.762668359743147, 1.7468706179837907, 1.7468706179837907, 1.5174859938489869, 1.3181691588445197, 1.6744741591159715, 1.824613268496936, 1.375392016895762, 1.5480915247767786, 1.5323755631868592, 1.3090153642307354, 1.5597659473370362, 1.3862287677978349, 1.3601216766554785, 1.7829230484252725, 1.3033573559038203, 1.511897596014269, 1.5747301747801037, 1.2980735056918902, 1.3546417018378962, 1.7831890223273277, 1.7829230484252725, 1.6744741591159715, 1.485868384561201, 1.8351461429226603, 1.3705128024895008, 1.7831890223273277, 1.5169573017136326, 1.6849029086609286, 1.6849029086609286, 1.4229203181741186, 1.8247738529891333, 1.3184664436640334, 1.4808005946928984, 1.6113256603765849, 1.802579500826209, 1.809307963702852, 1.6744741591159715, 1.4539012274845928, 1.762315070409309, 1.3034100438655642, 1.663716375981405, 1.7263217239235826, 1.55468935359061, 1.7517304870664143, 1.5174859938489869, 1.6113256603765849, 1.762315070409309, 1.814201935767392, 1.4229203181741186, 1.5488741079890418, 1.663716375981405, 1.3134751321324272, 1.7468706179837907, 1.5955263892495937, 1.5649019950937946, 1.5169573017136326, 1.55468935359061, 1.5323755631868592, 1.5955263892495937, 1.4908444050400238, 1.7003110272642588, 1.4697543268466824, 1.7673642076278957, 1.8147691941158937, 1.590369231400328, 1.3184664436640334, 1.6378578430223698, 1.3395306867947354, 1.3752364150256224, 1.7884432335370462, 1.6378578430223698, 1.6849029086609286, 1.5065638960681105, 1.809307963702852, 1.5955263892495937, 1.3441891937970554, 1.7468706179837907, 1.6849029086609286, 1.773037755078937, 1.3967008232726328, 1.7673642076278957, 1.8025980036306504, 1.710533351135192, 1.762668359743147, 1.5269528268489705, 1.7829230484252725, 1.293463613844243, 1.825581504220376, 1.5065638960681105, 1.4333958900838095, 1.7360913511847138, 1.7730337158018288, 1.5169573017136326, 1.3967008232726328, 1.6277528915533617, 1.7517304870664143, 1.3647827949260758, 1.7003110272642588, 1.7570177850353066, 1.825780747577624, 1.7884432335370462, 1.5065638960681105, 1.7936240148573608, 1.846327249719927, 1.37050855662704, 1.3236741274998955, 1.2874525221379407, 1.3033573559038203, 1.323872422244268, 1.3030329186405918, 1.3030329186405918, 1.449042163761236, 1.3967008232726328, 1.802765665167823, 1.7418496047960008, 1.406981663677643, 1.5857889968242211, 1.5169573017136326, 1.349314997503458, 1.4808005946928984, 1.5747301747801037, 1.4752095869031632, 1.7678721106662054, 1.2874525221379407, 1.354703921319241, 1.42806487344776, 1.642653782130131, 1.8030683142834096, 1.6538540573335014, 1.814031127508391, 1.6945798601797897, 1.4386709371480566, 1.7418496047960008, 1.5285252629756445, 1.3601216766554785, 1.5323755631868592, 1.7936240148573608, 1.5857889968242211, 1.8351461429226603, 1.412409228794446, 1.318293040102702, 1.417429032731308, 1.2980735056918902, 1.5849430707374117, 1.3030329186405918, 1.480413677976106, 1.3546417018378962, 1.3862287677978349, 1.5488741079890418, 1.4012037783587623, 1.3132020634442203, 1.5849430707374117, 1.8346455082120416, 1.7676172924938447, 1.6378578430223698, 1.417429032731308, 1.3543220466259964, 1.8518025516704488, 1.6744741591159715, 1.354703921319241, 1.3290286565120697, 1.318293040102702, 1.5269528268489705, 1.6065631397488385, 1.847417311283644, 1.8356616600675493, 1.406981663677643, 1.6113256603765849, 1.8199041089501269, 1.605818899130659, 1.3752364150256224, 1.5857889968242211, 1.4333920485221476, 1.3804366761974138, 1.846327249719927, 1.3077959946944353, 1.449042163761236, 1.7263217239235826, 1.7570177850353066, 1.5955263892495937, 1.522647325284378, 1.590369231400328, 1.37050855662704, 1.622125485521159, 1.42806487344776, 1.7158065389330133, 1.3967008232726328, 1.762668359743147, 1.417429032731308, 1.406981663677643, 1.3077959946944353, 1.813969388710352, 1.762315070409309, 1.7517304870664143, 1.375392016895762, 1.349314997503458, 1.80460990458052, 1.5747301747801037, 1.6065631397488385, 1.5323755631868592, 1.391284788852726, 1.825581504220376, 1.7364225056478186, 1.3804366761974138, 1.4539012274845928, 1.8470259949329195, 1.4333958900838095, 1.7468706179837907, 1.3389145230206971, 1.814201935767392, 1.354703921319241, 1.3647827949260758, 1.4808005946928984, 1.538236598942558, 1.6065631397488385, 1.455023751906683, 1.375392016895762, 1.3705128024895008, 1.663716375981405, 1.3340066759761655, 1.4386709371480566, 1.3647355108681518, 1.7468706179837907, 1.3181691588445197, 1.2874525221379407, 1.4908444050400238, 1.7517304870664143, 1.7570177850353066, 1.412409228794446, 1.3033573559038203, 1.5285252629756445, 1.522647325284378, 1.4386709371480566, 1.449042163761236, 1.6538540573335014, 1.3601216766554785, 1.3546417018378962, 1.5323755631868592, 1.835349194223408, 1.710533351135192, 1.391284788852726, 1.4012037783587623, 1.8147691941158937, 1.3752364150256224, 1.80460990458052, 1.3752364150256224, 1.3705128024895008, 1.6277528915533617, 1.773037755078937, 1.3862287677978349, 1.412578792940193, 1.318633896753293, 1.3033573559038203, 1.762315070409309, 1.814201935767392, 1.3090153642307354, 1.433445432156979, 1.6849029086609286, 1.5747301747801037, 1.3290286565120697, 1.42806487344776, 1.802765665167823, 1.6945798601797897, 1.5597659473370362, 1.802777624719604, 1.5747301747801037, 1.590369231400328, 1.433445432156979, 1.354703921319241, 1.369850003583894, 1.455023751906683, 1.2874525221379407, 1.6538540573335014, 1.3132020634442203, 1.3543220466259964, 1.706014499648521, 1.406981663677643, 1.5015453526671363, 1.663716375981405, 1.802777624719604, 1.375392016895762, 1.293463613844243, 1.318293040102702, 1.7884432335370462, 1.659013868748246, 1.3395306867947354, 1.8251136435078368, 1.7158065389330133, 1.4808005946928984, 1.4752095869031632, 1.349314997503458, 1.6015142233917594, 1.8134404914735824, 1.7468706179837907, 1.5597659473370362, 1.8346455082120416, 1.7158065389330133, 1.7003110272642588, 1.4697543268466824, 1.3184664436640334, 1.762315070409309, 1.5480915247767786, 1.605818899130659, 1.8564874208181572, 1.375392016895762, 1.3862287677978349, 1.8025980036306504, 1.3077959946944353, 1.7730337158018288, 1.8257567905665535, 1.8246195526864504, 1.3132020634442203, 1.5269528268489705, 1.3601216766554785, 1.7673642076278957, 1.3861115151535393, 1.3861115151535393, 1.3181691588445197, 1.3090153642307354, 1.391284788852726, 1.5955263892495937, 1.80210690024615, 1.706014499648521, 1.5857889968242211, 1.3647355108681518, 1.8470259949329195, 1.485868384561201, 1.4386709371480566, 1.710533351135192, 1.55468935359061, 1.4960918298136696, 1.3184664436640334, 1.3181691588445197, 1.8352625275821128, 1.659013868748246, 1.4539012274845928, 1.8351461429226603, 1.80210690024615, 1.3181691588445197, 1.5649019950937946, 1.605818899130659, 1.7003110272642588, 1.323170899227622, 1.55468935359061, 1.7678721106662054, 1.7517304870664143, 1.7364225056478186, 1.80210690024615, 1.7417172507457144, 1.8564874208181572, 1.480413677976106, 1.4859035988304024, 1.8470259949329195, 1.3705128024895008, 1.318293040102702, 1.706014499648521, 1.706014499648521, 1.406981663677643, 1.802777624719604, 1.7884432335370462, 1.8147691941158937, 1.5857889968242211, 1.2980735056918902, 1.80460990458052, 1.6327350407099108, 1.449042163761236, 1.318293040102702, 1.710533351135192, 1.706014499648521, 1.5597659473370362, 1.6745692479879102, 1.706014499648521, 1.7678721106662054, 1.3543220466259964, 1.7418496047960008, 1.323170899227622, 1.3705128024895008, 1.6113256603765849, 1.706014499648521, 1.433445432156979, 1.8247738529891333, 1.6745692479879102, 1.538236598942558, 1.449042163761236, 1.37050855662704, 1.4539012274845928, 1.5597659473370362, 1.4382550176792908, 1.7360913511847138, 1.846327249719927, 1.5638491446744425, 1.3395306867947354, 1.80210690024615, 1.3543220466259964, 1.7730337158018288, 1.412409228794446, 1.37050855662704, 1.3389145230206971, 1.538236598942558, 1.8356616600675493, 1.7468706179837907, 1.5488741079890418, 1.762668359743147, 1.433445432156979, 1.323170899227622, 1.417429032731308, 1.522647325284378, 1.3034100438655642, 1.605818899130659, 1.449042163761236, 1.3861115151535393, 1.406981663677643, 1.5649019950937946, 1.3034100438655642, 1.7884432335370462, 1.5015453526671363, 1.449042163761236, 1.8247738529891333, 1.8351461429226603, 1.3132020634442203, 1.8361774213478947, 1.406981663677643, 1.835349194223408, 1.3543220466259964, 1.762668359743147, 1.4808005946928984, 1.6113256603765849, 1.814201935767392, 1.480413677976106, 1.7158065389330133, 1.288003392619118, 1.6327350407099108, 1.3647827949260758, 1.4960918298136696, 1.55468935359061, 1.3290286565120697, 1.412409228794446, 1.4386709371480566, 1.454146206723569, 1.8247738529891333, 1.7360913511847138, 1.4382550176792908, 1.642653782130131, 1.7570177850353066, 1.3250793286429356, 1.6065631397488385, 1.8307038456739428, 1.42806487344776, 1.3546417018378962, 1.5597659473370362, 1.2874525221379407, 1.8199041089501269, 1.354703921319241, 1.5849430707374117, 1.4960918298136696, 1.3389913790695755, 1.323872422244268, 1.4908444050400238, 1.4808005946928984, 1.3286444309174914, 1.7831890223273277, 1.480413677976106, 1.3543220466259964, 1.7673642076278957, 1.7158065389330133, 1.3290286565120697, 1.6277528915533617, 1.5015453526671363, 1.2874525221379407, 1.710533351135192, 1.412409228794446, 1.5955263892495937, 1.8518025516704488, 1.3861115151535393, 1.4908444050400238, 1.706014499648521, 1.37050855662704, 1.433445432156979, 1.6945798601797897, 1.485868384561201, 1.293463613844243, 1.538236598942558, 1.642653782130131, 1.5015453526671363, 1.5174859938489869, 1.3601216766554785, 1.527914258251028, 1.288003392619118, 1.762315070409309, 1.480413677976106, 1.3340066759761655, 1.590369231400328, 1.4908444050400238, 1.6327350407099108, 1.5649019950937946, 1.3601216766554785, 1.3090153642307354, 1.6945798601797897, 1.8247738529891333, 1.6744741591159715, 1.4960918298136696, 1.710533351135192, 1.8137521577549052, 1.3395306867947354, 1.7418496047960008, 1.3804366761974138, 1.7517304870664143, 1.802777624719604, 1.522647325284378, 1.375392016895762, 1.354703921319241, 1.3030329186405918, 1.485868384561201, 1.7263217239235826, 1.7936240148573608, 1.7418496047960008, 1.6015142233917594, 1.449042163761236, 1.824613268496936, 1.773037755078937, 1.5955263892495937, 1.825780747577624, 1.6065631397488385, 1.4333958900838095, 1.3236741274998955, 1.5849430707374117, 1.7468706179837907, 1.7673642076278957, 1.3090153642307354, 1.6378578430223698, 1.4697543268466824, 1.7364225056478186, 1.8346455082120416, 1.5065638960681105, 1.824613268496936, 1.6538540573335014, 1.3389145230206971, 1.5747301747801037, 1.412409228794446, 1.6015142233917594, 1.7003110272642588, 1.5649019950937946, 1.412409228794446, 1.710533351135192, 1.5857889968242211, 1.4808005946928984, 1.4697543268466824, 1.349314997503458, 1.3132020634442203, 1.659013868748246, 1.3134751321324272, 1.4012037783587623, 1.4173547174485526, 1.4908444050400238, 1.7003110272642588, 1.3546417018378962, 1.6015142233917594, 1.7993770651972192, 1.4539012274845928, 1.349314997503458, 1.5488741079890418, 1.5015453526671363, 1.4333920485221476, 1.825780747577624, 1.5649019950937946, 1.80460990458052, 1.3543220466259964, 1.6113256603765849, 1.5955263892495937, 1.4960918298136696, 1.4539012274845928, 1.605818899130659, 1.2874525221379407, 1.433445432156979, 1.5638491446744425, 1.7158065389330133, 1.7936240148573608, 1.55468935359061, 1.5638491446744425, 1.7003110272642588, 1.762668359743147, 1.3862287677978349, 1.5849430707374117, 1.7263217239235826, 1.323170899227622, 1.3395306867947354, 1.7263217239235826, 1.3389145230206971, 1.8518025516704488, 1.3861115151535393, 1.6744741591159715, 1.7829230484252725, 1.7678721106662054, 1.659013868748246, 1.5269528268489705, 1.5857889968242211, 1.6065631397488385, 1.37050855662704, 1.8346455082120416, 1.5480915247767786, 1.835349194223408, 1.3030329186405918, 1.3601216766554785, 1.6849029086609286, 1.4386709371480566, 1.37050855662704, 1.391284788852726, 1.7884432335370462, 1.7676172924938447, 1.2980735056918902, 1.8307038456739428, 1.7678721106662054, 1.80460990458052, 1.6113256603765849, 1.3077959946944353, 1.7829230484252725, 1.3543220466259964, 1.706014499648521, 1.2978870806495706, 1.354703921319241, 1.3033573559038203, 1.3389913790695755, 1.4859035988304024, 1.5857889968242211, 1.369850003583894, 1.375392016895762, 1.323170899227622, 1.7678721106662054, 1.349314997503458, 1.3250793286429356, 1.412578792940193, 1.7517304870664143, 1.3861115151535393, 1.835349194223408, 1.762315070409309, 1.4333958900838095, 1.7730337158018288, 1.3181691588445197, 1.4333920485221476, 1.6113256603765849, 1.527914258251028, 1.8307038456739428, 1.8470259949329195, 1.802777624719604, 1.2978870806495706, 1.3236741274998955, 1.7884432335370462, 1.8025980036306504, 1.6849029086609286, 1.288003392619118, 1.847417311283644, 1.527914258251028, 1.323872422244268, 1.7263217239235826, 1.5597659473370362, 1.4539012274845928, 1.4808005946928984, 1.406981663677643, 1.5649019950937946, 1.642653782130131, 1.6113256603765849, 1.8025980036306504, 1.4808005946928984, 1.349314997503458, 1.7993770651972192, 1.605818899130659, 1.527914258251028, 1.4333920485221476, 1.7418496047960008, 1.7829230484252725, 1.762315070409309, 1.4908444050400238, 1.5649019950937946, 1.8134404914735824, 1.663716375981405, 1.4333920485221476, 1.3862287677978349, 1.6327350407099108, 1.622125485521159, 1.3290286565120697, 1.7417172507457144, 1.8137521577549052, 1.6538540573335014, 1.5649019950937946, 1.3250793286429356, 1.7158065389330133, 1.4960918298136696, 1.809307963702852, 1.5849430707374117, 1.3705128024895008, 1.762668359743147, 1.3389145230206971, 1.4012037783587623, 1.4752095869031632, 1.3861115151535393, 1.3862287677978349, 1.4382550176792908, 1.433445432156979, 1.2874525221379407, 1.7884432335370462, 1.7158065389330133, 1.8352625275821128, 1.7003110272642588, 1.417429032731308, 1.8356616600675493, 1.5649019950937946, 1.318633896753293, 1.318293040102702, 1.8134404914735824, 1.622125485521159, 1.8518025516704488, 1.375392016895762, 1.6113256603765849, 1.318633896753293, 1.4012037783587623, 1.3705128024895008, 1.522647325284378, 1.5857889968242211, 1.3862287677978349, 1.318633896753293, 1.8307038456739428, 1.4229203181741186, 1.5597659473370362, 1.5269528268489705, 1.527914258251028, 1.485868384561201, 1.8351461429226603, 1.323872422244268, 1.480413677976106, 1.3861115151535393, 1.485868384561201, 1.7417172507457144, 1.3804366761974138, 1.3034100438655642, 1.2980735056918902, 1.3967008232726328, 1.4908444050400238, 1.8351461429226603, 1.7263217239235826, 1.622125485521159, 1.6378578430223698, 1.8199041089501269, 1.4075983731469897, 1.3286444309174914, 1.6538540573335014, 1.6015142233917594, 1.6327350407099108, 1.5594815668184234, 1.802777624719604, 1.7158065389330133, 1.7884432335370462, 1.3236741274998955, 1.4697543268466824, 1.706014499648521, 1.814201935767392, 1.4960918298136696, 1.3647355108681518, 1.5174859938489869, 1.6015142233917594, 1.762668359743147, 1.288003392619118, 1.527914258251028, 1.5638491446744425, 1.6065631397488385, 1.3546417018378962, 1.5285252629756445, 1.7884432335370462, 1.8251136435078368, 1.406981663677643, 1.522647325284378, 1.5169573017136326, 1.3705128024895008, 1.4333958900838095, 1.3030329186405918, 1.3601216766554785, 1.762315070409309, 1.3250793286429356, 1.814201935767392, 1.323872422244268, 1.5269528268489705, 1.7364225056478186, 1.4697543268466824, 1.3389145230206971, 1.6065631397488385, 1.3132020634442203, 1.7263217239235826, 1.710533351135192, 1.80460990458052, 1.7517304870664143, 1.4382550176792908, 1.3033573559038203, 1.7831890223273277, 1.5015453526671363, 1.3647355108681518, 1.5849430707374117, 1.3546417018378962, 1.3030329186405918, 1.5015453526671363, 1.3752364150256224, 1.42806487344776, 1.318293040102702, 1.5169573017136326, 1.6327350407099108, 1.5169573017136326, 1.802579500826209, 1.6945798601797897, 1.7936240148573608, 1.354703921319241, 1.391284788852726, 1.5638491446744425, 1.3286444309174914, 1.4808005946928984, 1.4386709371480566, 1.80460990458052, 1.3286444309174914, 1.7673642076278957, 1.3184664436640334, 1.6015142233917594, 1.659013868748246, 1.3132020634442203, 1.3647827949260758, 1.3389145230206971, 1.3543220466259964, 1.3090153642307354, 1.3034100438655642, 1.8251136435078368, 1.5269528268489705, 1.7417172507457144, 1.5285252629756445, 1.6065631397488385, 1.449042163761236, 1.5649019950937946, 1.710533351135192, 1.4752095869031632, 1.663716375981405, 1.80210690024615, 1.814201935767392, 1.5269528268489705, 1.6015142233917594, 1.3804366761974138, 1.433445432156979, 1.622125485521159, 1.7364225056478186, 1.3134751321324272, 1.323872422244268, 1.825581504220376, 1.710533351135192, 1.622125485521159, 1.605818899130659, 1.37050855662704, 1.4333958900838095, 1.5597659473370362, 1.3250793286429356, 1.3546417018378962, 1.3033573559038203, 1.3181691588445197, 1.3546417018378962, 1.7829230484252725, 1.354703921319241, 1.835349194223408, 1.449042163761236, 1.7003110272642588, 1.5638491446744425, 1.318633896753293, 1.5955263892495937, 1.4859035988304024, 1.3236741274998955, 1.485868384561201, 1.4012037783587623, 1.3340066759761655, 1.522647325284378, 1.8030683142834096, 1.7678721106662054, 1.42806487344776, 1.455023751906683, 1.2980735056918902, 1.7993770651972192, 1.846327249719927, 1.5015453526671363, 1.8470259949329195, 1.37050855662704, 1.3862287677978349, 1.8346455082120416, 1.8199041089501269, 1.6327350407099108, 1.5594815668184234, 1.4697543268466824, 1.323170899227622, 1.3647827949260758, 1.3647355108681518, 1.6745692479879102, 1.7417172507457144, 1.3236741274998955, 1.3090153642307354, 1.8356616600675493, 1.7570177850353066, 1.4859035988304024, 1.80210690024615, 1.802765665167823, 1.8030683142834096, 1.8025980036306504, 1.6277528915533617, 1.825780747577624, 1.7673642076278957, 1.6327350407099108, 1.5488741079890418, 1.5638491446744425, 1.6945798601797897, 1.6538540573335014, 1.318633896753293, 1.5594815668184234, 1.8356616600675493, 1.809307963702852, 1.8564874208181572, 1.8251136435078368, 1.4173547174485526, 1.8025980036306504, 1.7993770651972192, 1.3705128024895008, 1.391284788852726, 1.5488741079890418, 1.2978870806495706, 1.7936240148573608, 1.8025980036306504, 1.825581504220376, 1.4960918298136696, 1.663716375981405, 1.5065638960681105, 1.663716375981405, 1.527914258251028, 1.7884432335370462, 1.7364225056478186, 1.3441891937970554, 1.412578792940193, 1.3543220466259964, 1.6744741591159715, 1.6745692479879102, 1.3389145230206971, 1.4539012274845928, 1.773037755078937, 1.485868384561201, 1.349314997503458, 1.80460990458052, 1.3090153642307354, 1.7993770651972192, 1.7993770651972192, 1.8307038456739428, 1.80210690024615, 1.527914258251028, 1.5480915247767786, 1.8351461429226603, 1.8137521577549052, 1.5269528268489705, 1.7418496047960008, 1.293463613844243, 1.7831890223273277, 1.42806487344776, 1.406981663677643, 1.8257567905665535, 1.5594815668184234, 1.375392016895762, 1.6745692479879102, 1.824613268496936, 1.659013868748246, 1.323170899227622, 1.2874525221379407, 1.8518025516704488, 1.8251136435078368, 1.7730337158018288, 1.5269528268489705, 1.8518025516704488, 1.3601216766554785, 1.8346455082120416, 1.4173547174485526, 1.8147691941158937, 1.485868384561201, 1.7678721106662054, 1.7468706179837907, 1.6538540573335014, 1.3389145230206971, 1.3134751321324272, 1.3389913790695755, 1.6015142233917594, 1.37050855662704, 1.8361774213478947, 1.4229203181741186, 1.7364225056478186, 1.6277528915533617, 1.5169573017136326, 1.3389913790695755, 1.5857889968242211, 1.762315070409309, 1.7158065389330133, 1.5285252629756445, 1.7678721106662054, 1.659013868748246, 1.3236741274998955, 1.3077959946944353, 1.3441891937970554, 1.6849029086609286, 1.6277528915533617, 1.522647325284378, 1.4859035988304024, 1.7884432335370462, 1.433445432156979, 1.417429032731308, 1.7517304870664143, 1.412409228794446, 1.449042163761236, 1.5594815668184234, 1.5747301747801037, 1.773037755078937, 1.5480915247767786, 1.4012037783587623, 1.7263217239235826, 1.318633896753293, 1.8356616600675493, 1.480413677976106, 1.511897596014269, 1.7417172507457144, 1.605818899130659, 1.6065631397488385, 1.42806487344776, 1.3389145230206971, 1.8246195526864504, 1.8346455082120416, 1.5597659473370362, 1.5480915247767786, 1.622125485521159, 1.590369231400328, 1.6744741591159715, 1.3967008232726328, 1.5747301747801037, 1.3647827949260758, 1.369850003583894, 1.7730337158018288, 1.4333958900838095, 1.3236741274998955, 1.825780747577624, 1.8246195526864504, 1.7678721106662054, 1.3030329186405918, 1.7263217239235826, 1.7003110272642588, 1.6065631397488385, 1.7517304870664143, 1.5015453526671363, 1.4333920485221476, 1.5955263892495937, 1.8352625275821128, 1.6378578430223698, 1.527914258251028, 1.846327249719927, 1.8351461429226603, 1.8351461429226603, 1.7364225056478186, 1.3601216766554785, 1.538236598942558, 1.6538540573335014, 1.7158065389330133, 1.6378578430223698, 1.449042163761236, 1.3395306867947354, 1.659013868748246, 1.4012037783587623, 1.4333920485221476, 1.3967008232726328, 1.4075983731469897, 1.4173547174485526, 1.710533351135192, 1.3389913790695755, 1.412578792940193, 1.6327350407099108, 1.3543220466259964, 1.7993770651972192, 1.7263217239235826, 1.433445432156979, 1.3181691588445197, 1.3395306867947354, 1.5638491446744425, 1.480413677976106, 1.354703921319241, 1.323872422244268, 1.2874525221379407, 1.5323755631868592, 1.318633896753293, 1.412409228794446, 1.835349194223408, 1.3647355108681518, 1.8257567905665535, 1.2978870806495706, 1.847417311283644, 1.6945798601797897, 1.3395306867947354, 1.80460990458052, 1.5323755631868592, 1.6065631397488385, 1.4173547174485526, 1.6327350407099108, 1.710533351135192, 1.3967008232726328, 1.825581504220376, 1.412409228794446, 1.5955263892495937, 1.7829230484252725, 1.7676172924938447, 1.8361774213478947, 1.7263217239235826, 1.7263217239235826, 1.7829230484252725, 1.4333920485221476, 1.825780747577624, 1.80460990458052, 1.80460990458052, 1.8307038456739428, 1.4859035988304024, 1.642653782130131, 1.5649019950937946, 1.3290286565120697, 1.663716375981405, 1.412578792940193, 1.6945798601797897, 1.2980735056918902, 1.773037755078937, 1.412578792940193, 1.7936240148573608, 1.318293040102702, 1.4173547174485526, 1.412578792940193, 1.454146206723569, 1.8307038456739428, 1.622125485521159, 1.7831890223273277, 1.6849029086609286, 1.4752095869031632, 1.5480915247767786, 1.417429032731308, 1.835349194223408, 1.7676172924938447, 1.5015453526671363, 1.391284788852726, 1.7418496047960008, 1.835349194223408, 1.391284788852726, 1.8307038456739428, 1.2980735056918902, 1.8030683142834096, 1.663716375981405, 1.846327249719927, 1.7468706179837907, 1.6015142233917594, 1.7829230484252725, 1.5597659473370362, 1.5597659473370362, 1.622125485521159, 1.42806487344776, 1.7570177850353066, 1.7517304870664143, 1.4333920485221476, 1.710533351135192, 1.6745692479879102, 1.3077959946944353, 1.538236598942558, 1.5594815668184234, 1.8307038456739428, 1.3134751321324272, 1.5174859938489869, 1.590369231400328, 1.433445432156979, 1.5323755631868592, 1.4808005946928984, 1.527914258251028, 1.825581504220376, 1.5285252629756445, 1.7730337158018288, 1.7263217239235826, 1.847417311283644, 1.3030329186405918, 1.3647355108681518, 1.354703921319241, 1.7003110272642588, 1.813969388710352, 1.7263217239235826, 1.412409228794446, 1.3077959946944353, 1.7468706179837907, 1.449042163761236, 1.4333958900838095, 1.323872422244268, 1.802579500826209, 1.485868384561201, 1.7517304870664143, 1.3034100438655642, 1.4333920485221476, 1.3705128024895008, 1.762315070409309, 1.7993770651972192, 1.349314997503458, 1.2978870806495706, 1.7263217239235826, 1.55468935359061, 1.6277528915533617, 1.3033573559038203, 1.369850003583894, 1.412578792940193, 1.706014499648521, 1.8307038456739428, 1.6744741591159715, 1.7364225056478186, 1.4859035988304024, 1.3804366761974138, 1.4908444050400238, 1.7936240148573608, 1.8030683142834096, 1.6945798601797897, 1.3134751321324272, 1.485868384561201, 1.80210690024615, 1.4386709371480566, 1.3236741274998955, 1.5849430707374117, 1.55468935359061, 1.814201935767392, 1.412578792940193, 1.825780747577624, 1.4697543268466824, 1.7884432335370462, 1.846327249719927, 1.3647355108681518, 1.642653782130131, 1.8356616600675493, 1.7418496047960008, 1.522647325284378, 1.663716375981405, 1.8246195526864504, 1.4382550176792908, 1.590369231400328, 1.5747301747801037, 1.5747301747801037, 1.3389913790695755, 1.5488741079890418, 1.7730337158018288, 1.323872422244268, 1.5747301747801037, 1.4539012274845928, 1.8351461429226603, 1.3340066759761655, 1.5857889968242211, 1.7936240148573608, 1.6538540573335014, 1.538236598942558, 1.318633896753293, 1.6277528915533617, 1.8356616600675493, 1.5480915247767786, 1.8137521577549052, 1.4960918298136696, 1.7517304870664143, 1.3181691588445197, 1.485868384561201, 1.813969388710352, 1.5015453526671363, 1.455023751906683, 1.809307963702852, 1.3034100438655642, 1.3184664436640334, 1.6744741591159715, 1.5747301747801037, 1.8361774213478947, 1.5597659473370362, 1.4229203181741186, 1.318633896753293, 1.8147691941158937, 1.527914258251028, 1.8199041089501269, 1.642653782130131, 1.369850003583894, 1.3077959946944353, 1.2874525221379407, 1.762315070409309, 1.2980735056918902, 1.3705128024895008, 1.3804366761974138, 1.354703921319241, 1.3389145230206971, 1.642653782130131, 1.7570177850353066, 1.8199041089501269, 1.7831890223273277, 1.4808005946928984, 1.814201935767392, 1.4808005946928984, 1.773037755078937, 1.605818899130659, 1.8199041089501269, 1.8030683142834096, 1.391284788852726, 1.375392016895762, 1.5849430707374117, 1.5015453526671363, 1.538236598942558, 1.455023751906683, 1.349314997503458, 1.762668359743147, 1.7418496047960008, 1.3389145230206971, 1.433445432156979, 1.7364225056478186, 1.3290286565120697, 1.4859035988304024, 1.406981663677643, 1.3804366761974138, 1.3250793286429356, 1.6745692479879102, 1.8246195526864504, 1.5480915247767786, 1.8564874208181572, 1.3181691588445197, 1.8147691941158937, 1.6277528915533617, 1.375392016895762, 1.4908444050400238, 1.80460990458052, 1.42806487344776, 1.7993770651972192, 1.3389145230206971, 1.7364225056478186, 1.4075983731469897, 1.3862287677978349, 1.3134751321324272, 1.7678721106662054, 1.7158065389330133, 1.7831890223273277, 1.773037755078937, 1.5747301747801037, 1.706014499648521, 1.6744741591159715, 1.8307038456739428, 1.480413677976106, 1.710533351135192, 1.433445432156979, 1.5174859938489869, 1.3034100438655642, 1.5065638960681105, 1.2980735056918902, 1.802579500826209, 1.2980735056918902, 1.7730337158018288, 1.7417172507457144, 1.4382550176792908, 1.3862287677978349, 1.5015453526671363, 1.7678721106662054, 1.7831890223273277, 1.5649019950937946, 1.3030329186405918, 1.622125485521159, 1.3184664436640334, 1.7158065389330133, 1.8199041089501269, 1.2980735056918902, 1.7570177850353066, 1.7884432335370462, 1.8361774213478947, 1.8246195526864504, 1.293463613844243, 1.3862287677978349, 1.5323755631868592, 1.3340066759761655, 1.80460990458052, 1.5597659473370362, 1.7468706179837907, 1.2980735056918902, 1.4752095869031632, 1.5169573017136326, 1.7263217239235826, 1.3705128024895008, 1.642653782130131, 1.7676172924938447, 1.3601216766554785, 1.4229203181741186, 1.3132020634442203, 1.825581504220376, 1.7936240148573608, 1.7517304870664143, 1.3134751321324272, 1.7417172507457144, 1.4173547174485526, 1.6849029086609286, 1.825780747577624, 1.417429032731308, 1.6327350407099108, 1.3647827949260758, 1.3340066759761655, 1.5323755631868592, 1.3705128024895008, 1.7418496047960008, 1.3034100438655642, 1.7884432335370462, 1.7570177850353066, 1.4075983731469897, 1.773037755078937, 1.8199041089501269, 1.3389145230206971, 1.7417172507457144, 1.710533351135192, 1.37050855662704, 1.8199041089501269, 1.349314997503458, 1.288003392619118, 1.5169573017136326, 1.3077959946944353, 1.412409228794446, 1.406981663677643, 1.7730337158018288, 1.642653782130131, 1.7730337158018288, 1.642653782130131, 1.454146206723569, 1.6327350407099108, 1.5065638960681105, 1.7003110272642588, 1.4697543268466824, 1.6849029086609286, 1.5597659473370362, 1.293463613844243, 1.449042163761236, 1.3601216766554785, 1.8246195526864504, 1.5169573017136326, 1.7884432335370462, 1.802579500826209, 1.449042163761236, 1.3290286565120697, 1.485868384561201, 1.5065638960681105, 1.622125485521159, 1.3184664436640334, 1.4173547174485526, 1.802777624719604, 1.4859035988304024, 1.8518025516704488, 1.7417172507457144, 1.6327350407099108, 1.7417172507457144, 1.406981663677643, 1.3543220466259964, 1.7418496047960008, 1.4908444050400238, 1.318293040102702, 1.809307963702852, 1.3389913790695755, 1.802579500826209, 1.4808005946928984, 1.3752364150256224, 1.5649019950937946, 1.8199041089501269, 1.7673642076278957, 1.5955263892495937, 1.809307963702852, 1.802579500826209, 1.4539012274845928, 1.7673642076278957, 1.3236741274998955, 1.2978870806495706, 1.663716375981405, 1.710533351135192, 1.3034100438655642, 1.7673642076278957, 1.375392016895762, 1.7360913511847138, 1.3389145230206971, 1.3286444309174914, 1.2980735056918902, 1.349314997503458, 1.5638491446744425, 1.710533351135192, 1.318633896753293, 1.825581504220376, 1.5015453526671363, 1.6015142233917594, 1.3134751321324272, 1.4333958900838095, 1.527914258251028, 1.37050855662704, 1.824613268496936, 1.4386709371480566, 1.8137521577549052, 1.590369231400328, 1.5480915247767786, 1.4075983731469897, 1.511897596014269, 1.7673642076278957, 1.80460990458052, 1.3543220466259964, 1.8346455082120416, 1.5649019950937946, 1.3752364150256224, 1.318293040102702, 1.349314997503458, 1.8518025516704488, 1.323872422244268, 1.4012037783587623, 1.2978870806495706, 1.4386709371480566, 1.4333920485221476, 1.7364225056478186, 1.3030329186405918, 1.527914258251028, 1.3286444309174914, 1.7884432335370462, 1.4908444050400238, 1.42806487344776, 1.433445432156979, 1.2874525221379407, 1.3546417018378962, 1.5747301747801037, 1.5015453526671363, 1.3132020634442203, 1.318293040102702, 1.3861115151535393, 1.8199041089501269, 1.5323755631868592, 1.3705128024895008, 1.3546417018378962, 1.5857889968242211, 1.4075983731469897, 1.4173547174485526, 1.449042163761236, 1.412409228794446, 1.7468706179837907, 1.406981663677643, 1.7884432335370462, 1.802765665167823, 1.3034100438655642, 1.6277528915533617, 1.6745692479879102, 1.6745692479879102, 1.4075983731469897, 1.5597659473370362, 1.449042163761236, 1.7829230484252725, 1.3647827949260758, 1.3441891937970554, 1.7517304870664143, 1.455023751906683, 1.802765665167823, 1.4960918298136696, 1.7263217239235826, 1.659013868748246, 1.8137521577549052, 1.375392016895762, 1.710533351135192, 1.7417172507457144, 1.6065631397488385, 1.3601216766554785, 1.3134751321324272, 1.7003110272642588, 1.8356616600675493, 1.8246195526864504, 1.4382550176792908, 1.4386709371480566, 1.6849029086609286, 1.7468706179837907, 1.5597659473370362, 1.802777624719604, 1.8134404914735824, 1.8564874208181572, 1.4386709371480566, 1.642653782130131, 1.6113256603765849, 1.480413677976106, 1.6538540573335014, 1.4752095869031632, 1.5857889968242211, 1.4808005946928984, 1.3286444309174914, 1.7418496047960008, 1.8307038456739428, 1.3752364150256224, 1.522647325284378, 1.6378578430223698, 1.3340066759761655, 1.6327350407099108, 1.433445432156979, 1.455023751906683, 1.7418496047960008, 1.454146206723569, 1.3647355108681518, 1.3181691588445197, 1.7417172507457144, 1.288003392619118, 1.3389145230206971, 1.3132020634442203, 1.773037755078937, 1.4808005946928984, 1.4539012274845928, 1.7673642076278957, 1.3286444309174914, 1.4173547174485526, 1.663716375981405, 1.8134404914735824, 1.8246195526864504, 1.7884432335370462, 1.846327249719927, 1.6849029086609286, 1.538236598942558, 1.3090153642307354, 1.590369231400328, 1.3705128024895008, 1.485868384561201, 1.288003392619118, 1.7468706179837907, 1.7831890223273277, 1.7730337158018288, 1.824613268496936, 1.511897596014269, 1.6065631397488385, 1.642653782130131, 1.659013868748246, 1.5323755631868592, 1.6744741591159715, 1.454146206723569, 1.813969388710352, 1.5638491446744425, 1.5857889968242211, 1.5480915247767786, 1.710533351135192, 1.4075983731469897, 1.3441891937970554, 1.802579500826209, 1.659013868748246, 1.762315070409309, 1.3441891937970554, 1.538236598942558, 1.5857889968242211, 1.4173547174485526, 1.762315070409309, 1.835349194223408, 1.369850003583894, 1.847417311283644, 1.7003110272642588, 1.2874525221379407, 1.5065638960681105, 1.3395306867947354, 1.37050855662704, 1.369850003583894, 1.8518025516704488, 1.3647355108681518, 1.406981663677643, 1.3601216766554785, 1.3181691588445197, 1.318633896753293, 1.55468935359061, 1.454146206723569, 1.2980735056918902, 1.5480915247767786, 1.3236741274998955, 1.3077959946944353, 1.3132020634442203, 1.3134751321324272, 1.3395306867947354, 1.354703921319241, 1.825780747577624, 1.7263217239235826, 1.6277528915533617, 1.8518025516704488, 1.7829230484252725, 1.412578792940193, 1.6538540573335014, 1.4859035988304024, 1.642653782130131, 1.6378578430223698, 1.3441891937970554, 1.4960918298136696, 1.5174859938489869, 1.3286444309174914, 1.5955263892495937, 1.3752364150256224, 1.847417311283644, 1.7468706179837907, 1.391284788852726, 1.3601216766554785, 1.391284788852726, 1.4859035988304024, 1.6538540573335014, 1.3647355108681518, 1.3967008232726328, 1.8518025516704488, 1.7673642076278957, 1.8518025516704488, 1.4859035988304024, 1.7570177850353066, 1.706014499648521, 1.762668359743147, 1.825581504220376, 1.4333920485221476, 1.8361774213478947, 1.605818899130659, 1.7468706179837907, 1.4012037783587623, 1.7730337158018288, 1.80460990458052, 1.4075983731469897, 1.455023751906683, 1.3647827949260758, 1.7831890223273277, 1.369850003583894, 1.847417311283644, 1.412409228794446, 1.706014499648521, 1.802777624719604, 1.590369231400328, 1.8134404914735824, 1.4752095869031632, 1.8030683142834096, 1.5065638960681105, 1.7417172507457144, 1.6277528915533617, 1.6745692479879102, 1.3132020634442203, 1.522647325284378, 1.809307963702852, 1.454146206723569, 1.4333958900838095, 1.354703921319241, 1.3389913790695755, 1.480413677976106, 1.7263217239235826, 1.37050855662704, 1.527914258251028, 1.4752095869031632, 1.814201935767392, 1.7364225056478186, 1.4382550176792908, 1.5480915247767786, 1.3184664436640334, 1.455023751906683, 1.762668359743147, 1.4386709371480566, 1.6744741591159715, 1.2978870806495706, 1.375392016895762, 1.7884432335370462, 1.6849029086609286, 1.8247738529891333, 1.7936240148573608, 1.8518025516704488, 1.4697543268466824, 1.3034100438655642, 1.417429032731308, 1.7936240148573608, 1.3090153642307354, 1.5594815668184234, 1.6113256603765849, 1.8470259949329195, 1.6849029086609286, 1.847417311283644, 1.454146206723569, 1.480413677976106, 1.622125485521159, 1.762668359743147, 1.835349194223408, 1.354703921319241, 1.6378578430223698, 1.369850003583894, 1.3286444309174914, 1.802579500826209, 1.5285252629756445, 1.847417311283644, 1.7417172507457144, 1.3250793286429356, 1.7570177850353066, 1.5849430707374117, 1.4173547174485526, 1.455023751906683, 1.485868384561201, 1.710533351135192, 1.55468935359061, 1.6945798601797897, 1.4859035988304024, 1.375392016895762, 1.7468706179837907, 1.5638491446744425, 1.527914258251028, 1.802777624719604, 1.6113256603765849, 1.5269528268489705, 1.835349194223408, 1.3389913790695755, 1.5285252629756445, 1.5169573017136326, 1.8199041089501269, 1.7678721106662054, 1.7673642076278957, 1.37050855662704, 1.5065638960681105, 1.2874525221379407, 1.3181691588445197, 1.80460990458052, 1.762668359743147, 1.3034100438655642, 1.7884432335370462, 1.5015453526671363, 1.590369231400328, 1.406981663677643, 1.5174859938489869, 1.454146206723569, 1.3134751321324272, 1.454146206723569, 1.3395306867947354, 1.3804366761974138, 1.5747301747801037, 1.6745692479879102, 1.622125485521159, 1.7676172924938447, 1.6065631397488385, 1.3647355108681518, 1.4229203181741186, 1.642653782130131, 1.323170899227622, 1.527914258251028, 1.3236741274998955, 1.814031127508391, 1.6745692479879102, 1.391284788852726, 1.527914258251028, 1.5594815668184234, 1.605818899130659, 1.8564874208181572, 1.3395306867947354, 1.8351461429226603, 1.4908444050400238, 1.42806487344776, 1.6745692479879102, 1.762668359743147, 1.7829230484252725, 1.6015142233917594, 1.527914258251028, 1.7263217239235826, 1.8199041089501269, 1.406981663677643, 1.55468935359061, 1.4539012274845928, 1.485868384561201, 1.825780747577624, 1.391284788852726, 1.7360913511847138, 1.318633896753293, 1.4075983731469897, 1.5480915247767786, 1.7884432335370462, 1.6113256603765849, 1.3967008232726328, 1.3441891937970554, 1.7676172924938447, 1.485868384561201, 1.8564874208181572, 1.4752095869031632, 1.5488741079890418, 1.5849430707374117, 1.5955263892495937, 1.417429032731308, 1.7936240148573608, 1.8199041089501269, 1.3705128024895008, 1.814201935767392, 1.824613268496936, 1.3184664436640334, 1.5285252629756445, 1.527914258251028, 1.4960918298136696, 1.480413677976106, 1.7993770651972192, 1.42806487344776, 1.5849430707374117, 1.590369231400328, 1.4333920485221476, 1.7468706179837907, 1.3286444309174914, 1.4333920485221476, 1.3395306867947354, 1.3752364150256224, 1.3543220466259964, 1.7829230484252725, 1.642653782130131, 1.7673642076278957, 1.710533351135192, 1.511897596014269, 1.5638491446744425, 1.5649019950937946, 1.4173547174485526, 1.538236598942558, 1.3132020634442203, 1.511897596014269, 1.6745692479879102, 1.538236598942558, 1.3389913790695755, 1.323170899227622, 1.3543220466259964, 1.710533351135192, 1.293463613844243, 1.5649019950937946, 1.4229203181741186, 1.2978870806495706, 1.8356616600675493, 1.3236741274998955, 1.5065638960681105, 1.6378578430223698, 1.4539012274845928, 1.7936240148573608, 1.7570177850353066, 1.522647325284378, 1.406981663677643, 1.2874525221379407, 1.5857889968242211, 1.4752095869031632, 1.3389913790695755, 1.527914258251028, 1.5488741079890418, 1.3862287677978349, 1.37050855662704, 1.406981663677643, 1.3647827949260758, 1.7517304870664143, 1.4333958900838095, 1.7831890223273277, 1.605818899130659, 1.3090153642307354, 1.5849430707374117, 1.4808005946928984, 1.5638491446744425, 1.4333958900838095, 1.433445432156979, 1.590369231400328, 1.7003110272642588, 1.5015453526671363, 1.5480915247767786, 1.5065638960681105, 1.8137521577549052, 1.835349194223408, 1.3389913790695755, 1.7417172507457144, 1.538236598942558, 1.7993770651972192, 1.8247738529891333, 1.6745692479879102, 1.3389145230206971, 1.7884432335370462, 1.7730337158018288, 1.5285252629756445, 1.7418496047960008, 1.7158065389330133, 1.3861115151535393, 1.8257567905665535, 1.8307038456739428, 1.3181691588445197, 1.7158065389330133, 1.5488741079890418, 1.773037755078937, 1.6945798601797897, 1.412578792940193, 1.318293040102702, 1.522647325284378, 1.4382550176792908, 1.7570177850353066, 1.7468706179837907, 1.375392016895762, 1.5269528268489705, 1.7570177850353066, 1.7831890223273277, 1.6945798601797897, 1.3647355108681518, 1.4908444050400238, 1.7678721106662054, 1.5488741079890418, 1.4382550176792908, 1.369850003583894, 1.511897596014269, 1.412578792940193, 1.710533351135192, 1.8361774213478947, 1.375392016895762, 1.3077959946944353, 1.663716375981405, 1.5269528268489705, 1.3546417018378962, 1.406981663677643, 1.538236598942558, 1.6945798601797897, 1.8147691941158937, 1.412578792940193, 1.538236598942558, 1.835349194223408, 1.8470259949329195, 1.7364225056478186, 1.6065631397488385, 1.6378578430223698, 1.3862287677978349, 1.3181691588445197, 1.4808005946928984, 1.642653782130131, 1.293463613844243, 1.3647355108681518, 1.4859035988304024, 1.5488741079890418, 1.825780747577624, 1.5488741079890418, 1.706014499648521, 1.4908444050400238, 1.4752095869031632, 1.417429032731308, 1.485868384561201, 1.847417311283644, 1.605818899130659, 1.5638491446744425, 1.3236741274998955, 1.375392016895762, 1.37050855662704, 1.762315070409309, 1.7993770651972192, 1.3389913790695755, 1.7468706179837907, 1.6945798601797897, 1.318293040102702, 1.6277528915533617, 1.6015142233917594, 1.3705128024895008, 1.813969388710352, 1.8518025516704488, 1.318633896753293, 1.433445432156979, 1.3752364150256224, 1.590369231400328, 1.3647827949260758, 1.318293040102702, 1.824613268496936, 1.7673642076278957, 1.773037755078937, 1.3250793286429356, 1.642653782130131, 1.6277528915533617, 1.5480915247767786, 1.7730337158018288, 1.3134751321324272, 1.8137521577549052, 1.7829230484252725, 1.7158065389330133, 1.4012037783587623, 1.7993770651972192, 1.4012037783587623, 1.3389145230206971, 1.3250793286429356, 1.706014499648521, 1.5169573017136326, 1.3543220466259964, 1.7678721106662054, 1.480413677976106, 1.391284788852726, 1.3395306867947354, 1.4382550176792908, 1.412578792940193, 1.4908444050400238, 1.7263217239235826, 1.3290286565120697, 1.7678721106662054, 1.5269528268489705, 1.7676172924938447, 1.3340066759761655, 1.5597659473370362, 1.3647355108681518, 1.3967008232726328, 1.3033573559038203, 1.4012037783587623, 1.3395306867947354, 1.80460990458052, 1.7364225056478186, 1.5955263892495937, 1.4333920485221476, 1.642653782130131, 1.7360913511847138, 1.3184664436640334, 1.3395306867947354, 1.809307963702852, 1.527914258251028, 1.809307963702852, 1.7884432335370462, 1.3132020634442203, 1.4808005946928984, 1.5638491446744425, 1.6945798601797897, 1.288003392619118, 1.3340066759761655, 1.8564874208181572, 1.3134751321324272, 1.3181691588445197, 1.7003110272642588, 1.4539012274845928, 1.8247738529891333, 1.5649019950937946, 1.7936240148573608, 1.5488741079890418, 1.318293040102702, 1.6744741591159715, 1.6065631397488385, 1.4173547174485526, 1.8025980036306504, 1.4173547174485526, 1.7829230484252725, 1.349314997503458, 1.3132020634442203, 1.773037755078937, 1.5269528268489705, 1.3077959946944353, 1.5594815668184234, 1.8356616600675493, 1.835349194223408, 1.7417172507457144, 1.4539012274845928, 1.7364225056478186, 1.8346455082120416, 1.3389913790695755, 1.349314997503458, 1.406981663677643, 1.3647355108681518, 1.433445432156979, 1.2874525221379407, 1.7673642076278957, 1.8199041089501269, 1.417429032731308, 1.3134751321324272, 1.527914258251028, 1.622125485521159, 1.5174859938489869, 1.3077959946944353, 1.6745692479879102, 1.6745692479879102, 1.412578792940193, 1.4386709371480566, 1.4075983731469897, 1.814031127508391, 1.7936240148573608, 1.8470259949329195, 1.7831890223273277, 1.3184664436640334, 1.3705128024895008, 1.323872422244268, 1.3543220466259964, 1.7936240148573608, 1.80210690024615, 1.3861115151535393, 1.7570177850353066, 1.5169573017136326, 1.7158065389330133, 1.6538540573335014, 1.814031127508391, 1.3752364150256224, 1.2874525221379407, 1.4333958900838095, 1.7263217239235826, 1.8251136435078368, 1.391284788852726, 1.3090153642307354, 1.8137521577549052, 1.3967008232726328, 1.6065631397488385, 1.7468706179837907, 1.7158065389330133, 1.4697543268466824, 1.485868384561201, 1.375392016895762, 1.5857889968242211, 1.762668359743147, 1.369850003583894, 1.3705128024895008, 1.8307038456739428, 1.5594815668184234, 1.293463613844243, 1.3862287677978349, 1.6015142233917594, 1.7678721106662054, 1.323872422244268, 1.813969388710352, 1.3250793286429356, 1.7673642076278957, 1.55468935359061, 1.5857889968242211, 1.55468935359061, 1.375392016895762, 1.762315070409309, 1.288003392619118, 1.5285252629756445, 1.814031127508391, 1.323872422244268, 1.7417172507457144, 1.7676172924938447, 1.7993770651972192, 1.5174859938489869, 1.7570177850353066, 1.4382550176792908, 1.6744741591159715, 1.7417172507457144, 1.3647355108681518, 1.354703921319241, 1.288003392619118, 1.4333958900838095, 1.3862287677978349, 1.3077959946944353, 1.454146206723569, 1.3861115151535393, 1.762668359743147, 1.4173547174485526, 1.4808005946928984, 1.7263217239235826, 1.293463613844243, 1.2980735056918902, 1.55468935359061, 1.5169573017136326, 1.3077959946944353, 1.412578792940193, 1.55468935359061, 1.5649019950937946, 1.7418496047960008, 1.7263217239235826, 1.809307963702852, 1.3389913790695755, 1.3441891937970554, 1.412409228794446, 1.5638491446744425, 1.5285252629756445, 1.7418496047960008, 1.804077040117352, 1.8518025516704488, 1.3804366761974138, 1.7673642076278957, 1.8564874208181572, 1.4859035988304024, 1.4960918298136696, 1.7468706179837907, 1.7570177850353066, 1.8247738529891333, 1.3134751321324272, 1.6744741591159715, 1.7936240148573608, 1.412578792940193, 1.3395306867947354, 1.3033573559038203, 1.4229203181741186, 1.4386709371480566, 1.3290286565120697, 1.7417172507457144, 1.3862287677978349, 1.8246195526864504, 1.3389145230206971, 1.3034100438655642, 1.5747301747801037, 1.3250793286429356, 1.5747301747801037, 1.3967008232726328, 1.5323755631868592, 1.522647325284378, 1.3647827949260758, 1.5015453526671363, 1.7158065389330133, 1.5747301747801037, 1.4960918298136696, 1.406981663677643, 1.8346455082120416, 1.485868384561201, 1.5594815668184234, 1.522647325284378, 1.5269528268489705, 1.6015142233917594, 1.80210690024615, 1.2978870806495706, 1.8518025516704488, 1.455023751906683, 1.3034100438655642, 1.37050855662704, 1.6945798601797897, 1.663716375981405, 1.511897596014269, 1.6378578430223698, 1.4697543268466824, 1.642653782130131, 1.4808005946928984, 1.511897596014269, 1.412409228794446, 1.7673642076278957, 1.5955263892495937, 1.7730337158018288, 1.6065631397488385, 1.449042163761236, 1.802777624719604, 1.3132020634442203, 1.5488741079890418, 1.3340066759761655, 1.4382550176792908, 1.659013868748246, 1.847417311283644, 1.5849430707374117, 1.7418496047960008, 1.8361774213478947, 1.3546417018378962, 1.5323755631868592, 1.6945798601797897, 1.5169573017136326, 1.2978870806495706, 1.8518025516704488, 1.7673642076278957, 1.5747301747801037, 1.5857889968242211, 1.4808005946928984, 1.590369231400328, 1.4333958900838095, 1.706014499648521, 1.7263217239235826, 1.6113256603765849, 1.7418496047960008, 1.663716375981405, 1.2874525221379407, 1.3132020634442203, 1.6378578430223698, 1.455023751906683, 1.5747301747801037, 1.8356616600675493, 1.3184664436640334, 1.417429032731308, 1.659013868748246, 1.449042163761236, 1.8147691941158937, 1.5169573017136326, 1.485868384561201, 1.6277528915533617, 1.412578792940193, 1.7730337158018288, 1.7678721106662054, 1.7829230484252725, 1.3290286565120697, 1.710533351135192, 1.3340066759761655, 1.4386709371480566, 1.3601216766554785, 1.3290286565120697, 1.8564874208181572, 1.3290286565120697, 1.814031127508391, 1.42806487344776, 1.710533351135192, 1.3340066759761655, 1.3705128024895008, 1.4229203181741186, 1.3290286565120697, 1.6945798601797897, 1.3250793286429356, 1.4333920485221476, 1.3184664436640334, 1.449042163761236, 1.590369231400328, 1.5015453526671363, 1.412409228794446, 1.4012037783587623, 1.7418496047960008, 1.3804366761974138, 1.802777624719604, 1.5649019950937946, 1.3395306867947354, 1.7468706179837907, 1.7678721106662054, 1.4908444050400238, 1.6745692479879102, 1.7418496047960008, 1.349314997503458, 1.7831890223273277, 1.3804366761974138, 1.6065631397488385, 1.4173547174485526, 1.802765665167823, 1.7570177850353066, 1.8307038456739428, 1.7263217239235826, 1.323170899227622, 1.369850003583894, 1.5649019950937946, 1.3705128024895008, 1.6277528915533617, 1.5269528268489705, 1.8199041089501269, 1.6745692479879102, 1.318633896753293, 1.7936240148573608, 1.8564874208181572, 1.663716375981405, 1.293463613844243, 1.4173547174485526, 1.412409228794446, 1.5857889968242211, 1.4539012274845928, 1.7364225056478186, 1.3861115151535393, 1.527914258251028, 1.762668359743147, 1.8518025516704488, 1.4229203181741186, 1.7936240148573608, 1.5480915247767786, 1.4229203181741186, 1.3034100438655642, 1.454146206723569, 1.37050855662704, 1.3389913790695755, 1.485868384561201, 1.5015453526671363, 1.5065638960681105, 1.8470259949329195, 1.8518025516704488, 1.5747301747801037, 1.4960918298136696, 1.6745692479879102, 1.846327249719927, 1.802765665167823, 1.762315070409309, 1.3340066759761655, 1.7003110272642588, 1.5269528268489705, 1.5065638960681105, 1.8518025516704488, 1.5269528268489705, 1.7418496047960008, 1.4229203181741186, 1.7673642076278957, 1.4960918298136696, 1.417429032731308, 1.835349194223408, 1.663716375981405, 1.4229203181741186, 1.7263217239235826, 1.3184664436640334, 1.412578792940193, 1.4075983731469897, 1.710533351135192, 1.42806487344776, 1.406981663677643, 1.3647827949260758, 1.3543220466259964, 1.6744741591159715, 1.762668359743147, 1.8257567905665535, 1.8137521577549052, 1.5597659473370362, 1.3340066759761655, 1.522647325284378, 1.642653782130131, 1.4859035988304024, 1.4333920485221476, 1.3967008232726328, 1.412578792940193, 1.4386709371480566, 1.5488741079890418, 1.809307963702852, 1.3441891937970554, 1.3752364150256224, 1.6277528915533617, 1.5174859938489869, 1.391284788852726, 1.4075983731469897, 1.80460990458052, 1.7263217239235826, 1.5480915247767786, 1.3647355108681518, 1.4382550176792908, 1.3134751321324272, 1.4382550176792908, 1.809307963702852, 1.8307038456739428, 1.814031127508391, 1.538236598942558, 1.5269528268489705, 1.3601216766554785, 1.8564874208181572, 1.80210690024615, 1.7936240148573608, 1.37050855662704, 1.846327249719927, 1.7364225056478186, 1.5015453526671363, 1.659013868748246, 1.3250793286429356, 1.3077959946944353, 1.7673642076278957, 1.8199041089501269, 1.7936240148573608, 1.5015453526671363, 1.7570177850353066, 1.433445432156979, 1.7831890223273277, 1.663716375981405, 1.318293040102702, 1.3389913790695755, 1.3546417018378962, 1.8307038456739428, 1.5747301747801037, 1.3090153642307354, 1.7364225056478186, 1.8518025516704488, 1.3804366761974138, 1.6327350407099108, 1.3034100438655642, 1.323170899227622, 1.288003392619118, 1.802765665167823, 1.433445432156979, 1.663716375981405, 1.4960918298136696, 1.802765665167823, 1.4173547174485526, 1.7003110272642588, 1.4960918298136696, 1.3804366761974138, 1.80460990458052, 1.3290286565120697, 1.6327350407099108, 1.5269528268489705, 1.6849029086609286, 1.7417172507457144, 1.5323755631868592, 1.6327350407099108, 1.5488741079890418, 1.8251136435078368, 1.4386709371480566, 1.354703921319241, 1.3090153642307354, 1.773037755078937, 1.417429032731308, 1.511897596014269, 1.406981663677643, 1.7418496047960008, 1.4539012274845928, 1.6015142233917594, 1.5857889968242211, 1.511897596014269, 1.7829230484252725, 1.5955263892495937, 1.7936240148573608, 1.3395306867947354, 1.5480915247767786, 1.6745692479879102, 1.5323755631868592, 1.7517304870664143, 1.5955263892495937, 1.8518025516704488, 1.3250793286429356, 1.6015142233917594, 1.8147691941158937, 1.663716375981405, 1.3236741274998955, 1.3181691588445197, 1.354703921319241, 1.4539012274845928, 1.538236598942558, 1.710533351135192, 1.7158065389330133, 1.5269528268489705, 1.375392016895762, 1.7364225056478186, 1.802579500826209, 1.6538540573335014, 1.7936240148573608, 1.3340066759761655, 1.4386709371480566, 1.804077040117352, 1.7829230484252725, 1.3395306867947354, 1.6744741591159715, 1.804077040117352, 1.3647355108681518, 1.8518025516704488, 1.3395306867947354, 1.3181691588445197, 1.6538540573335014, 1.5065638960681105, 1.6945798601797897, 1.5638491446744425, 1.4539012274845928, 1.323872422244268, 1.3290286565120697, 1.5488741079890418, 1.4382550176792908, 1.323872422244268, 1.814201935767392, 1.5597659473370362, 1.7570177850353066, 1.6277528915533617, 1.6113256603765849, 1.454146206723569, 1.8307038456739428, 1.3236741274998955, 1.538236598942558, 1.5488741079890418, 1.4173547174485526, 1.4386709371480566, 1.7263217239235826, 1.293463613844243, 1.3033573559038203, 1.3034100438655642, 1.4539012274845928, 1.6849029086609286, 1.4960918298136696, 1.8257567905665535, 1.8307038456739428, 1.6327350407099108, 1.6378578430223698, 1.7158065389330133, 1.706014499648521, 1.835349194223408, 1.369850003583894, 1.8257567905665535, 1.7936240148573608, 1.3250793286429356, 1.3077959946944353, 1.3077959946944353, 1.3290286565120697, 1.433445432156979, 1.7517304870664143, 1.5857889968242211, 1.8361774213478947, 1.4012037783587623, 1.318293040102702, 1.293463613844243, 1.406981663677643, 1.4333958900838095, 1.659013868748246, 1.824613268496936, 1.412409228794446, 1.7829230484252725, 1.7730337158018288, 1.3034100438655642, 1.3340066759761655, 1.8346455082120416, 1.4697543268466824, 1.6378578430223698, 1.3033573559038203, 1.4382550176792908, 1.7003110272642588, 1.7831890223273277, 1.6744741591159715, 1.323170899227622, 1.449042163761236, 1.3546417018378962, 1.6849029086609286, 1.3090153642307354, 1.2980735056918902, 1.4697543268466824, 1.6327350407099108, 1.4382550176792908, 1.813969388710352, 1.4382550176792908, 1.4908444050400238, 1.3647355108681518, 1.3752364150256224, 1.8346455082120416, 1.3236741274998955, 1.80460990458052, 1.5649019950937946, 1.8564874208181572, 1.449042163761236, 1.5747301747801037, 1.318633896753293, 1.4333920485221476, 1.605818899130659, 1.8356616600675493, 1.5480915247767786, 1.7993770651972192, 1.37050855662704, 1.663716375981405, 1.6849029086609286, 1.4173547174485526, 1.412409228794446, 1.4382550176792908, 1.3861115151535393, 1.7364225056478186, 1.7468706179837907, 1.8307038456739428, 1.433445432156979, 1.4173547174485526, 1.293463613844243, 1.605818899130659, 1.8246195526864504, 1.6327350407099108, 1.5955263892495937, 1.6327350407099108, 1.6327350407099108, 1.5269528268489705, 1.323872422244268, 1.762668359743147, 1.8247738529891333, 1.2978870806495706, 1.8251136435078368, 1.6065631397488385, 1.8137521577549052, 1.5849430707374117, 1.7360913511847138, 1.5065638960681105, 1.7831890223273277, 1.4960918298136696, 1.7158065389330133, 1.813969388710352, 1.5849430707374117, 1.417429032731308, 1.3389913790695755, 1.3033573559038203, 1.6849029086609286, 1.3647827949260758, 1.7678721106662054, 1.7360913511847138, 1.3647827949260758, 1.659013868748246, 1.3090153642307354, 1.7678721106662054, 1.3861115151535393, 1.37050855662704, 1.4752095869031632, 1.622125485521159, 1.3861115151535393, 1.8246195526864504, 1.2980735056918902, 1.3290286565120697, 1.480413677976106, 1.590369231400328, 1.3134751321324272, 1.6378578430223698, 1.349314997503458, 1.3030329186405918, 1.7418496047960008, 1.7158065389330133, 1.7364225056478186, 1.8147691941158937, 1.3077959946944353, 1.449042163761236, 1.5169573017136326, 1.7417172507457144, 1.4908444050400238, 1.3184664436640334, 1.433445432156979, 1.6113256603765849, 1.417429032731308, 1.5488741079890418, 1.454146206723569, 1.42806487344776, 1.3033573559038203, 1.375392016895762, 1.5747301747801037, 1.8137521577549052, 1.7829230484252725, 1.412409228794446, 1.7418496047960008, 1.4752095869031632, 1.7831890223273277, 1.5638491446744425, 1.6015142233917594, 1.813969388710352, 1.8247738529891333, 1.3967008232726328, 1.809307963702852, 1.527914258251028, 1.80460990458052, 1.5169573017136326, 1.3134751321324272, 1.5649019950937946, 1.7468706179837907, 1.3286444309174914, 1.6745692479879102, 1.8199041089501269, 1.8251136435078368, 1.454146206723569, 1.8356616600675493, 1.7829230484252725, 1.3862287677978349, 1.814031127508391, 1.5065638960681105, 1.412578792940193, 1.7678721106662054, 1.4752095869031632, 1.6378578430223698, 1.802765665167823, 1.8246195526864504, 1.5649019950937946, 1.7673642076278957, 1.4075983731469897, 1.622125485521159, 1.5015453526671363, 1.706014499648521, 1.3647827949260758, 1.449042163761236, 1.3389913790695755, 1.3250793286429356, 1.7936240148573608, 1.2980735056918902, 1.3601216766554785, 1.8352625275821128, 1.3752364150256224, 1.3236741274998955, 1.8246195526864504, 1.659013868748246, 1.7676172924938447, 1.8564874208181572, 1.4173547174485526, 1.7884432335370462, 1.80460990458052, 1.3705128024895008, 1.3034100438655642, 1.7829230484252725, 1.4859035988304024, 1.288003392619118, 1.3601216766554785, 1.7263217239235826, 1.318633896753293, 1.323872422244268, 1.3441891937970554, 1.3546417018378962, 1.3132020634442203, 1.622125485521159, 1.3647827949260758, 1.7831890223273277, 1.288003392619118, 1.846327249719927, 1.802765665167823, 1.5638491446744425, 1.5955263892495937, 1.659013868748246, 1.3752364150256224, 1.3647355108681518, 1.4859035988304024, 1.7678721106662054, 1.3647827949260758, 1.5174859938489869, 1.5285252629756445, 1.4012037783587623, 1.4012037783587623, 1.5323755631868592, 1.3389145230206971, 1.480413677976106, 1.3543220466259964, 1.417429032731308, 1.7993770651972192, 1.375392016895762, 1.8356616600675493, 1.5594815668184234, 1.802579500826209, 1.7570177850353066, 1.5747301747801037, 1.7364225056478186, 1.5638491446744425, 1.7993770651972192, 1.7884432335370462, 1.4382550176792908, 1.6015142233917594, 1.80210690024615, 1.55468935359061, 1.42806487344776, 1.6015142233917594, 1.590369231400328, 1.318293040102702, 1.4333920485221476, 1.3132020634442203, 1.7360913511847138, 1.6113256603765849, 1.3033573559038203, 1.4333958900838095, 1.527914258251028, 1.5849430707374117, 1.835349194223408, 1.6065631397488385, 1.5174859938489869, 1.3250793286429356, 1.590369231400328, 1.3134751321324272, 1.5955263892495937, 1.8251136435078368, 1.8346455082120416, 1.3290286565120697, 1.7673642076278957, 1.7517304870664143, 1.55468935359061, 1.2978870806495706, 1.5747301747801037, 1.80460990458052, 1.375392016895762, 1.4539012274845928, 1.4808005946928984, 1.8247738529891333, 1.7730337158018288, 1.318293040102702, 1.710533351135192, 1.433445432156979, 1.813969388710352, 1.8352625275821128, 1.4697543268466824, 1.480413677976106, 1.8025980036306504, 1.4752095869031632, 1.8199041089501269, 1.7829230484252725, 1.5857889968242211, 1.5065638960681105, 1.5857889968242211, 1.2874525221379407, 1.4173547174485526, 1.605818899130659, 1.6378578430223698, 1.293463613844243, 1.804077040117352, 1.6015142233917594, 1.42806487344776, 1.809307963702852, 1.8564874208181572, 1.663716375981405, 1.5597659473370362, 1.804077040117352, 1.7360913511847138, 1.6945798601797897, 1.809307963702852, 1.7468706179837907, 1.37050855662704, 1.3077959946944353, 1.5857889968242211, 1.7360913511847138, 1.835349194223408, 1.6378578430223698, 1.5480915247767786, 1.847417311283644, 1.3286444309174914, 1.8247738529891333, 1.6113256603765849, 1.391284788852726, 1.7829230484252725, 1.8134404914735824, 1.3290286565120697, 1.835349194223408, 1.3077959946944353, 1.8247738529891333, 1.3250793286429356, 1.8307038456739428, 1.3340066759761655, 1.3134751321324272, 1.3705128024895008, 1.80460990458052, 1.3030329186405918, 1.814201935767392, 1.449042163761236, 1.6113256603765849, 1.3290286565120697, 1.288003392619118, 1.835349194223408, 1.480413677976106, 1.5065638960681105, 1.5955263892495937, 1.6378578430223698, 1.6849029086609286, 1.3647827949260758, 1.710533351135192, 1.6538540573335014, 1.7417172507457144, 1.6378578430223698, 1.7003110272642588, 1.7360913511847138, 1.7831890223273277, 1.6849029086609286, 1.825581504220376, 1.323872422244268, 1.2980735056918902, 1.485868384561201, 1.824613268496936, 1.4960918298136696, 1.3132020634442203, 1.449042163761236, 1.3030329186405918, 1.8564874208181572, 1.485868384561201, 1.6113256603765849, 1.2874525221379407, 1.7003110272642588, 1.642653782130131, 1.4752095869031632, 1.4012037783587623, 1.8346455082120416, 1.3286444309174914, 1.449042163761236, 1.8518025516704488, 1.7417172507457144, 1.659013868748246, 1.605818899130659, 1.7678721106662054, 1.454146206723569, 1.7360913511847138, 1.2980735056918902, 1.538236598942558, 1.825581504220376, 1.5174859938489869, 1.3250793286429356, 1.288003392619118, 1.622125485521159, 1.802765665167823, 1.4229203181741186, 1.7993770651972192, 1.3077959946944353, 1.4012037783587623, 1.7730337158018288, 1.3861115151535393, 1.480413677976106, 1.6745692479879102, 1.6538540573335014, 1.6744741591159715, 1.7364225056478186, 1.4697543268466824, 1.6277528915533617, 1.7360913511847138, 1.762668359743147, 1.659013868748246, 1.6065631397488385, 1.454146206723569, 1.3752364150256224, 1.847417311283644, 1.3543220466259964, 1.406981663677643, 1.4075983731469897, 1.802579500826209, 1.4333920485221476, 1.3546417018378962, 1.802765665167823, 1.522647325284378, 1.3705128024895008, 1.5174859938489869, 1.318293040102702, 1.4229203181741186, 1.8251136435078368, 1.7263217239235826, 1.4173547174485526, 1.847417311283644, 1.706014499648521, 1.349314997503458, 1.5594815668184234, 1.6744741591159715, 1.538236598942558, 1.318293040102702, 1.5480915247767786, 1.6378578430223698, 1.6744741591159715, 1.4752095869031632, 1.480413677976106, 1.847417311283644, 1.3286444309174914, 1.55468935359061, 1.417429032731308, 1.7360913511847138, 1.511897596014269, 1.590369231400328, 1.3752364150256224, 1.3132020634442203, 1.809307963702852, 1.7003110272642588, 1.6745692479879102, 1.522647325284378, 1.5849430707374117, 1.3861115151535393, 1.8352625275821128, 1.8352625275821128, 1.37050855662704, 1.80460990458052, 1.5594815668184234, 1.7676172924938447, 1.5015453526671363, 1.7517304870664143, 1.391284788852726, 1.2874525221379407, 1.762315070409309, 1.3967008232726328, 1.825581504220376, 1.37050855662704, 1.455023751906683, 1.773037755078937, 1.7730337158018288, 1.5638491446744425, 1.3705128024895008, 1.42806487344776, 1.323170899227622, 1.590369231400328, 1.5638491446744425, 1.3030329186405918, 1.7936240148573608, 1.5955263892495937, 1.6745692479879102, 1.3546417018378962, 1.3033573559038203, 1.7730337158018288, 1.814201935767392, 1.7884432335370462, 1.3546417018378962, 1.7831890223273277, 1.3181691588445197, 1.802777624719604, 1.7730337158018288, 1.814031127508391, 1.824613268496936, 1.4229203181741186, 1.7673642076278957, 1.3395306867947354, 1.6744741591159715, 1.3090153642307354, 1.6745692479879102, 1.824613268496936, 1.4752095869031632, 1.5857889968242211, 1.3340066759761655, 1.354703921319241, 1.824613268496936, 1.814031127508391, 1.5285252629756445, 1.6065631397488385, 1.809307963702852, 1.4229203181741186, 1.659013868748246, 1.318293040102702, 1.455023751906683, 1.318293040102702, 1.4859035988304024, 1.4752095869031632, 1.3132020634442203, 1.485868384561201, 1.814031127508391, 1.7263217239235826, 1.455023751906683, 1.3389145230206971, 1.527914258251028, 1.8199041089501269, 1.4173547174485526, 1.4012037783587623, 1.375392016895762, 1.323170899227622, 1.391284788852726, 1.6113256603765849, 1.3543220466259964, 1.4382550176792908, 1.5649019950937946, 1.454146206723569, 1.4333958900838095, 1.7003110272642588, 1.762668359743147, 1.3250793286429356, 1.762315070409309, 1.5955263892495937, 1.293463613844243, 1.710533351135192, 1.7678721106662054, 1.5849430707374117, 1.5169573017136326, 1.6327350407099108, 1.5594815668184234, 1.804077040117352, 1.3752364150256224, 1.5269528268489705, 1.7673642076278957, 1.3134751321324272, 1.3601216766554785, 1.642653782130131, 1.7884432335370462, 1.6378578430223698, 1.323872422244268, 1.4859035988304024, 1.354703921319241, 1.455023751906683, 1.3132020634442203, 1.814201935767392, 1.3752364150256224, 1.5174859938489869, 1.642653782130131, 1.8246195526864504, 1.7676172924938447, 1.5323755631868592, 1.835349194223408, 1.8251136435078368, 1.6113256603765849, 1.3290286565120697, 1.369850003583894, 1.802777624719604, 1.5285252629756445, 1.3647355108681518, 1.527914258251028, 1.590369231400328, 1.8257567905665535, 1.288003392619118, 1.3647827949260758, 1.7417172507457144, 1.391284788852726, 1.454146206723569, 1.3967008232726328, 1.449042163761236, 1.4333920485221476, 1.605818899130659, 1.659013868748246, 1.3090153642307354, 1.3705128024895008, 1.3184664436640334, 1.417429032731308, 1.6277528915533617, 1.824613268496936, 1.538236598942558, 1.412578792940193, 1.8361774213478947, 1.527914258251028, 1.5169573017136326, 1.4752095869031632, 1.622125485521159, 1.622125485521159, 1.710533351135192, 1.455023751906683, 1.7831890223273277, 1.706014499648521, 1.6277528915533617, 1.7831890223273277, 1.5955263892495937, 1.659013868748246, 1.4752095869031632, 1.6744741591159715, 1.824613268496936, 1.538236598942558, 1.710533351135192, 1.710533351135192, 1.824613268496936, 1.5597659473370362, 1.8470259949329195, 1.3134751321324272, 1.7673642076278957, 1.3752364150256224, 1.809307963702852, 1.354703921319241, 1.6378578430223698, 1.7829230484252725, 1.847417311283644, 1.8351461429226603, 1.7829230484252725, 1.5488741079890418, 1.318293040102702, 1.4539012274845928, 1.4333958900838095, 1.825780747577624, 1.7417172507457144, 1.3543220466259964, 1.6745692479879102, 1.7418496047960008, 1.3030329186405918, 1.55468935359061, 1.7829230484252725, 1.642653782130131, 1.8030683142834096, 1.8246195526864504, 1.3647827949260758, 1.4333958900838095, 1.8251136435078368, 1.3647355108681518, 1.6015142233917594, 1.3647827949260758, 1.605818899130659, 1.4229203181741186, 1.5597659473370362, 1.288003392619118, 1.5480915247767786, 1.5065638960681105, 1.455023751906683, 1.6378578430223698, 1.8352625275821128, 1.8518025516704488, 1.3441891937970554, 1.3034100438655642, 1.7364225056478186, 1.2980735056918902, 1.5015453526671363, 1.7003110272642588, 1.7418496047960008, 1.4012037783587623, 1.4382550176792908, 1.809307963702852, 1.5955263892495937, 1.4697543268466824, 1.3134751321324272, 1.454146206723569, 1.5174859938489869, 1.6378578430223698, 1.4229203181741186, 1.7468706179837907, 1.3647355108681518, 1.4859035988304024, 1.4333920485221476, 1.80460990458052, 1.349314997503458, 1.5015453526671363, 1.3077959946944353, 1.323872422244268, 1.7158065389330133, 1.55468935359061, 1.7993770651972192, 1.4012037783587623, 1.3861115151535393, 1.7936240148573608, 1.6015142233917594, 1.3647827949260758, 1.5480915247767786, 1.3861115151535393, 1.3752364150256224, 1.3862287677978349, 1.4333920485221476, 1.762315070409309, 1.8307038456739428, 1.7417172507457144, 1.8361774213478947, 1.538236598942558, 1.3441891937970554, 1.8147691941158937, 1.8361774213478947, 1.7884432335370462, 1.7730337158018288, 1.8307038456739428, 1.4229203181741186, 1.8470259949329195, 1.7417172507457144, 1.8356616600675493, 1.3033573559038203, 1.7673642076278957, 1.522647325284378, 1.369850003583894, 1.3090153642307354, 1.5285252629756445, 1.8307038456739428, 1.7364225056478186, 1.2874525221379407, 1.6744741591159715, 1.455023751906683, 1.417429032731308, 1.7993770651972192, 1.349314997503458, 1.5747301747801037, 1.835349194223408, 1.7884432335370462, 1.4333920485221476, 1.7517304870664143, 1.8147691941158937, 1.7003110272642588, 1.4333958900838095, 1.6538540573335014, 1.3030329186405918, 1.7829230484252725, 1.8030683142834096, 1.3250793286429356, 1.5174859938489869, 1.3705128024895008, 1.8137521577549052, 1.5488741079890418, 1.6744741591159715, 1.3395306867947354, 1.3967008232726328, 1.3389913790695755, 1.3250793286429356, 1.642653782130131, 1.5285252629756445, 1.7158065389330133, 1.3184664436640334, 1.4012037783587623, 1.6327350407099108, 1.642653782130131, 1.4697543268466824, 1.7993770651972192, 1.809307963702852, 1.6113256603765849, 1.433445432156979, 1.3340066759761655, 1.4960918298136696, 1.3034100438655642, 1.3601216766554785, 1.6849029086609286, 1.7673642076278957, 1.824613268496936, 1.659013868748246, 1.3340066759761655, 1.318633896753293, 1.3389913790695755, 1.7884432335370462, 1.7417172507457144, 1.7418496047960008, 1.2874525221379407, 1.5747301747801037, 1.485868384561201, 1.642653782130131, 1.522647325284378, 1.7678721106662054, 1.846327249719927, 1.802579500826209, 1.622125485521159, 1.3030329186405918, 1.3132020634442203, 1.4697543268466824, 1.762668359743147, 1.4908444050400238, 1.706014499648521, 1.3647827949260758, 1.8346455082120416, 1.354703921319241, 1.7418496047960008, 1.3647355108681518, 1.659013868748246, 1.4697543268466824, 1.8025980036306504, 1.349314997503458, 1.7829230484252725, 1.6538540573335014, 1.8147691941158937, 1.7673642076278957, 1.659013868748246, 1.7831890223273277, 1.6327350407099108, 1.42806487344776, 1.3033573559038203, 1.3077959946944353, 1.6065631397488385, 1.4808005946928984, 1.449042163761236, 1.5849430707374117, 1.4075983731469897, 1.710533351135192, 1.809307963702852, 1.706014499648521, 1.42806487344776, 1.3395306867947354, 1.7678721106662054, 1.5649019950937946, 1.762315070409309, 1.7570177850353066, 1.3340066759761655, 1.7884432335370462, 1.449042163761236, 1.2874525221379407, 1.5747301747801037, 1.3967008232726328, 1.4012037783587623, 1.7936240148573608, 1.7360913511847138, 1.802765665167823, 1.3077959946944353, 1.4012037783587623, 1.3340066759761655, 1.8134404914735824, 1.5285252629756445, 1.5285252629756445, 1.8025980036306504, 1.5480915247767786, 1.455023751906683, 1.6277528915533617, 1.7418496047960008, 1.6744741591159715, 1.5488741079890418, 1.6277528915533617, 1.5849430707374117, 1.5169573017136326, 1.6065631397488385, 1.522647325284378, 1.2874525221379407, 1.3861115151535393, 1.802777624719604, 1.3543220466259964, 1.522647325284378, 1.4386709371480566, 1.5857889968242211, 1.6113256603765849, 1.6378578430223698, 1.5269528268489705, 1.6849029086609286, 1.5857889968242211, 1.3132020634442203, 1.8030683142834096, 1.80210690024615, 1.4697543268466824, 1.8147691941158937, 1.5849430707374117, 1.318293040102702, 1.369850003583894, 1.2874525221379407, 1.5480915247767786, 1.4752095869031632, 1.527914258251028, 1.8134404914735824, 1.8257567905665535, 1.293463613844243, 1.7417172507457144, 1.642653782130131, 1.6945798601797897, 1.4539012274845928, 1.659013868748246, 1.3601216766554785, 1.605818899130659, 1.7676172924938447, 1.8134404914735824, 1.3861115151535393, 1.6745692479879102, 1.4386709371480566, 1.3647827949260758, 1.4808005946928984, 1.762315070409309, 1.369850003583894, 1.7468706179837907, 1.4859035988304024, 1.5649019950937946, 1.5480915247767786, 1.3862287677978349, 1.824613268496936, 1.4229203181741186, 1.412409228794446, 1.8352625275821128, 1.809307963702852, 1.449042163761236, 1.538236598942558, 1.7468706179837907, 1.3389145230206971, 1.8134404914735824, 1.6327350407099108, 1.454146206723569, 1.55468935359061, 1.3184664436640334, 1.7829230484252725, 1.8134404914735824, 1.5480915247767786, 1.773037755078937, 1.659013868748246, 1.4075983731469897, 1.3134751321324272, 1.3236741274998955, 1.809307963702852, 1.3132020634442203, 1.3090153642307354, 1.454146206723569, 1.3395306867947354, 1.847417311283644, 1.825581504220376, 1.527914258251028, 1.3705128024895008, 1.3389913790695755, 1.6849029086609286, 1.4382550176792908, 1.406981663677643, 1.3286444309174914, 1.3236741274998955, 1.7673642076278957, 1.8470259949329195, 1.5649019950937946, 1.8307038456739428, 1.7003110272642588, 1.527914258251028, 1.3601216766554785, 1.7360913511847138, 1.5269528268489705, 1.7570177850353066, 1.4012037783587623, 1.2980735056918902, 1.5015453526671363, 1.4012037783587623, 1.480413677976106, 1.6113256603765849, 1.4382550176792908, 1.412409228794446, 1.5488741079890418, 1.8307038456739428, 1.7418496047960008, 1.710533351135192, 1.7517304870664143, 1.80460990458052, 1.3286444309174914, 1.8030683142834096, 1.3804366761974138, 1.349314997503458, 1.3184664436640334, 1.8137521577549052, 1.6065631397488385, 1.55468935359061, 1.3601216766554785, 1.6327350407099108, 1.4539012274845928, 1.7730337158018288, 1.3389913790695755, 1.4229203181741186, 1.288003392619118, 1.809307963702852, 1.412409228794446, 1.391284788852726, 1.4960918298136696, 1.318293040102702, 1.6745692479879102, 1.5174859938489869, 1.5857889968242211, 1.5174859938489869, 1.5649019950937946, 1.417429032731308, 1.3543220466259964, 1.8199041089501269, 1.3862287677978349, 1.4752095869031632, 1.802777624719604, 1.7829230484252725, 1.3601216766554785, 1.3236741274998955, 1.288003392619118, 1.455023751906683, 1.5174859938489869, 1.762315070409309, 1.538236598942558, 1.3340066759761655, 1.7360913511847138, 1.3184664436640334, 1.8307038456739428, 1.4333958900838095, 1.706014499648521, 1.7678721106662054, 1.6745692479879102, 1.4859035988304024, 1.7993770651972192, 1.412409228794446, 1.8518025516704488, 1.8518025516704488, 1.4960918298136696, 1.3286444309174914, 1.3034100438655642, 1.485868384561201, 1.455023751906683, 1.6745692479879102, 1.449042163761236, 1.3543220466259964, 1.3389913790695755, 1.762315070409309, 1.3286444309174914, 1.3441891937970554, 1.4539012274845928, 1.7570177850353066, 1.7831890223273277, 1.455023751906683, 1.663716375981405, 1.7003110272642588, 1.3389913790695755, 1.5015453526671363, 1.8352625275821128, 1.8351461429226603, 1.3286444309174914, 1.369850003583894, 1.825581504220376, 1.369850003583894, 1.3601216766554785, 1.5323755631868592, 1.6015142233917594, 1.6327350407099108, 1.6113256603765849, 1.5857889968242211, 1.8257567905665535, 1.8246195526864504, 1.55468935359061, 1.5849430707374117, 1.4808005946928984, 1.605818899130659, 1.6327350407099108, 1.4075983731469897, 1.5597659473370362, 1.5480915247767786, 1.809307963702852, 1.288003392619118, 1.3395306867947354, 1.4229203181741186, 1.8257567905665535, 1.3286444309174914, 1.511897596014269, 1.5174859938489869, 1.3705128024895008, 1.622125485521159, 1.3181691588445197, 1.8518025516704488, 1.6277528915533617, 1.813969388710352, 1.318633896753293, 1.7993770651972192, 1.318633896753293, 1.4960918298136696, 1.4697543268466824, 1.288003392619118, 1.511897596014269, 1.6849029086609286, 1.6945798601797897, 1.3184664436640334, 1.7730337158018288, 1.3340066759761655, 1.293463613844243, 1.3752364150256224, 1.7676172924938447, 1.825780747577624, 1.433445432156979, 1.5269528268489705, 1.6538540573335014, 1.3752364150256224, 1.8199041089501269, 1.412578792940193, 1.5594815668184234, 1.3861115151535393, 1.3034100438655642, 1.80460990458052, 1.80460990458052, 1.8257567905665535, 1.802579500826209, 1.4382550176792908, 1.847417311283644, 1.5649019950937946, 1.802579500826209, 1.7678721106662054, 1.8199041089501269, 1.412409228794446, 1.762668359743147, 1.391284788852726, 1.3804366761974138, 1.7158065389330133, 1.527914258251028, 1.7570177850353066, 1.6327350407099108, 1.4960918298136696, 1.846327249719927, 1.3862287677978349, 1.4333920485221476, 1.7364225056478186, 1.318633896753293, 1.773037755078937, 1.3395306867947354, 1.80210690024615, 1.622125485521159, 1.511897596014269, 1.80460990458052, 1.538236598942558, 1.706014499648521, 1.7364225056478186, 1.3804366761974138, 1.5488741079890418, 1.8518025516704488, 1.6945798601797897, 1.323170899227622, 1.3601216766554785, 1.7360913511847138, 1.8137521577549052, 1.3601216766554785, 1.4333958900838095, 1.762315070409309, 1.622125485521159, 1.7831890223273277, 1.80460990458052, 1.8137521577549052, 1.7570177850353066, 1.8351461429226603, 1.8030683142834096, 1.455023751906683, 1.375392016895762, 1.5849430707374117, 1.7570177850353066, 1.3546417018378962, 1.5955263892495937, 1.8307038456739428, 1.3034100438655642, 1.3077959946944353, 1.4697543268466824, 1.8346455082120416, 1.762668359743147, 1.5269528268489705, 1.8030683142834096, 1.485868384561201, 1.8257567905665535, 1.6538540573335014, 1.4333958900838095, 1.391284788852726, 1.391284788852726, 1.590369231400328, 1.710533351135192, 1.4752095869031632, 1.455023751906683, 1.318293040102702, 1.5323755631868592, 1.80460990458052, 1.8352625275821128, 1.622125485521159, 1.804077040117352, 1.412578792940193, 1.6277528915533617, 1.7673642076278957, 1.5955263892495937, 1.6945798601797897, 1.8199041089501269, 1.3132020634442203, 1.825780747577624, 1.349314997503458, 1.7993770651972192, 1.3647355108681518, 1.522647325284378, 1.455023751906683, 1.3033573559038203, 1.7829230484252725, 1.8346455082120416, 1.3389145230206971, 1.318633896753293, 1.3090153642307354, 1.3647827949260758, 1.42806487344776, 1.8307038456739428, 1.480413677976106, 1.5597659473370362, 1.4386709371480566, 1.3236741274998955, 1.8030683142834096, 1.6113256603765849, 1.4752095869031632, 1.3705128024895008, 1.80210690024615, 1.3441891937970554, 1.8518025516704488, 1.605818899130659, 1.412578792940193, 1.3030329186405918, 1.3340066759761655, 1.7829230484252725, 1.773037755078937, 1.762668359743147, 1.6065631397488385, 1.809307963702852, 1.622125485521159, 1.7936240148573608, 1.5488741079890418, 1.4752095869031632, 1.3804366761974138, 1.3077959946944353, 1.80210690024615, 1.835349194223408, 1.809307963702852, 1.3543220466259964, 1.3543220466259964, 1.3134751321324272, 1.8564874208181572, 1.3184664436640334, 1.55468935359061, 1.3286444309174914, 1.6945798601797897, 1.4808005946928984, 1.5174859938489869, 1.5174859938489869, 1.6945798601797897, 1.480413677976106, 1.847417311283644, 1.4697543268466824, 1.5955263892495937, 1.5065638960681105, 1.7003110272642588, 1.2978870806495706, 1.449042163761236, 1.622125485521159, 1.7517304870664143, 1.6113256603765849, 1.824613268496936, 1.5649019950937946, 1.3286444309174914, 1.5269528268489705, 1.3236741274998955, 1.4808005946928984, 1.6745692479879102, 1.7570177850353066, 1.2980735056918902, 1.5285252629756445, 1.835349194223408, 1.7831890223273277, 1.825780747577624, 1.5285252629756445, 1.3340066759761655, 1.4752095869031632, 1.8564874208181572, 1.511897596014269, 1.7364225056478186, 1.412578792940193, 1.6745692479879102, 1.480413677976106, 1.3647827949260758, 1.369850003583894, 1.8307038456739428, 1.42806487344776, 1.3030329186405918, 1.4333958900838095, 1.7673642076278957, 1.6065631397488385, 1.6744741591159715, 1.5594815668184234, 1.5169573017136326, 1.485868384561201, 1.406981663677643, 1.3862287677978349, 1.7678721106662054, 1.7676172924938447, 1.318293040102702, 1.480413677976106, 1.7263217239235826, 1.5015453526671363, 1.3181691588445197, 1.7468706179837907, 1.8030683142834096, 1.349314997503458, 1.6538540573335014, 1.663716375981405, 1.762315070409309, 1.55468935359061, 1.7993770651972192, 1.2978870806495706, 1.5747301747801037, 1.802579500826209, 1.762668359743147, 1.3395306867947354, 1.3647355108681518, 1.7263217239235826, 1.433445432156979, 1.3286444309174914, 1.773037755078937, 1.7570177850353066, 1.3340066759761655, 1.5597659473370362, 1.3132020634442203, 1.5597659473370362, 1.3804366761974138, 1.809307963702852, 1.3389913790695755, 1.710533351135192, 1.4173547174485526, 1.7263217239235826, 1.8147691941158937, 1.5323755631868592, 1.4229203181741186, 1.318293040102702, 1.323170899227622, 1.8356616600675493, 1.7884432335370462, 1.6065631397488385, 1.4229203181741186, 1.4333958900838095, 1.8134404914735824, 1.8199041089501269, 1.605818899130659, 1.7360913511847138, 1.80210690024615, 1.6945798601797897, 1.706014499648521, 1.5955263892495937, 1.5174859938489869, 1.8147691941158937, 1.3543220466259964, 1.5955263892495937, 1.5638491446744425, 1.3184664436640334, 1.8346455082120416, 1.7158065389330133, 1.3250793286429356, 1.6538540573335014, 1.762315070409309, 1.455023751906683, 1.3184664436640334, 1.3132020634442203, 1.391284788852726, 1.663716375981405, 1.7993770651972192, 1.8564874208181572, 1.485868384561201, 1.5323755631868592, 1.80460990458052, 1.4908444050400238, 1.485868384561201, 1.3705128024895008, 1.8351461429226603, 1.590369231400328, 1.659013868748246, 1.527914258251028, 1.8251136435078368, 1.480413677976106, 1.6113256603765849, 1.642653782130131, 1.4752095869031632, 1.809307963702852, 1.3389145230206971, 1.706014499648521, 1.846327249719927, 1.659013868748246, 1.5747301747801037, 1.480413677976106, 1.5955263892495937, 1.8251136435078368, 1.3286444309174914, 1.4859035988304024, 1.3647355108681518, 1.412578792940193, 1.7158065389330133, 1.4960918298136696, 1.323170899227622, 1.323170899227622, 1.773037755078937, 1.5955263892495937, 1.4173547174485526, 1.7158065389330133, 1.80460990458052, 1.293463613844243, 1.37050855662704, 1.2978870806495706, 1.4539012274845928, 1.511897596014269, 1.7263217239235826, 1.80460990458052, 1.8351461429226603, 1.6277528915533617, 1.7360913511847138, 1.5269528268489705, 1.7003110272642588, 1.6745692479879102, 1.7884432335370462, 1.4229203181741186, 1.8352625275821128, 1.710533351135192, 1.454146206723569, 1.3389913790695755, 1.3340066759761655, 1.3441891937970554, 1.590369231400328, 1.454146206723569, 1.7831890223273277, 1.3286444309174914, 1.3090153642307354, 1.454146206723569, 1.3967008232726328, 1.522647325284378, 1.391284788852726, 1.622125485521159, 1.663716375981405, 1.5594815668184234, 1.8361774213478947, 1.8134404914735824, 1.8518025516704488, 1.7468706179837907, 1.406981663677643, 1.6327350407099108, 1.42806487344776, 1.5649019950937946, 1.3250793286429356, 1.3290286565120697, 1.8247738529891333, 1.3601216766554785, 1.3290286565120697, 1.4960918298136696, 1.7829230484252725, 1.7468706179837907, 1.5174859938489869, 1.5849430707374117, 1.323872422244268, 1.323872422244268, 1.5638491446744425, 1.6945798601797897, 1.3862287677978349, 1.7936240148573608, 1.3804366761974138, 1.7936240148573608, 1.5857889968242211, 1.813969388710352, 1.511897596014269, 1.7364225056478186, 1.3286444309174914, 1.55468935359061, 1.3647355108681518, 1.37050855662704, 1.3290286565120697, 1.4908444050400238, 1.4808005946928984, 1.8199041089501269, 1.5323755631868592, 1.2874525221379407, 1.7417172507457144, 1.3543220466259964, 1.37050855662704, 1.4333958900838095, 1.7417172507457144, 1.824613268496936, 1.663716375981405, 1.4752095869031632, 1.8518025516704488, 1.6744741591159715, 1.3184664436640334, 1.8134404914735824, 1.6945798601797897, 1.8199041089501269, 1.7678721106662054, 1.3967008232726328, 1.3181691588445197, 1.417429032731308, 1.3134751321324272, 1.5638491446744425, 1.5857889968242211, 1.622125485521159, 1.4333958900838095, 1.3395306867947354, 1.412578792940193, 1.6378578430223698, 1.4859035988304024, 1.5285252629756445, 1.375392016895762, 1.590369231400328, 1.825581504220376, 1.3132020634442203, 1.3862287677978349, 1.5955263892495937, 1.7360913511847138, 1.802777624719604, 1.5285252629756445, 1.455023751906683, 1.605818899130659, 1.55468935359061, 1.5174859938489869, 1.847417311283644, 1.7263217239235826, 1.6065631397488385, 1.7570177850353066, 1.8247738529891333, 1.590369231400328, 1.4333920485221476, 1.7158065389330133, 1.4333920485221476, 1.375392016895762, 1.3236741274998955, 1.3647355108681518, 1.7517304870664143, 1.354703921319241, 1.293463613844243, 1.4697543268466824, 1.802765665167823, 1.349314997503458, 1.3861115151535393, 1.2980735056918902, 1.802579500826209, 1.7364225056478186, 1.5015453526671363, 1.3705128024895008, 1.6378578430223698, 1.8470259949329195, 1.480413677976106, 1.5857889968242211, 1.5857889968242211, 1.762668359743147, 1.4173547174485526, 1.5174859938489869, 1.485868384561201, 1.4859035988304024, 1.527914258251028, 1.762668359743147, 1.3967008232726328, 1.3030329186405918, 1.3441891937970554, 1.7364225056478186, 1.5597659473370362, 1.814031127508391, 1.3441891937970554, 1.802777624719604, 1.8025980036306504, 1.622125485521159, 1.4229203181741186, 1.3030329186405918, 1.3861115151535393, 1.454146206723569, 1.762668359743147, 1.3090153642307354, 1.391284788852726, 1.6277528915533617, 1.2978870806495706, 1.8518025516704488, 1.7829230484252725, 1.3441891937970554, 1.5480915247767786, 1.293463613844243, 1.3441891937970554, 1.3184664436640334, 1.8246195526864504, 1.802579500826209, 1.7829230484252725, 1.5480915247767786, 1.3030329186405918, 1.4908444050400238, 1.3090153642307354, 1.825581504220376, 1.2980735056918902, 1.4075983731469897, 1.7417172507457144, 1.5269528268489705, 1.7730337158018288, 1.6538540573335014, 1.3250793286429356, 1.3184664436640334, 1.8137521577549052, 1.5594815668184234, 1.804077040117352, 1.4229203181741186, 1.3862287677978349, 1.5849430707374117, 1.7360913511847138, 1.710533351135192, 1.433445432156979, 1.659013868748246, 1.6945798601797897, 1.5285252629756445, 1.706014499648521, 1.8352625275821128, 1.8564874208181572, 1.3034100438655642, 1.6327350407099108, 1.5323755631868592, 1.3804366761974138, 1.809307963702852, 1.590369231400328, 1.809307963702852, 1.762315070409309, 1.5065638960681105, 1.6745692479879102, 1.375392016895762, 1.7003110272642588, 1.511897596014269, 1.7678721106662054, 1.6378578430223698, 1.3861115151535393, 1.3184664436640334, 1.3395306867947354, 1.3441891937970554, 1.3441891937970554, 1.7003110272642588, 1.3389913790695755, 1.4333920485221476, 1.55468935359061, 1.6378578430223698, 1.349314997503458, 1.7468706179837907, 1.7418496047960008, 1.5747301747801037, 1.318293040102702, 1.7360913511847138, 1.3546417018378962, 1.6065631397488385, 1.4960918298136696, 1.8518025516704488, 1.5955263892495937, 1.622125485521159, 1.5638491446744425, 1.7570177850353066, 1.4382550176792908, 1.8025980036306504, 1.6113256603765849, 1.590369231400328, 1.8134404914735824, 1.4386709371480566, 1.8025980036306504, 1.5649019950937946, 1.8257567905665535, 1.7468706179837907, 1.6277528915533617, 1.8352625275821128, 1.3389913790695755, 1.511897596014269, 1.375392016895762, 1.8246195526864504, 1.5849430707374117, 1.814031127508391, 1.7517304870664143, 1.8518025516704488, 1.527914258251028, 1.7517304870664143, 1.4908444050400238, 1.522647325284378, 1.706014499648521, 1.4333958900838095, 1.6538540573335014, 1.5747301747801037, 1.3543220466259964, 1.6745692479879102, 1.4075983731469897, 1.7418496047960008, 1.3546417018378962, 1.4229203181741186, 1.8199041089501269, 1.7417172507457144, 1.8247738529891333, 1.6378578430223698, 1.4752095869031632, 1.4012037783587623, 1.809307963702852, 1.511897596014269, 1.5285252629756445, 1.762668359743147, 1.7829230484252725, 1.659013868748246, 1.454146206723569, 1.710533351135192, 1.6113256603765849, 1.8307038456739428, 1.4859035988304024, 1.7360913511847138, 1.4333920485221476, 1.485868384561201, 1.318633896753293, 1.825780747577624, 1.762668359743147, 1.293463613844243, 1.6065631397488385, 1.5323755631868592, 1.4539012274845928, 1.5857889968242211, 1.6744741591159715, 1.480413677976106, 1.3647355108681518, 1.412578792940193, 1.323872422244268, 1.773037755078937, 1.3090153642307354, 1.7263217239235826, 1.7360913511847138, 1.375392016895762, 1.5174859938489869, 1.7829230484252725, 1.4908444050400238, 1.847417311283644, 1.8025980036306504, 1.3647355108681518, 1.3441891937970554, 1.3286444309174914, 1.3546417018378962, 1.4859035988304024, 1.8025980036306504, 1.6327350407099108, 1.318293040102702, 1.3250793286429356, 1.3862287677978349, 1.288003392619118, 1.7936240148573608, 1.412578792940193, 1.522647325284378, 1.5597659473370362, 1.3090153642307354, 1.4012037783587623, 1.710533351135192, 1.659013868748246, 1.3134751321324272, 1.5169573017136326, 1.6538540573335014, 1.7263217239235826, 1.80210690024615, 1.37050855662704, 1.7678721106662054, 1.8518025516704488, 1.7517304870664143, 1.663716375981405, 1.3134751321324272, 1.3132020634442203, 1.605818899130659, 1.7418496047960008, 1.4012037783587623, 1.3033573559038203, 1.2980735056918902, 1.3030329186405918, 1.659013868748246, 1.8134404914735824, 1.3862287677978349, 1.3033573559038203, 1.6277528915533617, 1.659013868748246, 1.802765665167823, 1.4697543268466824, 1.8147691941158937, 1.5269528268489705, 1.5285252629756445, 1.663716375981405, 1.825780747577624, 1.6277528915533617, 1.455023751906683, 1.412409228794446, 1.7517304870664143, 1.7678721106662054, 1.8346455082120416, 1.8470259949329195, 1.3601216766554785, 1.5597659473370362, 1.3132020634442203, 1.622125485521159, 1.6538540573335014, 1.8470259949329195, 1.42806487344776, 1.4012037783587623, 1.6745692479879102, 1.5488741079890418, 1.5488741079890418, 1.8518025516704488, 1.5323755631868592, 1.5169573017136326, 1.455023751906683, 1.3286444309174914, 1.3290286565120697, 1.762315070409309, 1.455023751906683, 1.7730337158018288, 1.6849029086609286, 1.5174859938489869, 1.391284788852726, 1.762668359743147, 1.8246195526864504, 1.8361774213478947, 1.3395306867947354, 1.590369231400328, 1.7730337158018288, 1.7884432335370462, 1.5597659473370362, 1.605818899130659, 1.412409228794446, 1.8356616600675493, 1.3250793286429356, 1.3647827949260758, 1.8025980036306504, 1.511897596014269, 1.825581504220376, 1.7263217239235826, 1.538236598942558, 1.2980735056918902, 1.5169573017136326, 1.7003110272642588, 1.5269528268489705, 1.406981663677643, 1.8470259949329195, 1.406981663677643, 1.3441891937970554, 1.825780747577624, 1.4333958900838095, 1.663716375981405, 1.3967008232726328, 1.6065631397488385, 1.5594815668184234, 1.37050855662704, 1.8518025516704488, 1.4333920485221476, 1.622125485521159, 1.5015453526671363, 1.4012037783587623, 1.6378578430223698, 1.7418496047960008, 1.2978870806495706, 1.5269528268489705, 1.7730337158018288, 1.354703921319241, 1.3290286565120697, 1.7678721106662054, 1.412578792940193, 1.354703921319241, 1.710533351135192, 1.480413677976106, 1.323170899227622, 1.4382550176792908, 1.3286444309174914, 1.6538540573335014, 1.369850003583894, 1.6327350407099108, 1.5638491446744425, 1.3543220466259964, 1.813969388710352, 1.762315070409309, 1.622125485521159, 1.3967008232726328, 1.7831890223273277, 1.642653782130131, 1.4333920485221476, 1.7570177850353066, 1.3181691588445197, 1.6378578430223698, 1.7158065389330133, 1.7570177850353066, 1.5597659473370362, 1.6113256603765849, 1.3647355108681518, 1.5955263892495937, 1.3290286565120697, 1.55468935359061, 1.3647827949260758, 1.8518025516704488, 1.3389145230206971, 1.3033573559038203, 1.3250793286429356, 1.8251136435078368, 1.3967008232726328, 1.6378578430223698, 1.3546417018378962, 1.7993770651972192, 1.8134404914735824, 1.5065638960681105, 1.7936240148573608, 1.7936240148573608, 1.4386709371480566, 1.2978870806495706, 1.7673642076278957, 1.4333920485221476, 1.8246195526864504, 1.3034100438655642, 1.433445432156979, 1.3967008232726328, 1.7158065389330133, 1.5323755631868592, 1.642653782130131, 1.391284788852726, 1.5638491446744425, 1.6065631397488385, 1.5065638960681105, 1.7829230484252725, 1.3546417018378962, 1.455023751906683, 1.3705128024895008, 1.8147691941158937, 1.3601216766554785, 1.642653782130131, 1.659013868748246, 1.4752095869031632, 1.762668359743147, 1.7158065389330133, 1.55468935359061, 1.7360913511847138, 1.5747301747801037, 1.642653782130131, 1.8470259949329195, 1.3290286565120697, 1.5269528268489705, 1.5857889968242211, 1.37050855662704, 1.8251136435078368, 1.3546417018378962, 1.538236598942558, 1.3967008232726328, 1.7673642076278957, 1.323170899227622, 1.8147691941158937, 1.8564874208181572, 1.7360913511847138, 1.6744741591159715, 1.605818899130659, 1.3236741274998955, 1.3441891937970554, 1.3647355108681518, 1.3967008232726328, 1.762315070409309, 1.5285252629756445, 1.7468706179837907, 1.42806487344776, 1.7360913511847138, 1.3290286565120697, 1.6538540573335014, 1.4960918298136696, 1.762315070409309, 1.42806487344776, 1.7570177850353066, 1.6945798601797897, 1.6015142233917594, 1.323170899227622, 1.8564874208181572, 1.5169573017136326, 1.4697543268466824, 1.814031127508391, 1.5269528268489705, 1.454146206723569, 1.3804366761974138, 1.3184664436640334, 1.7829230484252725, 1.42806487344776, 1.6945798601797897, 1.4386709371480566, 1.6849029086609286, 1.8199041089501269, 1.288003392619118, 1.8356616600675493, 1.8346455082120416, 1.7360913511847138, 1.3250793286429356, 1.406981663677643, 1.590369231400328, 1.417429032731308, 1.4697543268466824, 1.5849430707374117, 1.4382550176792908, 1.5169573017136326, 1.369850003583894, 1.8352625275821128, 1.824613268496936, 1.527914258251028, 1.7993770651972192, 1.3395306867947354, 1.5597659473370362, 1.706014499648521, 1.659013868748246, 1.7517304870664143, 1.4333958900838095, 1.4539012274845928, 1.825780747577624, 1.847417311283644, 1.5857889968242211, 1.5488741079890418, 1.3752364150256224, 1.3033573559038203, 1.5488741079890418, 1.3389145230206971, 1.37050855662704, 1.3132020634442203, 1.4859035988304024, 1.5269528268489705, 1.417429032731308, 1.5065638960681105, 1.4012037783587623, 1.762315070409309, 1.5955263892495937, 1.6945798601797897, 1.412409228794446, 1.8247738529891333, 1.5174859938489869, 1.5638491446744425, 1.3181691588445197, 1.7003110272642588, 1.4752095869031632, 1.5638491446744425, 1.3181691588445197, 1.7418496047960008, 1.318293040102702, 1.7517304870664143, 1.7468706179837907, 1.7517304870664143, 1.4075983731469897, 1.3077959946944353, 1.4333920485221476, 1.4697543268466824, 1.2874525221379407, 1.4333920485221476, 1.8134404914735824, 1.4333920485221476, 1.7570177850353066, 1.6015142233917594, 1.4075983731469897, 1.5594815668184234, 1.80460990458052, 1.433445432156979, 1.605818899130659, 1.5955263892495937, 1.5955263892495937, 1.4908444050400238, 1.354703921319241, 1.406981663677643, 1.538236598942558, 1.825780747577624, 1.3647355108681518, 1.5174859938489869, 1.4173547174485526, 1.3030329186405918, 1.804077040117352, 1.4859035988304024, 1.5488741079890418, 1.2978870806495706, 1.349314997503458, 1.6015142233917594, 1.590369231400328, 1.3034100438655642, 1.5065638960681105, 1.4386709371480566, 1.6945798601797897, 1.5323755631868592, 1.5323755631868592, 1.590369231400328, 1.2978870806495706, 1.7570177850353066, 1.7418496047960008, 1.391284788852726, 1.80210690024615, 1.417429032731308, 1.8251136435078368, 1.3546417018378962, 1.7884432335370462, 1.511897596014269, 1.8257567905665535, 1.3967008232726328, 1.8134404914735824, 1.3647355108681518, 1.8351461429226603, 1.4229203181741186, 1.3441891937970554, 1.7936240148573608, 1.846327249719927, 1.4012037783587623, 1.4752095869031632, 1.412578792940193, 1.4012037783587623, 1.5174859938489869, 1.3546417018378962, 1.7158065389330133, 1.663716375981405, 1.7673642076278957, 1.2874525221379407, 1.6378578430223698, 1.825581504220376, 1.6945798601797897, 1.605818899130659, 1.4859035988304024, 1.7730337158018288, 1.480413677976106, 1.6945798601797897, 1.8025980036306504, 1.4173547174485526, 1.3861115151535393, 1.762668359743147, 1.454146206723569, 1.3804366761974138, 1.4808005946928984, 1.8030683142834096, 1.622125485521159, 1.2874525221379407, 1.527914258251028, 1.814031127508391, 1.706014499648521, 1.349314997503458, 1.813969388710352, 1.8199041089501269, 1.4908444050400238, 1.7263217239235826, 1.7003110272642588, 1.3967008232726328, 1.6744741591159715, 1.454146206723569, 1.846327249719927, 1.3184664436640334, 1.4075983731469897, 1.8351461429226603, 1.5285252629756445, 1.6849029086609286, 1.4539012274845928, 1.511897596014269, 1.8518025516704488, 1.5285252629756445, 1.2874525221379407, 1.3181691588445197, 1.3184664436640334, 1.7936240148573608, 1.3967008232726328, 1.3389145230206971, 1.4908444050400238, 1.5480915247767786, 1.4075983731469897, 1.8025980036306504, 1.522647325284378, 1.3250793286429356, 1.7993770651972192, 1.5174859938489869, 1.7417172507457144, 1.5594815668184234, 1.4333958900838095, 1.7829230484252725, 1.5849430707374117, 1.3389145230206971, 1.8257567905665535, 1.590369231400328, 1.288003392619118, 1.4075983731469897, 1.3250793286429356, 1.6015142233917594, 1.5174859938489869, 1.5269528268489705, 1.323170899227622, 1.7417172507457144, 1.323872422244268, 1.2980735056918902, 1.8246195526864504, 1.7158065389330133, 1.7678721106662054, 1.485868384561201, 1.288003392619118, 1.4173547174485526, 1.8518025516704488, 1.511897596014269, 1.3286444309174914, 1.5638491446744425, 1.3236741274998955, 1.485868384561201, 1.3752364150256224, 1.3134751321324272, 1.7829230484252725, 1.3543220466259964, 1.3752364150256224, 1.3543220466259964, 1.7829230484252725, 1.323170899227622, 1.417429032731308, 1.8247738529891333, 1.8257567905665535, 1.825581504220376, 1.3250793286429356, 1.762315070409309, 1.4173547174485526, 1.706014499648521, 1.762315070409309, 1.5065638960681105, 1.7418496047960008, 1.6945798601797897, 1.4808005946928984, 1.7673642076278957, 1.323872422244268, 1.4229203181741186, 1.2874525221379407, 1.538236598942558, 1.3290286565120697, 1.5285252629756445, 1.323170899227622, 1.4012037783587623, 1.7673642076278957, 1.3601216766554785, 1.4960918298136696, 1.7364225056478186, 1.417429032731308, 1.3441891937970554, 1.7418496047960008, 1.7418496047960008, 1.762315070409309, 1.37050855662704, 1.6065631397488385, 1.4333920485221476, 1.3389913790695755, 1.485868384561201, 1.6849029086609286, 1.7003110272642588, 1.3181691588445197, 1.5649019950937946, 1.6744741591159715, 1.5488741079890418, 1.8137521577549052, 1.2980735056918902, 1.5065638960681105, 1.3647827949260758, 1.3441891937970554, 1.7003110272642588, 1.835349194223408, 1.318633896753293, 1.5594815668184234, 1.4697543268466824, 1.3030329186405918, 1.7673642076278957, 1.3286444309174914, 1.7003110272642588, 1.7730337158018288, 1.3389145230206971, 1.538236598942558, 1.3804366761974138, 1.4173547174485526, 1.663716375981405, 1.7158065389330133, 1.5488741079890418, 1.6065631397488385, 1.3077959946944353, 1.663716375981405, 1.412578792940193, 1.7468706179837907, 1.605818899130659, 1.706014499648521, 1.3184664436640334, 1.659013868748246, 1.5597659473370362, 1.3090153642307354, 1.809307963702852, 1.706014499648521, 1.7993770651972192, 1.3647827949260758, 1.538236598942558, 1.3236741274998955, 1.7730337158018288, 1.814031127508391, 1.7417172507457144, 1.4012037783587623, 1.375392016895762, 1.6065631397488385, 1.349314997503458, 1.8246195526864504, 1.7360913511847138, 1.7676172924938447, 1.3340066759761655, 1.5649019950937946, 1.824613268496936, 1.802777624719604, 1.622125485521159, 1.455023751906683, 1.6015142233917594, 1.5269528268489705, 1.762668359743147, 1.3395306867947354, 1.622125485521159, 1.813969388710352, 1.7570177850353066, 1.3090153642307354, 1.4386709371480566, 1.3543220466259964, 1.538236598942558, 1.5269528268489705, 1.8247738529891333, 1.37050855662704, 1.455023751906683, 1.485868384561201, 1.375392016895762, 1.824613268496936, 1.7263217239235826, 1.3077959946944353, 1.7417172507457144, 1.605818899130659, 1.3034100438655642, 1.4960918298136696, 1.522647325284378, 1.8352625275821128, 1.527914258251028, 1.8137521577549052, 1.642653782130131, 1.3340066759761655, 1.7417172507457144, 1.3389145230206971, 1.5015453526671363, 1.6015142233917594, 1.4333958900838095, 1.5065638960681105, 1.369850003583894, 1.3034100438655642, 1.8030683142834096, 1.5480915247767786, 1.6538540573335014, 1.3250793286429356, 1.2978870806495706, 1.7364225056478186, 1.354703921319241, 1.659013868748246, 1.6378578430223698, 1.622125485521159, 1.825581504220376, 1.293463613844243, 1.5649019950937946, 1.3090153642307354, 1.706014499648521, 1.3181691588445197, 1.706014499648521, 1.369850003583894, 1.42806487344776, 1.3543220466259964, 1.642653782130131, 1.485868384561201, 1.3030329186405918, 1.762315070409309, 1.3250793286429356, 1.349314997503458, 1.5747301747801037, 1.522647325284378, 1.3543220466259964, 1.3030329186405918, 1.80210690024615, 1.3601216766554785, 1.7673642076278957, 1.8307038456739428, 1.659013868748246, 1.318293040102702, 1.318633896753293, 1.455023751906683, 1.4075983731469897, 1.7831890223273277, 1.7884432335370462, 1.3441891937970554, 1.773037755078937, 1.318633896753293, 1.4333958900838095, 1.3861115151535393, 1.8246195526864504, 1.8346455082120416, 1.3861115151535393, 1.3250793286429356, 1.7364225056478186, 1.5015453526671363, 1.7158065389330133, 1.4908444050400238, 1.8199041089501269, 1.6744741591159715, 1.5594815668184234, 1.7884432335370462, 1.7417172507457144, 1.323170899227622, 1.5169573017136326, 1.3862287677978349, 1.318633896753293, 1.2874525221379407, 1.605818899130659, 1.3705128024895008, 1.4333958900838095, 1.391284788852726, 1.6849029086609286, 1.55468935359061, 1.354703921319241, 1.4960918298136696, 1.42806487344776, 1.659013868748246, 1.642653782130131, 1.5747301747801037, 1.8361774213478947, 1.5174859938489869, 1.2980735056918902, 1.5638491446744425, 1.5015453526671363, 1.706014499648521, 1.37050855662704, 1.802777624719604, 1.4382550176792908, 1.5169573017136326, 1.4229203181741186, 1.7936240148573608, 1.3647827949260758, 1.7468706179837907, 1.3033573559038203, 1.5488741079890418, 1.3290286565120697, 1.6538540573335014, 1.55468935359061, 1.5849430707374117, 1.6065631397488385, 1.7517304870664143, 1.55468935359061, 1.4752095869031632, 1.3090153642307354, 1.5857889968242211, 1.8346455082120416, 1.8025980036306504, 1.6113256603765849, 1.42806487344776, 1.4386709371480566, 1.847417311283644, 1.412409228794446, 1.802777624719604, 1.288003392619118, 1.8307038456739428, 1.3967008232726328, 1.7360913511847138, 1.814201935767392, 1.6849029086609286, 1.6378578430223698, 1.4386709371480566, 1.3389913790695755, 1.3033573559038203, 1.3132020634442203, 1.454146206723569, 1.4908444050400238, 1.6745692479879102, 1.2978870806495706, 1.323872422244268, 1.5285252629756445, 1.7730337158018288, 1.3705128024895008, 1.809307963702852, 1.318293040102702, 1.3286444309174914, 1.417429032731308, 1.4859035988304024, 1.5174859938489869, 1.7678721106662054, 1.6378578430223698, 1.6849029086609286, 1.6327350407099108, 1.762668359743147, 1.449042163761236, 1.663716375981405, 1.4333920485221476, 1.538236598942558, 1.42806487344776, 1.391284788852726, 1.605818899130659, 1.3395306867947354, 1.802777624719604, 1.8251136435078368, 1.369850003583894, 1.4697543268466824, 1.5594815668184234, 1.354703921319241, 1.835349194223408, 1.55468935359061, 1.4333958900838095, 1.5480915247767786, 1.802777624719604, 1.5597659473370362, 1.6277528915533617, 1.3290286565120697, 1.433445432156979, 1.454146206723569, 1.7418496047960008, 1.323872422244268, 1.3389913790695755, 1.5594815668184234, 1.5065638960681105, 1.4333920485221476, 1.7829230484252725, 1.323872422244268, 1.6277528915533617, 1.7570177850353066, 1.8470259949329195, 1.3236741274998955, 1.375392016895762, 1.5015453526671363, 1.375392016895762, 1.8361774213478947, 1.3389145230206971, 1.412578792940193, 1.5594815668184234, 1.825780747577624, 1.3395306867947354, 1.3030329186405918, 1.8351461429226603, 1.7993770651972192, 1.6849029086609286, 1.522647325284378, 1.5480915247767786, 1.511897596014269, 1.6849029086609286, 1.5649019950937946, 1.7468706179837907, 1.710533351135192, 1.5955263892495937, 1.4012037783587623, 1.42806487344776, 1.622125485521159, 1.3647355108681518, 1.8518025516704488, 1.6015142233917594, 1.511897596014269, 1.6745692479879102, 1.293463613844243, 1.7676172924938447, 1.6277528915533617, 1.7570177850353066, 1.4539012274845928, 1.3034100438655642, 1.4960918298136696, 1.7468706179837907, 1.369850003583894, 1.8030683142834096, 1.3705128024895008, 1.4859035988304024, 1.3181691588445197, 1.485868384561201, 1.4333920485221476, 1.5594815668184234, 1.773037755078937, 1.2978870806495706, 1.6538540573335014, 1.5638491446744425, 1.8564874208181572, 1.55468935359061, 1.7263217239235826, 1.6538540573335014, 1.318293040102702, 1.354703921319241, 1.6113256603765849, 1.5065638960681105, 1.8307038456739428, 1.480413677976106, 1.449042163761236, 1.4075983731469897, 1.6277528915533617, 1.773037755078937, 1.5597659473370362, 1.5169573017136326, 1.323872422244268, 1.4697543268466824, 1.6015142233917594, 1.7418496047960008, 1.4808005946928984, 1.5015453526671363, 1.6538540573335014, 1.6744741591159715, 1.7364225056478186, 1.354703921319241, 1.5638491446744425, 1.3290286565120697, 1.3181691588445197, 1.6378578430223698, 1.6327350407099108, 1.3090153642307354, 1.323170899227622, 1.5285252629756445, 1.7417172507457144, 1.5169573017136326, 1.6744741591159715, 1.4382550176792908, 1.5169573017136326, 1.8199041089501269, 1.323872422244268, 1.3441891937970554, 1.642653782130131, 1.522647325284378, 1.375392016895762, 1.5269528268489705, 1.3705128024895008, 1.3752364150256224, 1.813969388710352, 1.6327350407099108, 1.4752095869031632, 1.7517304870664143, 1.8134404914735824, 1.7993770651972192, 1.7517304870664143, 1.5747301747801037, 1.5597659473370362, 1.6744741591159715, 1.5597659473370362, 1.7730337158018288, 1.522647325284378, 1.318633896753293, 1.5594815668184234, 1.7884432335370462, 1.288003392619118, 1.3861115151535393, 1.3543220466259964, 1.663716375981405, 1.3441891937970554, 1.802765665167823, 1.7673642076278957, 1.4333920485221476, 1.433445432156979, 1.412409228794446, 1.480413677976106, 1.455023751906683, 1.42806487344776, 1.7418496047960008, 1.6327350407099108, 1.7673642076278957, 1.3077959946944353, 1.4908444050400238, 1.2980735056918902, 1.5649019950937946, 1.4229203181741186, 1.2980735056918902, 1.3395306867947354, 1.4697543268466824, 1.8361774213478947, 1.6378578430223698, 1.527914258251028, 1.3030329186405918, 1.412578792940193, 1.80460990458052, 1.813969388710352, 1.3705128024895008, 1.412409228794446, 1.454146206723569, 1.5597659473370362, 1.2874525221379407, 1.846327249719927, 1.4808005946928984, 1.8351461429226603, 1.7936240148573608, 1.7418496047960008, 1.7829230484252725, 1.2874525221379407, 1.55468935359061, 1.4012037783587623, 1.5857889968242211, 1.7831890223273277, 1.6327350407099108, 1.814201935767392, 1.7993770651972192, 1.480413677976106, 1.622125485521159, 1.454146206723569, 1.3290286565120697, 1.5955263892495937, 1.710533351135192, 1.369850003583894, 1.8199041089501269, 1.485868384561201, 1.809307963702852, 1.5849430707374117, 1.4173547174485526, 1.454146206723569, 1.3077959946944353, 1.8199041089501269, 1.2978870806495706, 1.7673642076278957, 1.4333920485221476, 1.375392016895762, 1.809307963702852, 1.3804366761974138, 1.4173547174485526, 1.762668359743147, 1.7570177850353066, 1.293463613844243, 1.6745692479879102, 1.5849430707374117, 1.37050855662704, 1.8307038456739428, 1.3441891937970554, 1.538236598942558, 1.5597659473370362, 1.824613268496936, 1.417429032731308, 1.7418496047960008, 1.2980735056918902, 1.5488741079890418, 1.6945798601797897, 1.3236741274998955, 1.3647355108681518, 1.354703921319241, 1.605818899130659, 1.7158065389330133, 1.802777624719604, 1.8346455082120416, 1.4859035988304024, 1.5849430707374117, 1.3647355108681518, 1.3290286565120697, 1.3184664436640334, 1.3389145230206971, 1.3034100438655642, 1.449042163761236, 1.4333920485221476, 1.5065638960681105, 1.3134751321324272, 1.3441891937970554, 1.42806487344776, 1.37050855662704, 1.433445432156979, 1.391284788852726, 1.622125485521159, 1.4908444050400238, 1.5015453526671363, 1.5849430707374117, 1.7360913511847138, 1.590369231400328, 1.3134751321324272, 1.4808005946928984, 1.455023751906683, 1.318633896753293, 1.4382550176792908, 1.4173547174485526, 1.5174859938489869, 1.4859035988304024, 1.3967008232726328, 1.605818899130659, 1.3752364150256224, 1.323170899227622, 1.80460990458052, 1.6378578430223698, 1.3389145230206971, 1.3804366761974138, 1.5174859938489869, 1.522647325284378, 1.3034100438655642, 1.825581504220376, 1.7517304870664143, 1.4075983731469897, 1.802765665167823, 1.4229203181741186, 1.7468706179837907, 1.3134751321324272, 1.3861115151535393, 1.3340066759761655, 1.4386709371480566, 1.5747301747801037, 1.5174859938489869, 1.605818899130659, 1.318633896753293, 1.55468935359061, 1.3236741274998955, 1.3647355108681518, 1.3290286565120697, 1.7676172924938447, 1.4333958900838095, 1.7570177850353066, 1.7158065389330133, 1.5597659473370362, 1.762668359743147, 1.622125485521159, 1.4697543268466824, 1.8346455082120416, 1.7418496047960008, 1.8352625275821128, 1.4012037783587623, 1.4075983731469897, 1.80460990458052, 1.802777624719604, 1.5015453526671363, 1.5747301747801037, 1.3034100438655642, 1.3601216766554785, 1.7364225056478186, 1.813969388710352, 1.7829230484252725, 1.3030329186405918, 1.3647827949260758, 1.5594815668184234, 1.710533351135192, 1.7993770651972192, 1.323170899227622, 1.6744741591159715, 1.323872422244268, 1.5174859938489869, 1.8351461429226603, 1.6849029086609286, 1.7831890223273277, 1.824613268496936, 1.846327249719927, 1.846327249719927, 1.8199041089501269, 1.3184664436640334, 1.706014499648521, 1.3395306867947354, 1.3033573559038203, 1.590369231400328, 1.3967008232726328, 1.4859035988304024, 1.4173547174485526, 1.663716375981405, 1.8307038456739428, 1.455023751906683, 1.5269528268489705, 1.318293040102702, 1.6945798601797897, 1.42806487344776, 1.7417172507457144, 1.4012037783587623, 1.3132020634442203, 1.8346455082120416, 1.7884432335370462, 1.4697543268466824, 1.5065638960681105, 1.4908444050400238, 1.6015142233917594, 1.7263217239235826, 1.7418496047960008, 1.42806487344776, 1.5594815668184234, 1.4859035988304024, 1.663716375981405, 1.5269528268489705, 1.80210690024615, 1.455023751906683, 1.5169573017136326, 1.391284788852726, 1.485868384561201, 1.773037755078937, 1.7417172507457144, 1.6538540573335014, 1.7003110272642588, 1.3286444309174914, 1.391284788852726, 1.8025980036306504, 1.5065638960681105, 1.37050855662704, 1.522647325284378, 1.8346455082120416, 1.3862287677978349, 1.3033573559038203, 1.2980735056918902, 1.5285252629756445, 1.8134404914735824, 1.3752364150256224, 1.8025980036306504, 1.6849029086609286, 1.8257567905665535, 1.4960918298136696, 1.7360913511847138, 1.3132020634442203, 1.7360913511847138, 1.3395306867947354, 1.5594815668184234, 1.433445432156979, 1.349314997503458, 1.7730337158018288, 1.6015142233917594, 1.7364225056478186, 1.417429032731308, 1.6277528915533617, 1.349314997503458, 1.762668359743147, 1.8352625275821128, 1.3030329186405918, 1.7364225056478186, 1.80460990458052, 1.433445432156979, 1.6745692479879102, 1.412409228794446, 1.4539012274845928, 1.6015142233917594, 1.6745692479879102, 1.3134751321324272, 1.318633896753293, 1.622125485521159, 1.8246195526864504, 1.5488741079890418, 1.391284788852726, 1.55468935359061, 1.5169573017136326, 1.762315070409309, 1.3861115151535393, 1.6849029086609286, 1.7570177850353066, 1.7676172924938447, 1.4697543268466824, 1.6744741591159715, 1.8351461429226603, 1.522647325284378, 1.8247738529891333, 1.375392016895762, 1.4539012274845928, 1.622125485521159, 1.3441891937970554, 1.7936240148573608, 1.538236598942558, 1.814031127508391, 1.454146206723569, 1.8137521577549052, 1.8564874208181572, 1.354703921319241, 1.835349194223408, 1.3134751321324272, 1.5480915247767786, 1.80460990458052, 1.4859035988304024, 1.369850003583894, 1.8351461429226603, 1.37050855662704, 1.7673642076278957, 1.5323755631868592, 1.391284788852726, 1.4697543268466824, 1.825780747577624, 1.323170899227622, 1.7418496047960008, 1.8247738529891333, 1.8257567905665535, 1.323170899227622, 1.3861115151535393, 1.7360913511847138, 1.3647827949260758, 1.802579500826209, 1.3132020634442203, 1.391284788852726, 1.3030329186405918, 1.4752095869031632, 1.773037755078937, 1.7884432335370462, 1.4960918298136696, 1.6744741591159715, 1.4752095869031632, 1.3389145230206971, 1.480413677976106, 1.369850003583894, 1.4539012274845928, 1.659013868748246, 1.3030329186405918, 1.8137521577549052, 1.3543220466259964, 1.522647325284378, 1.6745692479879102, 1.706014499648521, 1.538236598942558, 1.3752364150256224, 1.3395306867947354, 1.4960918298136696, 1.369850003583894, 1.773037755078937, 1.2980735056918902, 1.846327249719927, 1.80210690024615, 1.5065638960681105, 1.6745692479879102, 1.455023751906683, 1.433445432156979, 1.6065631397488385, 1.7831890223273277, 1.3861115151535393, 1.4229203181741186, 1.323170899227622, 1.825581504220376, 1.80460990458052, 1.814031127508391, 1.4382550176792908, 1.622125485521159, 1.37050855662704, 1.3389913790695755, 1.3752364150256224, 1.522647325284378, 1.375392016895762, 1.4333920485221476, 1.3132020634442203, 1.8307038456739428, 1.369850003583894, 1.7884432335370462, 1.7468706179837907, 1.5955263892495937, 1.7676172924938447, 1.4859035988304024, 1.642653782130131, 1.288003392619118, 1.480413677976106, 1.454146206723569, 1.511897596014269, 1.4386709371480566, 1.814031127508391, 1.2874525221379407, 1.5747301747801037, 1.412578792940193, 1.369850003583894, 1.288003392619118, 1.813969388710352, 1.3034100438655642, 1.7993770651972192, 1.511897596014269, 1.5849430707374117, 1.4382550176792908, 1.7003110272642588, 1.5488741079890418, 1.8352625275821128, 1.485868384561201, 1.6327350407099108, 1.417429032731308, 1.412578792940193, 1.8352625275821128, 1.4173547174485526, 1.7418496047960008, 1.4960918298136696, 1.6849029086609286, 1.762668359743147, 1.813969388710352, 1.3441891937970554, 1.6277528915533617, 1.6849029086609286, 1.7468706179837907, 1.4539012274845928, 1.406981663677643, 1.813969388710352, 1.6745692479879102, 1.762315070409309, 1.5638491446744425, 1.375392016895762, 1.80460990458052, 1.318293040102702, 1.5747301747801037, 1.5065638960681105, 1.8518025516704488, 1.8137521577549052, 1.522647325284378, 1.5065638960681105, 1.6277528915533617, 1.4012037783587623, 1.288003392619118, 1.8030683142834096, 1.527914258251028, 1.3033573559038203, 1.706014499648521, 1.5594815668184234, 1.590369231400328, 1.4908444050400238, 1.6744741591159715, 1.7884432335370462, 1.5594815668184234, 1.7678721106662054, 1.3967008232726328, 1.7884432335370462, 1.2980735056918902, 1.6745692479879102, 1.590369231400328, 1.3090153642307354, 1.605818899130659, 1.2874525221379407, 1.3250793286429356, 1.3861115151535393, 1.802765665167823, 1.6744741591159715, 1.8518025516704488, 1.4386709371480566, 1.5269528268489705, 1.4173547174485526, 1.5594815668184234, 1.590369231400328, 1.5480915247767786, 1.511897596014269, 1.706014499648521, 1.7673642076278957, 1.323872422244268, 1.824613268496936, 1.8307038456739428, 1.354703921319241, 1.3546417018378962, 1.7003110272642588, 1.538236598942558, 1.3340066759761655, 1.7993770651972192, 1.3250793286429356, 1.433445432156979, 1.391284788852726, 1.7003110272642588, 1.762668359743147, 1.7158065389330133, 1.293463613844243, 1.3543220466259964, 1.288003392619118, 1.55468935359061, 1.3030329186405918, 1.814031127508391, 1.3132020634442203, 1.5480915247767786, 1.642653782130131, 1.354703921319241, 1.6538540573335014, 1.4333920485221476, 1.3804366761974138, 1.659013868748246, 1.369850003583894, 1.762315070409309, 1.5594815668184234, 1.8147691941158937, 1.6378578430223698, 1.8246195526864504, 1.804077040117352, 1.3647827949260758, 1.825581504220376, 1.449042163761236, 1.4229203181741186, 1.7831890223273277, 1.7263217239235826, 1.3804366761974138, 1.804077040117352, 1.3033573559038203, 1.809307963702852, 1.825780747577624, 1.7364225056478186, 1.4173547174485526, 1.802765665167823, 1.4908444050400238, 1.5480915247767786, 1.3033573559038203, 1.2978870806495706, 1.5285252629756445, 1.354703921319241, 1.375392016895762, 1.4808005946928984, 1.4173547174485526, 1.4075983731469897, 1.3862287677978349, 1.511897596014269, 1.7678721106662054, 1.5638491446744425, 1.7673642076278957, 1.5269528268489705, 1.55468935359061, 1.433445432156979, 1.293463613844243, 1.8356616600675493, 1.663716375981405, 1.6277528915533617, 1.6015142233917594, 1.2978870806495706, 1.7678721106662054, 1.7468706179837907, 1.8025980036306504, 1.511897596014269, 1.3286444309174914, 1.369850003583894, 1.4333920485221476, 1.7831890223273277, 1.454146206723569, 1.4229203181741186, 1.2978870806495706, 1.7003110272642588, 1.5480915247767786, 1.825581504220376, 1.773037755078937, 1.8307038456739428, 1.3862287677978349, 1.710533351135192, 1.433445432156979, 1.349314997503458, 1.3286444309174914, 1.622125485521159, 1.802777624719604, 1.449042163761236, 1.706014499648521, 1.3290286565120697, 1.4075983731469897, 1.6378578430223698, 1.590369231400328, 1.659013868748246, 1.42806487344776, 1.42806487344776, 1.349314997503458, 1.7468706179837907, 1.349314997503458, 1.802765665167823, 1.7678721106662054, 1.7831890223273277, 1.2874525221379407, 1.6015142233917594, 1.6945798601797897, 1.7360913511847138, 1.293463613844243, 1.809307963702852, 1.7936240148573608, 1.8247738529891333, 1.5169573017136326, 1.3967008232726328, 1.7831890223273277, 1.5649019950937946, 1.7673642076278957, 1.802777624719604, 1.4808005946928984, 1.773037755078937, 1.762668359743147, 1.8199041089501269, 1.605818899130659, 1.663716375981405, 1.6113256603765849, 1.354703921319241, 1.6327350407099108, 1.3030329186405918, 1.454146206723569, 1.6849029086609286, 1.3184664436640334, 1.5488741079890418, 1.6744741591159715, 1.6327350407099108, 1.455023751906683, 1.605818899130659, 1.37050855662704, 1.433445432156979, 1.773037755078937, 1.3705128024895008, 1.6277528915533617, 1.318633896753293, 1.3340066759761655, 1.813969388710352, 1.349314997503458, 1.814031127508391, 1.2874525221379407, 1.762668359743147, 1.4333920485221476, 1.42806487344776, 1.3236741274998955, 1.4960918298136696, 1.847417311283644, 1.6113256603765849, 1.5747301747801037, 1.5488741079890418, 1.5638491446744425, 1.846327249719927, 1.710533351135192, 1.8199041089501269, 1.8564874208181572, 1.6945798601797897, 1.762668359743147, 1.3647827949260758, 1.349314997503458, 1.5857889968242211, 1.6277528915533617, 1.6744741591159715, 1.8025980036306504, 1.605818899130659, 1.3546417018378962, 1.8025980036306504, 1.4539012274845928, 1.8030683142834096, 1.4075983731469897, 1.5285252629756445, 1.5323755631868592, 1.288003392619118, 1.7158065389330133, 1.4697543268466824, 1.7417172507457144, 1.7993770651972192, 1.590369231400328, 1.5169573017136326, 1.7993770651972192, 1.5594815668184234, 1.455023751906683, 1.7993770651972192, 1.7570177850353066, 1.5169573017136326, 1.3181691588445197, 1.4908444050400238, 1.4012037783587623, 1.762668359743147, 1.433445432156979, 1.433445432156979, 1.4012037783587623, 1.3132020634442203, 1.5480915247767786, 1.3395306867947354, 1.7364225056478186, 1.2978870806495706, 1.663716375981405, 1.3030329186405918, 1.527914258251028, 1.706014499648521, 1.8470259949329195, 1.7673642076278957, 1.6065631397488385, 1.323872422244268, 1.710533351135192, 1.7003110272642588, 1.7360913511847138, 1.7364225056478186, 1.802777624719604, 1.7936240148573608, 1.5857889968242211, 1.354703921319241, 1.80210690024615, 1.4229203181741186, 1.8470259949329195, 1.605818899130659, 1.5649019950937946, 1.7158065389330133, 1.4173547174485526, 1.773037755078937, 1.6538540573335014, 1.318633896753293, 1.4382550176792908, 1.7468706179837907, 1.6015142233917594, 1.8246195526864504, 1.3290286565120697, 1.2978870806495706, 1.3290286565120697, 1.7730337158018288, 1.710533351135192, 1.710533351135192, 1.4333920485221476, 1.7418496047960008, 1.2980735056918902, 1.3250793286429356, 1.3134751321324272, 1.6945798601797897, 1.7678721106662054, 1.412409228794446, 1.4333920485221476, 1.4173547174485526, 1.8251136435078368, 1.7360913511847138, 1.511897596014269, 1.3752364150256224, 1.8246195526864504, 1.375392016895762, 1.5488741079890418, 1.7003110272642588, 1.4752095869031632, 1.8134404914735824, 1.3184664436640334, 1.7676172924938447, 1.3030329186405918, 1.6113256603765849, 1.7678721106662054, 1.80460990458052, 1.7570177850353066, 1.8137521577549052, 1.605818899130659, 1.5285252629756445, 1.6327350407099108, 1.455023751906683, 1.5285252629756445, 1.80460990458052, 1.5849430707374117, 1.391284788852726, 1.2980735056918902, 1.5955263892495937, 1.3340066759761655, 1.480413677976106, 1.349314997503458, 1.293463613844243, 1.5480915247767786, 1.4386709371480566, 1.590369231400328, 1.412409228794446, 1.6538540573335014, 1.3236741274998955, 1.8307038456739428, 1.8247738529891333, 1.7417172507457144, 1.802777624719604, 1.522647325284378, 1.3601216766554785, 1.412409228794446, 1.6015142233917594, 1.5285252629756445, 1.6327350407099108, 1.480413677976106, 1.8352625275821128, 1.706014499648521, 1.4960918298136696, 1.3250793286429356, 1.7417172507457144, 1.4173547174485526, 1.391284788852726, 1.802579500826209, 1.6327350407099108, 1.8564874208181572, 1.6744741591159715, 1.5597659473370362, 1.3543220466259964, 1.42806487344776, 1.7418496047960008, 1.4382550176792908, 1.375392016895762, 1.8246195526864504, 1.7468706179837907, 1.8518025516704488, 1.3804366761974138, 1.4960918298136696, 1.802765665167823, 1.5480915247767786, 1.3804366761974138, 1.5638491446744425, 1.42806487344776, 1.6065631397488385, 1.3236741274998955, 1.6113256603765849, 1.622125485521159, 1.6113256603765849, 1.55468935359061, 1.605818899130659, 1.3705128024895008, 1.369850003583894, 1.3862287677978349, 1.5594815668184234, 1.454146206723569, 1.762668359743147, 1.5594815668184234, 1.4908444050400238, 1.449042163761236, 1.8246195526864504, 1.3647827949260758, 1.5323755631868592, 1.3546417018378962, 1.8351461429226603, 1.3250793286429356, 1.4697543268466824, 1.7730337158018288, 1.4333920485221476, 1.8356616600675493, 1.485868384561201, 1.3441891937970554, 1.802765665167823, 1.3132020634442203, 1.3090153642307354, 1.7003110272642588, 1.8025980036306504, 1.3389145230206971, 1.318633896753293, 1.3090153642307354, 1.814201935767392, 1.527914258251028, 1.7417172507457144, 1.7936240148573608, 1.663716375981405, 1.8137521577549052, 1.605818899130659, 1.3290286565120697, 1.4012037783587623, 1.5594815668184234, 1.4960918298136696, 1.710533351135192, 1.4382550176792908, 1.449042163761236, 1.4382550176792908, 1.3546417018378962, 1.3181691588445197, 1.354703921319241, 1.5323755631868592, 1.369850003583894, 1.6849029086609286, 1.3601216766554785, 1.2874525221379407, 1.80460990458052, 1.5480915247767786, 1.8470259949329195, 1.455023751906683, 1.4697543268466824, 1.5597659473370362, 1.4386709371480566, 1.3077959946944353, 1.4386709371480566, 1.7003110272642588, 1.288003392619118, 1.3033573559038203, 1.4382550176792908, 1.7831890223273277, 1.3286444309174914, 1.4539012274845928, 1.5638491446744425, 1.6378578430223698, 1.706014499648521, 1.5594815668184234, 1.318633896753293, 1.406981663677643, 1.3861115151535393, 1.8137521577549052, 1.7993770651972192, 1.412409228794446, 1.5955263892495937, 1.8518025516704488, 1.3340066759761655, 1.42806487344776, 1.5594815668184234, 1.7673642076278957, 1.7364225056478186, 1.8518025516704488, 1.6327350407099108, 1.4697543268466824, 1.7468706179837907, 1.804077040117352, 1.417429032731308, 1.55468935359061, 1.4173547174485526, 1.7676172924938447, 1.4808005946928984, 1.37050855662704, 1.8307038456739428, 1.391284788852726, 1.8199041089501269, 1.2978870806495706, 1.4075983731469897, 1.7730337158018288, 1.809307963702852, 1.412578792940193, 1.3090153642307354, 1.455023751906683, 1.417429032731308, 1.55468935359061, 1.4960918298136696, 1.5849430707374117, 1.406981663677643, 1.7884432335370462, 1.522647325284378, 1.4229203181741186, 1.412409228794446, 1.3967008232726328, 1.773037755078937, 1.8247738529891333, 1.323170899227622, 1.522647325284378, 1.8199041089501269, 1.3861115151535393, 1.5857889968242211, 1.5169573017136326, 1.6945798601797897, 1.762668359743147, 1.7730337158018288, 1.802765665167823, 1.42806487344776, 1.6277528915533617, 1.354703921319241, 1.3286444309174914, 1.7364225056478186, 1.825780747577624, 1.762315070409309, 1.7730337158018288, 1.7673642076278957, 1.8307038456739428, 1.7263217239235826, 1.4075983731469897, 1.8257567905665535, 1.7673642076278957, 1.485868384561201, 1.7263217239235826, 1.3090153642307354, 1.813969388710352, 1.847417311283644, 1.762315070409309, 1.7570177850353066, 1.8564874208181572, 1.3077959946944353, 1.7884432335370462, 1.8564874208181572, 1.6538540573335014, 1.8257567905665535, 1.7418496047960008, 1.605818899130659, 1.3132020634442203, 1.7417172507457144, 1.3395306867947354, 1.4908444050400238, 1.3236741274998955, 1.7364225056478186, 1.369850003583894, 1.622125485521159, 1.369850003583894, 1.80210690024615, 1.710533351135192, 1.824613268496936, 1.710533351135192, 1.4075983731469897, 1.5065638960681105, 1.8361774213478947, 1.8346455082120416, 1.511897596014269, 1.4333920485221476, 1.3030329186405918, 1.6538540573335014, 1.3389913790695755, 1.454146206723569, 1.6327350407099108, 1.7158065389330133, 1.375392016895762, 1.8361774213478947, 1.7884432335370462, 1.5849430707374117, 1.3340066759761655, 1.3441891937970554, 1.323170899227622, 1.8356616600675493, 1.706014499648521, 1.7364225056478186, 1.7831890223273277, 1.349314997503458, 1.4808005946928984, 1.814031127508391, 1.663716375981405, 1.773037755078937, 1.6745692479879102, 1.6015142233917594, 1.3033573559038203, 1.6327350407099108, 1.7418496047960008, 1.2874525221379407, 1.8346455082120416, 1.5597659473370362, 1.3862287677978349, 1.7418496047960008, 1.3752364150256224, 1.7936240148573608, 1.522647325284378, 1.42806487344776, 1.375392016895762, 1.7417172507457144, 1.369850003583894, 1.5174859938489869, 1.80210690024615, 1.7831890223273277, 1.318633896753293, 1.42806487344776, 1.3033573559038203, 1.8356616600675493, 1.7678721106662054, 1.4539012274845928, 1.55468935359061, 1.7158065389330133, 1.6378578430223698, 1.5488741079890418, 1.3967008232726328, 1.6849029086609286, 1.4908444050400238, 1.417429032731308, 1.809307963702852, 1.5065638960681105, 1.5323755631868592, 1.5849430707374117, 1.762315070409309, 1.7263217239235826, 1.802765665167823, 1.5065638960681105, 1.5015453526671363, 1.4908444050400238, 1.7570177850353066, 1.7158065389330133, 1.7730337158018288, 1.3752364150256224, 1.5269528268489705, 1.406981663677643, 1.4333920485221476, 1.762315070409309, 1.8352625275821128, 1.3752364150256224, 1.642653782130131, 1.5480915247767786, 1.7003110272642588, 1.323170899227622, 1.3340066759761655, 1.7003110272642588, 1.710533351135192, 1.4539012274845928, 1.8134404914735824, 1.3184664436640334, 1.6378578430223698, 1.3090153642307354, 1.3395306867947354, 1.3286444309174914, 1.825581504220376, 1.37050855662704, 1.663716375981405, 1.4386709371480566, 1.6015142233917594, 1.6945798601797897, 1.7993770651972192, 1.3340066759761655, 1.318293040102702, 1.480413677976106, 1.7570177850353066, 1.3389145230206971, 1.4333920485221476, 1.8246195526864504, 1.6745692479879102, 1.522647325284378, 1.449042163761236, 1.433445432156979, 1.710533351135192, 1.8199041089501269, 1.814201935767392, 1.7364225056478186, 1.6015142233917594, 1.8356616600675493, 1.8199041089501269, 1.8147691941158937, 1.527914258251028, 1.762315070409309, 1.3967008232726328, 1.622125485521159, 1.4960918298136696, 1.5285252629756445, 1.5955263892495937, 1.7360913511847138, 1.449042163761236, 1.3132020634442203, 1.3286444309174914, 1.4173547174485526, 1.6327350407099108, 1.3546417018378962, 1.825780747577624, 1.3132020634442203, 1.318633896753293, 1.6945798601797897, 1.4075983731469897, 1.5065638960681105, 1.7676172924938447, 1.590369231400328, 1.5174859938489869, 1.3601216766554785, 1.4333958900838095, 1.4808005946928984, 1.8564874208181572, 1.3033573559038203, 1.5488741079890418, 1.3236741274998955, 1.8351461429226603, 1.663716375981405, 1.3752364150256224, 1.7003110272642588, 1.5747301747801037, 1.7570177850353066, 1.369850003583894, 1.773037755078937, 1.412578792940193, 1.7517304870664143, 1.3967008232726328, 1.8247738529891333, 1.3705128024895008, 1.3286444309174914, 1.3250793286429356, 1.8518025516704488, 1.354703921319241, 1.5649019950937946, 1.3395306867947354, 1.7570177850353066, 1.4333920485221476, 1.804077040117352, 1.288003392619118, 1.8351461429226603, 1.293463613844243, 1.5269528268489705, 1.2874525221379407, 1.433445432156979, 1.7884432335370462, 1.3861115151535393, 1.8352625275821128, 1.8134404914735824, 1.7884432335370462, 1.3804366761974138, 1.406981663677643, 1.522647325284378, 1.4173547174485526, 1.847417311283644, 1.7678721106662054, 1.3804366761974138, 1.762315070409309, 1.773037755078937, 1.480413677976106, 1.642653782130131, 1.4386709371480566, 1.5015453526671363, 1.7936240148573608, 1.3543220466259964, 1.590369231400328, 1.8361774213478947, 1.6065631397488385, 1.7676172924938447, 1.762315070409309, 1.55468935359061, 1.323170899227622, 1.5649019950937946, 1.6065631397488385, 1.7678721106662054, 1.454146206723569, 1.37050855662704, 1.406981663677643, 1.323170899227622, 1.6113256603765849, 1.375392016895762, 1.449042163761236, 1.6745692479879102, 1.4333958900838095, 1.8199041089501269, 1.762668359743147, 1.8246195526864504, 1.433445432156979, 1.773037755078937, 1.3861115151535393, 1.4960918298136696, 1.5747301747801037, 1.5638491446744425, 1.349314997503458, 1.4075983731469897, 1.3134751321324272, 1.5594815668184234, 1.4859035988304024, 1.3033573559038203, 1.522647325284378, 1.6849029086609286, 1.527914258251028, 1.369850003583894, 1.433445432156979, 1.3804366761974138, 1.5015453526671363, 1.6745692479879102, 1.7263217239235826, 1.4908444050400238, 1.7418496047960008, 1.3705128024895008, 1.4382550176792908, 1.37050855662704, 1.511897596014269, 1.5597659473370362, 1.8361774213478947, 1.3290286565120697, 1.4075983731469897, 1.8246195526864504, 1.7158065389330133, 1.3705128024895008, 1.7003110272642588, 1.3967008232726328, 1.417429032731308, 1.4539012274845928, 1.7831890223273277, 1.5638491446744425, 1.323170899227622, 1.6849029086609286, 1.814201935767392, 1.3862287677978349, 1.4075983731469897, 1.8257567905665535, 1.3077959946944353, 1.318633896753293, 1.417429032731308, 1.3286444309174914, 1.406981663677643, 1.7570177850353066, 1.37050855662704, 1.349314997503458, 1.3861115151535393, 1.8199041089501269, 1.6538540573335014, 1.5169573017136326, 1.4012037783587623, 1.4075983731469897, 1.8030683142834096, 1.6744741591159715, 1.8030683142834096, 1.412409228794446, 1.4333958900838095, 1.3033573559038203, 1.349314997503458, 1.323872422244268, 1.804077040117352, 1.391284788852726, 1.7360913511847138, 1.522647325284378, 1.5747301747801037, 1.7884432335370462, 1.7417172507457144, 1.4333958900838095, 1.773037755078937, 1.3236741274998955, 1.8518025516704488, 1.6327350407099108, 1.847417311283644, 1.8257567905665535, 1.7730337158018288, 1.323872422244268, 1.762315070409309, 1.8307038456739428, 1.706014499648521, 1.6065631397488385, 1.522647325284378, 1.5015453526671363, 1.8307038456739428, 1.480413677976106, 1.2980735056918902, 1.7003110272642588, 1.6015142233917594, 1.5649019950937946, 1.5857889968242211, 1.6327350407099108, 1.622125485521159, 1.369850003583894, 1.7360913511847138, 1.511897596014269, 1.6113256603765849, 1.5323755631868592, 1.7570177850353066, 1.5747301747801037, 1.288003392619118, 1.323872422244268, 1.5857889968242211, 1.3862287677978349, 1.80460990458052, 1.3647355108681518, 1.538236598942558, 1.480413677976106, 1.6745692479879102, 1.2980735056918902, 1.8346455082120416, 1.8025980036306504, 1.480413677976106, 1.527914258251028, 1.8199041089501269, 1.323170899227622, 1.659013868748246, 1.5285252629756445, 1.3647827949260758, 1.6065631397488385, 1.3862287677978349, 1.6378578430223698, 1.8352625275821128, 1.433445432156979, 1.3752364150256224, 1.3647827949260758, 1.3543220466259964, 1.527914258251028, 1.538236598942558, 1.5269528268489705, 1.455023751906683, 1.5323755631868592, 1.3647827949260758, 1.354703921319241, 1.3601216766554785, 1.3389145230206971, 1.8247738529891333, 1.3134751321324272, 1.622125485521159, 1.511897596014269, 1.8361774213478947, 1.7730337158018288, 1.4697543268466824, 1.813969388710352, 1.4229203181741186, 1.642653782130131, 1.538236598942558, 1.2978870806495706, 1.7263217239235826, 1.5955263892495937, 1.7003110272642588, 1.3290286565120697, 1.5638491446744425, 1.4229203181741186, 1.4333958900838095, 1.349314997503458, 1.8352625275821128, 1.762315070409309, 1.455023751906683, 1.706014499648521, 1.3134751321324272, 1.6277528915533617, 1.706014499648521, 1.3236741274998955, 1.3861115151535393, 1.3034100438655642, 1.8134404914735824, 1.8470259949329195, 1.8199041089501269, 1.773037755078937, 1.3030329186405918, 1.455023751906683, 1.6378578430223698, 1.7829230484252725, 1.3250793286429356, 1.6538540573335014, 1.417429032731308, 1.6849029086609286, 1.527914258251028, 1.7678721106662054, 1.8346455082120416, 1.3967008232726328, 1.449042163761236, 1.7678721106662054, 1.318293040102702, 1.642653782130131, 1.8307038456739428, 1.4386709371480566, 1.3340066759761655, 1.323170899227622, 1.7360913511847138, 1.3861115151535393, 1.4752095869031632, 1.762668359743147, 1.3033573559038203, 1.6065631397488385, 1.8134404914735824, 1.8307038456739428, 1.538236598942558, 1.3181691588445197, 1.6538540573335014, 1.323872422244268, 1.7730337158018288, 1.2978870806495706, 1.7936240148573608, 1.4012037783587623, 1.4960918298136696, 1.3647827949260758, 1.3601216766554785, 1.804077040117352, 1.369850003583894, 1.5285252629756445, 1.590369231400328, 1.4229203181741186, 1.5285252629756445, 1.659013868748246, 1.406981663677643, 1.454146206723569, 1.4859035988304024, 1.42806487344776, 1.5597659473370362, 1.8147691941158937, 1.8251136435078368, 1.5638491446744425, 1.3804366761974138, 1.6849029086609286, 1.3861115151535393, 1.5015453526671363, 1.6015142233917594, 1.6745692479879102, 1.3804366761974138, 1.318293040102702, 1.511897596014269, 1.7676172924938447, 1.846327249719927, 1.6378578430223698, 1.7517304870664143, 1.2978870806495706, 1.417429032731308, 1.7158065389330133, 1.3034100438655642, 1.80210690024615, 1.7993770651972192, 1.3030329186405918, 1.6327350407099108, 1.293463613844243, 1.349314997503458, 1.5174859938489869, 1.8137521577549052, 1.485868384561201, 1.6015142233917594, 1.3389913790695755, 1.449042163761236, 1.406981663677643, 1.814201935767392, 1.802579500826209, 1.354703921319241, 1.802579500826209, 1.6538540573335014, 1.5857889968242211, 1.5488741079890418, 1.8518025516704488, 1.5065638960681105, 1.3340066759761655, 1.802765665167823, 1.8518025516704488, 1.4229203181741186, 1.3389145230206971, 1.706014499648521, 1.4075983731469897, 1.8147691941158937, 1.5955263892495937, 1.762668359743147, 1.8246195526864504, 1.710533351135192, 1.773037755078937, 1.3132020634442203, 1.3389913790695755, 1.4697543268466824, 1.293463613844243, 1.6744741591159715, 1.5638491446744425, 1.3752364150256224, 1.7468706179837907, 1.5597659473370362, 1.449042163761236, 1.6277528915533617, 1.8470259949329195, 1.804077040117352, 1.5747301747801037, 1.6849029086609286, 1.846327249719927, 1.3389145230206971, 1.5285252629756445, 1.4752095869031632, 1.6945798601797897, 1.288003392619118, 1.3033573559038203, 1.3340066759761655, 1.3389913790695755, 1.642653782130131, 1.762668359743147, 1.809307963702852, 1.522647325284378, 1.3236741274998955, 1.511897596014269, 1.3389913790695755, 1.449042163761236, 1.825581504220376, 1.406981663677643, 1.3601216766554785, 1.3286444309174914, 1.4173547174485526, 1.8470259949329195, 1.5323755631868592, 1.3184664436640334, 1.590369231400328, 1.42806487344776, 1.4539012274845928, 1.8307038456739428, 1.7468706179837907, 1.5323755631868592, 1.7831890223273277, 1.4333920485221476, 1.5285252629756445, 1.3290286565120697, 1.7364225056478186, 1.7673642076278957, 1.6113256603765849, 1.485868384561201, 1.7884432335370462, 1.7158065389330133, 1.5857889968242211, 1.6113256603765849, 1.5169573017136326, 1.642653782130131, 1.4075983731469897, 1.417429032731308, 1.406981663677643, 1.5857889968242211, 1.7673642076278957, 1.3395306867947354, 1.642653782130131, 1.3286444309174914, 1.454146206723569, 1.7678721106662054, 1.7468706179837907, 1.4386709371480566, 1.8361774213478947, 1.659013868748246, 1.7993770651972192, 1.288003392619118, 1.3090153642307354, 1.7517304870664143, 1.847417311283644, 1.659013868748246, 1.4333958900838095, 1.449042163761236, 1.80460990458052, 1.4960918298136696, 1.3077959946944353, 1.4539012274845928, 1.762315070409309, 1.4539012274845928, 1.7884432335370462, 1.485868384561201, 1.6745692479879102, 1.8351461429226603, 1.5285252629756445, 1.8134404914735824, 1.4382550176792908, 1.4386709371480566, 1.7678721106662054, 1.4697543268466824, 1.3340066759761655, 1.7158065389330133, 1.5594815668184234, 1.3705128024895008, 1.7884432335370462, 1.522647325284378, 1.511897596014269, 1.454146206723569, 1.762315070409309, 1.5285252629756445, 1.7936240148573608, 1.6065631397488385, 1.4075983731469897, 1.663716375981405, 1.449042163761236, 1.318293040102702, 1.4752095869031632, 1.8518025516704488, 1.5174859938489869, 1.318633896753293, 1.3090153642307354, 1.3286444309174914, 1.8352625275821128, 1.6538540573335014, 1.3546417018378962, 1.4012037783587623, 1.37050855662704, 1.3705128024895008, 1.8030683142834096, 1.7364225056478186, 1.804077040117352, 1.3181691588445197, 1.5323755631868592, 1.590369231400328, 1.7003110272642588, 1.7360913511847138, 1.3030329186405918, 1.412409228794446, 1.3546417018378962, 1.4333958900838095, 1.288003392619118, 1.804077040117352, 1.5169573017136326, 1.7730337158018288, 1.7993770651972192, 1.6945798601797897, 1.2980735056918902, 1.318633896753293, 1.605818899130659, 1.3090153642307354, 1.809307963702852, 1.354703921319241, 1.5849430707374117, 1.4173547174485526, 1.846327249719927, 1.4960918298136696, 1.293463613844243, 1.7517304870664143, 1.8564874208181572, 1.3132020634442203, 1.7158065389330133, 1.7993770651972192, 1.622125485521159, 1.8307038456739428, 1.80210690024615, 1.3389145230206971, 1.6015142233917594, 1.7936240148573608, 1.406981663677643, 1.4333958900838095, 1.323170899227622, 1.4173547174485526, 1.55468935359061, 1.622125485521159, 1.2874525221379407, 1.824613268496936, 1.7417172507457144, 1.605818899130659, 1.762315070409309, 1.4539012274845928, 1.5597659473370362, 1.5649019950937946, 1.5323755631868592, 1.511897596014269, 1.5169573017136326, 1.2978870806495706, 1.4539012274845928, 1.433445432156979, 1.318293040102702, 1.5169573017136326, 1.8251136435078368, 1.4382550176792908, 1.5857889968242211, 1.7517304870664143, 1.3033573559038203, 1.813969388710352, 1.5594815668184234, 1.4229203181741186, 1.5638491446744425, 1.4386709371480566, 1.3601216766554785, 1.4386709371480566, 1.3543220466259964, 1.7678721106662054, 1.4229203181741186, 1.7158065389330133, 1.6538540573335014, 1.7417172507457144, 1.5849430707374117, 1.5638491446744425, 1.5649019950937946, 1.7993770651972192, 1.7678721106662054, 1.511897596014269, 1.4859035988304024, 1.6849029086609286, 1.4808005946928984, 1.538236598942558, 1.6745692479879102, 1.4075983731469897, 1.762668359743147, 1.5649019950937946, 1.5269528268489705, 1.3134751321324272, 1.3752364150256224, 1.5488741079890418, 1.3134751321324272, 1.455023751906683, 1.6945798601797897, 1.8030683142834096, 1.4075983731469897, 1.323872422244268, 1.804077040117352, 1.6065631397488385, 1.773037755078937, 1.5015453526671363, 1.5849430707374117, 1.349314997503458, 1.4808005946928984, 1.813969388710352, 1.813969388710352, 1.813969388710352, 1.485868384561201, 1.5323755631868592, 1.4808005946928984, 1.8134404914735824, 1.663716375981405, 1.814201935767392, 1.7730337158018288, 1.813969388710352, 1.8356616600675493, 1.773037755078937, 1.7158065389330133, 1.802579500826209, 1.5955263892495937, 1.825780747577624, 1.3030329186405918, 1.6327350407099108, 1.8518025516704488, 1.3752364150256224, 1.3184664436640334, 1.5849430707374117, 1.4859035988304024, 1.2874525221379407, 1.5747301747801037, 1.323170899227622, 1.5169573017136326, 1.3250793286429356, 1.5488741079890418, 1.3286444309174914, 1.4539012274845928, 1.7517304870664143, 1.6849029086609286, 1.2980735056918902, 1.3132020634442203, 1.7570177850353066, 1.762315070409309, 1.3647355108681518, 1.6327350407099108, 1.814201935767392, 1.4697543268466824, 1.663716375981405, 1.3077959946944353, 1.7829230484252725, 1.7884432335370462, 1.814031127508391, 1.4012037783587623, 1.3090153642307354, 1.412409228794446, 1.7936240148573608, 1.847417311283644, 1.706014499648521, 1.762315070409309, 1.3030329186405918, 1.605818899130659, 1.455023751906683, 1.710533351135192, 1.7570177850353066, 1.762315070409309, 1.802777624719604, 1.4333920485221476, 1.7936240148573608, 1.5323755631868592, 1.3804366761974138, 1.412409228794446, 1.527914258251028, 1.3389913790695755, 1.773037755078937, 1.7158065389330133, 1.773037755078937, 1.6277528915533617, 1.762315070409309, 1.8147691941158937, 1.5597659473370362, 1.762668359743147, 1.4859035988304024, 1.809307963702852, 1.3546417018378962, 1.5169573017136326, 1.4960918298136696, 1.846327249719927, 1.5638491446744425, 1.5285252629756445, 1.7468706179837907, 1.3340066759761655, 1.773037755078937, 1.417429032731308, 1.3389145230206971, 1.8352625275821128, 1.5594815668184234, 1.7468706179837907, 1.5015453526671363, 1.6277528915533617, 1.4859035988304024, 1.6745692479879102, 1.4382550176792908, 1.7570177850353066, 1.3134751321324272, 1.3030329186405918, 1.5849430707374117, 1.7360913511847138, 1.7993770651972192, 1.7936240148573608, 1.3389145230206971, 1.762668359743147, 1.6849029086609286, 1.804077040117352, 1.605818899130659, 1.5269528268489705, 1.318633896753293, 1.3184664436640334, 1.354703921319241, 1.3647827949260758, 1.318633896753293, 1.802579500826209, 1.349314997503458, 1.7884432335370462, 1.433445432156979, 1.8199041089501269, 1.8352625275821128, 1.354703921319241, 1.8470259949329195, 1.6113256603765849, 1.4960918298136696, 1.3543220466259964, 1.5597659473370362, 1.412409228794446, 1.5174859938489869, 1.590369231400328, 1.6849029086609286, 1.773037755078937, 1.3441891937970554, 1.8352625275821128, 1.663716375981405, 1.590369231400328, 1.4808005946928984, 1.480413677976106, 1.480413677976106, 1.6745692479879102, 1.8199041089501269, 1.454146206723569, 1.4386709371480566, 1.6849029086609286, 1.4333958900838095, 1.417429032731308, 1.4859035988304024, 1.802765665167823, 1.3181691588445197, 1.2978870806495706, 1.659013868748246, 1.318293040102702, 1.3647827949260758, 1.8147691941158937, 1.454146206723569, 1.37050855662704, 1.4075983731469897, 1.710533351135192, 1.293463613844243, 1.7468706179837907, 1.3389145230206971, 1.8470259949329195, 1.4908444050400238, 1.7884432335370462, 1.7730337158018288, 1.3705128024895008, 1.2978870806495706, 1.7417172507457144, 1.3389145230206971, 1.4697543268466824, 1.5857889968242211, 1.527914258251028, 1.7993770651972192, 1.318293040102702, 1.8247738529891333, 1.7730337158018288, 1.605818899130659, 1.4229203181741186, 1.5015453526671363, 1.5488741079890418, 1.7831890223273277, 1.4960918298136696, 1.6744741591159715, 1.4539012274845928, 1.3395306867947354, 1.3395306867947354, 1.3601216766554785, 1.5597659473370362, 1.3236741274998955, 1.7517304870664143, 1.3601216766554785, 1.5955263892495937, 1.663716375981405, 1.5015453526671363, 1.8307038456739428, 1.706014499648521, 1.762668359743147, 1.412578792940193, 1.5638491446744425, 1.3546417018378962, 1.7468706179837907, 1.762668359743147, 1.590369231400328, 1.8356616600675493, 1.4908444050400238, 1.42806487344776, 1.5488741079890418, 1.6015142233917594, 1.3647827949260758, 1.454146206723569, 1.406981663677643, 1.4386709371480566, 1.8361774213478947, 1.80460990458052, 1.7831890223273277, 1.8257567905665535, 1.3752364150256224, 1.527914258251028, 1.3034100438655642, 1.3181691588445197, 1.8025980036306504, 1.538236598942558, 1.8199041089501269, 1.6378578430223698, 1.5480915247767786, 1.455023751906683, 1.762668359743147, 1.7730337158018288, 1.5849430707374117, 1.369850003583894, 1.3546417018378962, 1.6744741591159715, 1.318633896753293, 1.762315070409309, 1.7364225056478186, 1.5169573017136326, 1.3030329186405918, 1.8518025516704488, 1.8251136435078368, 1.6378578430223698, 1.7993770651972192, 1.480413677976106, 1.6945798601797897, 1.3090153642307354, 1.318293040102702, 1.8351461429226603, 1.3389145230206971, 1.4386709371480566, 1.323170899227622, 1.55468935359061, 1.3647827949260758, 1.288003392619118, 1.663716375981405, 1.7884432335370462, 1.412578792940193, 1.4333958900838095, 1.3033573559038203, 1.293463613844243, 1.7468706179837907, 1.4539012274845928, 1.813969388710352, 1.375392016895762, 1.522647325284378, 1.6849029086609286, 1.5169573017136326, 1.6849029086609286, 1.3033573559038203, 1.825780747577624, 1.8346455082120416, 1.485868384561201, 1.6378578430223698, 1.3134751321324272, 1.4808005946928984, 1.8352625275821128, 1.4859035988304024, 1.4908444050400238, 1.7263217239235826, 1.6945798601797897, 1.6538540573335014, 1.5857889968242211, 1.663716375981405, 1.8251136435078368, 1.3184664436640334, 1.4539012274845928, 1.323170899227622, 1.8518025516704488, 1.6015142233917594, 1.3033573559038203, 1.288003392619118, 1.4539012274845928, 1.4229203181741186, 1.6538540573335014, 1.8246195526864504, 1.406981663677643, 1.5169573017136326, 1.5955263892495937, 1.4229203181741186, 1.5638491446744425, 1.349314997503458, 1.3134751321324272, 1.349314997503458, 1.5857889968242211, 1.7360913511847138, 1.3077959946944353, 1.406981663677643, 1.4012037783587623, 1.5597659473370362, 1.3395306867947354, 1.8251136435078368, 1.6327350407099108, 1.5285252629756445, 1.824613268496936, 1.7158065389330133, 1.7360913511847138, 1.55468935359061, 1.3030329186405918, 1.7263217239235826, 1.8030683142834096, 1.4808005946928984, 1.8307038456739428, 1.5269528268489705, 1.42806487344776, 1.37050855662704, 1.847417311283644, 1.642653782130131, 1.3389913790695755, 1.3967008232726328, 1.3290286565120697, 1.412409228794446, 1.7993770651972192, 1.4386709371480566, 1.5638491446744425, 1.5174859938489869, 1.80460990458052, 1.5488741079890418, 1.5480915247767786, 1.4075983731469897, 1.3077959946944353, 1.6277528915533617, 1.3340066759761655, 1.42806487344776, 1.5849430707374117, 1.847417311283644, 1.5597659473370362, 1.55468935359061, 1.3250793286429356, 1.3181691588445197, 1.3804366761974138, 1.3967008232726328, 1.5638491446744425, 1.5169573017136326, 1.6378578430223698, 1.605818899130659, 1.605818899130659, 1.642653782130131, 1.2980735056918902, 1.406981663677643, 1.3862287677978349, 1.3290286565120697, 1.7993770651972192, 1.42806487344776, 1.522647325284378, 1.3546417018378962, 1.7364225056478186, 1.511897596014269, 1.511897596014269, 1.7993770651972192, 1.8257567905665535, 1.349314997503458, 1.7517304870664143, 1.7263217239235826, 1.511897596014269, 1.8147691941158937, 1.4752095869031632, 1.7884432335370462, 1.3389913790695755, 1.7730337158018288, 1.4386709371480566, 1.55468935359061, 1.5649019950937946, 1.323170899227622, 1.824613268496936, 1.8030683142834096, 1.6277528915533617, 1.3647827949260758, 1.8147691941158937, 1.37050855662704, 1.7417172507457144, 1.417429032731308, 1.6745692479879102, 1.8518025516704488, 1.4697543268466824, 1.5480915247767786, 1.5480915247767786, 1.3804366761974138, 1.4333958900838095, 1.5849430707374117, 1.3181691588445197, 1.642653782130131, 1.5955263892495937, 1.3546417018378962, 1.3184664436640334, 1.3290286565120697, 1.8356616600675493, 1.2874525221379407, 1.3441891937970554, 1.7517304870664143, 1.538236598942558, 1.293463613844243, 1.5594815668184234, 1.2980735056918902, 1.7678721106662054, 1.4173547174485526, 1.37050855662704, 1.5174859938489869, 1.7884432335370462, 1.454146206723569, 1.4697543268466824, 1.412409228794446, 1.8356616600675493, 1.814031127508391, 1.6065631397488385, 1.7570177850353066, 1.762315070409309, 1.3134751321324272, 1.5015453526671363, 1.5747301747801037, 1.8346455082120416, 1.417429032731308, 1.710533351135192, 1.3441891937970554, 1.5597659473370362, 1.3804366761974138, 1.3134751321324272, 1.3543220466259964, 1.847417311283644, 1.3184664436640334, 1.7003110272642588, 1.5747301747801037, 1.825780747577624, 1.288003392619118, 1.3967008232726328, 1.6849029086609286, 1.293463613844243, 1.590369231400328, 1.7417172507457144, 1.369850003583894, 1.6745692479879102, 1.7936240148573608, 1.7884432335370462, 1.3034100438655642, 1.375392016895762, 1.4960918298136696, 1.293463613844243, 1.773037755078937, 1.6745692479879102, 1.3862287677978349, 1.4752095869031632, 1.7730337158018288, 1.7829230484252725, 1.8137521577549052, 1.4075983731469897, 1.8564874208181572, 1.7263217239235826, 1.804077040117352, 1.7158065389330133, 1.5269528268489705, 1.6277528915533617, 1.4382550176792908, 1.7730337158018288, 1.7417172507457144, 1.3077959946944353, 1.6065631397488385, 1.3441891937970554, 1.4539012274845928, 1.80460990458052, 1.762315070409309, 1.5597659473370362, 1.3077959946944353, 1.6744741591159715, 1.7936240148573608, 1.4808005946928984, 1.527914258251028, 1.8251136435078368, 1.710533351135192, 1.804077040117352, 1.6745692479879102, 1.7517304870664143, 1.8351461429226603, 1.7517304870664143, 1.8199041089501269, 1.6378578430223698, 1.5638491446744425, 1.814031127508391, 1.5169573017136326, 1.5594815668184234, 1.42806487344776, 1.7158065389330133, 1.2874525221379407, 1.3546417018378962, 1.5480915247767786, 1.2980735056918902, 1.7263217239235826, 1.8199041089501269, 1.706014499648521, 1.5488741079890418, 1.3389913790695755, 1.6065631397488385, 1.3752364150256224, 1.5638491446744425, 1.6945798601797897, 1.4333920485221476, 1.6849029086609286, 1.6378578430223698, 1.4859035988304024, 1.6744741591159715, 1.4229203181741186, 1.809307963702852, 1.5065638960681105, 1.5649019950937946, 1.433445432156979, 1.3290286565120697, 1.349314997503458, 1.7003110272642588, 1.8199041089501269, 1.7003110272642588, 1.318293040102702, 1.5488741079890418, 1.605818899130659, 1.391284788852726, 1.323170899227622, 1.814031127508391, 1.4908444050400238, 1.412578792940193, 1.6015142233917594, 1.7829230484252725, 1.8351461429226603, 1.6745692479879102, 1.622125485521159, 1.4333958900838095, 1.7831890223273277, 1.4075983731469897, 1.809307963702852, 1.802579500826209, 1.3705128024895008, 1.527914258251028, 1.814201935767392, 1.3184664436640334, 1.5169573017136326, 1.4075983731469897, 1.590369231400328, 1.5174859938489869, 1.4386709371480566, 1.5323755631868592, 1.293463613844243, 1.5065638960681105, 1.8251136435078368, 1.6065631397488385, 1.5597659473370362, 1.7360913511847138, 1.3389913790695755, 1.6744741591159715, 1.8470259949329195, 1.4386709371480566, 1.8351461429226603, 1.323872422244268, 1.710533351135192, 1.3181691588445197, 1.4960918298136696, 1.485868384561201, 1.7468706179837907, 1.4808005946928984, 1.809307963702852, 1.3250793286429356, 1.354703921319241, 1.773037755078937, 1.7418496047960008, 1.6015142233917594, 1.323170899227622, 1.318293040102702, 1.5015453526671363, 1.6015142233917594, 1.42806487344776, 1.3967008232726328, 1.8361774213478947, 1.3967008232726328, 1.318633896753293, 1.659013868748246, 1.37050855662704, 1.846327249719927, 1.3862287677978349, 1.3546417018378962, 1.4075983731469897, 1.369850003583894, 1.5955263892495937, 1.5323755631868592, 1.288003392619118, 1.4333958900838095, 1.7468706179837907, 1.3090153642307354, 1.6849029086609286, 1.6065631397488385, 1.7364225056478186, 1.7829230484252725, 1.7831890223273277, 1.3862287677978349, 1.6745692479879102, 1.2978870806495706, 1.5849430707374117, 1.710533351135192, 1.3034100438655642, 1.8199041089501269, 1.5638491446744425, 1.288003392619118, 1.480413677976106, 1.323872422244268, 1.8518025516704488, 1.5849430707374117, 1.5285252629756445, 1.2978870806495706, 1.5638491446744425, 1.8247738529891333, 1.5857889968242211, 1.2978870806495706, 1.3804366761974138, 1.527914258251028, 1.773037755078937, 1.80210690024615, 1.813969388710352, 1.6327350407099108, 1.835349194223408, 1.4012037783587623, 1.455023751906683, 1.522647325284378, 1.522647325284378, 1.3804366761974138, 1.7831890223273277, 1.4697543268466824, 1.3543220466259964, 1.7417172507457144, 1.5285252629756445, 1.8356616600675493, 1.2978870806495706, 1.288003392619118, 1.3395306867947354, 1.7158065389330133, 1.813969388710352, 1.8199041089501269, 1.7730337158018288, 1.3033573559038203, 1.5638491446744425, 1.4539012274845928, 1.5269528268489705, 1.6538540573335014, 1.7263217239235826, 1.6538540573335014, 1.7678721106662054, 1.454146206723569, 1.802777624719604, 1.814031127508391, 1.288003392619118, 1.4539012274845928, 1.511897596014269, 1.4859035988304024, 1.3389913790695755, 1.412409228794446, 1.433445432156979, 1.7829230484252725, 1.3134751321324272, 1.485868384561201, 1.706014499648521, 1.323872422244268, 1.7993770651972192, 1.3441891937970554, 1.4960918298136696, 1.7676172924938447, 1.3181691588445197, 1.3184664436640334, 1.5594815668184234, 1.4539012274845928, 1.3286444309174914, 1.2978870806495706, 1.7003110272642588, 1.538236598942558, 1.3804366761974138, 1.354703921319241, 1.814201935767392, 1.375392016895762, 1.809307963702852, 1.417429032731308, 1.369850003583894, 1.7418496047960008, 1.8352625275821128, 1.538236598942558, 1.8307038456739428, 1.4697543268466824, 1.3389913790695755, 1.3967008232726328, 1.8361774213478947, 1.802777624719604, 1.4752095869031632, 1.663716375981405, 1.8246195526864504, 1.7360913511847138, 1.6378578430223698, 1.8361774213478947, 1.7730337158018288, 1.762668359743147, 1.391284788852726, 1.4908444050400238, 1.3861115151535393, 1.706014499648521, 1.4229203181741186, 1.3286444309174914, 1.7263217239235826, 1.809307963702852, 1.6849029086609286, 1.80460990458052, 1.3804366761974138, 1.538236598942558, 1.3250793286429356, 1.3543220466259964, 1.8251136435078368, 1.4808005946928984]\n"
          ]
        },
        {
          "output_type": "execute_result",
          "data": {
            "text/plain": [
              "2.7739769452109192e-15"
            ]
          },
          "metadata": {},
          "execution_count": 74
        }
      ]
    },
    {
      "cell_type": "code",
      "source": [
        "prepared_data[0]"
      ],
      "metadata": {
        "colab": {
          "base_uri": "https://localhost:8080/"
        },
        "id": "etjTyrUtd_31",
        "outputId": "db4c966e-fec9-4e9f-d73b-b1c52853c04d"
      },
      "execution_count": null,
      "outputs": [
        {
          "output_type": "execute_result",
          "data": {
            "text/plain": [
              "array([-0.22161929,  0.        , -0.21232191, -0.33932599,  0.2897933 ,\n",
              "        0.48391066,  0.24786915,  0.3476058 ])"
            ]
          },
          "metadata": {},
          "execution_count": 75
        }
      ]
    },
    {
      "cell_type": "markdown",
      "source": [
        "**Model Usage or using the model**"
      ],
      "metadata": {
        "id": "pdxfDDyTTzSq"
      }
    },
    {
      "cell_type": "code",
      "source": [
        "from joblib import dump,load\n",
        "import numpy as np\n",
        "model = load(\"battery_capacity.joblib\")"
      ],
      "metadata": {
        "id": "vOWu_LSXeAAu"
      },
      "execution_count": null,
      "outputs": []
    },
    {
      "cell_type": "code",
      "source": [
        "features = np.array([[-0.22161929,  0.        , -0.21232191, -0.33932599,  0.2897933 ,\n",
        "        0.48391066,  0.24786915,  0.3476058]])\n",
        "model.predict(features)"
      ],
      "metadata": {
        "colab": {
          "base_uri": "https://localhost:8080/"
        },
        "id": "NaK2zS1aeAMJ",
        "outputId": "fb259dbd-cf27-49d8-a729-bd0a1b664832"
      },
      "execution_count": null,
      "outputs": [
        {
          "output_type": "execute_result",
          "data": {
            "text/plain": [
              "array([1.59552639])"
            ]
          },
          "metadata": {},
          "execution_count": 77
        }
      ]
    },
    {
      "cell_type": "code",
      "source": [
        "X_test.columns"
      ],
      "metadata": {
        "colab": {
          "base_uri": "https://localhost:8080/"
        },
        "id": "9ncWPVCAdH90",
        "outputId": "37bc2e35-0acf-484b-fb3a-eb73778654bb"
      },
      "execution_count": null,
      "outputs": [
        {
          "output_type": "execute_result",
          "data": {
            "text/plain": [
              "Index(['cycle', 'ambient_temperature', 'voltage_measured', 'current_measured',\n",
              "       'temperature_measured', 'current_load', 'voltage_load', 'time'],\n",
              "      dtype='object')"
            ]
          },
          "metadata": {},
          "execution_count": 78
        }
      ]
    },
    {
      "cell_type": "code",
      "source": [
        "Y_test"
      ],
      "metadata": {
        "colab": {
          "base_uri": "https://localhost:8080/"
        },
        "id": "aBtBq5CnduDR",
        "outputId": "75fa63ba-42ed-46ab-f546-8b24f2f52519"
      },
      "execution_count": null,
      "outputs": [
        {
          "output_type": "execute_result",
          "data": {
            "text/plain": [
              "31348    1.453901\n",
              "16757    1.674474\n",
              "41328    1.354704\n",
              "23993    1.548874\n",
              "40496    1.364783\n",
              "           ...   \n",
              "24396    1.538237\n",
              "50083    1.325079\n",
              "40882    1.354322\n",
              "4448     1.825114\n",
              "30688    1.480801\n",
              "Name: capacity, Length: 10057, dtype: float64"
            ]
          },
          "metadata": {},
          "execution_count": 79
        }
      ]
    },
    {
      "cell_type": "code",
      "source": [
        "final_predictions"
      ],
      "metadata": {
        "colab": {
          "base_uri": "https://localhost:8080/"
        },
        "id": "xxXt3qsNduOD",
        "outputId": "2d1ef4d6-24c5-4bde-de94-9ccdf237ebd0"
      },
      "execution_count": null,
      "outputs": [
        {
          "output_type": "execute_result",
          "data": {
            "text/plain": [
              "array([1.45390123, 1.67447416, 1.35470392, ..., 1.35432205, 1.82511364,\n",
              "       1.48080059])"
            ]
          },
          "metadata": {},
          "execution_count": 80
        }
      ]
    },
    {
      "cell_type": "code",
      "source": [
        "pd.DataFrame(np.c_[X_test , Y_test , final_predictions],columns =['cycle', 'ambient_temperature', 'voltage_measured',\n",
        "               'current_measured', 'temperature_measured', 'current_load', 'voltage_load', 'time' , 'Original capacity' , 'Predicted capacity'])"
      ],
      "metadata": {
        "colab": {
          "base_uri": "https://localhost:8080/",
          "height": 423
        },
        "id": "SsR1MmTIeAUB",
        "outputId": "b6161d01-549d-47cb-98c1-0c72610c8e15"
      },
      "execution_count": null,
      "outputs": [
        {
          "output_type": "execute_result",
          "data": {
            "text/html": [
              "\n",
              "  <div id=\"df-2480d543-52cd-472c-af47-964b3fa08368\">\n",
              "    <div class=\"colab-df-container\">\n",
              "      <div>\n",
              "<style scoped>\n",
              "    .dataframe tbody tr th:only-of-type {\n",
              "        vertical-align: middle;\n",
              "    }\n",
              "\n",
              "    .dataframe tbody tr th {\n",
              "        vertical-align: top;\n",
              "    }\n",
              "\n",
              "    .dataframe thead th {\n",
              "        text-align: right;\n",
              "    }\n",
              "</style>\n",
              "<table border=\"1\" class=\"dataframe\">\n",
              "  <thead>\n",
              "    <tr style=\"text-align: right;\">\n",
              "      <th></th>\n",
              "      <th>cycle</th>\n",
              "      <th>ambient_temperature</th>\n",
              "      <th>voltage_measured</th>\n",
              "      <th>current_measured</th>\n",
              "      <th>temperature_measured</th>\n",
              "      <th>current_load</th>\n",
              "      <th>voltage_load</th>\n",
              "      <th>time</th>\n",
              "      <th>Original capacity</th>\n",
              "      <th>Predicted capacity</th>\n",
              "    </tr>\n",
              "  </thead>\n",
              "  <tbody>\n",
              "    <tr>\n",
              "      <th>0</th>\n",
              "      <td>107.0</td>\n",
              "      <td>24.0</td>\n",
              "      <td>3.680569</td>\n",
              "      <td>-2.013919</td>\n",
              "      <td>30.016542</td>\n",
              "      <td>1.9980</td>\n",
              "      <td>2.700</td>\n",
              "      <td>599.953</td>\n",
              "      <td>1.453901</td>\n",
              "      <td>1.453901</td>\n",
              "    </tr>\n",
              "    <tr>\n",
              "      <th>1</th>\n",
              "      <td>62.0</td>\n",
              "      <td>24.0</td>\n",
              "      <td>3.253010</td>\n",
              "      <td>-0.002580</td>\n",
              "      <td>38.618146</td>\n",
              "      <td>0.0006</td>\n",
              "      <td>0.000</td>\n",
              "      <td>3058.032</td>\n",
              "      <td>1.674474</td>\n",
              "      <td>1.674474</td>\n",
              "    </tr>\n",
              "    <tr>\n",
              "      <th>2</th>\n",
              "      <td>139.0</td>\n",
              "      <td>24.0</td>\n",
              "      <td>3.611008</td>\n",
              "      <td>-2.015881</td>\n",
              "      <td>30.605669</td>\n",
              "      <td>1.9980</td>\n",
              "      <td>2.646</td>\n",
              "      <td>712.703</td>\n",
              "      <td>1.354704</td>\n",
              "      <td>1.354704</td>\n",
              "    </tr>\n",
              "    <tr>\n",
              "      <th>3</th>\n",
              "      <td>84.0</td>\n",
              "      <td>24.0</td>\n",
              "      <td>3.471826</td>\n",
              "      <td>-2.013056</td>\n",
              "      <td>33.473126</td>\n",
              "      <td>1.9982</td>\n",
              "      <td>2.501</td>\n",
              "      <td>1686.969</td>\n",
              "      <td>1.548874</td>\n",
              "      <td>1.548874</td>\n",
              "    </tr>\n",
              "    <tr>\n",
              "      <th>4</th>\n",
              "      <td>136.0</td>\n",
              "      <td>24.0</td>\n",
              "      <td>3.421741</td>\n",
              "      <td>-2.010710</td>\n",
              "      <td>34.333451</td>\n",
              "      <td>1.9982</td>\n",
              "      <td>2.458</td>\n",
              "      <td>1527.359</td>\n",
              "      <td>1.364783</td>\n",
              "      <td>1.364783</td>\n",
              "    </tr>\n",
              "    <tr>\n",
              "      <th>...</th>\n",
              "      <td>...</td>\n",
              "      <td>...</td>\n",
              "      <td>...</td>\n",
              "      <td>...</td>\n",
              "      <td>...</td>\n",
              "      <td>...</td>\n",
              "      <td>...</td>\n",
              "      <td>...</td>\n",
              "      <td>...</td>\n",
              "      <td>...</td>\n",
              "    </tr>\n",
              "    <tr>\n",
              "      <th>10052</th>\n",
              "      <td>85.0</td>\n",
              "      <td>24.0</td>\n",
              "      <td>3.322737</td>\n",
              "      <td>-2.013075</td>\n",
              "      <td>36.384460</td>\n",
              "      <td>1.9982</td>\n",
              "      <td>2.356</td>\n",
              "      <td>2379.703</td>\n",
              "      <td>1.538237</td>\n",
              "      <td>1.538237</td>\n",
              "    </tr>\n",
              "    <tr>\n",
              "      <th>10053</th>\n",
              "      <td>168.0</td>\n",
              "      <td>24.0</td>\n",
              "      <td>3.540345</td>\n",
              "      <td>-2.014688</td>\n",
              "      <td>31.814940</td>\n",
              "      <td>1.9982</td>\n",
              "      <td>2.564</td>\n",
              "      <td>918.921</td>\n",
              "      <td>1.325079</td>\n",
              "      <td>1.325079</td>\n",
              "    </tr>\n",
              "    <tr>\n",
              "      <th>10054</th>\n",
              "      <td>137.0</td>\n",
              "      <td>24.0</td>\n",
              "      <td>3.106767</td>\n",
              "      <td>-2.008191</td>\n",
              "      <td>38.746371</td>\n",
              "      <td>1.9982</td>\n",
              "      <td>2.150</td>\n",
              "      <td>2267.453</td>\n",
              "      <td>1.354322</td>\n",
              "      <td>1.354322</td>\n",
              "    </tr>\n",
              "    <tr>\n",
              "      <th>10055</th>\n",
              "      <td>24.0</td>\n",
              "      <td>24.0</td>\n",
              "      <td>3.562347</td>\n",
              "      <td>-2.012957</td>\n",
              "      <td>31.827983</td>\n",
              "      <td>-1.9982</td>\n",
              "      <td>2.628</td>\n",
              "      <td>1629.391</td>\n",
              "      <td>1.825114</td>\n",
              "      <td>1.825114</td>\n",
              "    </tr>\n",
              "    <tr>\n",
              "      <th>10056</th>\n",
              "      <td>105.0</td>\n",
              "      <td>24.0</td>\n",
              "      <td>3.763485</td>\n",
              "      <td>-2.012717</td>\n",
              "      <td>29.143570</td>\n",
              "      <td>1.9980</td>\n",
              "      <td>2.780</td>\n",
              "      <td>403.860</td>\n",
              "      <td>1.480801</td>\n",
              "      <td>1.480801</td>\n",
              "    </tr>\n",
              "  </tbody>\n",
              "</table>\n",
              "<p>10057 rows × 10 columns</p>\n",
              "</div>\n",
              "      <button class=\"colab-df-convert\" onclick=\"convertToInteractive('df-2480d543-52cd-472c-af47-964b3fa08368')\"\n",
              "              title=\"Convert this dataframe to an interactive table.\"\n",
              "              style=\"display:none;\">\n",
              "        \n",
              "  <svg xmlns=\"http://www.w3.org/2000/svg\" height=\"24px\"viewBox=\"0 0 24 24\"\n",
              "       width=\"24px\">\n",
              "    <path d=\"M0 0h24v24H0V0z\" fill=\"none\"/>\n",
              "    <path d=\"M18.56 5.44l.94 2.06.94-2.06 2.06-.94-2.06-.94-.94-2.06-.94 2.06-2.06.94zm-11 1L8.5 8.5l.94-2.06 2.06-.94-2.06-.94L8.5 2.5l-.94 2.06-2.06.94zm10 10l.94 2.06.94-2.06 2.06-.94-2.06-.94-.94-2.06-.94 2.06-2.06.94z\"/><path d=\"M17.41 7.96l-1.37-1.37c-.4-.4-.92-.59-1.43-.59-.52 0-1.04.2-1.43.59L10.3 9.45l-7.72 7.72c-.78.78-.78 2.05 0 2.83L4 21.41c.39.39.9.59 1.41.59.51 0 1.02-.2 1.41-.59l7.78-7.78 2.81-2.81c.8-.78.8-2.07 0-2.86zM5.41 20L4 18.59l7.72-7.72 1.47 1.35L5.41 20z\"/>\n",
              "  </svg>\n",
              "      </button>\n",
              "      \n",
              "  <style>\n",
              "    .colab-df-container {\n",
              "      display:flex;\n",
              "      flex-wrap:wrap;\n",
              "      gap: 12px;\n",
              "    }\n",
              "\n",
              "    .colab-df-convert {\n",
              "      background-color: #E8F0FE;\n",
              "      border: none;\n",
              "      border-radius: 50%;\n",
              "      cursor: pointer;\n",
              "      display: none;\n",
              "      fill: #1967D2;\n",
              "      height: 32px;\n",
              "      padding: 0 0 0 0;\n",
              "      width: 32px;\n",
              "    }\n",
              "\n",
              "    .colab-df-convert:hover {\n",
              "      background-color: #E2EBFA;\n",
              "      box-shadow: 0px 1px 2px rgba(60, 64, 67, 0.3), 0px 1px 3px 1px rgba(60, 64, 67, 0.15);\n",
              "      fill: #174EA6;\n",
              "    }\n",
              "\n",
              "    [theme=dark] .colab-df-convert {\n",
              "      background-color: #3B4455;\n",
              "      fill: #D2E3FC;\n",
              "    }\n",
              "\n",
              "    [theme=dark] .colab-df-convert:hover {\n",
              "      background-color: #434B5C;\n",
              "      box-shadow: 0px 1px 3px 1px rgba(0, 0, 0, 0.15);\n",
              "      filter: drop-shadow(0px 1px 2px rgba(0, 0, 0, 0.3));\n",
              "      fill: #FFFFFF;\n",
              "    }\n",
              "  </style>\n",
              "\n",
              "      <script>\n",
              "        const buttonEl =\n",
              "          document.querySelector('#df-2480d543-52cd-472c-af47-964b3fa08368 button.colab-df-convert');\n",
              "        buttonEl.style.display =\n",
              "          google.colab.kernel.accessAllowed ? 'block' : 'none';\n",
              "\n",
              "        async function convertToInteractive(key) {\n",
              "          const element = document.querySelector('#df-2480d543-52cd-472c-af47-964b3fa08368');\n",
              "          const dataTable =\n",
              "            await google.colab.kernel.invokeFunction('convertToInteractive',\n",
              "                                                     [key], {});\n",
              "          if (!dataTable) return;\n",
              "\n",
              "          const docLinkHtml = 'Like what you see? Visit the ' +\n",
              "            '<a target=\"_blank\" href=https://colab.research.google.com/notebooks/data_table.ipynb>data table notebook</a>'\n",
              "            + ' to learn more about interactive tables.';\n",
              "          element.innerHTML = '';\n",
              "          dataTable['output_type'] = 'display_data';\n",
              "          await google.colab.output.renderOutput(dataTable, element);\n",
              "          const docLink = document.createElement('div');\n",
              "          docLink.innerHTML = docLinkHtml;\n",
              "          element.appendChild(docLink);\n",
              "        }\n",
              "      </script>\n",
              "    </div>\n",
              "  </div>\n",
              "  "
            ],
            "text/plain": [
              "       cycle  ambient_temperature  ...  Original capacity  Predicted capacity\n",
              "0      107.0                 24.0  ...           1.453901            1.453901\n",
              "1       62.0                 24.0  ...           1.674474            1.674474\n",
              "2      139.0                 24.0  ...           1.354704            1.354704\n",
              "3       84.0                 24.0  ...           1.548874            1.548874\n",
              "4      136.0                 24.0  ...           1.364783            1.364783\n",
              "...      ...                  ...  ...                ...                 ...\n",
              "10052   85.0                 24.0  ...           1.538237            1.538237\n",
              "10053  168.0                 24.0  ...           1.325079            1.325079\n",
              "10054  137.0                 24.0  ...           1.354322            1.354322\n",
              "10055   24.0                 24.0  ...           1.825114            1.825114\n",
              "10056  105.0                 24.0  ...           1.480801            1.480801\n",
              "\n",
              "[10057 rows x 10 columns]"
            ]
          },
          "metadata": {},
          "execution_count": 81
        }
      ]
    },
    {
      "cell_type": "markdown",
      "source": [
        "**Summary Table**"
      ],
      "metadata": {
        "id": "KmAmY4fX-2KE"
      }
    },
    {
      "cell_type": "code",
      "source": [
        "#Summary Table \n",
        "Summary={'Algorithm':['Linear Regression', 'Decision Tree Regressor','Random Forest Regressor'], 'Best Accuracy Obtained':[0.97,1.0,1.0]}\n",
        "Summary_table=pd.DataFrame(Summary, columns=['Algorithm','Best Accuracy Obtained'])"
      ],
      "metadata": {
        "id": "6vWS-atA8G0m"
      },
      "execution_count": null,
      "outputs": []
    },
    {
      "cell_type": "code",
      "source": [
        "Summary_table"
      ],
      "metadata": {
        "colab": {
          "base_uri": "https://localhost:8080/",
          "height": 143
        },
        "id": "l7KxjRES-5Ea",
        "outputId": "37a615ba-9180-4a96-ee27-12e548d6cafc"
      },
      "execution_count": null,
      "outputs": [
        {
          "output_type": "execute_result",
          "data": {
            "text/html": [
              "\n",
              "  <div id=\"df-abf71b4c-88fd-4de9-b52f-ae76e8b3711c\">\n",
              "    <div class=\"colab-df-container\">\n",
              "      <div>\n",
              "<style scoped>\n",
              "    .dataframe tbody tr th:only-of-type {\n",
              "        vertical-align: middle;\n",
              "    }\n",
              "\n",
              "    .dataframe tbody tr th {\n",
              "        vertical-align: top;\n",
              "    }\n",
              "\n",
              "    .dataframe thead th {\n",
              "        text-align: right;\n",
              "    }\n",
              "</style>\n",
              "<table border=\"1\" class=\"dataframe\">\n",
              "  <thead>\n",
              "    <tr style=\"text-align: right;\">\n",
              "      <th></th>\n",
              "      <th>Algorithm</th>\n",
              "      <th>Best Accuracy Obtained</th>\n",
              "    </tr>\n",
              "  </thead>\n",
              "  <tbody>\n",
              "    <tr>\n",
              "      <th>0</th>\n",
              "      <td>Linear Regression</td>\n",
              "      <td>0.97</td>\n",
              "    </tr>\n",
              "    <tr>\n",
              "      <th>1</th>\n",
              "      <td>Decision Tree Regressor</td>\n",
              "      <td>1.00</td>\n",
              "    </tr>\n",
              "    <tr>\n",
              "      <th>2</th>\n",
              "      <td>Random Forest Regressor</td>\n",
              "      <td>1.00</td>\n",
              "    </tr>\n",
              "  </tbody>\n",
              "</table>\n",
              "</div>\n",
              "      <button class=\"colab-df-convert\" onclick=\"convertToInteractive('df-abf71b4c-88fd-4de9-b52f-ae76e8b3711c')\"\n",
              "              title=\"Convert this dataframe to an interactive table.\"\n",
              "              style=\"display:none;\">\n",
              "        \n",
              "  <svg xmlns=\"http://www.w3.org/2000/svg\" height=\"24px\"viewBox=\"0 0 24 24\"\n",
              "       width=\"24px\">\n",
              "    <path d=\"M0 0h24v24H0V0z\" fill=\"none\"/>\n",
              "    <path d=\"M18.56 5.44l.94 2.06.94-2.06 2.06-.94-2.06-.94-.94-2.06-.94 2.06-2.06.94zm-11 1L8.5 8.5l.94-2.06 2.06-.94-2.06-.94L8.5 2.5l-.94 2.06-2.06.94zm10 10l.94 2.06.94-2.06 2.06-.94-2.06-.94-.94-2.06-.94 2.06-2.06.94z\"/><path d=\"M17.41 7.96l-1.37-1.37c-.4-.4-.92-.59-1.43-.59-.52 0-1.04.2-1.43.59L10.3 9.45l-7.72 7.72c-.78.78-.78 2.05 0 2.83L4 21.41c.39.39.9.59 1.41.59.51 0 1.02-.2 1.41-.59l7.78-7.78 2.81-2.81c.8-.78.8-2.07 0-2.86zM5.41 20L4 18.59l7.72-7.72 1.47 1.35L5.41 20z\"/>\n",
              "  </svg>\n",
              "      </button>\n",
              "      \n",
              "  <style>\n",
              "    .colab-df-container {\n",
              "      display:flex;\n",
              "      flex-wrap:wrap;\n",
              "      gap: 12px;\n",
              "    }\n",
              "\n",
              "    .colab-df-convert {\n",
              "      background-color: #E8F0FE;\n",
              "      border: none;\n",
              "      border-radius: 50%;\n",
              "      cursor: pointer;\n",
              "      display: none;\n",
              "      fill: #1967D2;\n",
              "      height: 32px;\n",
              "      padding: 0 0 0 0;\n",
              "      width: 32px;\n",
              "    }\n",
              "\n",
              "    .colab-df-convert:hover {\n",
              "      background-color: #E2EBFA;\n",
              "      box-shadow: 0px 1px 2px rgba(60, 64, 67, 0.3), 0px 1px 3px 1px rgba(60, 64, 67, 0.15);\n",
              "      fill: #174EA6;\n",
              "    }\n",
              "\n",
              "    [theme=dark] .colab-df-convert {\n",
              "      background-color: #3B4455;\n",
              "      fill: #D2E3FC;\n",
              "    }\n",
              "\n",
              "    [theme=dark] .colab-df-convert:hover {\n",
              "      background-color: #434B5C;\n",
              "      box-shadow: 0px 1px 3px 1px rgba(0, 0, 0, 0.15);\n",
              "      filter: drop-shadow(0px 1px 2px rgba(0, 0, 0, 0.3));\n",
              "      fill: #FFFFFF;\n",
              "    }\n",
              "  </style>\n",
              "\n",
              "      <script>\n",
              "        const buttonEl =\n",
              "          document.querySelector('#df-abf71b4c-88fd-4de9-b52f-ae76e8b3711c button.colab-df-convert');\n",
              "        buttonEl.style.display =\n",
              "          google.colab.kernel.accessAllowed ? 'block' : 'none';\n",
              "\n",
              "        async function convertToInteractive(key) {\n",
              "          const element = document.querySelector('#df-abf71b4c-88fd-4de9-b52f-ae76e8b3711c');\n",
              "          const dataTable =\n",
              "            await google.colab.kernel.invokeFunction('convertToInteractive',\n",
              "                                                     [key], {});\n",
              "          if (!dataTable) return;\n",
              "\n",
              "          const docLinkHtml = 'Like what you see? Visit the ' +\n",
              "            '<a target=\"_blank\" href=https://colab.research.google.com/notebooks/data_table.ipynb>data table notebook</a>'\n",
              "            + ' to learn more about interactive tables.';\n",
              "          element.innerHTML = '';\n",
              "          dataTable['output_type'] = 'display_data';\n",
              "          await google.colab.output.renderOutput(dataTable, element);\n",
              "          const docLink = document.createElement('div');\n",
              "          docLink.innerHTML = docLinkHtml;\n",
              "          element.appendChild(docLink);\n",
              "        }\n",
              "      </script>\n",
              "    </div>\n",
              "  </div>\n",
              "  "
            ],
            "text/plain": [
              "                 Algorithm  Best Accuracy Obtained\n",
              "0        Linear Regression                    0.97\n",
              "1  Decision Tree Regressor                    1.00\n",
              "2  Random Forest Regressor                    1.00"
            ]
          },
          "metadata": {},
          "execution_count": 83
        }
      ]
    },
    {
      "cell_type": "markdown",
      "source": [
        "**Get more accuracy, we trained all supervised regression algorithms but you can try out a few of them which are always popular. After training all algorithms, I found that Linear regression,Decision Tree Regressor and Random Forest Regressor regression are given high accuracy than remain but I have Random Forest Regressor.**"
      ],
      "metadata": {
        "id": "5SAlOUNk_RKP"
      }
    }
  ]
}